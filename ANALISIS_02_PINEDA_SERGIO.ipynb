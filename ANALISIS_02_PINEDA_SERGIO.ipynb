{
 "cells": [
  {
   "cell_type": "markdown",
   "metadata": {},
   "source": [
    "### _PROYECTO 2._ INTRODUCCIÓN AL ANÁLISIS DE DATOS\n",
    "\n",
    "#### OBJETIVO\n",
    "\n",
    "Poner en práctica las herramientas esenciales de Python para el análisis de datos a\n",
    "partir de la clasificación y manejo de los mismos, mediante la creación y el uso de\n",
    "archivos y estructuras de datos, implementación y creación de funciones, uso de\n",
    "módulos importados y destructuring\n",
    "\n",
    "#### DESCRIPCIÓN DEL CASO\n",
    "\n",
    "Synergy Logistics es una empresa dedicada a la intermediación de servicios de\n",
    "importación y exportación de diferentes productos. Actualmente la empresa\n",
    "cuenta con una base de datos que refleja las rutas más importantes que opera\n",
    "desde el año 2015, con su respectivo origen y destino, año, producto, modo de\n",
    "transporte y valor total. Su propósito, es que a partir de estos datos se genere un\n",
    "análisis que sirva de la base para la estructuración de su estrategia operativa.\n",
    "\n",
    "#### CONSIGNA\n",
    "\n",
    "La Dirección de Synergy Logistics ha solicitado al equipo operativo, realizar una\n",
    "propuesta que permita enfocar las prioridades de la estrategia operativa 2021; para\n",
    "ello, se plantea analizar la viabilidad de 3 opciones de enfoque: rutas de importación\n",
    "y exportación, medio de transporte utilizado y valor total de importaciones y\n",
    "exportaciones. Considerando que eres el data analyst del equipo, se te solicita que\n",
    "realices un análisis de los siguientes puntos e identifiques cuál(es) de ellos es la\n",
    "mejor opción para la empresa:\n",
    "\n",
    "_Opción 1) Rutas de importación y exportación._\n",
    "\n",
    "Synergy logistics está considerando la posibilidad de enfocar sus esfuerzos en las 10 rutas más\n",
    "demandadas. Acorde a los flujos de importación y exportación, ¿cuáles son esas\n",
    "10 rutas? ¿le conviene implementar esa estrategia? ¿porqué?\n",
    "\n",
    "_Opción 2) Medio de transporte utilizado._\n",
    "\n",
    "¿Cuáles son los 3 medios de transporte más importantes para Synergy logistics considerando el valor de las importaciones y exportaciones? ¿Cuál es medio de transporte que podrían\n",
    "reducir?\n",
    "\n",
    "_Opción 3) Valor total de importaciones y exportaciones._\n",
    "\n",
    "Si Synergy Logistics quisiera enfocarse en los países que le generan el 80% del valor de las\n",
    "exportaciones e importaciones ¿en qué grupo de países debería enfocar sus esfuerzos?\n"
   ]
  },
  {
   "cell_type": "code",
   "execution_count": 1,
   "metadata": {},
   "outputs": [],
   "source": [
    "import pandas as pd\n",
    "import numpy as np\n",
    "import altair as alt\n",
    "import operator\n",
    "import copy\n",
    "from collections import OrderedDict"
   ]
  },
  {
   "cell_type": "markdown",
   "metadata": {},
   "source": [
    "#### Dataframe Principal\n"
   ]
  },
  {
   "cell_type": "code",
   "execution_count": 2,
   "metadata": {},
   "outputs": [],
   "source": [
    "testDataframe=pd.read_csv('synergy_logistics_database.csv',parse_dates=[5])\n",
    "testDataframe['month'] = testDataframe['date'].dt.month"
   ]
  },
  {
   "cell_type": "markdown",
   "metadata": {},
   "source": [
    "### Opción 1) Rutas de importación y exportación.\n",
    "\n",
    "Synergy logistics está considerando la posibilidad de enfocar sus esfuerzos en las 10 rutas más\n",
    "demandadas. Acorde a los flujos de importación y exportación, ¿cuáles son esas\n",
    "10 rutas? ¿le conviene implementar esa estrategia? ¿porqué?\n"
   ]
  },
  {
   "cell_type": "markdown",
   "metadata": {},
   "source": [
    "#### Rutas más importantes globales \n",
    "\n",
    "Listar las 10 rutas con mas precencia "
   ]
  },
  {
   "cell_type": "code",
   "execution_count": 3,
   "metadata": {},
   "outputs": [
    {
     "name": "stdout",
     "output_type": "stream",
     "text": [
      "  direction       origin  destination transport_mode  register_id  \\\n",
      "0   Exports  South Korea      Vietnam            Sea          497   \n",
      "1   Exports          USA  Netherlands            Sea          436   \n",
      "2   Exports  Netherlands      Belgium           Road          374   \n",
      "3   Exports        China       Mexico            Air          330   \n",
      "4   Exports        Japan       Brazil            Sea          306   \n",
      "5   Exports      Germany       France           Road          299   \n",
      "6   Exports  South Korea        Japan            Sea          279   \n",
      "7   Imports    Singapore     Thailand            Sea          273   \n",
      "8   Exports    Australia    Singapore            Sea          273   \n",
      "9   Exports       Canada       Mexico           Rail          261   \n",
      "\n",
      "   Porsentaje_rutas_global  \n",
      "0                    2.608  \n",
      "1                    2.288  \n",
      "2                    1.963  \n",
      "3                    1.732  \n",
      "4                    1.606  \n",
      "5                    1.569  \n",
      "6                    1.464  \n",
      "7                    1.433  \n",
      "8                    1.433  \n",
      "9                    1.370  \n"
     ]
    }
   ],
   "source": [
    "# Listado de tipos de transporte\n",
    "tipos_transporte=testDataframe['transport_mode'].unique()\n",
    "\n",
    "num_rutas_totales=testDataframe.count()['register_id']\n",
    "\n",
    "test_agrupar=testDataframe.groupby(['direction','origin','destination','transport_mode']).count().sort_values('register_id',ascending=False )['register_id']#.head(10)\n",
    "# Transformacion de serie a DF\n",
    "global_routes = pd.DataFrame(test_agrupar).reset_index()\n",
    "global_routes[\"Porsentaje_rutas_global\"] = round((global_routes['register_id']/num_rutas_totales)*100,3)\n",
    "print(global_routes.head(10))"
   ]
  },
  {
   "cell_type": "markdown",
   "metadata": {},
   "source": [
    "#### Divición de dataframe\n"
   ]
  },
  {
   "cell_type": "code",
   "execution_count": 4,
   "metadata": {},
   "outputs": [],
   "source": [
    "# Agrupacion por rutas\n",
    "agrupar_rutas=testDataframe.groupby(['direction','origin','destination','transport_mode']).count().sort_values('register_id',ascending=False )['register_id']\n",
    "new_Dataframe_direc = pd.DataFrame(agrupar_rutas).reset_index()\n",
    "# Separacion de rutas mas importantes  \n",
    "# Importacion--> \n",
    "imp_data_head = new_Dataframe_direc.query('direction == \"Imports\"').sort_values('register_id',ascending=False ).head(5)\n",
    "imp_data_head['ruta'] = imp_data_head['origin'] +'-->'+ imp_data_head['destination']\n",
    "# Exportacion-->\n",
    "exp_data_head = new_Dataframe_direc.query('direction == \"Exports\"').sort_values('register_id',ascending=False ).head(5)\n",
    "exp_data_head['ruta'] = exp_data_head['origin'] +'-->'+ exp_data_head['destination']"
   ]
  },
  {
   "cell_type": "markdown",
   "metadata": {},
   "source": [
    "####  Grafica de los datos de las  importaciónes (número-rutas)"
   ]
  },
  {
   "cell_type": "code",
   "execution_count": 5,
   "metadata": {},
   "outputs": [
    {
     "name": "stdout",
     "output_type": "stream",
     "text": [
      "   direction     origin destination transport_mode  register_id  \\\n",
      "7    Imports  Singapore    Thailand            Sea          273   \n",
      "12   Imports    Germany       China            Sea          233   \n",
      "16   Imports      China       Japan            Air          210   \n",
      "17   Imports      Japan      Mexico            Sea          206   \n",
      "22   Imports   Malaysia    Thailand           Rail          195   \n",
      "\n",
      "                    ruta  \n",
      "7   Singapore-->Thailand  \n",
      "12       Germany-->China  \n",
      "16         China-->Japan  \n",
      "17        Japan-->Mexico  \n",
      "22   Malaysia-->Thailand  \n"
     ]
    },
    {
     "data": {
      "text/html": [
       "\n",
       "<div id=\"altair-viz-57fb8a3bf09643ebb3e2294fed4a30e7\"></div>\n",
       "<script type=\"text/javascript\">\n",
       "  var VEGA_DEBUG = (typeof VEGA_DEBUG == \"undefined\") ? {} : VEGA_DEBUG;\n",
       "  (function(spec, embedOpt){\n",
       "    let outputDiv = document.currentScript.previousElementSibling;\n",
       "    if (outputDiv.id !== \"altair-viz-57fb8a3bf09643ebb3e2294fed4a30e7\") {\n",
       "      outputDiv = document.getElementById(\"altair-viz-57fb8a3bf09643ebb3e2294fed4a30e7\");\n",
       "    }\n",
       "    const paths = {\n",
       "      \"vega\": \"https://cdn.jsdelivr.net/npm//vega@5?noext\",\n",
       "      \"vega-lib\": \"https://cdn.jsdelivr.net/npm//vega-lib?noext\",\n",
       "      \"vega-lite\": \"https://cdn.jsdelivr.net/npm//vega-lite@4.17.0?noext\",\n",
       "      \"vega-embed\": \"https://cdn.jsdelivr.net/npm//vega-embed@6?noext\",\n",
       "    };\n",
       "\n",
       "    function maybeLoadScript(lib, version) {\n",
       "      var key = `${lib.replace(\"-\", \"\")}_version`;\n",
       "      return (VEGA_DEBUG[key] == version) ?\n",
       "        Promise.resolve(paths[lib]) :\n",
       "        new Promise(function(resolve, reject) {\n",
       "          var s = document.createElement('script');\n",
       "          document.getElementsByTagName(\"head\")[0].appendChild(s);\n",
       "          s.async = true;\n",
       "          s.onload = () => {\n",
       "            VEGA_DEBUG[key] = version;\n",
       "            return resolve(paths[lib]);\n",
       "          };\n",
       "          s.onerror = () => reject(`Error loading script: ${paths[lib]}`);\n",
       "          s.src = paths[lib];\n",
       "        });\n",
       "    }\n",
       "\n",
       "    function showError(err) {\n",
       "      outputDiv.innerHTML = `<div class=\"error\" style=\"color:red;\">${err}</div>`;\n",
       "      throw err;\n",
       "    }\n",
       "\n",
       "    function displayChart(vegaEmbed) {\n",
       "      vegaEmbed(outputDiv, spec, embedOpt)\n",
       "        .catch(err => showError(`Javascript Error: ${err.message}<br>This usually means there's a typo in your chart specification. See the javascript console for the full traceback.`));\n",
       "    }\n",
       "\n",
       "    if(typeof define === \"function\" && define.amd) {\n",
       "      requirejs.config({paths});\n",
       "      require([\"vega-embed\"], displayChart, err => showError(`Error loading script: ${err.message}`));\n",
       "    } else {\n",
       "      maybeLoadScript(\"vega\", \"5\")\n",
       "        .then(() => maybeLoadScript(\"vega-lite\", \"4.17.0\"))\n",
       "        .then(() => maybeLoadScript(\"vega-embed\", \"6\"))\n",
       "        .catch(showError)\n",
       "        .then(() => displayChart(vegaEmbed));\n",
       "    }\n",
       "  })({\"config\": {\"view\": {\"continuousWidth\": 400, \"continuousHeight\": 300}}, \"layer\": [{\"mark\": \"circle\", \"encoding\": {\"color\": {\"field\": \"transport_mode\", \"legend\": {\"title\": \"Tipo transporte\"}, \"scale\": {\"scheme\": \"dark2\", \"type\": \"sqrt\"}, \"type\": \"nominal\"}, \"x\": {\"field\": \"register_id\", \"scale\": {\"padding\": 2, \"zero\": false}, \"title\": \"N\\u00famero de rutas\", \"type\": \"quantitative\"}, \"y\": {\"field\": \"ruta\", \"scale\": {\"zero\": false}, \"title\": \"Pais de origen \", \"type\": \"ordinal\"}}, \"selection\": {\"selector001\": {\"type\": \"interval\", \"bind\": \"scales\", \"encodings\": [\"x\", \"y\"]}}}, {\"mark\": {\"type\": \"text\", \"align\": \"center\", \"dx\": 15, \"size\": 13}, \"encoding\": {\"color\": {\"field\": \"transport_mode\", \"legend\": {\"title\": \"Tipo transporte\"}, \"scale\": {\"scheme\": \"dark2\", \"type\": \"sqrt\"}, \"type\": \"nominal\"}, \"text\": {\"field\": \"register_id\", \"type\": \"quantitative\"}, \"x\": {\"field\": \"register_id\", \"scale\": {\"padding\": 2, \"zero\": false}, \"title\": \"N\\u00famero de rutas\", \"type\": \"quantitative\"}, \"y\": {\"field\": \"ruta\", \"scale\": {\"zero\": false}, \"title\": \"Pais de origen \", \"type\": \"ordinal\"}}}], \"data\": {\"name\": \"data-33d3a4628ed9a8989199f341a6458fbe\"}, \"title\": \"N\\u00famero de rutas de importaci\\u00f3n por pais\", \"$schema\": \"https://vega.github.io/schema/vega-lite/v4.17.0.json\", \"datasets\": {\"data-33d3a4628ed9a8989199f341a6458fbe\": [{\"direction\": \"Imports\", \"origin\": \"Singapore\", \"destination\": \"Thailand\", \"transport_mode\": \"Sea\", \"register_id\": 273, \"ruta\": \"Singapore-->Thailand\"}, {\"direction\": \"Imports\", \"origin\": \"Germany\", \"destination\": \"China\", \"transport_mode\": \"Sea\", \"register_id\": 233, \"ruta\": \"Germany-->China\"}, {\"direction\": \"Imports\", \"origin\": \"China\", \"destination\": \"Japan\", \"transport_mode\": \"Air\", \"register_id\": 210, \"ruta\": \"China-->Japan\"}, {\"direction\": \"Imports\", \"origin\": \"Japan\", \"destination\": \"Mexico\", \"transport_mode\": \"Sea\", \"register_id\": 206, \"ruta\": \"Japan-->Mexico\"}, {\"direction\": \"Imports\", \"origin\": \"Malaysia\", \"destination\": \"Thailand\", \"transport_mode\": \"Rail\", \"register_id\": 195, \"ruta\": \"Malaysia-->Thailand\"}]}}, {\"mode\": \"vega-lite\"});\n",
       "</script>"
      ],
      "text/plain": [
       "alt.LayerChart(...)"
      ]
     },
     "execution_count": 5,
     "metadata": {},
     "output_type": "execute_result"
    }
   ],
   "source": [
    "print(imp_data_head.head())\n",
    "bars = alt.Chart(imp_data_head).mark_circle().encode(\n",
    "    y=alt.Y('ruta:O',title='Pais de origen ',scale=alt.Scale(zero=False)),\n",
    "    x=alt.X('register_id', title='Número de rutas',scale=alt.Scale(zero=False, padding=2)),\n",
    "    color=alt.Color(\"transport_mode\", legend=alt.Legend(title=\"Tipo transporte\"),scale=alt.Scale(scheme='dark2',type= 'sqrt'))\n",
    ")\n",
    "\n",
    "text = bars.mark_text(\n",
    "    align='center',\n",
    "    # baseline='middle',\n",
    "    dx=15,\n",
    "    size=13\n",
    ").encode(\n",
    "    text='register_id:Q'\n",
    ")\n",
    "\n",
    "(bars + text).properties(title='Número de rutas de importación por pais').interactive()\n"
   ]
  },
  {
   "cell_type": "markdown",
   "metadata": {},
   "source": [
    "####  Grafica de los datos de las  exportación (Conteo rutas)"
   ]
  },
  {
   "cell_type": "code",
   "execution_count": 6,
   "metadata": {},
   "outputs": [
    {
     "name": "stdout",
     "output_type": "stream",
     "text": [
      "  direction       origin  destination transport_mode  register_id  \\\n",
      "0   Exports  South Korea      Vietnam            Sea          497   \n",
      "1   Exports          USA  Netherlands            Sea          436   \n",
      "2   Exports  Netherlands      Belgium           Road          374   \n",
      "3   Exports        China       Mexico            Air          330   \n",
      "4   Exports        Japan       Brazil            Sea          306   \n",
      "\n",
      "                    ruta  \n",
      "0  South Korea-->Vietnam  \n",
      "1      USA-->Netherlands  \n",
      "2  Netherlands-->Belgium  \n",
      "3         China-->Mexico  \n",
      "4         Japan-->Brazil  \n"
     ]
    },
    {
     "data": {
      "text/html": [
       "\n",
       "<div id=\"altair-viz-c006987ca7224af298437d20fe5acb16\"></div>\n",
       "<script type=\"text/javascript\">\n",
       "  var VEGA_DEBUG = (typeof VEGA_DEBUG == \"undefined\") ? {} : VEGA_DEBUG;\n",
       "  (function(spec, embedOpt){\n",
       "    let outputDiv = document.currentScript.previousElementSibling;\n",
       "    if (outputDiv.id !== \"altair-viz-c006987ca7224af298437d20fe5acb16\") {\n",
       "      outputDiv = document.getElementById(\"altair-viz-c006987ca7224af298437d20fe5acb16\");\n",
       "    }\n",
       "    const paths = {\n",
       "      \"vega\": \"https://cdn.jsdelivr.net/npm//vega@5?noext\",\n",
       "      \"vega-lib\": \"https://cdn.jsdelivr.net/npm//vega-lib?noext\",\n",
       "      \"vega-lite\": \"https://cdn.jsdelivr.net/npm//vega-lite@4.17.0?noext\",\n",
       "      \"vega-embed\": \"https://cdn.jsdelivr.net/npm//vega-embed@6?noext\",\n",
       "    };\n",
       "\n",
       "    function maybeLoadScript(lib, version) {\n",
       "      var key = `${lib.replace(\"-\", \"\")}_version`;\n",
       "      return (VEGA_DEBUG[key] == version) ?\n",
       "        Promise.resolve(paths[lib]) :\n",
       "        new Promise(function(resolve, reject) {\n",
       "          var s = document.createElement('script');\n",
       "          document.getElementsByTagName(\"head\")[0].appendChild(s);\n",
       "          s.async = true;\n",
       "          s.onload = () => {\n",
       "            VEGA_DEBUG[key] = version;\n",
       "            return resolve(paths[lib]);\n",
       "          };\n",
       "          s.onerror = () => reject(`Error loading script: ${paths[lib]}`);\n",
       "          s.src = paths[lib];\n",
       "        });\n",
       "    }\n",
       "\n",
       "    function showError(err) {\n",
       "      outputDiv.innerHTML = `<div class=\"error\" style=\"color:red;\">${err}</div>`;\n",
       "      throw err;\n",
       "    }\n",
       "\n",
       "    function displayChart(vegaEmbed) {\n",
       "      vegaEmbed(outputDiv, spec, embedOpt)\n",
       "        .catch(err => showError(`Javascript Error: ${err.message}<br>This usually means there's a typo in your chart specification. See the javascript console for the full traceback.`));\n",
       "    }\n",
       "\n",
       "    if(typeof define === \"function\" && define.amd) {\n",
       "      requirejs.config({paths});\n",
       "      require([\"vega-embed\"], displayChart, err => showError(`Error loading script: ${err.message}`));\n",
       "    } else {\n",
       "      maybeLoadScript(\"vega\", \"5\")\n",
       "        .then(() => maybeLoadScript(\"vega-lite\", \"4.17.0\"))\n",
       "        .then(() => maybeLoadScript(\"vega-embed\", \"6\"))\n",
       "        .catch(showError)\n",
       "        .then(() => displayChart(vegaEmbed));\n",
       "    }\n",
       "  })({\"config\": {\"view\": {\"continuousWidth\": 400, \"continuousHeight\": 300}}, \"layer\": [{\"mark\": \"circle\", \"encoding\": {\"color\": {\"field\": \"transport_mode\", \"legend\": {\"title\": \"Tipo transporte\"}, \"scale\": {\"scheme\": \"dark2\", \"type\": \"sqrt\"}, \"type\": \"nominal\"}, \"x\": {\"field\": \"register_id\", \"scale\": {\"padding\": 2, \"zero\": false}, \"title\": \"N\\u00famero de rutas\", \"type\": \"quantitative\"}, \"y\": {\"field\": \"ruta\", \"scale\": {\"zero\": false}, \"title\": \"Pais de origen \", \"type\": \"ordinal\"}}, \"selection\": {\"selector002\": {\"type\": \"interval\", \"bind\": \"scales\", \"encodings\": [\"x\", \"y\"]}}}, {\"mark\": {\"type\": \"text\", \"align\": \"center\", \"dx\": 15, \"size\": 13}, \"encoding\": {\"color\": {\"field\": \"transport_mode\", \"legend\": {\"title\": \"Tipo transporte\"}, \"scale\": {\"scheme\": \"dark2\", \"type\": \"sqrt\"}, \"type\": \"nominal\"}, \"text\": {\"field\": \"register_id\", \"type\": \"quantitative\"}, \"x\": {\"field\": \"register_id\", \"scale\": {\"padding\": 2, \"zero\": false}, \"title\": \"N\\u00famero de rutas\", \"type\": \"quantitative\"}, \"y\": {\"field\": \"ruta\", \"scale\": {\"zero\": false}, \"title\": \"Pais de origen \", \"type\": \"ordinal\"}}}], \"data\": {\"name\": \"data-11e1ec997bfcf2ac437d1f2fae6f6ad8\"}, \"title\": \"N\\u00famero de rutas de exportaci\\u00f3n por pais\", \"$schema\": \"https://vega.github.io/schema/vega-lite/v4.17.0.json\", \"datasets\": {\"data-11e1ec997bfcf2ac437d1f2fae6f6ad8\": [{\"direction\": \"Exports\", \"origin\": \"South Korea\", \"destination\": \"Vietnam\", \"transport_mode\": \"Sea\", \"register_id\": 497, \"ruta\": \"South Korea-->Vietnam\"}, {\"direction\": \"Exports\", \"origin\": \"USA\", \"destination\": \"Netherlands\", \"transport_mode\": \"Sea\", \"register_id\": 436, \"ruta\": \"USA-->Netherlands\"}, {\"direction\": \"Exports\", \"origin\": \"Netherlands\", \"destination\": \"Belgium\", \"transport_mode\": \"Road\", \"register_id\": 374, \"ruta\": \"Netherlands-->Belgium\"}, {\"direction\": \"Exports\", \"origin\": \"China\", \"destination\": \"Mexico\", \"transport_mode\": \"Air\", \"register_id\": 330, \"ruta\": \"China-->Mexico\"}, {\"direction\": \"Exports\", \"origin\": \"Japan\", \"destination\": \"Brazil\", \"transport_mode\": \"Sea\", \"register_id\": 306, \"ruta\": \"Japan-->Brazil\"}]}}, {\"mode\": \"vega-lite\"});\n",
       "</script>"
      ],
      "text/plain": [
       "alt.LayerChart(...)"
      ]
     },
     "execution_count": 6,
     "metadata": {},
     "output_type": "execute_result"
    }
   ],
   "source": [
    "print(exp_data_head)\n",
    "bars = alt.Chart(exp_data_head).mark_circle().encode(\n",
    "    y=alt.Y('ruta:O',title='Pais de origen ',scale=alt.Scale(zero=False)),\n",
    "    x=alt.X('register_id', title='Número de rutas',scale=alt.Scale(zero=False, padding=2)),\n",
    "    color=alt.Color(\"transport_mode\", legend=alt.Legend(title=\"Tipo transporte\"),scale=alt.Scale(scheme='dark2',type= 'sqrt')),   \n",
    ")\n",
    "\n",
    "text = bars.mark_text(\n",
    "    align='center',\n",
    "    dx=15,\n",
    "    size=13\n",
    ").encode(\n",
    "    text='register_id:Q'\n",
    ")\n",
    "\n",
    "(bars + text).properties(title='Número de rutas de exportación por pais').interactive()\n"
   ]
  },
  {
   "cell_type": "code",
   "execution_count": 7,
   "metadata": {},
   "outputs": [],
   "source": [
    "# Agrupacion de datos extra\n",
    "agrupar=testDataframe.groupby(['direction','origin','destination','product','transport_mode']).sum().sort_values('total_value',ascending=False )['total_value']#.head(10)\n",
    "global_routess = pd.DataFrame(agrupar).reset_index()\n",
    "global_routess['ruta']= global_routess['origin'] +'-->'+ global_routess['destination']"
   ]
  },
  {
   "cell_type": "code",
   "execution_count": 8,
   "metadata": {},
   "outputs": [
    {
     "name": "stdout",
     "output_type": "stream",
     "text": [
      "[   year       origin destination transport_mode  register_id\n",
      "0  2015  South Korea     Vietnam            Sea          148\n",
      "1  2018  South Korea     Vietnam            Sea           45\n",
      "2  2019  South Korea     Vietnam            Sea          152\n",
      "3  2020  South Korea     Vietnam            Sea          152,    year origin  destination transport_mode  register_id\n",
      "0  2015    USA  Netherlands            Sea          106\n",
      "1  2016    USA  Netherlands            Sea          113\n",
      "2  2017    USA  Netherlands            Sea          142\n",
      "3  2018    USA  Netherlands            Sea           75,    year       origin destination transport_mode  register_id\n",
      "0  2015  Netherlands     Belgium           Road          166\n",
      "1  2019  Netherlands     Belgium           Road           49\n",
      "2  2020  Netherlands     Belgium           Road          159,    year origin destination transport_mode  register_id\n",
      "0  2018  China      Mexico            Air           70\n",
      "1  2019  China      Mexico            Air          146\n",
      "2  2020  China      Mexico            Air          114,    year origin destination transport_mode  register_id\n",
      "0  2015  Japan      Brazil            Sea          111\n",
      "1  2016  Japan      Brazil            Sea            8\n",
      "2  2017  Japan      Brazil            Sea           56\n",
      "3  2020  Japan      Brazil            Sea          131]\n"
     ]
    }
   ],
   "source": [
    "# Funcion para buscar el historial de una ruta\n",
    "list_histo=[]\n",
    "for index in range(5):\n",
    "    first=global_routes.iloc[index]\n",
    "    query=f'origin == \"{first.origin}\" and destination == \"{first.destination}\"  and transport_mode == \"{first.transport_mode}\" '\n",
    "    first_route_hist = testDataframe.query(query).groupby(['year','origin','destination','transport_mode']).count()['register_id']\n",
    "    first_route_hist = first_route_hist.to_frame().reset_index()\n",
    "    list_histo.append(first_route_hist)\n",
    "print(list_histo)"
   ]
  },
  {
   "cell_type": "markdown",
   "metadata": {},
   "source": [
    "#### Historial de top 5 de rutas mas importantes"
   ]
  },
  {
   "cell_type": "code",
   "execution_count": 9,
   "metadata": {},
   "outputs": [
    {
     "data": {
      "text/html": [
       "\n",
       "<div id=\"altair-viz-c36ebb26b4c34e57aea4dbe88b55609e\"></div>\n",
       "<script type=\"text/javascript\">\n",
       "  var VEGA_DEBUG = (typeof VEGA_DEBUG == \"undefined\") ? {} : VEGA_DEBUG;\n",
       "  (function(spec, embedOpt){\n",
       "    let outputDiv = document.currentScript.previousElementSibling;\n",
       "    if (outputDiv.id !== \"altair-viz-c36ebb26b4c34e57aea4dbe88b55609e\") {\n",
       "      outputDiv = document.getElementById(\"altair-viz-c36ebb26b4c34e57aea4dbe88b55609e\");\n",
       "    }\n",
       "    const paths = {\n",
       "      \"vega\": \"https://cdn.jsdelivr.net/npm//vega@5?noext\",\n",
       "      \"vega-lib\": \"https://cdn.jsdelivr.net/npm//vega-lib?noext\",\n",
       "      \"vega-lite\": \"https://cdn.jsdelivr.net/npm//vega-lite@4.17.0?noext\",\n",
       "      \"vega-embed\": \"https://cdn.jsdelivr.net/npm//vega-embed@6?noext\",\n",
       "    };\n",
       "\n",
       "    function maybeLoadScript(lib, version) {\n",
       "      var key = `${lib.replace(\"-\", \"\")}_version`;\n",
       "      return (VEGA_DEBUG[key] == version) ?\n",
       "        Promise.resolve(paths[lib]) :\n",
       "        new Promise(function(resolve, reject) {\n",
       "          var s = document.createElement('script');\n",
       "          document.getElementsByTagName(\"head\")[0].appendChild(s);\n",
       "          s.async = true;\n",
       "          s.onload = () => {\n",
       "            VEGA_DEBUG[key] = version;\n",
       "            return resolve(paths[lib]);\n",
       "          };\n",
       "          s.onerror = () => reject(`Error loading script: ${paths[lib]}`);\n",
       "          s.src = paths[lib];\n",
       "        });\n",
       "    }\n",
       "\n",
       "    function showError(err) {\n",
       "      outputDiv.innerHTML = `<div class=\"error\" style=\"color:red;\">${err}</div>`;\n",
       "      throw err;\n",
       "    }\n",
       "\n",
       "    function displayChart(vegaEmbed) {\n",
       "      vegaEmbed(outputDiv, spec, embedOpt)\n",
       "        .catch(err => showError(`Javascript Error: ${err.message}<br>This usually means there's a typo in your chart specification. See the javascript console for the full traceback.`));\n",
       "    }\n",
       "\n",
       "    if(typeof define === \"function\" && define.amd) {\n",
       "      requirejs.config({paths});\n",
       "      require([\"vega-embed\"], displayChart, err => showError(`Error loading script: ${err.message}`));\n",
       "    } else {\n",
       "      maybeLoadScript(\"vega\", \"5\")\n",
       "        .then(() => maybeLoadScript(\"vega-lite\", \"4.17.0\"))\n",
       "        .then(() => maybeLoadScript(\"vega-embed\", \"6\"))\n",
       "        .catch(showError)\n",
       "        .then(() => displayChart(vegaEmbed));\n",
       "    }\n",
       "  })({\"config\": {\"view\": {\"continuousWidth\": 400, \"continuousHeight\": 300}}, \"layer\": [{\"data\": {\"name\": \"data-9edd039eb64c6f075acd8a292e1a7e54\"}, \"mark\": \"line\", \"encoding\": {\"color\": {\"field\": \"origin\", \"type\": \"nominal\"}, \"x\": {\"field\": \"year\", \"title\": \"A\\u00f1o\", \"type\": \"ordinal\"}, \"y\": {\"field\": \"register_id\", \"title\": \"Numero de rutas\", \"type\": \"quantitative\"}}}, {\"data\": {\"name\": \"data-0ec32c01cf0c53e2714e9084d10c742a\"}, \"mark\": \"line\", \"encoding\": {\"color\": {\"field\": \"origin\", \"type\": \"nominal\"}, \"x\": {\"field\": \"year\", \"title\": \"A\\u00f1o\", \"type\": \"ordinal\"}, \"y\": {\"field\": \"register_id\", \"type\": \"quantitative\"}}}, {\"data\": {\"name\": \"data-36c0aa514fd07c1cc674f408ee412a1e\"}, \"mark\": \"line\", \"encoding\": {\"color\": {\"field\": \"origin\", \"type\": \"nominal\"}, \"x\": {\"field\": \"year\", \"title\": \"A\\u00f1o\", \"type\": \"ordinal\"}, \"y\": {\"field\": \"register_id\", \"type\": \"quantitative\"}}}, {\"data\": {\"name\": \"data-0209bd0d672ea48bfebf714396111c11\"}, \"mark\": \"line\", \"encoding\": {\"color\": {\"field\": \"origin\", \"type\": \"nominal\"}, \"x\": {\"field\": \"year\", \"title\": \"A\\u00f1o\", \"type\": \"ordinal\"}, \"y\": {\"field\": \"register_id\", \"type\": \"quantitative\"}}}, {\"data\": {\"name\": \"data-49a14440d71d3c34523f7c38b54de303\"}, \"mark\": \"line\", \"encoding\": {\"color\": {\"field\": \"origin\", \"type\": \"nominal\"}, \"x\": {\"field\": \"year\", \"title\": \"A\\u00f1o\", \"type\": \"ordinal\"}, \"y\": {\"field\": \"register_id\", \"type\": \"quantitative\"}}}, {\"data\": {\"name\": \"data-9edd039eb64c6f075acd8a292e1a7e54\"}, \"mark\": {\"type\": \"text\", \"align\": \"center\", \"dx\": 15, \"size\": 13}, \"encoding\": {\"color\": {\"field\": \"origin\", \"type\": \"nominal\"}, \"text\": {\"field\": \"register_id\", \"type\": \"quantitative\"}, \"x\": {\"field\": \"year\", \"type\": \"ordinal\"}, \"y\": {\"field\": \"origin\", \"stack\": null, \"type\": \"quantitative\"}}}, {\"data\": {\"name\": \"data-0ec32c01cf0c53e2714e9084d10c742a\"}, \"mark\": {\"type\": \"text\", \"align\": \"center\", \"dx\": 15, \"size\": 13}, \"encoding\": {\"color\": {\"field\": \"origin\", \"type\": \"nominal\"}, \"text\": {\"field\": \"register_id\", \"type\": \"quantitative\"}, \"x\": {\"field\": \"year\", \"type\": \"ordinal\"}, \"y\": {\"field\": \"register_id\", \"stack\": null, \"type\": \"quantitative\"}}}, {\"data\": {\"name\": \"data-36c0aa514fd07c1cc674f408ee412a1e\"}, \"mark\": {\"type\": \"text\", \"align\": \"center\", \"dx\": 15, \"size\": 13}, \"encoding\": {\"color\": {\"field\": \"origin\", \"type\": \"nominal\"}, \"text\": {\"field\": \"register_id\", \"type\": \"quantitative\"}, \"x\": {\"field\": \"year\", \"type\": \"ordinal\"}, \"y\": {\"field\": \"register_id\", \"stack\": null, \"type\": \"quantitative\"}}}, {\"data\": {\"name\": \"data-0209bd0d672ea48bfebf714396111c11\"}, \"mark\": {\"type\": \"text\", \"align\": \"center\", \"dx\": 15, \"size\": 13}, \"encoding\": {\"color\": {\"field\": \"origin\", \"type\": \"nominal\"}, \"text\": {\"field\": \"register_id\", \"type\": \"quantitative\"}, \"x\": {\"field\": \"year\", \"type\": \"ordinal\"}, \"y\": {\"field\": \"register_id\", \"stack\": null, \"type\": \"quantitative\"}}}, {\"data\": {\"name\": \"data-49a14440d71d3c34523f7c38b54de303\"}, \"mark\": {\"type\": \"text\", \"align\": \"center\", \"dx\": 15, \"size\": 13}, \"encoding\": {\"color\": {\"field\": \"origin\", \"type\": \"nominal\"}, \"text\": {\"field\": \"register_id\", \"type\": \"quantitative\"}, \"x\": {\"field\": \"year\", \"type\": \"ordinal\"}, \"y\": {\"field\": \"register_id\", \"stack\": null, \"type\": \"quantitative\"}}}], \"title\": \"Historial de top 5 rutas den 2020\", \"width\": 500, \"$schema\": \"https://vega.github.io/schema/vega-lite/v4.17.0.json\", \"datasets\": {\"data-9edd039eb64c6f075acd8a292e1a7e54\": [{\"year\": 2015, \"origin\": \"South Korea\", \"destination\": \"Vietnam\", \"transport_mode\": \"Sea\", \"register_id\": 148}, {\"year\": 2018, \"origin\": \"South Korea\", \"destination\": \"Vietnam\", \"transport_mode\": \"Sea\", \"register_id\": 45}, {\"year\": 2019, \"origin\": \"South Korea\", \"destination\": \"Vietnam\", \"transport_mode\": \"Sea\", \"register_id\": 152}, {\"year\": 2020, \"origin\": \"South Korea\", \"destination\": \"Vietnam\", \"transport_mode\": \"Sea\", \"register_id\": 152}], \"data-0ec32c01cf0c53e2714e9084d10c742a\": [{\"year\": 2015, \"origin\": \"USA\", \"destination\": \"Netherlands\", \"transport_mode\": \"Sea\", \"register_id\": 106}, {\"year\": 2016, \"origin\": \"USA\", \"destination\": \"Netherlands\", \"transport_mode\": \"Sea\", \"register_id\": 113}, {\"year\": 2017, \"origin\": \"USA\", \"destination\": \"Netherlands\", \"transport_mode\": \"Sea\", \"register_id\": 142}, {\"year\": 2018, \"origin\": \"USA\", \"destination\": \"Netherlands\", \"transport_mode\": \"Sea\", \"register_id\": 75}], \"data-36c0aa514fd07c1cc674f408ee412a1e\": [{\"year\": 2015, \"origin\": \"Netherlands\", \"destination\": \"Belgium\", \"transport_mode\": \"Road\", \"register_id\": 166}, {\"year\": 2019, \"origin\": \"Netherlands\", \"destination\": \"Belgium\", \"transport_mode\": \"Road\", \"register_id\": 49}, {\"year\": 2020, \"origin\": \"Netherlands\", \"destination\": \"Belgium\", \"transport_mode\": \"Road\", \"register_id\": 159}], \"data-0209bd0d672ea48bfebf714396111c11\": [{\"year\": 2018, \"origin\": \"China\", \"destination\": \"Mexico\", \"transport_mode\": \"Air\", \"register_id\": 70}, {\"year\": 2019, \"origin\": \"China\", \"destination\": \"Mexico\", \"transport_mode\": \"Air\", \"register_id\": 146}, {\"year\": 2020, \"origin\": \"China\", \"destination\": \"Mexico\", \"transport_mode\": \"Air\", \"register_id\": 114}], \"data-49a14440d71d3c34523f7c38b54de303\": [{\"year\": 2015, \"origin\": \"Japan\", \"destination\": \"Brazil\", \"transport_mode\": \"Sea\", \"register_id\": 111}, {\"year\": 2016, \"origin\": \"Japan\", \"destination\": \"Brazil\", \"transport_mode\": \"Sea\", \"register_id\": 8}, {\"year\": 2017, \"origin\": \"Japan\", \"destination\": \"Brazil\", \"transport_mode\": \"Sea\", \"register_id\": 56}, {\"year\": 2020, \"origin\": \"Japan\", \"destination\": \"Brazil\", \"transport_mode\": \"Sea\", \"register_id\": 131}]}}, {\"mode\": \"vega-lite\"});\n",
       "</script>"
      ],
      "text/plain": [
       "alt.LayerChart(...)"
      ]
     },
     "execution_count": 9,
     "metadata": {},
     "output_type": "execute_result"
    }
   ],
   "source": [
    "line = alt.Chart(list_histo[0]).mark_line().encode(\n",
    "    x=alt.X('year:O' , title='Año'),\n",
    "    y=alt.Y('register_id', title='Numero de rutas'),\n",
    "    color=alt.Color(\"origin\")\n",
    ")\n",
    "\n",
    "line1 = alt.Chart(list_histo[1]).mark_line().encode(\n",
    "    x=alt.X('year:O',title='Año'),\n",
    "    y=alt.Y('register_id'),\n",
    "    color=alt.Color(\"origin\")\n",
    ")\n",
    "\n",
    "line2 = alt.Chart(list_histo[2]).mark_line().encode(\n",
    "    x=alt.X('year:O',title='Año'),\n",
    "    y=alt.Y('register_id'),\n",
    "    color=alt.Color(\"origin\")\n",
    ")\n",
    "\n",
    "line3 = alt.Chart(list_histo[3]).mark_line().encode(\n",
    "    x=alt.X('year:O',title='Año'),\n",
    "    y=alt.Y('register_id'),\n",
    "    color=alt.Color(\"origin\")\n",
    ")\n",
    "\n",
    "line4 = alt.Chart(list_histo[4]).mark_line().encode(\n",
    "    x=alt.X('year:O',title='Año'),\n",
    "    y=alt.Y('register_id'),\n",
    "    color=alt.Color(\"origin\")\n",
    ")\n",
    "\n",
    "area= alt.Chart(list_histo[0]).mark_circle(opacity=0.3).encode(\n",
    "    x=\"year:O\",\n",
    "    y=alt.Y(\"origin:Q\", stack=None),\n",
    "    color=\"origin\"\n",
    ").mark_text(align='center',dx=15,size=13).encode(text='register_id:Q')\n",
    "\n",
    "area1= alt.Chart(list_histo[1]).mark_circle(opacity=0.3).encode(\n",
    "    x=\"year:O\",\n",
    "    y=alt.Y(\"register_id:Q\", stack=None),\n",
    "    color=\"origin\"\n",
    ").mark_text(align='center',dx=15,size=13).encode(text='register_id:Q')\n",
    "\n",
    "area2= alt.Chart(list_histo[2]).mark_circle(opacity=0.3).encode(\n",
    "    x=\"year:O\",\n",
    "    y=alt.Y(\"register_id:Q\", stack=None),\n",
    "    color=\"origin\"\n",
    ").mark_text(align='center',dx=15,size=13).encode(text='register_id:Q')\n",
    "\n",
    "area3= alt.Chart(list_histo[3]).mark_circle(opacity=0.3).encode(\n",
    "    x=\"year:O\",\n",
    "    y=alt.Y(\"register_id:Q\", stack=None),\n",
    "    color=\"origin\"\n",
    ").mark_text(align='center',dx=15,size=13).encode(text='register_id:Q')\n",
    "\n",
    "area4= alt.Chart(list_histo[4]).mark_circle(opacity=0.3).encode(\n",
    "    x=\"year:O\",\n",
    "    y=alt.Y(\"register_id:Q\", stack=None),\n",
    "    color=\"origin\"\n",
    ").mark_text(align='center',dx=15,size=13).encode(text='register_id:Q')\n",
    "\n",
    "(line + line1 + line2 + line3  + line4 + area + area1 + area2 + area3 + area4 ).properties(width=500, title=\"Historial de top 5 rutas den 2020\")\n",
    "\n"
   ]
  },
  {
   "cell_type": "markdown",
   "metadata": {},
   "source": [
    "#### Grafica de ingresos por ruta"
   ]
  },
  {
   "cell_type": "code",
   "execution_count": 10,
   "metadata": {},
   "outputs": [
    {
     "name": "stdout",
     "output_type": "stream",
     "text": [
      "  direction       origin destination              product transport_mode  \\\n",
      "0   Exports        China      Mexico            Computers            Air   \n",
      "1   Exports       Canada      Mexico                 Wood           Rail   \n",
      "2   Exports          USA      Mexico      Aerospace Parts           Rail   \n",
      "3   Exports  South Korea     Vietnam  Integrated circuits            Sea   \n",
      "4   Imports    Singapore    Thailand  Integrated circuits            Sea   \n",
      "\n",
      "   total_value                   ruta  \n",
      "0   8438000000         China-->Mexico  \n",
      "1   4508000000        Canada-->Mexico  \n",
      "2   4370000000           USA-->Mexico  \n",
      "3   4060007000  South Korea-->Vietnam  \n",
      "4   4017000000   Singapore-->Thailand  \n"
     ]
    },
    {
     "data": {
      "text/html": [
       "\n",
       "<div id=\"altair-viz-0c47993a9f5249fda8a8f5e4bf1fc980\"></div>\n",
       "<script type=\"text/javascript\">\n",
       "  var VEGA_DEBUG = (typeof VEGA_DEBUG == \"undefined\") ? {} : VEGA_DEBUG;\n",
       "  (function(spec, embedOpt){\n",
       "    let outputDiv = document.currentScript.previousElementSibling;\n",
       "    if (outputDiv.id !== \"altair-viz-0c47993a9f5249fda8a8f5e4bf1fc980\") {\n",
       "      outputDiv = document.getElementById(\"altair-viz-0c47993a9f5249fda8a8f5e4bf1fc980\");\n",
       "    }\n",
       "    const paths = {\n",
       "      \"vega\": \"https://cdn.jsdelivr.net/npm//vega@5?noext\",\n",
       "      \"vega-lib\": \"https://cdn.jsdelivr.net/npm//vega-lib?noext\",\n",
       "      \"vega-lite\": \"https://cdn.jsdelivr.net/npm//vega-lite@4.17.0?noext\",\n",
       "      \"vega-embed\": \"https://cdn.jsdelivr.net/npm//vega-embed@6?noext\",\n",
       "    };\n",
       "\n",
       "    function maybeLoadScript(lib, version) {\n",
       "      var key = `${lib.replace(\"-\", \"\")}_version`;\n",
       "      return (VEGA_DEBUG[key] == version) ?\n",
       "        Promise.resolve(paths[lib]) :\n",
       "        new Promise(function(resolve, reject) {\n",
       "          var s = document.createElement('script');\n",
       "          document.getElementsByTagName(\"head\")[0].appendChild(s);\n",
       "          s.async = true;\n",
       "          s.onload = () => {\n",
       "            VEGA_DEBUG[key] = version;\n",
       "            return resolve(paths[lib]);\n",
       "          };\n",
       "          s.onerror = () => reject(`Error loading script: ${paths[lib]}`);\n",
       "          s.src = paths[lib];\n",
       "        });\n",
       "    }\n",
       "\n",
       "    function showError(err) {\n",
       "      outputDiv.innerHTML = `<div class=\"error\" style=\"color:red;\">${err}</div>`;\n",
       "      throw err;\n",
       "    }\n",
       "\n",
       "    function displayChart(vegaEmbed) {\n",
       "      vegaEmbed(outputDiv, spec, embedOpt)\n",
       "        .catch(err => showError(`Javascript Error: ${err.message}<br>This usually means there's a typo in your chart specification. See the javascript console for the full traceback.`));\n",
       "    }\n",
       "\n",
       "    if(typeof define === \"function\" && define.amd) {\n",
       "      requirejs.config({paths});\n",
       "      require([\"vega-embed\"], displayChart, err => showError(`Error loading script: ${err.message}`));\n",
       "    } else {\n",
       "      maybeLoadScript(\"vega\", \"5\")\n",
       "        .then(() => maybeLoadScript(\"vega-lite\", \"4.17.0\"))\n",
       "        .then(() => maybeLoadScript(\"vega-embed\", \"6\"))\n",
       "        .catch(showError)\n",
       "        .then(() => displayChart(vegaEmbed));\n",
       "    }\n",
       "  })({\"config\": {\"view\": {\"continuousWidth\": 400, \"continuousHeight\": 300}}, \"data\": {\"name\": \"data-d66a3f4f676eb1b3d706612aedbf5651\"}, \"mark\": \"point\", \"encoding\": {\"color\": {\"field\": \"transport_mode\", \"legend\": {\"title\": \"Tipo transporte\"}, \"scale\": {\"scheme\": \"dark2\", \"type\": \"sqrt\"}, \"type\": \"nominal\"}, \"shape\": {\"field\": \"product\", \"title\": \"Tipo Producto\", \"type\": \"nominal\"}, \"tooltip\": [{\"field\": \"direction\", \"type\": \"nominal\"}, {\"field\": \"transport_mode\", \"type\": \"nominal\"}, {\"field\": \"product\", \"type\": \"nominal\"}, {\"field\": \"total_value\", \"type\": \"quantitative\"}, {\"field\": \"ruta\", \"type\": \"nominal\"}], \"x\": {\"field\": \"ruta\", \"scale\": {\"zero\": false}, \"sort\": [\"register_id\"], \"title\": \"Ruta \", \"type\": \"ordinal\"}, \"y\": {\"field\": \"total_value\", \"scale\": {\"padding\": 3, \"zero\": false}, \"title\": \"Ingresos totales por ruta\", \"type\": \"quantitative\"}}, \"selection\": {\"selector003\": {\"type\": \"interval\", \"bind\": \"scales\", \"encodings\": [\"x\", \"y\"]}}, \"title\": \"Ingresos por rutas-productos\", \"$schema\": \"https://vega.github.io/schema/vega-lite/v4.17.0.json\", \"datasets\": {\"data-d66a3f4f676eb1b3d706612aedbf5651\": [{\"direction\": \"Exports\", \"origin\": \"China\", \"destination\": \"Mexico\", \"product\": \"Computers\", \"transport_mode\": \"Air\", \"total_value\": 8438000000, \"ruta\": \"China-->Mexico\"}, {\"direction\": \"Exports\", \"origin\": \"Canada\", \"destination\": \"Mexico\", \"product\": \"Wood\", \"transport_mode\": \"Rail\", \"total_value\": 4508000000, \"ruta\": \"Canada-->Mexico\"}, {\"direction\": \"Exports\", \"origin\": \"USA\", \"destination\": \"Mexico\", \"product\": \"Aerospace Parts\", \"transport_mode\": \"Rail\", \"total_value\": 4370000000, \"ruta\": \"USA-->Mexico\"}, {\"direction\": \"Exports\", \"origin\": \"South Korea\", \"destination\": \"Vietnam\", \"product\": \"Integrated circuits\", \"transport_mode\": \"Sea\", \"total_value\": 4060007000, \"ruta\": \"South Korea-->Vietnam\"}, {\"direction\": \"Imports\", \"origin\": \"Singapore\", \"destination\": \"Thailand\", \"product\": \"Integrated circuits\", \"transport_mode\": \"Sea\", \"total_value\": 4017000000, \"ruta\": \"Singapore-->Thailand\"}, {\"direction\": \"Exports\", \"origin\": \"Canada\", \"destination\": \"Mexico\", \"product\": \"Gold\", \"transport_mode\": \"Rail\", \"total_value\": 3942000000, \"ruta\": \"Canada-->Mexico\"}, {\"direction\": \"Imports\", \"origin\": \"Japan\", \"destination\": \"Mexico\", \"product\": \"Cars\", \"transport_mode\": \"Sea\", \"total_value\": 3918000000, \"ruta\": \"Japan-->Mexico\"}, {\"direction\": \"Exports\", \"origin\": \"China\", \"destination\": \"Mexico\", \"product\": \"Smartphones\", \"transport_mode\": \"Air\", \"total_value\": 3812000000, \"ruta\": \"China-->Mexico\"}, {\"direction\": \"Exports\", \"origin\": \"China\", \"destination\": \"South Korea\", \"product\": \"Smartphones\", \"transport_mode\": \"Rail\", \"total_value\": 3800000000, \"ruta\": \"China-->South Korea\"}, {\"direction\": \"Imports\", \"origin\": \"Malaysia\", \"destination\": \"Thailand\", \"product\": \"Palm oil\", \"transport_mode\": \"Rail\", \"total_value\": 3482000000, \"ruta\": \"Malaysia-->Thailand\"}, {\"direction\": \"Exports\", \"origin\": \"South Korea\", \"destination\": \"Japan\", \"product\": \"Integrated circuits\", \"transport_mode\": \"Sea\", \"total_value\": 3477000000, \"ruta\": \"South Korea-->Japan\"}, {\"direction\": \"Exports\", \"origin\": \"Japan\", \"destination\": \"Brazil\", \"product\": \"Cars\", \"transport_mode\": \"Sea\", \"total_value\": 3368155000, \"ruta\": \"Japan-->Brazil\"}, {\"direction\": \"Imports\", \"origin\": \"China\", \"destination\": \"United Arab Emirates\", \"product\": \"Computers\", \"transport_mode\": \"Sea\", \"total_value\": 3357000000, \"ruta\": \"China-->United Arab Emirates\"}, {\"direction\": \"Imports\", \"origin\": \"China\", \"destination\": \"Japan\", \"product\": \"Machinery and electronics\", \"transport_mode\": \"Air\", \"total_value\": 3237000000, \"ruta\": \"China-->Japan\"}, {\"direction\": \"Exports\", \"origin\": \"Netherlands\", \"destination\": \"Belgium\", \"product\": \"Meat\", \"transport_mode\": \"Road\", \"total_value\": 3230094000, \"ruta\": \"Netherlands-->Belgium\"}]}}, {\"mode\": \"vega-lite\"});\n",
       "</script>"
      ],
      "text/plain": [
       "alt.Chart(...)"
      ]
     },
     "execution_count": 10,
     "metadata": {},
     "output_type": "execute_result"
    }
   ],
   "source": [
    "# Grafica general de ganancias por rutas\n",
    "print(global_routess.head(5))\n",
    "bars = alt.Chart(global_routess.head(15)).mark_point().encode(\n",
    "    x=alt.X('ruta:O',title='Ruta ',scale=alt.Scale(zero=False),sort=alt.SortArray(['register_id'])),\n",
    "    y=alt.X('total_value', title='Ingresos totales por ruta',scale=alt.Scale(zero=False, padding=3)),\n",
    "    color=alt.Color(\"transport_mode\", legend=alt.Legend(title=\"Tipo transporte\"),scale=alt.Scale(scheme='dark2',type= 'sqrt')),  \n",
    "    shape=alt.Shape('product',title='Tipo Producto'),\n",
    "    tooltip=['direction','transport_mode', 'product', 'total_value', 'ruta']\n",
    ")\n",
    "\n",
    "text = bars.mark_text(\n",
    "    align='center',\n",
    "    # baseline='middle',\n",
    "    dx=15,\n",
    "    size=13\n",
    ").encode(\n",
    "    text='product',\n",
    ")\n",
    "\n",
    "(bars  ).properties(title='Ingresos por rutas-productos').interactive()\n"
   ]
  },
  {
   "cell_type": "markdown",
   "metadata": {},
   "source": [
    "#### Grafica de numero de  relevancia de rutas"
   ]
  },
  {
   "cell_type": "code",
   "execution_count": 11,
   "metadata": {},
   "outputs": [
    {
     "name": "stdout",
     "output_type": "stream",
     "text": [
      "  direction       origin  destination transport_mode  register_id  \\\n",
      "0   Exports  South Korea      Vietnam            Sea          497   \n",
      "1   Exports          USA  Netherlands            Sea          436   \n",
      "2   Exports  Netherlands      Belgium           Road          374   \n",
      "3   Exports        China       Mexico            Air          330   \n",
      "4   Exports        Japan       Brazil            Sea          306   \n",
      "\n",
      "   Porsentaje_rutas_global  \n",
      "0                    2.608  \n",
      "1                    2.288  \n",
      "2                    1.963  \n",
      "3                    1.732  \n",
      "4                    1.606  \n"
     ]
    },
    {
     "data": {
      "text/html": [
       "\n",
       "<div id=\"altair-viz-b355eea665f145069f9fa416a4e01203\"></div>\n",
       "<script type=\"text/javascript\">\n",
       "  var VEGA_DEBUG = (typeof VEGA_DEBUG == \"undefined\") ? {} : VEGA_DEBUG;\n",
       "  (function(spec, embedOpt){\n",
       "    let outputDiv = document.currentScript.previousElementSibling;\n",
       "    if (outputDiv.id !== \"altair-viz-b355eea665f145069f9fa416a4e01203\") {\n",
       "      outputDiv = document.getElementById(\"altair-viz-b355eea665f145069f9fa416a4e01203\");\n",
       "    }\n",
       "    const paths = {\n",
       "      \"vega\": \"https://cdn.jsdelivr.net/npm//vega@5?noext\",\n",
       "      \"vega-lib\": \"https://cdn.jsdelivr.net/npm//vega-lib?noext\",\n",
       "      \"vega-lite\": \"https://cdn.jsdelivr.net/npm//vega-lite@4.17.0?noext\",\n",
       "      \"vega-embed\": \"https://cdn.jsdelivr.net/npm//vega-embed@6?noext\",\n",
       "    };\n",
       "\n",
       "    function maybeLoadScript(lib, version) {\n",
       "      var key = `${lib.replace(\"-\", \"\")}_version`;\n",
       "      return (VEGA_DEBUG[key] == version) ?\n",
       "        Promise.resolve(paths[lib]) :\n",
       "        new Promise(function(resolve, reject) {\n",
       "          var s = document.createElement('script');\n",
       "          document.getElementsByTagName(\"head\")[0].appendChild(s);\n",
       "          s.async = true;\n",
       "          s.onload = () => {\n",
       "            VEGA_DEBUG[key] = version;\n",
       "            return resolve(paths[lib]);\n",
       "          };\n",
       "          s.onerror = () => reject(`Error loading script: ${paths[lib]}`);\n",
       "          s.src = paths[lib];\n",
       "        });\n",
       "    }\n",
       "\n",
       "    function showError(err) {\n",
       "      outputDiv.innerHTML = `<div class=\"error\" style=\"color:red;\">${err}</div>`;\n",
       "      throw err;\n",
       "    }\n",
       "\n",
       "    function displayChart(vegaEmbed) {\n",
       "      vegaEmbed(outputDiv, spec, embedOpt)\n",
       "        .catch(err => showError(`Javascript Error: ${err.message}<br>This usually means there's a typo in your chart specification. See the javascript console for the full traceback.`));\n",
       "    }\n",
       "\n",
       "    if(typeof define === \"function\" && define.amd) {\n",
       "      requirejs.config({paths});\n",
       "      require([\"vega-embed\"], displayChart, err => showError(`Error loading script: ${err.message}`));\n",
       "    } else {\n",
       "      maybeLoadScript(\"vega\", \"5\")\n",
       "        .then(() => maybeLoadScript(\"vega-lite\", \"4.17.0\"))\n",
       "        .then(() => maybeLoadScript(\"vega-embed\", \"6\"))\n",
       "        .catch(showError)\n",
       "        .then(() => displayChart(vegaEmbed));\n",
       "    }\n",
       "  })({\"config\": {\"view\": {\"continuousWidth\": 400, \"continuousHeight\": 300}}, \"layer\": [{\"mark\": \"circle\", \"encoding\": {\"color\": {\"field\": \"transport_mode\", \"legend\": {\"title\": \"Tipo transporte\"}, \"scale\": {\"scheme\": \"dark2\", \"type\": \"sqrt\"}, \"type\": \"nominal\"}, \"x\": {\"field\": \"origin\", \"scale\": {\"zero\": false}, \"sort\": [\"register_id\"], \"title\": \"Pais de origen \", \"type\": \"ordinal\"}, \"y\": {\"field\": \"register_id\", \"scale\": {\"padding\": 3, \"zero\": false}, \"title\": \"Numero de rutas\", \"type\": \"quantitative\"}}}, {\"mark\": {\"type\": \"text\", \"align\": \"center\", \"dx\": 15, \"size\": 13}, \"encoding\": {\"color\": {\"field\": \"transport_mode\", \"legend\": {\"title\": \"Tipo transporte\"}, \"scale\": {\"scheme\": \"dark2\", \"type\": \"sqrt\"}, \"type\": \"nominal\"}, \"text\": {\"field\": \"register_id\", \"type\": \"quantitative\"}, \"x\": {\"field\": \"origin\", \"scale\": {\"zero\": false}, \"sort\": [\"register_id\"], \"title\": \"Pais de origen \", \"type\": \"ordinal\"}, \"y\": {\"field\": \"register_id\", \"scale\": {\"padding\": 3, \"zero\": false}, \"title\": \"Numero de rutas\", \"type\": \"quantitative\"}}}], \"data\": {\"name\": \"data-72dcab60af961d20db263400507874dd\"}, \"title\": \"Numero de rutas por pais de origin\", \"$schema\": \"https://vega.github.io/schema/vega-lite/v4.17.0.json\", \"datasets\": {\"data-72dcab60af961d20db263400507874dd\": [{\"direction\": \"Exports\", \"origin\": \"South Korea\", \"destination\": \"Vietnam\", \"transport_mode\": \"Sea\", \"register_id\": 497, \"Porsentaje_rutas_global\": 2.608}, {\"direction\": \"Exports\", \"origin\": \"USA\", \"destination\": \"Netherlands\", \"transport_mode\": \"Sea\", \"register_id\": 436, \"Porsentaje_rutas_global\": 2.288}, {\"direction\": \"Exports\", \"origin\": \"Netherlands\", \"destination\": \"Belgium\", \"transport_mode\": \"Road\", \"register_id\": 374, \"Porsentaje_rutas_global\": 1.963}, {\"direction\": \"Exports\", \"origin\": \"China\", \"destination\": \"Mexico\", \"transport_mode\": \"Air\", \"register_id\": 330, \"Porsentaje_rutas_global\": 1.732}, {\"direction\": \"Exports\", \"origin\": \"Japan\", \"destination\": \"Brazil\", \"transport_mode\": \"Sea\", \"register_id\": 306, \"Porsentaje_rutas_global\": 1.606}, {\"direction\": \"Exports\", \"origin\": \"Germany\", \"destination\": \"France\", \"transport_mode\": \"Road\", \"register_id\": 299, \"Porsentaje_rutas_global\": 1.569}, {\"direction\": \"Exports\", \"origin\": \"South Korea\", \"destination\": \"Japan\", \"transport_mode\": \"Sea\", \"register_id\": 279, \"Porsentaje_rutas_global\": 1.464}, {\"direction\": \"Imports\", \"origin\": \"Singapore\", \"destination\": \"Thailand\", \"transport_mode\": \"Sea\", \"register_id\": 273, \"Porsentaje_rutas_global\": 1.433}, {\"direction\": \"Exports\", \"origin\": \"Australia\", \"destination\": \"Singapore\", \"transport_mode\": \"Sea\", \"register_id\": 273, \"Porsentaje_rutas_global\": 1.433}, {\"direction\": \"Exports\", \"origin\": \"Canada\", \"destination\": \"Mexico\", \"transport_mode\": \"Rail\", \"register_id\": 261, \"Porsentaje_rutas_global\": 1.37}, {\"direction\": \"Exports\", \"origin\": \"China\", \"destination\": \"Spain\", \"transport_mode\": \"Air\", \"register_id\": 250, \"Porsentaje_rutas_global\": 1.312}, {\"direction\": \"Exports\", \"origin\": \"Mexico\", \"destination\": \"New Zealand\", \"transport_mode\": \"Sea\", \"register_id\": 249, \"Porsentaje_rutas_global\": 1.307}, {\"direction\": \"Imports\", \"origin\": \"Germany\", \"destination\": \"China\", \"transport_mode\": \"Sea\", \"register_id\": 233, \"Porsentaje_rutas_global\": 1.223}, {\"direction\": \"Exports\", \"origin\": \"United Kingdom\", \"destination\": \"Belgium\", \"transport_mode\": \"Sea\", \"register_id\": 229, \"Porsentaje_rutas_global\": 1.202}, {\"direction\": \"Exports\", \"origin\": \"India\", \"destination\": \"United Arab Emirates\", \"transport_mode\": \"Sea\", \"register_id\": 214, \"Porsentaje_rutas_global\": 1.123}]}}, {\"mode\": \"vega-lite\"});\n",
       "</script>"
      ],
      "text/plain": [
       "alt.LayerChart(...)"
      ]
     },
     "execution_count": 11,
     "metadata": {},
     "output_type": "execute_result"
    }
   ],
   "source": [
    "# Grafica general de numero rutas\n",
    "print(global_routes.head(5))\n",
    "bars = alt.Chart(global_routes.head(15)).mark_circle().encode(\n",
    "    x=alt.X('origin:O',title='Pais de origen ',scale=alt.Scale(zero=False),sort=alt.SortArray(['register_id'])),\n",
    "    y=alt.X('register_id', title='Numero de rutas',scale=alt.Scale(zero=False, padding=3)),\n",
    "    color=alt.Color(\"transport_mode\", legend=alt.Legend(title=\"Tipo transporte\"),scale=alt.Scale(scheme='dark2',type= 'sqrt')),   \n",
    ")\n",
    "\n",
    "text = bars.mark_text(\n",
    "    align='center',\n",
    "    # baseline='middle',\n",
    "    dx=15,\n",
    "    size=13\n",
    ").encode(\n",
    "    text='register_id:Q'\n",
    ")\n",
    "\n",
    "(bars + text).properties(title='Numero de rutas por pais de origin')#.interactive()\n"
   ]
  },
  {
   "cell_type": "markdown",
   "metadata": {},
   "source": [
    "#### Histograma rutas con mayores ingresos"
   ]
  },
  {
   "cell_type": "code",
   "execution_count": 12,
   "metadata": {},
   "outputs": [
    {
     "name": "stdout",
     "output_type": "stream",
     "text": [
      "['register_id' 'direction' 'origin' 'destination' 'year' 'date' 'product'\n",
      " 'transport_mode' 'company_name' 'total_value' 'month']\n",
      "             origin           destination  year          product  \\\n",
      "0         Australia                Brazil  2015  Coal Briquettes   \n",
      "1         Australia                Brazil  2017  Coal Briquettes   \n",
      "2         Australia                Brazil  2018  Coal Briquettes   \n",
      "3         Australia                Brazil  2019  Coal Briquettes   \n",
      "4         Australia                 Japan  2016             Meat   \n",
      "..              ...                   ...   ...              ...   \n",
      "516  United Kingdom                   USA  2017             Cars   \n",
      "517  United Kingdom                   USA  2018             Cars   \n",
      "518  United Kingdom                   USA  2019             Cars   \n",
      "519  United Kingdom                   USA  2020             Cars   \n",
      "520         Vietnam  United Arab Emirates  2020        Computers   \n",
      "\n",
      "    transport_mode  register_id  \n",
      "0              Sea            2  \n",
      "1              Sea           76  \n",
      "2              Sea            4  \n",
      "3              Sea           30  \n",
      "4              Sea          102  \n",
      "..             ...          ...  \n",
      "516            Sea           25  \n",
      "517            Sea           72  \n",
      "518            Sea            8  \n",
      "519            Sea           17  \n",
      "520            Sea           18  \n",
      "\n",
      "[521 rows x 6 columns]\n"
     ]
    }
   ],
   "source": [
    "print(testDataframe.columns.values)\n",
    "test_histo=testDataframe.groupby(['origin', 'destination','year','product', 'transport_mode' ]).count()['register_id']#.sort_values(['total_value','date'],ascending=False )#.head(10)\n",
    "global_routes_histo = pd.DataFrame(test_histo).reset_index()\n",
    "# global_routes_histo['ruta']= global_routes_histo['origin'] +'-->'+ global_routes_histo['destination']\n",
    "print(global_routes_histo)"
   ]
  },
  {
   "cell_type": "markdown",
   "metadata": {},
   "source": [
    "#### _Opción 2) Medio de transporte utilizado._\n",
    "\n",
    "¿Cuáles son los 3 medios de transporte más importantes para Synergy logistics considerando el valor de las importaciones y exportaciones? ¿Cuál es medio de transporte que podrían\n",
    "reducir?\n"
   ]
  },
  {
   "cell_type": "code",
   "execution_count": 8,
   "metadata": {},
   "outputs": [
    {
     "name": "stdout",
     "output_type": "stream",
     "text": [
      "['register_id' 'direction' 'origin' 'destination' 'year' 'date' 'product'\n",
      " 'transport_mode' 'company_name' 'total_value']\n",
      "Numero de rutas por tipo de transporte\n",
      "  transport_mode  register_id\n",
      "0            Sea        10688\n",
      "1           Rail         3381\n",
      "2           Road         2598\n",
      "3            Air         2389 \n",
      "\n",
      "Ingresos por tipo de transporte\n",
      "  transport_mode   total_value\n",
      "0            Sea  100530622000\n",
      "1           Rail   43628043000\n",
      "2            Air   38262147000\n",
      "3           Road   33270486000 \n",
      "\n",
      "Promedi de ingreso por rutra y tipo de transporte \n",
      "  transport_mode   total_value\n",
      "0            Air  1.601597e+07\n",
      "1           Rail  1.290389e+07\n",
      "2           Road  1.280619e+07\n",
      "3            Sea  9.405934e+06 \n",
      "\n"
     ]
    }
   ],
   "source": [
    "print(testDataframe.columns.values)\n",
    "# Numero de rutas por tipo de transporte\n",
    "medios_transporte_sta = testDataframe.groupby(['transport_mode']).count()['register_id'].sort_values(ascending=False).to_frame().reset_index()\n",
    "print(\"Numero de rutas por tipo de transporte\")\n",
    "print(medios_transporte_sta,\"\\n\")\n",
    "# Ingresos por tipo de transporte \n",
    "medios_transporte_sta_sales = testDataframe.groupby(['transport_mode']).sum()['total_value'].sort_values(ascending=False).to_frame().reset_index()\n",
    "print(\"Ingresos por tipo de transporte\")\n",
    "print(medios_transporte_sta_sales,\"\\n\")\n",
    "#  .mean()\n",
    "medios_transporte_sta_sales_mean = testDataframe.groupby(['transport_mode']).mean()['total_value'].sort_values(ascending=False).to_frame().reset_index()\n",
    "print(\"Promedi de ingreso por rutra y tipo de transporte \")\n",
    "print(medios_transporte_sta_sales_mean,\"\\n\")\n"
   ]
  },
  {
   "cell_type": "code",
   "execution_count": 38,
   "metadata": {},
   "outputs": [
    {
     "name": "stdout",
     "output_type": "stream",
     "text": [
      "  transport_mode  register_id\n",
      "0            Sea        10688\n",
      "1           Rail         3381\n",
      "2           Road         2598\n",
      "3            Air         2389\n"
     ]
    },
    {
     "data": {
      "text/html": [
       "\n",
       "<div id=\"altair-viz-5561fdfa6c6540a1a2a378c40a743b32\"></div>\n",
       "<script type=\"text/javascript\">\n",
       "  var VEGA_DEBUG = (typeof VEGA_DEBUG == \"undefined\") ? {} : VEGA_DEBUG;\n",
       "  (function(spec, embedOpt){\n",
       "    let outputDiv = document.currentScript.previousElementSibling;\n",
       "    if (outputDiv.id !== \"altair-viz-5561fdfa6c6540a1a2a378c40a743b32\") {\n",
       "      outputDiv = document.getElementById(\"altair-viz-5561fdfa6c6540a1a2a378c40a743b32\");\n",
       "    }\n",
       "    const paths = {\n",
       "      \"vega\": \"https://cdn.jsdelivr.net/npm//vega@5?noext\",\n",
       "      \"vega-lib\": \"https://cdn.jsdelivr.net/npm//vega-lib?noext\",\n",
       "      \"vega-lite\": \"https://cdn.jsdelivr.net/npm//vega-lite@4.17.0?noext\",\n",
       "      \"vega-embed\": \"https://cdn.jsdelivr.net/npm//vega-embed@6?noext\",\n",
       "    };\n",
       "\n",
       "    function maybeLoadScript(lib, version) {\n",
       "      var key = `${lib.replace(\"-\", \"\")}_version`;\n",
       "      return (VEGA_DEBUG[key] == version) ?\n",
       "        Promise.resolve(paths[lib]) :\n",
       "        new Promise(function(resolve, reject) {\n",
       "          var s = document.createElement('script');\n",
       "          document.getElementsByTagName(\"head\")[0].appendChild(s);\n",
       "          s.async = true;\n",
       "          s.onload = () => {\n",
       "            VEGA_DEBUG[key] = version;\n",
       "            return resolve(paths[lib]);\n",
       "          };\n",
       "          s.onerror = () => reject(`Error loading script: ${paths[lib]}`);\n",
       "          s.src = paths[lib];\n",
       "        });\n",
       "    }\n",
       "\n",
       "    function showError(err) {\n",
       "      outputDiv.innerHTML = `<div class=\"error\" style=\"color:red;\">${err}</div>`;\n",
       "      throw err;\n",
       "    }\n",
       "\n",
       "    function displayChart(vegaEmbed) {\n",
       "      vegaEmbed(outputDiv, spec, embedOpt)\n",
       "        .catch(err => showError(`Javascript Error: ${err.message}<br>This usually means there's a typo in your chart specification. See the javascript console for the full traceback.`));\n",
       "    }\n",
       "\n",
       "    if(typeof define === \"function\" && define.amd) {\n",
       "      requirejs.config({paths});\n",
       "      require([\"vega-embed\"], displayChart, err => showError(`Error loading script: ${err.message}`));\n",
       "    } else {\n",
       "      maybeLoadScript(\"vega\", \"5\")\n",
       "        .then(() => maybeLoadScript(\"vega-lite\", \"4.17.0\"))\n",
       "        .then(() => maybeLoadScript(\"vega-embed\", \"6\"))\n",
       "        .catch(showError)\n",
       "        .then(() => displayChart(vegaEmbed));\n",
       "    }\n",
       "  })({\"config\": {\"view\": {\"continuousWidth\": 400, \"continuousHeight\": 300}}, \"layer\": [{\"mark\": {\"type\": \"arc\", \"innerRadius\": 20, \"stroke\": \"#fff\"}, \"encoding\": {\"color\": {\"field\": \"transport_mode\", \"type\": \"nominal\"}, \"radius\": {\"field\": \"register_id\", \"scale\": {\"rangeMin\": 20, \"type\": \"sqrt\", \"zero\": true}, \"type\": \"quantitative\"}, \"theta\": {\"field\": \"register_id\", \"stack\": true, \"type\": \"quantitative\"}}}, {\"mark\": {\"type\": \"text\", \"radiusOffset\": 10, \"size\": 13}, \"encoding\": {\"color\": {\"field\": \"transport_mode\", \"type\": \"nominal\"}, \"radius\": {\"field\": \"register_id\", \"scale\": {\"rangeMin\": 20, \"type\": \"sqrt\", \"zero\": true}, \"type\": \"quantitative\"}, \"text\": {\"field\": \"register_id\", \"type\": \"quantitative\"}, \"theta\": {\"field\": \"register_id\", \"stack\": true, \"type\": \"quantitative\"}}}], \"data\": {\"name\": \"data-97ee7bc9b150d509b1e078651f1ecf5a\"}, \"title\": \"N\\u00famero de rutas por tipo de transporte\", \"$schema\": \"https://vega.github.io/schema/vega-lite/v4.17.0.json\", \"datasets\": {\"data-97ee7bc9b150d509b1e078651f1ecf5a\": [{\"transport_mode\": \"Sea\", \"register_id\": 10688}, {\"transport_mode\": \"Rail\", \"register_id\": 3381}, {\"transport_mode\": \"Road\", \"register_id\": 2598}, {\"transport_mode\": \"Air\", \"register_id\": 2389}]}}, {\"mode\": \"vega-lite\"});\n",
       "</script>"
      ],
      "text/plain": [
       "alt.LayerChart(...)"
      ]
     },
     "execution_count": 38,
     "metadata": {},
     "output_type": "execute_result"
    }
   ],
   "source": [
    "print(medios_transporte_sta)\n",
    "\n",
    "grafic_count = alt.Chart(medios_transporte_sta).encode(\n",
    "    theta=alt.Theta(\"register_id:Q\", stack=True),\n",
    "    radius=alt.Radius(\"register_id\", scale=alt.Scale(type=\"sqrt\", zero=True, rangeMin=20)),\n",
    "    color=\"transport_mode:N\",\n",
    ")\n",
    "\n",
    "c1 = grafic_count.mark_arc(innerRadius=20, stroke=\"#fff\")\n",
    "\n",
    "c2 = grafic_count.mark_text(radiusOffset=10,size=13).encode(text=alt.Text('register_id:Q'))\n",
    "(c1 + c2).properties(title=\"Número de rutas por tipo de transporte\")"
   ]
  },
  {
   "cell_type": "code",
   "execution_count": 35,
   "metadata": {},
   "outputs": [
    {
     "data": {
      "text/html": [
       "\n",
       "<div id=\"altair-viz-3311f0012ccd49cfac24b114b58dd7f9\"></div>\n",
       "<script type=\"text/javascript\">\n",
       "  var VEGA_DEBUG = (typeof VEGA_DEBUG == \"undefined\") ? {} : VEGA_DEBUG;\n",
       "  (function(spec, embedOpt){\n",
       "    let outputDiv = document.currentScript.previousElementSibling;\n",
       "    if (outputDiv.id !== \"altair-viz-3311f0012ccd49cfac24b114b58dd7f9\") {\n",
       "      outputDiv = document.getElementById(\"altair-viz-3311f0012ccd49cfac24b114b58dd7f9\");\n",
       "    }\n",
       "    const paths = {\n",
       "      \"vega\": \"https://cdn.jsdelivr.net/npm//vega@5?noext\",\n",
       "      \"vega-lib\": \"https://cdn.jsdelivr.net/npm//vega-lib?noext\",\n",
       "      \"vega-lite\": \"https://cdn.jsdelivr.net/npm//vega-lite@4.17.0?noext\",\n",
       "      \"vega-embed\": \"https://cdn.jsdelivr.net/npm//vega-embed@6?noext\",\n",
       "    };\n",
       "\n",
       "    function maybeLoadScript(lib, version) {\n",
       "      var key = `${lib.replace(\"-\", \"\")}_version`;\n",
       "      return (VEGA_DEBUG[key] == version) ?\n",
       "        Promise.resolve(paths[lib]) :\n",
       "        new Promise(function(resolve, reject) {\n",
       "          var s = document.createElement('script');\n",
       "          document.getElementsByTagName(\"head\")[0].appendChild(s);\n",
       "          s.async = true;\n",
       "          s.onload = () => {\n",
       "            VEGA_DEBUG[key] = version;\n",
       "            return resolve(paths[lib]);\n",
       "          };\n",
       "          s.onerror = () => reject(`Error loading script: ${paths[lib]}`);\n",
       "          s.src = paths[lib];\n",
       "        });\n",
       "    }\n",
       "\n",
       "    function showError(err) {\n",
       "      outputDiv.innerHTML = `<div class=\"error\" style=\"color:red;\">${err}</div>`;\n",
       "      throw err;\n",
       "    }\n",
       "\n",
       "    function displayChart(vegaEmbed) {\n",
       "      vegaEmbed(outputDiv, spec, embedOpt)\n",
       "        .catch(err => showError(`Javascript Error: ${err.message}<br>This usually means there's a typo in your chart specification. See the javascript console for the full traceback.`));\n",
       "    }\n",
       "\n",
       "    if(typeof define === \"function\" && define.amd) {\n",
       "      requirejs.config({paths});\n",
       "      require([\"vega-embed\"], displayChart, err => showError(`Error loading script: ${err.message}`));\n",
       "    } else {\n",
       "      maybeLoadScript(\"vega\", \"5\")\n",
       "        .then(() => maybeLoadScript(\"vega-lite\", \"4.17.0\"))\n",
       "        .then(() => maybeLoadScript(\"vega-embed\", \"6\"))\n",
       "        .catch(showError)\n",
       "        .then(() => displayChart(vegaEmbed));\n",
       "    }\n",
       "  })({\"config\": {\"view\": {\"continuousWidth\": 400, \"continuousHeight\": 300}}, \"layer\": [{\"mark\": {\"type\": \"arc\", \"innerRadius\": 20, \"stroke\": \"#fff\"}, \"encoding\": {\"color\": {\"field\": \"transport_mode\", \"type\": \"nominal\"}, \"radius\": {\"field\": \"total_value\", \"scale\": {\"rangeMin\": 20, \"type\": \"sqrt\", \"zero\": true}, \"type\": \"quantitative\"}, \"theta\": {\"field\": \"total_value\", \"stack\": true, \"type\": \"quantitative\"}}}, {\"mark\": {\"type\": \"text\", \"radiusOffset\": 10, \"size\": 13}, \"encoding\": {\"color\": {\"field\": \"transport_mode\", \"type\": \"nominal\"}, \"radius\": {\"field\": \"total_value\", \"scale\": {\"rangeMin\": 20, \"type\": \"sqrt\", \"zero\": true}, \"type\": \"quantitative\"}, \"text\": {\"field\": \"total_value\", \"format\": \".3s\", \"type\": \"quantitative\"}, \"theta\": {\"field\": \"total_value\", \"stack\": true, \"type\": \"quantitative\"}}}], \"data\": {\"name\": \"data-4a2f2a49acf4107ad6378f91cac985d9\"}, \"title\": \"Total de ingresos por ruta\", \"$schema\": \"https://vega.github.io/schema/vega-lite/v4.17.0.json\", \"datasets\": {\"data-4a2f2a49acf4107ad6378f91cac985d9\": [{\"transport_mode\": \"Sea\", \"total_value\": 100530622000}, {\"transport_mode\": \"Rail\", \"total_value\": 43628043000}, {\"transport_mode\": \"Air\", \"total_value\": 38262147000}, {\"transport_mode\": \"Road\", \"total_value\": 33270486000}]}}, {\"mode\": \"vega-lite\"});\n",
       "</script>"
      ],
      "text/plain": [
       "alt.LayerChart(...)"
      ]
     },
     "execution_count": 35,
     "metadata": {},
     "output_type": "execute_result"
    }
   ],
   "source": [
    "grafic_sales = alt.Chart(medios_transporte_sta_sales).encode(\n",
    "    theta=alt.Theta(\"total_value:Q\", stack=True),\n",
    "    radius=alt.Radius(\"total_value\", scale=alt.Scale(type=\"sqrt\", zero=True, rangeMin=20)),\n",
    "    color=\"transport_mode:N\",\n",
    ")\n",
    "\n",
    "c3 = grafic_sales.mark_arc(innerRadius=20, stroke=\"#fff\")\n",
    "\n",
    "c4 = grafic_sales.mark_text(radiusOffset=10,size=13).encode(text=alt.Text('total_value:Q', format = \".3s\"))\n",
    "\n",
    "(c3 + c4).properties(title=\"Total de ingresos por ruta\")"
   ]
  },
  {
   "cell_type": "code",
   "execution_count": 42,
   "metadata": {},
   "outputs": [
    {
     "data": {
      "text/html": [
       "\n",
       "<div id=\"altair-viz-dfcc767890154ff28557c2215ed64452\"></div>\n",
       "<script type=\"text/javascript\">\n",
       "  var VEGA_DEBUG = (typeof VEGA_DEBUG == \"undefined\") ? {} : VEGA_DEBUG;\n",
       "  (function(spec, embedOpt){\n",
       "    let outputDiv = document.currentScript.previousElementSibling;\n",
       "    if (outputDiv.id !== \"altair-viz-dfcc767890154ff28557c2215ed64452\") {\n",
       "      outputDiv = document.getElementById(\"altair-viz-dfcc767890154ff28557c2215ed64452\");\n",
       "    }\n",
       "    const paths = {\n",
       "      \"vega\": \"https://cdn.jsdelivr.net/npm//vega@5?noext\",\n",
       "      \"vega-lib\": \"https://cdn.jsdelivr.net/npm//vega-lib?noext\",\n",
       "      \"vega-lite\": \"https://cdn.jsdelivr.net/npm//vega-lite@4.17.0?noext\",\n",
       "      \"vega-embed\": \"https://cdn.jsdelivr.net/npm//vega-embed@6?noext\",\n",
       "    };\n",
       "\n",
       "    function maybeLoadScript(lib, version) {\n",
       "      var key = `${lib.replace(\"-\", \"\")}_version`;\n",
       "      return (VEGA_DEBUG[key] == version) ?\n",
       "        Promise.resolve(paths[lib]) :\n",
       "        new Promise(function(resolve, reject) {\n",
       "          var s = document.createElement('script');\n",
       "          document.getElementsByTagName(\"head\")[0].appendChild(s);\n",
       "          s.async = true;\n",
       "          s.onload = () => {\n",
       "            VEGA_DEBUG[key] = version;\n",
       "            return resolve(paths[lib]);\n",
       "          };\n",
       "          s.onerror = () => reject(`Error loading script: ${paths[lib]}`);\n",
       "          s.src = paths[lib];\n",
       "        });\n",
       "    }\n",
       "\n",
       "    function showError(err) {\n",
       "      outputDiv.innerHTML = `<div class=\"error\" style=\"color:red;\">${err}</div>`;\n",
       "      throw err;\n",
       "    }\n",
       "\n",
       "    function displayChart(vegaEmbed) {\n",
       "      vegaEmbed(outputDiv, spec, embedOpt)\n",
       "        .catch(err => showError(`Javascript Error: ${err.message}<br>This usually means there's a typo in your chart specification. See the javascript console for the full traceback.`));\n",
       "    }\n",
       "\n",
       "    if(typeof define === \"function\" && define.amd) {\n",
       "      requirejs.config({paths});\n",
       "      require([\"vega-embed\"], displayChart, err => showError(`Error loading script: ${err.message}`));\n",
       "    } else {\n",
       "      maybeLoadScript(\"vega\", \"5\")\n",
       "        .then(() => maybeLoadScript(\"vega-lite\", \"4.17.0\"))\n",
       "        .then(() => maybeLoadScript(\"vega-embed\", \"6\"))\n",
       "        .catch(showError)\n",
       "        .then(() => displayChart(vegaEmbed));\n",
       "    }\n",
       "  })({\"config\": {\"view\": {\"continuousWidth\": 400, \"continuousHeight\": 300}}, \"layer\": [{\"mark\": \"bar\", \"encoding\": {\"color\": {\"field\": \"total_value\", \"legend\": {\"title\": \"Ingresos\"}, \"scale\": {\"scheme\": \"goldgreen\", \"type\": \"sqrt\"}, \"type\": \"quantitative\"}, \"x\": {\"field\": \"transport_mode\", \"sort\": [\"Porcentaje_apoyo_sales\"], \"title\": \"Pais de origen \", \"type\": \"nominal\"}, \"y\": {\"field\": \"total_value\", \"title\": \"Ingresos totales\", \"type\": \"quantitative\"}}, \"selection\": {\"selector004\": {\"type\": \"interval\", \"bind\": \"scales\", \"encodings\": [\"x\", \"y\"]}}}, {\"mark\": {\"type\": \"text\", \"align\": \"center\", \"dx\": 15, \"size\": 15}, \"encoding\": {\"text\": {\"field\": \"total_value\", \"format\": \".3s\", \"type\": \"quantitative\"}, \"x\": {\"field\": \"transport_mode\", \"sort\": [\"total_value\"], \"type\": \"nominal\"}, \"y\": {\"axis\": {\"format\": \".2s\"}, \"field\": \"total_value\", \"stack\": null, \"type\": \"quantitative\"}}}], \"data\": {\"name\": \"data-8b0b71990e41843f43ce3cc04d026373\"}, \"title\": \"Ingresos promedio por tipo de ruta\", \"width\": 300, \"$schema\": \"https://vega.github.io/schema/vega-lite/v4.17.0.json\", \"datasets\": {\"data-8b0b71990e41843f43ce3cc04d026373\": [{\"transport_mode\": \"Air\", \"total_value\": 16015967.76894098}, {\"transport_mode\": \"Rail\", \"total_value\": 12903887.311446318}, {\"transport_mode\": \"Road\", \"total_value\": 12806191.68591224}, {\"transport_mode\": \"Sea\", \"total_value\": 9405933.944610778}]}}, {\"mode\": \"vega-lite\"});\n",
       "</script>"
      ],
      "text/plain": [
       "alt.LayerChart(...)"
      ]
     },
     "execution_count": 42,
     "metadata": {},
     "output_type": "execute_result"
    }
   ],
   "source": [
    "\n",
    "line = alt.Chart(medios_transporte_sta_sales_mean).mark_bar().encode(\n",
    "    x=alt.X('transport_mode' , title='Pais de origen ',sort=alt.SortArray(['Porcentaje_apoyo_sales'])),\n",
    "    y=alt.Y('total_value', title='Ingresos totales'),\n",
    "    color=alt.Color(\"total_value\", legend=alt.Legend(title=\"Ingresos\"),scale=alt.Scale(scheme='goldgreen',type= 'sqrt')),   \n",
    ")\n",
    "\n",
    "area= alt.Chart(medios_transporte_sta_sales_mean).mark_area(opacity=0.3).encode(\n",
    "    x=alt.X('transport_mode',sort=alt.SortArray(['total_value'])),\n",
    "    y=alt.Y('total_value',stack=None,axis=alt.Axis(format=\".2s\") )\n",
    "    # color=\"product\"\n",
    ").mark_text(align='center',dx=15,size=15).encode(text = alt.Text('total_value:Q', format = \".3s\"))\n",
    "\n",
    "(line + area ).properties(width=300, title=\"Ingresos promedio por tipo de ruta\").interactive()\n",
    "\n"
   ]
  },
  {
   "cell_type": "markdown",
   "metadata": {},
   "source": [
    "dataframes de estadisticas de precio por producto tipo envio y año"
   ]
  },
  {
   "cell_type": "code",
   "execution_count": 95,
   "metadata": {},
   "outputs": [
    {
     "name": "stdout",
     "output_type": "stream",
     "text": [
      "Numero de rutas por tipo de transporte\n",
      "    year transport_mode  register_id\n",
      "0   2016            Sea         2004\n",
      "1   2020            Sea         1902\n",
      "2   2017            Sea         1874\n",
      "3   2019            Sea         1813\n",
      "4   2015            Sea         1619\n",
      "5   2018            Sea         1476\n",
      "6   2018           Rail          749\n",
      "7   2019           Road          668\n",
      "8   2017           Rail          660\n",
      "9   2015           Road          609\n",
      "10  2020           Rail          582\n",
      "11  2018           Road          556\n",
      "12  2015           Rail          542\n",
      "13  2017            Air          536\n",
      "14  2016           Rail          507\n",
      "15  2015            Air          417\n",
      "16  2018            Air          399\n",
      "17  2020            Air          361\n",
      "18  2019            Air          358\n",
      "19  2016           Road          344\n",
      "20  2019           Rail          341\n",
      "21  2016            Air          318\n",
      "22  2020           Road          310\n",
      "23  2017           Road          111 \n",
      "\n",
      "Ingresos por tipo de transporte\n",
      "Promedi de ingreso por rutra y tipo de transporte \n"
     ]
    }
   ],
   "source": [
    "medios_transporte_sta_obj = testDataframe.groupby(['year','transport_mode']).count()['register_id'].sort_values(ascending=False)\n",
    "print(\"Numero de rutas por tipo de transporte\")\n",
    "medios_transporte_sta_obj_DF = pd.DataFrame(medios_transporte_sta_obj).reset_index()\n",
    "print(medios_transporte_sta_obj_DF,\"\\n\")\n",
    "\n",
    "\n",
    "# Ingresos por tipo de transporte \n",
    "medios_transporte_sta_sales_obj = testDataframe.groupby(['year','transport_mode']).sum()['total_value'].sort_values(ascending=True)\n",
    "print(\"Ingresos por tipo de transporte\")\n",
    "medios_transporte_sta_sales_obj_DF = pd.DataFrame(medios_transporte_sta_sales_obj).reset_index()\n",
    "# print(medios_transporte_sta_sales_obj_DF,\"\\n\")\n",
    "#  .mean()\n",
    "\n",
    "medios_transporte_sta_sales_mean_obj = testDataframe.groupby(['year','transport_mode']).mean()['total_value'].sort_values(ascending=False)\n",
    "medios_transporte_sta_sales_mean_obj_DF = pd.DataFrame(medios_transporte_sta_sales_mean_obj).reset_index()\n",
    "print(\"Promedi de ingreso por rutra y tipo de transporte \")\n",
    "#print(medios_transporte_sta_sales_mean_obj_DF,\"\\n\")\n"
   ]
  },
  {
   "cell_type": "code",
   "execution_count": 118,
   "metadata": {},
   "outputs": [
    {
     "data": {
      "text/html": [
       "\n",
       "<div id=\"altair-viz-90efb281843f4e7d824f0e9e189bc10a\"></div>\n",
       "<script type=\"text/javascript\">\n",
       "  var VEGA_DEBUG = (typeof VEGA_DEBUG == \"undefined\") ? {} : VEGA_DEBUG;\n",
       "  (function(spec, embedOpt){\n",
       "    let outputDiv = document.currentScript.previousElementSibling;\n",
       "    if (outputDiv.id !== \"altair-viz-90efb281843f4e7d824f0e9e189bc10a\") {\n",
       "      outputDiv = document.getElementById(\"altair-viz-90efb281843f4e7d824f0e9e189bc10a\");\n",
       "    }\n",
       "    const paths = {\n",
       "      \"vega\": \"https://cdn.jsdelivr.net/npm//vega@5?noext\",\n",
       "      \"vega-lib\": \"https://cdn.jsdelivr.net/npm//vega-lib?noext\",\n",
       "      \"vega-lite\": \"https://cdn.jsdelivr.net/npm//vega-lite@4.17.0?noext\",\n",
       "      \"vega-embed\": \"https://cdn.jsdelivr.net/npm//vega-embed@6?noext\",\n",
       "    };\n",
       "\n",
       "    function maybeLoadScript(lib, version) {\n",
       "      var key = `${lib.replace(\"-\", \"\")}_version`;\n",
       "      return (VEGA_DEBUG[key] == version) ?\n",
       "        Promise.resolve(paths[lib]) :\n",
       "        new Promise(function(resolve, reject) {\n",
       "          var s = document.createElement('script');\n",
       "          document.getElementsByTagName(\"head\")[0].appendChild(s);\n",
       "          s.async = true;\n",
       "          s.onload = () => {\n",
       "            VEGA_DEBUG[key] = version;\n",
       "            return resolve(paths[lib]);\n",
       "          };\n",
       "          s.onerror = () => reject(`Error loading script: ${paths[lib]}`);\n",
       "          s.src = paths[lib];\n",
       "        });\n",
       "    }\n",
       "\n",
       "    function showError(err) {\n",
       "      outputDiv.innerHTML = `<div class=\"error\" style=\"color:red;\">${err}</div>`;\n",
       "      throw err;\n",
       "    }\n",
       "\n",
       "    function displayChart(vegaEmbed) {\n",
       "      vegaEmbed(outputDiv, spec, embedOpt)\n",
       "        .catch(err => showError(`Javascript Error: ${err.message}<br>This usually means there's a typo in your chart specification. See the javascript console for the full traceback.`));\n",
       "    }\n",
       "\n",
       "    if(typeof define === \"function\" && define.amd) {\n",
       "      requirejs.config({paths});\n",
       "      require([\"vega-embed\"], displayChart, err => showError(`Error loading script: ${err.message}`));\n",
       "    } else {\n",
       "      maybeLoadScript(\"vega\", \"5\")\n",
       "        .then(() => maybeLoadScript(\"vega-lite\", \"4.17.0\"))\n",
       "        .then(() => maybeLoadScript(\"vega-embed\", \"6\"))\n",
       "        .catch(showError)\n",
       "        .then(() => displayChart(vegaEmbed));\n",
       "    }\n",
       "  })({\"config\": {\"view\": {\"continuousWidth\": 400, \"continuousHeight\": 300}}, \"hconcat\": [{\"layer\": [{\"mark\": \"line\", \"encoding\": {\"color\": {\"field\": \"transport_mode\", \"legend\": {\"title\": \"Tipo transporte\"}, \"scale\": {\"scheme\": \"dark2\", \"type\": \"sqrt\"}, \"type\": \"nominal\"}, \"tooltip\": [{\"field\": \"year\", \"type\": \"quantitative\"}, {\"field\": \"transport_mode\", \"type\": \"nominal\"}, {\"field\": \"total_value\", \"type\": \"quantitative\"}], \"x\": {\"field\": \"year\", \"scale\": {\"zero\": false}, \"sort\": \"x\", \"title\": \"A\\u00f1o\", \"type\": \"ordinal\"}, \"y\": {\"axis\": {\"format\": \".3s\"}, \"field\": \"total_value\", \"scale\": {\"padding\": 3, \"zero\": false}, \"title\": \"Ingresos\", \"type\": \"quantitative\"}}, \"selection\": {\"selector058\": {\"type\": \"interval\", \"bind\": \"scales\", \"encodings\": [\"x\", \"y\"]}}}, {\"mark\": {\"type\": \"text\", \"align\": \"center\", \"baseline\": \"top\", \"dx\": 15, \"size\": 13}, \"encoding\": {\"color\": {\"field\": \"transport_mode\", \"legend\": {\"title\": \"Tipo transporte\"}, \"scale\": {\"scheme\": \"dark2\", \"type\": \"sqrt\"}, \"type\": \"nominal\"}, \"text\": {\"field\": \"total_value\", \"format\": \".3s\", \"type\": \"quantitative\"}, \"tooltip\": [{\"field\": \"year\", \"type\": \"quantitative\"}, {\"field\": \"transport_mode\", \"type\": \"nominal\"}, {\"field\": \"total_value\", \"type\": \"quantitative\"}], \"x\": {\"field\": \"year\", \"scale\": {\"zero\": false}, \"sort\": \"x\", \"title\": \"A\\u00f1o\", \"type\": \"ordinal\"}, \"y\": {\"axis\": {\"format\": \".3s\"}, \"field\": \"total_value\", \"scale\": {\"padding\": 3, \"zero\": false}, \"title\": \"Ingresos\", \"type\": \"quantitative\"}}}], \"data\": {\"name\": \"data-75ce12345472eaa3dcde172e6ad815c3\"}, \"title\": \"Historial de numero de rutas por tipo de transporte\", \"width\": 600}, {\"layer\": [{\"mark\": \"line\", \"encoding\": {\"color\": {\"field\": \"transport_mode\", \"legend\": {\"title\": \"Tipo transporte\"}, \"scale\": {\"scheme\": \"dark2\", \"type\": \"sqrt\"}, \"type\": \"nominal\"}, \"tooltip\": [{\"field\": \"year\", \"type\": \"quantitative\"}, {\"field\": \"transport_mode\", \"type\": \"nominal\"}, {\"field\": \"register_id\", \"type\": \"quantitative\"}], \"x\": {\"field\": \"year\", \"scale\": {\"zero\": false}, \"sort\": \"x\", \"title\": \"A\\u00f1o \", \"type\": \"ordinal\"}, \"y\": {\"axis\": {\"format\": \".3s\"}, \"field\": \"register_id\", \"scale\": {\"padding\": 3, \"zero\": false}, \"title\": \"Numero de rutas\", \"type\": \"quantitative\"}}, \"selection\": {\"selector059\": {\"type\": \"interval\", \"bind\": \"scales\", \"encodings\": [\"x\", \"y\"]}}}, {\"mark\": {\"type\": \"text\", \"align\": \"center\", \"baseline\": \"top\", \"dx\": 15, \"size\": 13}, \"encoding\": {\"color\": {\"field\": \"transport_mode\", \"legend\": {\"title\": \"Tipo transporte\"}, \"scale\": {\"scheme\": \"dark2\", \"type\": \"sqrt\"}, \"type\": \"nominal\"}, \"text\": {\"field\": \"register_id\", \"format\": \".3s\", \"type\": \"quantitative\"}, \"tooltip\": [{\"field\": \"year\", \"type\": \"quantitative\"}, {\"field\": \"transport_mode\", \"type\": \"nominal\"}, {\"field\": \"register_id\", \"type\": \"quantitative\"}], \"x\": {\"field\": \"year\", \"scale\": {\"zero\": false}, \"sort\": \"x\", \"title\": \"A\\u00f1o \", \"type\": \"ordinal\"}, \"y\": {\"axis\": {\"format\": \".3s\"}, \"field\": \"register_id\", \"scale\": {\"padding\": 3, \"zero\": false}, \"title\": \"Numero de rutas\", \"type\": \"quantitative\"}}}], \"data\": {\"name\": \"data-135bdc6c14f27e9f224fa4b3d82772b0\"}, \"title\": \"Historial de ingresos por tipo de transporte\", \"width\": 600}], \"$schema\": \"https://vega.github.io/schema/vega-lite/v4.17.0.json\", \"datasets\": {\"data-75ce12345472eaa3dcde172e6ad815c3\": [{\"year\": 2017, \"transport_mode\": \"Road\", \"total_value\": 2042000000}, {\"year\": 2018, \"transport_mode\": \"Air\", \"total_value\": 2457374000}, {\"year\": 2020, \"transport_mode\": \"Road\", \"total_value\": 3053088000}, {\"year\": 2016, \"transport_mode\": \"Air\", \"total_value\": 3459111000}, {\"year\": 2015, \"transport_mode\": \"Rail\", \"total_value\": 4437488000}, {\"year\": 2019, \"transport_mode\": \"Rail\", \"total_value\": 4684366000}, {\"year\": 2016, \"transport_mode\": \"Road\", \"total_value\": 4710088000}, {\"year\": 2016, \"transport_mode\": \"Rail\", \"total_value\": 5479198000}, {\"year\": 2018, \"transport_mode\": \"Road\", \"total_value\": 6502062000}, {\"year\": 2015, \"transport_mode\": \"Air\", \"total_value\": 7023000000}, {\"year\": 2020, \"transport_mode\": \"Air\", \"total_value\": 7219599000}, {\"year\": 2015, \"transport_mode\": \"Road\", \"total_value\": 8231077000}, {\"year\": 2017, \"transport_mode\": \"Rail\", \"total_value\": 8483234000}, {\"year\": 2019, \"transport_mode\": \"Road\", \"total_value\": 8732171000}, {\"year\": 2019, \"transport_mode\": \"Air\", \"total_value\": 9037995000}, {\"year\": 2017, \"transport_mode\": \"Air\", \"total_value\": 9065068000}, {\"year\": 2020, \"transport_mode\": \"Rail\", \"total_value\": 9911363000}, {\"year\": 2018, \"transport_mode\": \"Rail\", \"total_value\": 10632394000}, {\"year\": 2015, \"transport_mode\": \"Sea\", \"total_value\": 11306827000}, {\"year\": 2017, \"transport_mode\": \"Sea\", \"total_value\": 14838463000}, {\"year\": 2018, \"transport_mode\": \"Sea\", \"total_value\": 17542148000}, {\"year\": 2019, \"transport_mode\": \"Sea\", \"total_value\": 18486953000}, {\"year\": 2016, \"transport_mode\": \"Sea\", \"total_value\": 18500041000}, {\"year\": 2020, \"transport_mode\": \"Sea\", \"total_value\": 19856190000}], \"data-135bdc6c14f27e9f224fa4b3d82772b0\": [{\"year\": 2016, \"transport_mode\": \"Sea\", \"register_id\": 2004}, {\"year\": 2020, \"transport_mode\": \"Sea\", \"register_id\": 1902}, {\"year\": 2017, \"transport_mode\": \"Sea\", \"register_id\": 1874}, {\"year\": 2019, \"transport_mode\": \"Sea\", \"register_id\": 1813}, {\"year\": 2015, \"transport_mode\": \"Sea\", \"register_id\": 1619}, {\"year\": 2018, \"transport_mode\": \"Sea\", \"register_id\": 1476}, {\"year\": 2018, \"transport_mode\": \"Rail\", \"register_id\": 749}, {\"year\": 2019, \"transport_mode\": \"Road\", \"register_id\": 668}, {\"year\": 2017, \"transport_mode\": \"Rail\", \"register_id\": 660}, {\"year\": 2015, \"transport_mode\": \"Road\", \"register_id\": 609}, {\"year\": 2020, \"transport_mode\": \"Rail\", \"register_id\": 582}, {\"year\": 2018, \"transport_mode\": \"Road\", \"register_id\": 556}, {\"year\": 2015, \"transport_mode\": \"Rail\", \"register_id\": 542}, {\"year\": 2017, \"transport_mode\": \"Air\", \"register_id\": 536}, {\"year\": 2016, \"transport_mode\": \"Rail\", \"register_id\": 507}, {\"year\": 2015, \"transport_mode\": \"Air\", \"register_id\": 417}, {\"year\": 2018, \"transport_mode\": \"Air\", \"register_id\": 399}, {\"year\": 2020, \"transport_mode\": \"Air\", \"register_id\": 361}, {\"year\": 2019, \"transport_mode\": \"Air\", \"register_id\": 358}, {\"year\": 2016, \"transport_mode\": \"Road\", \"register_id\": 344}, {\"year\": 2019, \"transport_mode\": \"Rail\", \"register_id\": 341}, {\"year\": 2016, \"transport_mode\": \"Air\", \"register_id\": 318}, {\"year\": 2020, \"transport_mode\": \"Road\", \"register_id\": 310}, {\"year\": 2017, \"transport_mode\": \"Road\", \"register_id\": 111}]}}, {\"mode\": \"vega-lite\"});\n",
       "</script>"
      ],
      "text/plain": [
       "alt.HConcatChart(...)"
      ]
     },
     "execution_count": 118,
     "metadata": {},
     "output_type": "execute_result"
    }
   ],
   "source": [
    "# grafica de ingresos por tipo de transporte 2015-2020\n",
    "bars_sales = alt.Chart(medios_transporte_sta_sales_obj_DF).mark_line().encode(\n",
    "    x=alt.X('year:O',title='Año',scale=alt.Scale(zero=False),sort='x'),\n",
    "    y=alt.Y('total_value', title = \"Ingresos\",scale=alt.Scale(zero=False, padding=3),axis=alt.Axis(format = \".3s\")),\n",
    "    color=alt.Color(\"transport_mode\", legend=alt.Legend(title=\"Tipo transporte\"),scale=alt.Scale(scheme='dark2',type= 'sqrt')),\n",
    "    tooltip=['year','transport_mode', 'total_value'],\n",
    ")\n",
    "# text = alt.Chart(medios_transporte_sta_sales_obj_DF).mark_text(align='center',dx=15,size=15).encode(text = alt.Text('total_value:Q', format = \".3s\"))\n",
    "text_sales = bars_sales.mark_text(\n",
    "    align='center',\n",
    "    baseline='top',\n",
    "    dx=15,\n",
    "    size=13 \n",
    ").encode(text = alt.Text('total_value:Q', format = \".3s\"))\n",
    "\n",
    "# Grafica de numero de rutas por tipo de transporte 2015-2020\n",
    "bars_count = alt.Chart(medios_transporte_sta_obj_DF).mark_line().encode(\n",
    "    x=alt.X('year:O',title='Año ',scale=alt.Scale(zero=False),sort='x'),\n",
    "    y=alt.Y('register_id', title = \"Numero de rutas\",scale=alt.Scale(zero=False, padding=3),axis=alt.Axis(format = \".3s\")),\n",
    "    color=alt.Color(\"transport_mode\", legend=alt.Legend(title=\"Tipo transporte\"),scale=alt.Scale(scheme='dark2',type= 'sqrt')),\n",
    "    tooltip=['year','transport_mode', 'register_id'],\n",
    ")\n",
    "\n",
    "text_count = bars_count.mark_text(\n",
    "    align='center',\n",
    "    baseline='top',\n",
    "    dx=15,\n",
    "    size=13 \n",
    ").encode(text = alt.Text('register_id:Q', format = \".3s\"))\n",
    "\n",
    "(bars_sales + text_sales).properties(width=600,title='Historial de numero de rutas por tipo de transporte').interactive() |(bars_count + text_count).properties(width=600,title='Historial de ingresos por tipo de transporte').interactive()"
   ]
  },
  {
   "cell_type": "markdown",
   "metadata": {},
   "source": [
    "#### Historial de las ventas por mes y por cada año segun el tipo de transporte"
   ]
  },
  {
   "cell_type": "code",
   "execution_count": 204,
   "metadata": {},
   "outputs": [
    {
     "name": "stdout",
     "output_type": "stream",
     "text": [
      "['year' 'month' 'transport_mode' 'register_id']\n"
     ]
    },
    {
     "ename": "ValueError",
     "evalue": "yearmonthtransport_moderegister_id encoding field is specified without a type; the type cannot be inferred because it does not match any column in the data.",
     "output_type": "error",
     "traceback": [
      "\u001b[1;31m---------------------------------------------------------------------------\u001b[0m",
      "\u001b[1;31mValueError\u001b[0m                                Traceback (most recent call last)",
      "\u001b[1;32m~\\AppData\\Local\\Programs\\Python\\Python39\\lib\\site-packages\\altair\\vegalite\\v4\\api.py\u001b[0m in \u001b[0;36mto_dict\u001b[1;34m(self, *args, **kwargs)\u001b[0m\n\u001b[0;32m   2018\u001b[0m             \u001b[0mcopy\u001b[0m\u001b[1;33m.\u001b[0m\u001b[0mdata\u001b[0m \u001b[1;33m=\u001b[0m \u001b[0mcore\u001b[0m\u001b[1;33m.\u001b[0m\u001b[0mInlineData\u001b[0m\u001b[1;33m(\u001b[0m\u001b[0mvalues\u001b[0m\u001b[1;33m=\u001b[0m\u001b[1;33m[\u001b[0m\u001b[1;33m{\u001b[0m\u001b[1;33m}\u001b[0m\u001b[1;33m]\u001b[0m\u001b[1;33m)\u001b[0m\u001b[1;33m\u001b[0m\u001b[1;33m\u001b[0m\u001b[0m\n\u001b[0;32m   2019\u001b[0m             \u001b[1;32mreturn\u001b[0m \u001b[0msuper\u001b[0m\u001b[1;33m(\u001b[0m\u001b[0mChart\u001b[0m\u001b[1;33m,\u001b[0m \u001b[0mcopy\u001b[0m\u001b[1;33m)\u001b[0m\u001b[1;33m.\u001b[0m\u001b[0mto_dict\u001b[0m\u001b[1;33m(\u001b[0m\u001b[1;33m*\u001b[0m\u001b[0margs\u001b[0m\u001b[1;33m,\u001b[0m \u001b[1;33m**\u001b[0m\u001b[0mkwargs\u001b[0m\u001b[1;33m)\u001b[0m\u001b[1;33m\u001b[0m\u001b[1;33m\u001b[0m\u001b[0m\n\u001b[1;32m-> 2020\u001b[1;33m         \u001b[1;32mreturn\u001b[0m \u001b[0msuper\u001b[0m\u001b[1;33m(\u001b[0m\u001b[1;33m)\u001b[0m\u001b[1;33m.\u001b[0m\u001b[0mto_dict\u001b[0m\u001b[1;33m(\u001b[0m\u001b[1;33m*\u001b[0m\u001b[0margs\u001b[0m\u001b[1;33m,\u001b[0m \u001b[1;33m**\u001b[0m\u001b[0mkwargs\u001b[0m\u001b[1;33m)\u001b[0m\u001b[1;33m\u001b[0m\u001b[1;33m\u001b[0m\u001b[0m\n\u001b[0m\u001b[0;32m   2021\u001b[0m \u001b[1;33m\u001b[0m\u001b[0m\n\u001b[0;32m   2022\u001b[0m     \u001b[1;32mdef\u001b[0m \u001b[0madd_selection\u001b[0m\u001b[1;33m(\u001b[0m\u001b[0mself\u001b[0m\u001b[1;33m,\u001b[0m \u001b[1;33m*\u001b[0m\u001b[0mselections\u001b[0m\u001b[1;33m)\u001b[0m\u001b[1;33m:\u001b[0m\u001b[1;33m\u001b[0m\u001b[1;33m\u001b[0m\u001b[0m\n",
      "\u001b[1;32m~\\AppData\\Local\\Programs\\Python\\Python39\\lib\\site-packages\\altair\\vegalite\\v4\\api.py\u001b[0m in \u001b[0;36mto_dict\u001b[1;34m(self, *args, **kwargs)\u001b[0m\n\u001b[0;32m    382\u001b[0m \u001b[1;33m\u001b[0m\u001b[0m\n\u001b[0;32m    383\u001b[0m         \u001b[1;32mtry\u001b[0m\u001b[1;33m:\u001b[0m\u001b[1;33m\u001b[0m\u001b[1;33m\u001b[0m\u001b[0m\n\u001b[1;32m--> 384\u001b[1;33m             \u001b[0mdct\u001b[0m \u001b[1;33m=\u001b[0m \u001b[0msuper\u001b[0m\u001b[1;33m(\u001b[0m\u001b[0mTopLevelMixin\u001b[0m\u001b[1;33m,\u001b[0m \u001b[0mcopy\u001b[0m\u001b[1;33m)\u001b[0m\u001b[1;33m.\u001b[0m\u001b[0mto_dict\u001b[0m\u001b[1;33m(\u001b[0m\u001b[1;33m*\u001b[0m\u001b[0margs\u001b[0m\u001b[1;33m,\u001b[0m \u001b[1;33m**\u001b[0m\u001b[0mkwargs\u001b[0m\u001b[1;33m)\u001b[0m\u001b[1;33m\u001b[0m\u001b[1;33m\u001b[0m\u001b[0m\n\u001b[0m\u001b[0;32m    385\u001b[0m         \u001b[1;32mexcept\u001b[0m \u001b[0mjsonschema\u001b[0m\u001b[1;33m.\u001b[0m\u001b[0mValidationError\u001b[0m\u001b[1;33m:\u001b[0m\u001b[1;33m\u001b[0m\u001b[1;33m\u001b[0m\u001b[0m\n\u001b[0;32m    386\u001b[0m             \u001b[0mdct\u001b[0m \u001b[1;33m=\u001b[0m \u001b[1;32mNone\u001b[0m\u001b[1;33m\u001b[0m\u001b[1;33m\u001b[0m\u001b[0m\n",
      "\u001b[1;32m~\\AppData\\Local\\Programs\\Python\\Python39\\lib\\site-packages\\altair\\utils\\schemapi.py\u001b[0m in \u001b[0;36mto_dict\u001b[1;34m(self, validate, ignore, context)\u001b[0m\n\u001b[0;32m    324\u001b[0m             \u001b[0mresult\u001b[0m \u001b[1;33m=\u001b[0m \u001b[0m_todict\u001b[0m\u001b[1;33m(\u001b[0m\u001b[0mself\u001b[0m\u001b[1;33m.\u001b[0m\u001b[0m_args\u001b[0m\u001b[1;33m[\u001b[0m\u001b[1;36m0\u001b[0m\u001b[1;33m]\u001b[0m\u001b[1;33m,\u001b[0m \u001b[0mvalidate\u001b[0m\u001b[1;33m=\u001b[0m\u001b[0msub_validate\u001b[0m\u001b[1;33m,\u001b[0m \u001b[0mcontext\u001b[0m\u001b[1;33m=\u001b[0m\u001b[0mcontext\u001b[0m\u001b[1;33m)\u001b[0m\u001b[1;33m\u001b[0m\u001b[1;33m\u001b[0m\u001b[0m\n\u001b[0;32m    325\u001b[0m         \u001b[1;32melif\u001b[0m \u001b[1;32mnot\u001b[0m \u001b[0mself\u001b[0m\u001b[1;33m.\u001b[0m\u001b[0m_args\u001b[0m\u001b[1;33m:\u001b[0m\u001b[1;33m\u001b[0m\u001b[1;33m\u001b[0m\u001b[0m\n\u001b[1;32m--> 326\u001b[1;33m             result = _todict(\n\u001b[0m\u001b[0;32m    327\u001b[0m                 \u001b[1;33m{\u001b[0m\u001b[0mk\u001b[0m\u001b[1;33m:\u001b[0m \u001b[0mv\u001b[0m \u001b[1;32mfor\u001b[0m \u001b[0mk\u001b[0m\u001b[1;33m,\u001b[0m \u001b[0mv\u001b[0m \u001b[1;32min\u001b[0m \u001b[0mself\u001b[0m\u001b[1;33m.\u001b[0m\u001b[0m_kwds\u001b[0m\u001b[1;33m.\u001b[0m\u001b[0mitems\u001b[0m\u001b[1;33m(\u001b[0m\u001b[1;33m)\u001b[0m \u001b[1;32mif\u001b[0m \u001b[0mk\u001b[0m \u001b[1;32mnot\u001b[0m \u001b[1;32min\u001b[0m \u001b[0mignore\u001b[0m\u001b[1;33m}\u001b[0m\u001b[1;33m,\u001b[0m\u001b[1;33m\u001b[0m\u001b[1;33m\u001b[0m\u001b[0m\n\u001b[0;32m    328\u001b[0m                 \u001b[0mvalidate\u001b[0m\u001b[1;33m=\u001b[0m\u001b[0msub_validate\u001b[0m\u001b[1;33m,\u001b[0m\u001b[1;33m\u001b[0m\u001b[1;33m\u001b[0m\u001b[0m\n",
      "\u001b[1;32m~\\AppData\\Local\\Programs\\Python\\Python39\\lib\\site-packages\\altair\\utils\\schemapi.py\u001b[0m in \u001b[0;36m_todict\u001b[1;34m(obj, validate, context)\u001b[0m\n\u001b[0;32m     58\u001b[0m         \u001b[1;32mreturn\u001b[0m \u001b[1;33m[\u001b[0m\u001b[0m_todict\u001b[0m\u001b[1;33m(\u001b[0m\u001b[0mv\u001b[0m\u001b[1;33m,\u001b[0m \u001b[0mvalidate\u001b[0m\u001b[1;33m,\u001b[0m \u001b[0mcontext\u001b[0m\u001b[1;33m)\u001b[0m \u001b[1;32mfor\u001b[0m \u001b[0mv\u001b[0m \u001b[1;32min\u001b[0m \u001b[0mobj\u001b[0m\u001b[1;33m]\u001b[0m\u001b[1;33m\u001b[0m\u001b[1;33m\u001b[0m\u001b[0m\n\u001b[0;32m     59\u001b[0m     \u001b[1;32melif\u001b[0m \u001b[0misinstance\u001b[0m\u001b[1;33m(\u001b[0m\u001b[0mobj\u001b[0m\u001b[1;33m,\u001b[0m \u001b[0mdict\u001b[0m\u001b[1;33m)\u001b[0m\u001b[1;33m:\u001b[0m\u001b[1;33m\u001b[0m\u001b[1;33m\u001b[0m\u001b[0m\n\u001b[1;32m---> 60\u001b[1;33m         return {\n\u001b[0m\u001b[0;32m     61\u001b[0m             \u001b[0mk\u001b[0m\u001b[1;33m:\u001b[0m \u001b[0m_todict\u001b[0m\u001b[1;33m(\u001b[0m\u001b[0mv\u001b[0m\u001b[1;33m,\u001b[0m \u001b[0mvalidate\u001b[0m\u001b[1;33m,\u001b[0m \u001b[0mcontext\u001b[0m\u001b[1;33m)\u001b[0m\u001b[1;33m\u001b[0m\u001b[1;33m\u001b[0m\u001b[0m\n\u001b[0;32m     62\u001b[0m             \u001b[1;32mfor\u001b[0m \u001b[0mk\u001b[0m\u001b[1;33m,\u001b[0m \u001b[0mv\u001b[0m \u001b[1;32min\u001b[0m \u001b[0mobj\u001b[0m\u001b[1;33m.\u001b[0m\u001b[0mitems\u001b[0m\u001b[1;33m(\u001b[0m\u001b[1;33m)\u001b[0m\u001b[1;33m\u001b[0m\u001b[1;33m\u001b[0m\u001b[0m\n",
      "\u001b[1;32m~\\AppData\\Local\\Programs\\Python\\Python39\\lib\\site-packages\\altair\\utils\\schemapi.py\u001b[0m in \u001b[0;36m<dictcomp>\u001b[1;34m(.0)\u001b[0m\n\u001b[0;32m     59\u001b[0m     \u001b[1;32melif\u001b[0m \u001b[0misinstance\u001b[0m\u001b[1;33m(\u001b[0m\u001b[0mobj\u001b[0m\u001b[1;33m,\u001b[0m \u001b[0mdict\u001b[0m\u001b[1;33m)\u001b[0m\u001b[1;33m:\u001b[0m\u001b[1;33m\u001b[0m\u001b[1;33m\u001b[0m\u001b[0m\n\u001b[0;32m     60\u001b[0m         return {\n\u001b[1;32m---> 61\u001b[1;33m             \u001b[0mk\u001b[0m\u001b[1;33m:\u001b[0m \u001b[0m_todict\u001b[0m\u001b[1;33m(\u001b[0m\u001b[0mv\u001b[0m\u001b[1;33m,\u001b[0m \u001b[0mvalidate\u001b[0m\u001b[1;33m,\u001b[0m \u001b[0mcontext\u001b[0m\u001b[1;33m)\u001b[0m\u001b[1;33m\u001b[0m\u001b[1;33m\u001b[0m\u001b[0m\n\u001b[0m\u001b[0;32m     62\u001b[0m             \u001b[1;32mfor\u001b[0m \u001b[0mk\u001b[0m\u001b[1;33m,\u001b[0m \u001b[0mv\u001b[0m \u001b[1;32min\u001b[0m \u001b[0mobj\u001b[0m\u001b[1;33m.\u001b[0m\u001b[0mitems\u001b[0m\u001b[1;33m(\u001b[0m\u001b[1;33m)\u001b[0m\u001b[1;33m\u001b[0m\u001b[1;33m\u001b[0m\u001b[0m\n\u001b[0;32m     63\u001b[0m             \u001b[1;32mif\u001b[0m \u001b[0mv\u001b[0m \u001b[1;32mis\u001b[0m \u001b[1;32mnot\u001b[0m \u001b[0mUndefined\u001b[0m\u001b[1;33m\u001b[0m\u001b[1;33m\u001b[0m\u001b[0m\n",
      "\u001b[1;32m~\\AppData\\Local\\Programs\\Python\\Python39\\lib\\site-packages\\altair\\utils\\schemapi.py\u001b[0m in \u001b[0;36m_todict\u001b[1;34m(obj, validate, context)\u001b[0m\n\u001b[0;32m     54\u001b[0m     \u001b[1;34m\"\"\"Convert an object to a dict representation.\"\"\"\u001b[0m\u001b[1;33m\u001b[0m\u001b[1;33m\u001b[0m\u001b[0m\n\u001b[0;32m     55\u001b[0m     \u001b[1;32mif\u001b[0m \u001b[0misinstance\u001b[0m\u001b[1;33m(\u001b[0m\u001b[0mobj\u001b[0m\u001b[1;33m,\u001b[0m \u001b[0mSchemaBase\u001b[0m\u001b[1;33m)\u001b[0m\u001b[1;33m:\u001b[0m\u001b[1;33m\u001b[0m\u001b[1;33m\u001b[0m\u001b[0m\n\u001b[1;32m---> 56\u001b[1;33m         \u001b[1;32mreturn\u001b[0m \u001b[0mobj\u001b[0m\u001b[1;33m.\u001b[0m\u001b[0mto_dict\u001b[0m\u001b[1;33m(\u001b[0m\u001b[0mvalidate\u001b[0m\u001b[1;33m=\u001b[0m\u001b[0mvalidate\u001b[0m\u001b[1;33m,\u001b[0m \u001b[0mcontext\u001b[0m\u001b[1;33m=\u001b[0m\u001b[0mcontext\u001b[0m\u001b[1;33m)\u001b[0m\u001b[1;33m\u001b[0m\u001b[1;33m\u001b[0m\u001b[0m\n\u001b[0m\u001b[0;32m     57\u001b[0m     \u001b[1;32melif\u001b[0m \u001b[0misinstance\u001b[0m\u001b[1;33m(\u001b[0m\u001b[0mobj\u001b[0m\u001b[1;33m,\u001b[0m \u001b[1;33m(\u001b[0m\u001b[0mlist\u001b[0m\u001b[1;33m,\u001b[0m \u001b[0mtuple\u001b[0m\u001b[1;33m,\u001b[0m \u001b[0mnp\u001b[0m\u001b[1;33m.\u001b[0m\u001b[0mndarray\u001b[0m\u001b[1;33m)\u001b[0m\u001b[1;33m)\u001b[0m\u001b[1;33m:\u001b[0m\u001b[1;33m\u001b[0m\u001b[1;33m\u001b[0m\u001b[0m\n\u001b[0;32m     58\u001b[0m         \u001b[1;32mreturn\u001b[0m \u001b[1;33m[\u001b[0m\u001b[0m_todict\u001b[0m\u001b[1;33m(\u001b[0m\u001b[0mv\u001b[0m\u001b[1;33m,\u001b[0m \u001b[0mvalidate\u001b[0m\u001b[1;33m,\u001b[0m \u001b[0mcontext\u001b[0m\u001b[1;33m)\u001b[0m \u001b[1;32mfor\u001b[0m \u001b[0mv\u001b[0m \u001b[1;32min\u001b[0m \u001b[0mobj\u001b[0m\u001b[1;33m]\u001b[0m\u001b[1;33m\u001b[0m\u001b[1;33m\u001b[0m\u001b[0m\n",
      "\u001b[1;32m~\\AppData\\Local\\Programs\\Python\\Python39\\lib\\site-packages\\altair\\utils\\schemapi.py\u001b[0m in \u001b[0;36mto_dict\u001b[1;34m(self, validate, ignore, context)\u001b[0m\n\u001b[0;32m    324\u001b[0m             \u001b[0mresult\u001b[0m \u001b[1;33m=\u001b[0m \u001b[0m_todict\u001b[0m\u001b[1;33m(\u001b[0m\u001b[0mself\u001b[0m\u001b[1;33m.\u001b[0m\u001b[0m_args\u001b[0m\u001b[1;33m[\u001b[0m\u001b[1;36m0\u001b[0m\u001b[1;33m]\u001b[0m\u001b[1;33m,\u001b[0m \u001b[0mvalidate\u001b[0m\u001b[1;33m=\u001b[0m\u001b[0msub_validate\u001b[0m\u001b[1;33m,\u001b[0m \u001b[0mcontext\u001b[0m\u001b[1;33m=\u001b[0m\u001b[0mcontext\u001b[0m\u001b[1;33m)\u001b[0m\u001b[1;33m\u001b[0m\u001b[1;33m\u001b[0m\u001b[0m\n\u001b[0;32m    325\u001b[0m         \u001b[1;32melif\u001b[0m \u001b[1;32mnot\u001b[0m \u001b[0mself\u001b[0m\u001b[1;33m.\u001b[0m\u001b[0m_args\u001b[0m\u001b[1;33m:\u001b[0m\u001b[1;33m\u001b[0m\u001b[1;33m\u001b[0m\u001b[0m\n\u001b[1;32m--> 326\u001b[1;33m             result = _todict(\n\u001b[0m\u001b[0;32m    327\u001b[0m                 \u001b[1;33m{\u001b[0m\u001b[0mk\u001b[0m\u001b[1;33m:\u001b[0m \u001b[0mv\u001b[0m \u001b[1;32mfor\u001b[0m \u001b[0mk\u001b[0m\u001b[1;33m,\u001b[0m \u001b[0mv\u001b[0m \u001b[1;32min\u001b[0m \u001b[0mself\u001b[0m\u001b[1;33m.\u001b[0m\u001b[0m_kwds\u001b[0m\u001b[1;33m.\u001b[0m\u001b[0mitems\u001b[0m\u001b[1;33m(\u001b[0m\u001b[1;33m)\u001b[0m \u001b[1;32mif\u001b[0m \u001b[0mk\u001b[0m \u001b[1;32mnot\u001b[0m \u001b[1;32min\u001b[0m \u001b[0mignore\u001b[0m\u001b[1;33m}\u001b[0m\u001b[1;33m,\u001b[0m\u001b[1;33m\u001b[0m\u001b[1;33m\u001b[0m\u001b[0m\n\u001b[0;32m    328\u001b[0m                 \u001b[0mvalidate\u001b[0m\u001b[1;33m=\u001b[0m\u001b[0msub_validate\u001b[0m\u001b[1;33m,\u001b[0m\u001b[1;33m\u001b[0m\u001b[1;33m\u001b[0m\u001b[0m\n",
      "\u001b[1;32m~\\AppData\\Local\\Programs\\Python\\Python39\\lib\\site-packages\\altair\\utils\\schemapi.py\u001b[0m in \u001b[0;36m_todict\u001b[1;34m(obj, validate, context)\u001b[0m\n\u001b[0;32m     58\u001b[0m         \u001b[1;32mreturn\u001b[0m \u001b[1;33m[\u001b[0m\u001b[0m_todict\u001b[0m\u001b[1;33m(\u001b[0m\u001b[0mv\u001b[0m\u001b[1;33m,\u001b[0m \u001b[0mvalidate\u001b[0m\u001b[1;33m,\u001b[0m \u001b[0mcontext\u001b[0m\u001b[1;33m)\u001b[0m \u001b[1;32mfor\u001b[0m \u001b[0mv\u001b[0m \u001b[1;32min\u001b[0m \u001b[0mobj\u001b[0m\u001b[1;33m]\u001b[0m\u001b[1;33m\u001b[0m\u001b[1;33m\u001b[0m\u001b[0m\n\u001b[0;32m     59\u001b[0m     \u001b[1;32melif\u001b[0m \u001b[0misinstance\u001b[0m\u001b[1;33m(\u001b[0m\u001b[0mobj\u001b[0m\u001b[1;33m,\u001b[0m \u001b[0mdict\u001b[0m\u001b[1;33m)\u001b[0m\u001b[1;33m:\u001b[0m\u001b[1;33m\u001b[0m\u001b[1;33m\u001b[0m\u001b[0m\n\u001b[1;32m---> 60\u001b[1;33m         return {\n\u001b[0m\u001b[0;32m     61\u001b[0m             \u001b[0mk\u001b[0m\u001b[1;33m:\u001b[0m \u001b[0m_todict\u001b[0m\u001b[1;33m(\u001b[0m\u001b[0mv\u001b[0m\u001b[1;33m,\u001b[0m \u001b[0mvalidate\u001b[0m\u001b[1;33m,\u001b[0m \u001b[0mcontext\u001b[0m\u001b[1;33m)\u001b[0m\u001b[1;33m\u001b[0m\u001b[1;33m\u001b[0m\u001b[0m\n\u001b[0;32m     62\u001b[0m             \u001b[1;32mfor\u001b[0m \u001b[0mk\u001b[0m\u001b[1;33m,\u001b[0m \u001b[0mv\u001b[0m \u001b[1;32min\u001b[0m \u001b[0mobj\u001b[0m\u001b[1;33m.\u001b[0m\u001b[0mitems\u001b[0m\u001b[1;33m(\u001b[0m\u001b[1;33m)\u001b[0m\u001b[1;33m\u001b[0m\u001b[1;33m\u001b[0m\u001b[0m\n",
      "\u001b[1;32m~\\AppData\\Local\\Programs\\Python\\Python39\\lib\\site-packages\\altair\\utils\\schemapi.py\u001b[0m in \u001b[0;36m<dictcomp>\u001b[1;34m(.0)\u001b[0m\n\u001b[0;32m     59\u001b[0m     \u001b[1;32melif\u001b[0m \u001b[0misinstance\u001b[0m\u001b[1;33m(\u001b[0m\u001b[0mobj\u001b[0m\u001b[1;33m,\u001b[0m \u001b[0mdict\u001b[0m\u001b[1;33m)\u001b[0m\u001b[1;33m:\u001b[0m\u001b[1;33m\u001b[0m\u001b[1;33m\u001b[0m\u001b[0m\n\u001b[0;32m     60\u001b[0m         return {\n\u001b[1;32m---> 61\u001b[1;33m             \u001b[0mk\u001b[0m\u001b[1;33m:\u001b[0m \u001b[0m_todict\u001b[0m\u001b[1;33m(\u001b[0m\u001b[0mv\u001b[0m\u001b[1;33m,\u001b[0m \u001b[0mvalidate\u001b[0m\u001b[1;33m,\u001b[0m \u001b[0mcontext\u001b[0m\u001b[1;33m)\u001b[0m\u001b[1;33m\u001b[0m\u001b[1;33m\u001b[0m\u001b[0m\n\u001b[0m\u001b[0;32m     62\u001b[0m             \u001b[1;32mfor\u001b[0m \u001b[0mk\u001b[0m\u001b[1;33m,\u001b[0m \u001b[0mv\u001b[0m \u001b[1;32min\u001b[0m \u001b[0mobj\u001b[0m\u001b[1;33m.\u001b[0m\u001b[0mitems\u001b[0m\u001b[1;33m(\u001b[0m\u001b[1;33m)\u001b[0m\u001b[1;33m\u001b[0m\u001b[1;33m\u001b[0m\u001b[0m\n\u001b[0;32m     63\u001b[0m             \u001b[1;32mif\u001b[0m \u001b[0mv\u001b[0m \u001b[1;32mis\u001b[0m \u001b[1;32mnot\u001b[0m \u001b[0mUndefined\u001b[0m\u001b[1;33m\u001b[0m\u001b[1;33m\u001b[0m\u001b[0m\n",
      "\u001b[1;32m~\\AppData\\Local\\Programs\\Python\\Python39\\lib\\site-packages\\altair\\utils\\schemapi.py\u001b[0m in \u001b[0;36m_todict\u001b[1;34m(obj, validate, context)\u001b[0m\n\u001b[0;32m     56\u001b[0m         \u001b[1;32mreturn\u001b[0m \u001b[0mobj\u001b[0m\u001b[1;33m.\u001b[0m\u001b[0mto_dict\u001b[0m\u001b[1;33m(\u001b[0m\u001b[0mvalidate\u001b[0m\u001b[1;33m=\u001b[0m\u001b[0mvalidate\u001b[0m\u001b[1;33m,\u001b[0m \u001b[0mcontext\u001b[0m\u001b[1;33m=\u001b[0m\u001b[0mcontext\u001b[0m\u001b[1;33m)\u001b[0m\u001b[1;33m\u001b[0m\u001b[1;33m\u001b[0m\u001b[0m\n\u001b[0;32m     57\u001b[0m     \u001b[1;32melif\u001b[0m \u001b[0misinstance\u001b[0m\u001b[1;33m(\u001b[0m\u001b[0mobj\u001b[0m\u001b[1;33m,\u001b[0m \u001b[1;33m(\u001b[0m\u001b[0mlist\u001b[0m\u001b[1;33m,\u001b[0m \u001b[0mtuple\u001b[0m\u001b[1;33m,\u001b[0m \u001b[0mnp\u001b[0m\u001b[1;33m.\u001b[0m\u001b[0mndarray\u001b[0m\u001b[1;33m)\u001b[0m\u001b[1;33m)\u001b[0m\u001b[1;33m:\u001b[0m\u001b[1;33m\u001b[0m\u001b[1;33m\u001b[0m\u001b[0m\n\u001b[1;32m---> 58\u001b[1;33m         \u001b[1;32mreturn\u001b[0m \u001b[1;33m[\u001b[0m\u001b[0m_todict\u001b[0m\u001b[1;33m(\u001b[0m\u001b[0mv\u001b[0m\u001b[1;33m,\u001b[0m \u001b[0mvalidate\u001b[0m\u001b[1;33m,\u001b[0m \u001b[0mcontext\u001b[0m\u001b[1;33m)\u001b[0m \u001b[1;32mfor\u001b[0m \u001b[0mv\u001b[0m \u001b[1;32min\u001b[0m \u001b[0mobj\u001b[0m\u001b[1;33m]\u001b[0m\u001b[1;33m\u001b[0m\u001b[1;33m\u001b[0m\u001b[0m\n\u001b[0m\u001b[0;32m     59\u001b[0m     \u001b[1;32melif\u001b[0m \u001b[0misinstance\u001b[0m\u001b[1;33m(\u001b[0m\u001b[0mobj\u001b[0m\u001b[1;33m,\u001b[0m \u001b[0mdict\u001b[0m\u001b[1;33m)\u001b[0m\u001b[1;33m:\u001b[0m\u001b[1;33m\u001b[0m\u001b[1;33m\u001b[0m\u001b[0m\n\u001b[0;32m     60\u001b[0m         return {\n",
      "\u001b[1;32m~\\AppData\\Local\\Programs\\Python\\Python39\\lib\\site-packages\\altair\\utils\\schemapi.py\u001b[0m in \u001b[0;36m<listcomp>\u001b[1;34m(.0)\u001b[0m\n\u001b[0;32m     56\u001b[0m         \u001b[1;32mreturn\u001b[0m \u001b[0mobj\u001b[0m\u001b[1;33m.\u001b[0m\u001b[0mto_dict\u001b[0m\u001b[1;33m(\u001b[0m\u001b[0mvalidate\u001b[0m\u001b[1;33m=\u001b[0m\u001b[0mvalidate\u001b[0m\u001b[1;33m,\u001b[0m \u001b[0mcontext\u001b[0m\u001b[1;33m=\u001b[0m\u001b[0mcontext\u001b[0m\u001b[1;33m)\u001b[0m\u001b[1;33m\u001b[0m\u001b[1;33m\u001b[0m\u001b[0m\n\u001b[0;32m     57\u001b[0m     \u001b[1;32melif\u001b[0m \u001b[0misinstance\u001b[0m\u001b[1;33m(\u001b[0m\u001b[0mobj\u001b[0m\u001b[1;33m,\u001b[0m \u001b[1;33m(\u001b[0m\u001b[0mlist\u001b[0m\u001b[1;33m,\u001b[0m \u001b[0mtuple\u001b[0m\u001b[1;33m,\u001b[0m \u001b[0mnp\u001b[0m\u001b[1;33m.\u001b[0m\u001b[0mndarray\u001b[0m\u001b[1;33m)\u001b[0m\u001b[1;33m)\u001b[0m\u001b[1;33m:\u001b[0m\u001b[1;33m\u001b[0m\u001b[1;33m\u001b[0m\u001b[0m\n\u001b[1;32m---> 58\u001b[1;33m         \u001b[1;32mreturn\u001b[0m \u001b[1;33m[\u001b[0m\u001b[0m_todict\u001b[0m\u001b[1;33m(\u001b[0m\u001b[0mv\u001b[0m\u001b[1;33m,\u001b[0m \u001b[0mvalidate\u001b[0m\u001b[1;33m,\u001b[0m \u001b[0mcontext\u001b[0m\u001b[1;33m)\u001b[0m \u001b[1;32mfor\u001b[0m \u001b[0mv\u001b[0m \u001b[1;32min\u001b[0m \u001b[0mobj\u001b[0m\u001b[1;33m]\u001b[0m\u001b[1;33m\u001b[0m\u001b[1;33m\u001b[0m\u001b[0m\n\u001b[0m\u001b[0;32m     59\u001b[0m     \u001b[1;32melif\u001b[0m \u001b[0misinstance\u001b[0m\u001b[1;33m(\u001b[0m\u001b[0mobj\u001b[0m\u001b[1;33m,\u001b[0m \u001b[0mdict\u001b[0m\u001b[1;33m)\u001b[0m\u001b[1;33m:\u001b[0m\u001b[1;33m\u001b[0m\u001b[1;33m\u001b[0m\u001b[0m\n\u001b[0;32m     60\u001b[0m         return {\n",
      "\u001b[1;32m~\\AppData\\Local\\Programs\\Python\\Python39\\lib\\site-packages\\altair\\utils\\schemapi.py\u001b[0m in \u001b[0;36m_todict\u001b[1;34m(obj, validate, context)\u001b[0m\n\u001b[0;32m     54\u001b[0m     \u001b[1;34m\"\"\"Convert an object to a dict representation.\"\"\"\u001b[0m\u001b[1;33m\u001b[0m\u001b[1;33m\u001b[0m\u001b[0m\n\u001b[0;32m     55\u001b[0m     \u001b[1;32mif\u001b[0m \u001b[0misinstance\u001b[0m\u001b[1;33m(\u001b[0m\u001b[0mobj\u001b[0m\u001b[1;33m,\u001b[0m \u001b[0mSchemaBase\u001b[0m\u001b[1;33m)\u001b[0m\u001b[1;33m:\u001b[0m\u001b[1;33m\u001b[0m\u001b[1;33m\u001b[0m\u001b[0m\n\u001b[1;32m---> 56\u001b[1;33m         \u001b[1;32mreturn\u001b[0m \u001b[0mobj\u001b[0m\u001b[1;33m.\u001b[0m\u001b[0mto_dict\u001b[0m\u001b[1;33m(\u001b[0m\u001b[0mvalidate\u001b[0m\u001b[1;33m=\u001b[0m\u001b[0mvalidate\u001b[0m\u001b[1;33m,\u001b[0m \u001b[0mcontext\u001b[0m\u001b[1;33m=\u001b[0m\u001b[0mcontext\u001b[0m\u001b[1;33m)\u001b[0m\u001b[1;33m\u001b[0m\u001b[1;33m\u001b[0m\u001b[0m\n\u001b[0m\u001b[0;32m     57\u001b[0m     \u001b[1;32melif\u001b[0m \u001b[0misinstance\u001b[0m\u001b[1;33m(\u001b[0m\u001b[0mobj\u001b[0m\u001b[1;33m,\u001b[0m \u001b[1;33m(\u001b[0m\u001b[0mlist\u001b[0m\u001b[1;33m,\u001b[0m \u001b[0mtuple\u001b[0m\u001b[1;33m,\u001b[0m \u001b[0mnp\u001b[0m\u001b[1;33m.\u001b[0m\u001b[0mndarray\u001b[0m\u001b[1;33m)\u001b[0m\u001b[1;33m)\u001b[0m\u001b[1;33m:\u001b[0m\u001b[1;33m\u001b[0m\u001b[1;33m\u001b[0m\u001b[0m\n\u001b[0;32m     58\u001b[0m         \u001b[1;32mreturn\u001b[0m \u001b[1;33m[\u001b[0m\u001b[0m_todict\u001b[0m\u001b[1;33m(\u001b[0m\u001b[0mv\u001b[0m\u001b[1;33m,\u001b[0m \u001b[0mvalidate\u001b[0m\u001b[1;33m,\u001b[0m \u001b[0mcontext\u001b[0m\u001b[1;33m)\u001b[0m \u001b[1;32mfor\u001b[0m \u001b[0mv\u001b[0m \u001b[1;32min\u001b[0m \u001b[0mobj\u001b[0m\u001b[1;33m]\u001b[0m\u001b[1;33m\u001b[0m\u001b[1;33m\u001b[0m\u001b[0m\n",
      "\u001b[1;32m~\\AppData\\Local\\Programs\\Python\\Python39\\lib\\site-packages\\altair\\vegalite\\v4\\schema\\channels.py\u001b[0m in \u001b[0;36mto_dict\u001b[1;34m(self, validate, ignore, context)\u001b[0m\n\u001b[0;32m     38\u001b[0m             \u001b[1;32melif\u001b[0m \u001b[1;32mnot\u001b[0m \u001b[1;33m(\u001b[0m\u001b[0mtype_in_shorthand\u001b[0m \u001b[1;32mor\u001b[0m \u001b[0mtype_defined_explicitly\u001b[0m\u001b[1;33m)\u001b[0m\u001b[1;33m:\u001b[0m\u001b[1;33m\u001b[0m\u001b[1;33m\u001b[0m\u001b[0m\n\u001b[0;32m     39\u001b[0m                 \u001b[1;32mif\u001b[0m \u001b[0misinstance\u001b[0m\u001b[1;33m(\u001b[0m\u001b[0mcontext\u001b[0m\u001b[1;33m.\u001b[0m\u001b[0mget\u001b[0m\u001b[1;33m(\u001b[0m\u001b[1;34m'data'\u001b[0m\u001b[1;33m,\u001b[0m \u001b[1;32mNone\u001b[0m\u001b[1;33m)\u001b[0m\u001b[1;33m,\u001b[0m \u001b[0mpd\u001b[0m\u001b[1;33m.\u001b[0m\u001b[0mDataFrame\u001b[0m\u001b[1;33m)\u001b[0m\u001b[1;33m:\u001b[0m\u001b[1;33m\u001b[0m\u001b[1;33m\u001b[0m\u001b[0m\n\u001b[1;32m---> 40\u001b[1;33m                     raise ValueError(\"{} encoding field is specified without a type; \"\n\u001b[0m\u001b[0;32m     41\u001b[0m                                      \u001b[1;34m\"the type cannot be inferred because it does not \"\u001b[0m\u001b[1;33m\u001b[0m\u001b[1;33m\u001b[0m\u001b[0m\n\u001b[0;32m     42\u001b[0m                                      \"match any column in the data.\".format(shorthand))\n",
      "\u001b[1;31mValueError\u001b[0m: yearmonthtransport_moderegister_id encoding field is specified without a type; the type cannot be inferred because it does not match any column in the data."
     ]
    },
    {
     "data": {
      "text/plain": [
       "alt.Chart(...)"
      ]
     },
     "execution_count": 204,
     "metadata": {},
     "output_type": "execute_result"
    }
   ],
   "source": [
    "historic_mes=testDataframe.groupby(['year', 'month', 'transport_mode']).count()['register_id'].reset_index()\n",
    "print(historic_mes.columns.values)\n",
    "\n",
    "base = alt.Chart(historic_mes, width=60, height=alt.Step(8)).mark_line().encode(\n",
    "    x=alt.Y(\"month:O\", axis=None),\n",
    "    y=alt.X(\"register_id\", title=None,),\n",
    "    color=alt.Color(\n",
    "        \"transport_mode:N\", title=\"settings\", legend=alt.Legend(orient=\"bottom\", titleOrient=\"left\")\n",
    "    ),\n",
    "    tooltip=['year' 'month' 'transport_mode' 'register_id'],\n",
    "    row=alt.Row(\"year:N\", title=\"Año\", header=alt.Header(labelAngle=0)),\n",
    "    column=alt.Column(\"transport_mode:N\", title=\"Tipo de Transporte\"),\n",
    ")\n",
    "\n",
    "(base).properties(width=200,title='Historial por mes-año para el tipo de transporte') \n",
    "\n"
   ]
  },
  {
   "cell_type": "markdown",
   "metadata": {},
   "source": [
    "#### Set de Países para mostrar en el mapa\n",
    "\n",
    "Número de rutas en las que están involucrados los países ya sea exportación o importación\n"
   ]
  },
  {
   "cell_type": "code",
   "execution_count": 5,
   "metadata": {},
   "outputs": [
    {
     "name": "stdout",
     "output_type": "stream",
     "text": [
      "China                   3775\n",
      "USA                     3386\n",
      "Mexico                  2974\n",
      "Germany                 2843\n",
      "Japan                   2774\n",
      "France                  1981\n",
      "South Korea             1710\n",
      "Canada                  1507\n",
      "Netherlands             1495\n",
      "Belgium                 1491\n",
      "United Kingdom          1460\n",
      "Brazil                  1418\n",
      "Singapore               1123\n",
      "Spain                   1110\n",
      "Russia                  1103\n",
      "Italy                   1070\n",
      "Thailand                1032\n",
      "Australia                965\n",
      "India                    745\n",
      "United Arab Emirates     635\n",
      "Vietnam                  515\n",
      "Austria                  503\n",
      "Switzerland              443\n",
      "Argentina                393\n",
      "Malaysia                 288\n",
      "New Zealand              249\n",
      "Belorussia               219\n",
      "Rusia                    204\n",
      "Poland                   177\n",
      "Ireland                  162\n",
      "Philippines              114\n",
      "Slovakia                  94\n",
      "Turkey                    80\n",
      "Peru                      44\n",
      "Croatia                   30\n",
      "dtype: int64\n"
     ]
    }
   ],
   "source": [
    "precencia_paices=testDataframe.loc[:,['origin','destination']]\n",
    "\n",
    "precencia_paices= pd.unique(precencia_paices.values.ravel())\n",
    "\n",
    "precencia_paices_dic = { country : 0 for country in precencia_paices }\n",
    "\n",
    "count_precencia_orig=testDataframe['origin']\n",
    "\n",
    "count_precencia_des=testDataframe['destination']\n",
    "\n",
    "precencia_paices = pd.concat([count_precencia_orig,count_precencia_des ]).value_counts()\n",
    "\n",
    "print(precencia_paices)\n"
   ]
  },
  {
   "cell_type": "markdown",
   "metadata": {},
   "source": [
    "### _Opción 3) Valor total de importaciones y exportaciones._\n",
    "\n",
    "Si Synergy Logistics quisiera enfocarse en los países que le generan el 80% del valor de las\n",
    "exportaciones e importaciones ¿en qué grupo de países debería enfocar sus esfuerzos?\n"
   ]
  },
  {
   "cell_type": "markdown",
   "metadata": {},
   "source": [
    "#### EDA Exportacion"
   ]
  },
  {
   "cell_type": "code",
   "execution_count": 79,
   "metadata": {},
   "outputs": [
    {
     "name": "stdout",
     "output_type": "stream",
     "text": [
      "direction\n",
      "Exports    15408\n",
      "Name: register_id, dtype: int64\n"
     ]
    }
   ],
   "source": [
    "# Separar todo el df en la parte de expor e impo \n",
    "df_expo = testDataframe[(testDataframe.direction == \"Exports\")]\n",
    "\n",
    "# Cantidad de exportaciones de todo el dataset\n",
    "grupo_expor_count = df_expo.groupby(['direction']).count()['register_id']\n",
    "print(grupo_expor_count)\n",
    "\n",
    "# Cantidad de ingresos de exportaciones de todo el dataset\n",
    "grupo_expor_sum = df_expo.groupby(['direction']).sum()['total_value']\n",
    "# print(grupo_expor_sum)\n",
    "\n",
    "# Paices que mas generan con exportacion (cantidad rutas)\n",
    "grupo_expor_country = df_expo.groupby(['origin']).count()['register_id'].sort_values(ascending=False).to_frame().reset_index()\n",
    "grupo_expor_country[\"Porcentaje_apoyo\"] = round((grupo_expor_country.register_id/grupo_expor_count[0])*100,3)\n",
    "# print(grupo_expor_country)\n",
    "\n",
    "# ingreso por paices  exportacion \n",
    "grupo_expor_sales = df_expo.groupby(['origin']).sum()['total_value'].sort_values(ascending=False).to_frame().reset_index()\n",
    "grupo_expor_sales[\"Porcentaje_apoyo_sales\"] = round((grupo_expor_sales.total_value/grupo_expor_sum[0])*100,3)\n",
    "grupo_expor_sales[\"Promedio\"] = grupo_expor_sales['Porcentaje_apoyo_sales'].cumsum()\n",
    "\n",
    "grupo_expor_sales=grupo_expor_sales[grupo_expor_sales['Promedio'] < 81]\n",
    "\n",
    "# print(grupo_expor_sales.head(10))"
   ]
  },
  {
   "cell_type": "markdown",
   "metadata": {},
   "source": [
    "####  Grafica de los datos de las  exportaciónes (Ingresos)"
   ]
  },
  {
   "cell_type": "code",
   "execution_count": 175,
   "metadata": {},
   "outputs": [
    {
     "ename": "NameError",
     "evalue": "name 'grupo_expor_sales' is not defined",
     "output_type": "error",
     "traceback": [
      "\u001b[1;31m---------------------------------------------------------------------------\u001b[0m",
      "\u001b[1;31mNameError\u001b[0m                                 Traceback (most recent call last)",
      "\u001b[1;32m~\\AppData\\Local\\Temp/ipykernel_37628/4236401911.py\u001b[0m in \u001b[0;36m<module>\u001b[1;34m\u001b[0m\n\u001b[1;32m----> 1\u001b[1;33m \u001b[0mprint\u001b[0m\u001b[1;33m(\u001b[0m\u001b[0mgrupo_expor_sales\u001b[0m\u001b[1;33m.\u001b[0m\u001b[0mhead\u001b[0m\u001b[1;33m(\u001b[0m\u001b[1;33m)\u001b[0m\u001b[1;33m)\u001b[0m\u001b[1;33m\u001b[0m\u001b[1;33m\u001b[0m\u001b[0m\n\u001b[0m\u001b[0;32m      2\u001b[0m base = alt.Chart(grupo_expor_sales.head(10)).encode(\n\u001b[0;32m      3\u001b[0m     \u001b[0mtheta\u001b[0m\u001b[1;33m=\u001b[0m\u001b[0malt\u001b[0m\u001b[1;33m.\u001b[0m\u001b[0mTheta\u001b[0m\u001b[1;33m(\u001b[0m\u001b[1;34m\"Porcentaje_apoyo_sales:Q\"\u001b[0m\u001b[1;33m,\u001b[0m \u001b[0mstack\u001b[0m\u001b[1;33m=\u001b[0m\u001b[1;32mTrue\u001b[0m\u001b[1;33m)\u001b[0m\u001b[1;33m,\u001b[0m\u001b[1;33m\u001b[0m\u001b[1;33m\u001b[0m\u001b[0m\n\u001b[0;32m      4\u001b[0m     \u001b[0mradius\u001b[0m\u001b[1;33m=\u001b[0m\u001b[0malt\u001b[0m\u001b[1;33m.\u001b[0m\u001b[0mRadius\u001b[0m\u001b[1;33m(\u001b[0m\u001b[1;34m\"Porcentaje_apoyo_sales\"\u001b[0m\u001b[1;33m,\u001b[0m\u001b[0maxis\u001b[0m\u001b[1;33m=\u001b[0m\u001b[0malt\u001b[0m\u001b[1;33m.\u001b[0m\u001b[0mAxis\u001b[0m\u001b[1;33m(\u001b[0m\u001b[0mformat\u001b[0m\u001b[1;33m=\u001b[0m\u001b[1;34m\"%\"\u001b[0m\u001b[1;33m)\u001b[0m\u001b[1;33m,\u001b[0m \u001b[0mscale\u001b[0m\u001b[1;33m=\u001b[0m\u001b[0malt\u001b[0m\u001b[1;33m.\u001b[0m\u001b[0mScale\u001b[0m\u001b[1;33m(\u001b[0m\u001b[0mtype\u001b[0m\u001b[1;33m=\u001b[0m\u001b[1;34m\"sqrt\"\u001b[0m\u001b[1;33m,\u001b[0m \u001b[0mzero\u001b[0m\u001b[1;33m=\u001b[0m\u001b[1;32mTrue\u001b[0m\u001b[1;33m,\u001b[0m \u001b[0mrangeMin\u001b[0m\u001b[1;33m=\u001b[0m\u001b[1;36m30\u001b[0m\u001b[1;33m)\u001b[0m\u001b[1;33m)\u001b[0m\u001b[1;33m,\u001b[0m\u001b[1;33m\u001b[0m\u001b[1;33m\u001b[0m\u001b[0m\n\u001b[0;32m      5\u001b[0m     \u001b[0mcolor\u001b[0m\u001b[1;33m=\u001b[0m\u001b[0malt\u001b[0m\u001b[1;33m.\u001b[0m\u001b[0mColor\u001b[0m\u001b[1;33m(\u001b[0m\u001b[1;34m\"Porcentaje_apoyo_sales:N\"\u001b[0m\u001b[1;33m,\u001b[0m \u001b[0mlegend\u001b[0m\u001b[1;33m=\u001b[0m\u001b[0malt\u001b[0m\u001b[1;33m.\u001b[0m\u001b[0mLegend\u001b[0m\u001b[1;33m(\u001b[0m\u001b[0mtitle\u001b[0m\u001b[1;33m=\u001b[0m\u001b[1;34m'% de rutas'\u001b[0m\u001b[1;33m)\u001b[0m\u001b[1;33m)\u001b[0m\u001b[1;33m,\u001b[0m\u001b[1;33m\u001b[0m\u001b[1;33m\u001b[0m\u001b[0m\n",
      "\u001b[1;31mNameError\u001b[0m: name 'grupo_expor_sales' is not defined"
     ]
    }
   ],
   "source": [
    "\n",
    "print(grupo_expor_sales.head())\n",
    "base = alt.Chart(grupo_expor_sales.head(10)).encode(\n",
    "    theta=alt.Theta(\"Porcentaje_apoyo_sales:Q\", stack=True),\n",
    "    radius=alt.Radius(\"Porcentaje_apoyo_sales\", scale=alt.Scale(type=\"sqrt\", zero=True, rangeMin=30)),\n",
    "    color=alt.Color(\"Porcentaje_apoyo_sales:N\", legend=alt.Legend(title='% de rutas')),   \n",
    ")\n",
    "\n",
    "c1 = base.mark_arc(innerRadius=20, stroke=\"#ffF\")\n",
    "\n",
    "c2 = base.mark_text(radiusOffset=10 ,size=14).encode(text=\"origin:N\")\n",
    "\n",
    "(c1 + c2).properties(width=500, title=\"Porcentaje ganancias de exportaciones por país\")\n",
    "\n"
   ]
  },
  {
   "cell_type": "code",
   "execution_count": 177,
   "metadata": {},
   "outputs": [
    {
     "ename": "NameError",
     "evalue": "name 'grupo_expor_sales' is not defined",
     "output_type": "error",
     "traceback": [
      "\u001b[1;31m---------------------------------------------------------------------------\u001b[0m",
      "\u001b[1;31mNameError\u001b[0m                                 Traceback (most recent call last)",
      "\u001b[1;32m~\\AppData\\Local\\Temp/ipykernel_37628/3900659353.py\u001b[0m in \u001b[0;36m<module>\u001b[1;34m\u001b[0m\n\u001b[1;32m----> 1\u001b[1;33m line = alt.Chart(grupo_expor_sales.head(10)).mark_bar().encode(\n\u001b[0m\u001b[0;32m      2\u001b[0m     \u001b[0mx\u001b[0m\u001b[1;33m=\u001b[0m\u001b[0malt\u001b[0m\u001b[1;33m.\u001b[0m\u001b[0mX\u001b[0m\u001b[1;33m(\u001b[0m\u001b[1;34m'origin'\u001b[0m \u001b[1;33m,\u001b[0m \u001b[0mtitle\u001b[0m\u001b[1;33m=\u001b[0m\u001b[1;34m'Pais de origen '\u001b[0m\u001b[1;33m,\u001b[0m\u001b[0msort\u001b[0m\u001b[1;33m=\u001b[0m\u001b[0malt\u001b[0m\u001b[1;33m.\u001b[0m\u001b[0mSortArray\u001b[0m\u001b[1;33m(\u001b[0m\u001b[1;33m[\u001b[0m\u001b[1;34m'Porcentaje_apoyo_sales'\u001b[0m\u001b[1;33m]\u001b[0m\u001b[1;33m)\u001b[0m\u001b[1;33m)\u001b[0m\u001b[1;33m,\u001b[0m\u001b[1;33m\u001b[0m\u001b[1;33m\u001b[0m\u001b[0m\n\u001b[0;32m      3\u001b[0m     \u001b[0my\u001b[0m\u001b[1;33m=\u001b[0m\u001b[0malt\u001b[0m\u001b[1;33m.\u001b[0m\u001b[0mY\u001b[0m\u001b[1;33m(\u001b[0m\u001b[1;34m'Porcentaje_apoyo_sales'\u001b[0m\u001b[1;33m,\u001b[0m\u001b[0maxis\u001b[0m\u001b[1;33m=\u001b[0m\u001b[0malt\u001b[0m\u001b[1;33m.\u001b[0m\u001b[0mAxis\u001b[0m\u001b[1;33m(\u001b[0m\u001b[0mformat\u001b[0m\u001b[1;33m=\u001b[0m\u001b[1;34m\"%\"\u001b[0m\u001b[1;33m)\u001b[0m\u001b[1;33m,\u001b[0m \u001b[0mtitle\u001b[0m\u001b[1;33m=\u001b[0m\u001b[1;34m'Ingresos totales'\u001b[0m\u001b[1;33m)\u001b[0m\u001b[1;33m,\u001b[0m\u001b[1;33m\u001b[0m\u001b[1;33m\u001b[0m\u001b[0m\n\u001b[0;32m      4\u001b[0m     \u001b[0mcolor\u001b[0m\u001b[1;33m=\u001b[0m\u001b[0malt\u001b[0m\u001b[1;33m.\u001b[0m\u001b[0mColor\u001b[0m\u001b[1;33m(\u001b[0m\u001b[1;34m\"total_value\"\u001b[0m\u001b[1;33m,\u001b[0m \u001b[0mlegend\u001b[0m\u001b[1;33m=\u001b[0m\u001b[0malt\u001b[0m\u001b[1;33m.\u001b[0m\u001b[0mLegend\u001b[0m\u001b[1;33m(\u001b[0m\u001b[0mtitle\u001b[0m\u001b[1;33m=\u001b[0m\u001b[1;34m\"Ingresos\"\u001b[0m\u001b[1;33m)\u001b[0m\u001b[1;33m,\u001b[0m\u001b[0mscale\u001b[0m\u001b[1;33m=\u001b[0m\u001b[0malt\u001b[0m\u001b[1;33m.\u001b[0m\u001b[0mScale\u001b[0m\u001b[1;33m(\u001b[0m\u001b[0mscheme\u001b[0m\u001b[1;33m=\u001b[0m\u001b[1;34m'goldgreen'\u001b[0m\u001b[1;33m,\u001b[0m\u001b[0mtype\u001b[0m\u001b[1;33m=\u001b[0m \u001b[1;34m'sqrt'\u001b[0m\u001b[1;33m)\u001b[0m\u001b[1;33m)\u001b[0m\u001b[1;33m,\u001b[0m\u001b[1;33m\u001b[0m\u001b[1;33m\u001b[0m\u001b[0m\n\u001b[0;32m      5\u001b[0m )\n",
      "\u001b[1;31mNameError\u001b[0m: name 'grupo_expor_sales' is not defined"
     ]
    }
   ],
   "source": [
    "line = alt.Chart(grupo_expor_sales.head(10)).mark_bar().encode(\n",
    "    x=alt.X('origin' , title='Pais de origen ',sort=alt.SortArray(['Porcentaje_apoyo_sales'])),\n",
    "    y=alt.Y('Porcentaje_apoyo_sales', title='Ingresos totales'),\n",
    "    color=alt.Color(\"total_value\", legend=alt.Legend(title=\"Ingresos\"),scale=alt.Scale(scheme='goldgreen',type= 'sqrt')),   \n",
    ")\n",
    "\n",
    "area= alt.Chart(grupo_expor_sales.head(10)).mark_area(opacity=0.3).encode(\n",
    "    x=alt.X('origin',sort=alt.SortArray(['Porcentaje_apoyo_sales'])),\n",
    "    y=alt.Y('Porcentaje_apoyo_sales',stack=None,axis=alt.Axis(format=\".2s\") )\n",
    "    # color=\"product\"\n",
    ").mark_text(align='left',dx=15,size=13).encode(text = alt.Text('total_value:Q', format = \".3s\"))\n",
    "\n",
    "(line + area ).properties(width=600, title=\"Ganancias por exportaciones\").interactive()\n"
   ]
  },
  {
   "cell_type": "markdown",
   "metadata": {},
   "source": [
    "####  Grafica de los datos de las  exportaciónes (Conteo rutas)"
   ]
  },
  {
   "cell_type": "code",
   "execution_count": 80,
   "metadata": {},
   "outputs": [
    {
     "name": "stdout",
     "output_type": "stream",
     "text": [
      "        origin  register_id  Porcentaje_apoyo\n",
      "0        China         1657            10.754\n",
      "1          USA         1464             9.502\n",
      "2      Germany         1295             8.405\n",
      "3        Japan         1257             8.158\n",
      "4  South Korea         1134             7.360\n"
     ]
    },
    {
     "data": {
      "text/html": [
       "\n",
       "<div id=\"altair-viz-d9292d95c48d49b1bde9651b3ae29180\"></div>\n",
       "<script type=\"text/javascript\">\n",
       "  var VEGA_DEBUG = (typeof VEGA_DEBUG == \"undefined\") ? {} : VEGA_DEBUG;\n",
       "  (function(spec, embedOpt){\n",
       "    let outputDiv = document.currentScript.previousElementSibling;\n",
       "    if (outputDiv.id !== \"altair-viz-d9292d95c48d49b1bde9651b3ae29180\") {\n",
       "      outputDiv = document.getElementById(\"altair-viz-d9292d95c48d49b1bde9651b3ae29180\");\n",
       "    }\n",
       "    const paths = {\n",
       "      \"vega\": \"https://cdn.jsdelivr.net/npm//vega@5?noext\",\n",
       "      \"vega-lib\": \"https://cdn.jsdelivr.net/npm//vega-lib?noext\",\n",
       "      \"vega-lite\": \"https://cdn.jsdelivr.net/npm//vega-lite@4.17.0?noext\",\n",
       "      \"vega-embed\": \"https://cdn.jsdelivr.net/npm//vega-embed@6?noext\",\n",
       "    };\n",
       "\n",
       "    function maybeLoadScript(lib, version) {\n",
       "      var key = `${lib.replace(\"-\", \"\")}_version`;\n",
       "      return (VEGA_DEBUG[key] == version) ?\n",
       "        Promise.resolve(paths[lib]) :\n",
       "        new Promise(function(resolve, reject) {\n",
       "          var s = document.createElement('script');\n",
       "          document.getElementsByTagName(\"head\")[0].appendChild(s);\n",
       "          s.async = true;\n",
       "          s.onload = () => {\n",
       "            VEGA_DEBUG[key] = version;\n",
       "            return resolve(paths[lib]);\n",
       "          };\n",
       "          s.onerror = () => reject(`Error loading script: ${paths[lib]}`);\n",
       "          s.src = paths[lib];\n",
       "        });\n",
       "    }\n",
       "\n",
       "    function showError(err) {\n",
       "      outputDiv.innerHTML = `<div class=\"error\" style=\"color:red;\">${err}</div>`;\n",
       "      throw err;\n",
       "    }\n",
       "\n",
       "    function displayChart(vegaEmbed) {\n",
       "      vegaEmbed(outputDiv, spec, embedOpt)\n",
       "        .catch(err => showError(`Javascript Error: ${err.message}<br>This usually means there's a typo in your chart specification. See the javascript console for the full traceback.`));\n",
       "    }\n",
       "\n",
       "    if(typeof define === \"function\" && define.amd) {\n",
       "      requirejs.config({paths});\n",
       "      require([\"vega-embed\"], displayChart, err => showError(`Error loading script: ${err.message}`));\n",
       "    } else {\n",
       "      maybeLoadScript(\"vega\", \"5\")\n",
       "        .then(() => maybeLoadScript(\"vega-lite\", \"4.17.0\"))\n",
       "        .then(() => maybeLoadScript(\"vega-embed\", \"6\"))\n",
       "        .catch(showError)\n",
       "        .then(() => displayChart(vegaEmbed));\n",
       "    }\n",
       "  })({\"config\": {\"view\": {\"continuousWidth\": 400, \"continuousHeight\": 300}}, \"layer\": [{\"mark\": {\"type\": \"arc\", \"innerRadius\": 20, \"stroke\": \"#ffF\"}, \"encoding\": {\"color\": {\"field\": \"Porcentaje_apoyo\", \"legend\": {\"title\": \"% de rutas\"}, \"type\": \"nominal\"}, \"radius\": {\"field\": \"Porcentaje_apoyo\", \"scale\": {\"rangeMin\": 30, \"type\": \"sqrt\", \"zero\": true}, \"type\": \"quantitative\"}, \"theta\": {\"field\": \"Porcentaje_apoyo\", \"stack\": true, \"type\": \"quantitative\"}}}, {\"mark\": {\"type\": \"text\", \"radiusOffset\": 10, \"size\": 14}, \"encoding\": {\"color\": {\"field\": \"Porcentaje_apoyo\", \"legend\": {\"title\": \"% de rutas\"}, \"type\": \"nominal\"}, \"radius\": {\"field\": \"Porcentaje_apoyo\", \"scale\": {\"rangeMin\": 30, \"type\": \"sqrt\", \"zero\": true}, \"type\": \"quantitative\"}, \"text\": {\"field\": \"origin\", \"type\": \"nominal\"}, \"theta\": {\"field\": \"Porcentaje_apoyo\", \"stack\": true, \"type\": \"quantitative\"}}}], \"data\": {\"name\": \"data-73a22534fc0f28f429756a81b691db6f\"}, \"title\": \"Porcentaje rutas de exportaciones por pa\\u00eds\", \"width\": 500, \"$schema\": \"https://vega.github.io/schema/vega-lite/v4.17.0.json\", \"datasets\": {\"data-73a22534fc0f28f429756a81b691db6f\": [{\"origin\": \"China\", \"register_id\": 1657, \"Porcentaje_apoyo\": 10.754}, {\"origin\": \"USA\", \"register_id\": 1464, \"Porcentaje_apoyo\": 9.502}, {\"origin\": \"Germany\", \"register_id\": 1295, \"Porcentaje_apoyo\": 8.405}, {\"origin\": \"Japan\", \"register_id\": 1257, \"Porcentaje_apoyo\": 8.158}, {\"origin\": \"South Korea\", \"register_id\": 1134, \"Porcentaje_apoyo\": 7.36}, {\"origin\": \"France\", \"register_id\": 919, \"Porcentaje_apoyo\": 5.964}, {\"origin\": \"United Kingdom\", \"register_id\": 871, \"Porcentaje_apoyo\": 5.653}, {\"origin\": \"Australia\", \"register_id\": 863, \"Porcentaje_apoyo\": 5.601}, {\"origin\": \"Netherlands\", \"register_id\": 796, \"Porcentaje_apoyo\": 5.166}, {\"origin\": \"Mexico\", \"register_id\": 772, \"Porcentaje_apoyo\": 5.01}]}}, {\"mode\": \"vega-lite\"});\n",
       "</script>"
      ],
      "text/plain": [
       "alt.LayerChart(...)"
      ]
     },
     "execution_count": 80,
     "metadata": {},
     "output_type": "execute_result"
    }
   ],
   "source": [
    "print(grupo_expor_country.head())\n",
    "line = alt.Chart(grupo_expor_sales.head(10)).mark_point().encode(\n",
    "    x=alt.X('origin' , title='Pais de origen ',sort=alt.SortArray(['Porcentaje_apoyo'])),\n",
    "    y=alt.Y('Porcentaje_apoyo', title='Porsentaje de ingresosso totales'),\n",
    "    # color=alt.Color(\"total_value\"goldgreen )\n",
    "    color=alt.Color(\"total_value\", legend=alt.Legend(title=\"Ingresos\"),scale=alt.Scale(scheme='goldgreen',type= 'sqrt')),   \n",
    ")\n",
    "\n",
    "area= alt.Chart(grupo_expor_country.head(10)).mark_area(opacity=0.3).encode(\n",
    "    x=alt.X('origin',sort=alt.SortArray(['Porcentaje_apoyo'])),\n",
    "    y=alt.Y('Porcentaje_apoyo',stack=None, )\n",
    "    # color=\"product\"\n",
    ").mark_text(align='left',dx=15,size=13).encode(text='total_value:Q')\n",
    "\n",
    "(line + area ).properties(width=500, title=\"Historial de top 5 rutas den 2020\")\n",
    "\n",
    "base = alt.Chart(grupo_expor_country.head(10)).encode(\n",
    "    theta=alt.Theta(\"Porcentaje_apoyo:Q\", stack=True),\n",
    "    radius=alt.Radius(\"Porcentaje_apoyo\", scale=alt.Scale(type=\"sqrt\", zero=True, rangeMin=30)),\n",
    "    color=alt.Color(\"Porcentaje_apoyo:N\", legend=alt.Legend(title='% de rutas')),   \n",
    ")\n",
    "\n",
    "c1 = base.mark_arc(innerRadius=20, stroke=\"#ffF\")\n",
    "\n",
    "c2 = base.mark_text(radiusOffset=10 ,size=14).encode(text=\"origin:N\")\n",
    "\n",
    "(c1 + c2).properties(width=500, title=\"Porcentaje rutas de exportaciones por país\")"
   ]
  },
  {
   "cell_type": "markdown",
   "metadata": {},
   "source": [
    "#### EDA Importación"
   ]
  },
  {
   "cell_type": "code",
   "execution_count": 13,
   "metadata": {},
   "outputs": [
    {
     "name": "stdout",
     "output_type": "stream",
     "text": [
      "      origin_x  total_value  Porcentaje_apoyo_sales  Promedio   origin_y  \\\n",
      "0        China  12233000000                  22.030    22.030      China   \n",
      "1        Japan   8094000000                  14.576    36.606      Japan   \n",
      "2          USA   5291000000                   9.529    46.135        USA   \n",
      "3       Mexico   4621000000                   8.322    54.457    Germany   \n",
      "4      Germany   4250000000                   7.654    62.111     Mexico   \n",
      "5    Singapore   4017000000                   7.234    69.345  Singapore   \n",
      "6  South Korea   3889000000                   7.004    76.349   Malaysia   \n",
      "\n",
      "   register_id  Porcentaje_apoyo  \n",
      "0          615            16.859  \n",
      "1          445            12.198  \n",
      "2          376            10.307  \n",
      "3          369            10.115  \n",
      "4          366            10.033  \n",
      "5          273             7.484  \n",
      "6          199             5.455  \n"
     ]
    }
   ],
   "source": [
    "# Separar todo el df en la parte de expor e impo \n",
    "df_import = testDataframe[(testDataframe.direction == \"Imports\")]\n",
    "\n",
    "# Cantidad de exportaciones de todo el dataset\n",
    "grupo_import_count = df_import.groupby(['direction']).count()['register_id']\n",
    "# print(grupo_expor)\n",
    "\n",
    "# Cantidad de ingresos de exportaciones de todo el dataset\n",
    "grupo_import_sum = df_import.groupby(['direction']).sum()['total_value']\n",
    "# print(grupo_import_sum)\n",
    "\n",
    "# Paices que mas generan con exportacion (cantidad rutas)\n",
    "grupo_import_country = df_import.groupby(['origin']).count()['register_id'].sort_values(ascending=False).to_frame().reset_index()\n",
    "grupo_import_country[\"Porcentaje_apoyo\"] = round((grupo_import_country.register_id/grupo_import_count[0])*100,3)\n",
    "\n",
    "\n",
    "# ingreso por paices  exportacion \n",
    "grupo_inport_sales = df_import.groupby(['origin']).sum()['total_value'].sort_values(ascending=False).to_frame().reset_index()\n",
    "grupo_inport_sales[\"Porcentaje_apoyo_sales\"] = round((grupo_inport_sales.total_value/grupo_import_sum[0])*100,3)\n",
    "grupo_inport_sales[\"Promedio\"] = grupo_inport_sales['Porcentaje_apoyo_sales'].cumsum()\n",
    "# print(grupo_inport_sales.head(10))\n",
    "prom_acumulado_bol = grupo_inport_sales['Promedio'] < 82\n",
    "grupo_inport_sales=grupo_inport_sales[prom_acumulado_bol]\n",
    "# print(grupo_inport_sales.head(10))\n",
    "\n",
    "# left join total_values count coun porsentaje \n",
    "left_join = pd.merge(grupo_inport_sales.head(10), grupo_import_country, how='left', on=None, left_on=None, right_on=None,\n",
    "         left_index=True, right_index=True, sort=True)\n",
    "print(left_join)\n",
    "\n",
    "\n"
   ]
  },
  {
   "cell_type": "markdown",
   "metadata": {},
   "source": [
    "####  Grafica de datos de las  importaciónes (ingresos)"
   ]
  },
  {
   "cell_type": "code",
   "execution_count": 97,
   "metadata": {},
   "outputs": [
    {
     "data": {
      "text/html": [
       "\n",
       "<div id=\"altair-viz-4282d09bf7a94c6eb15824e108345f36\"></div>\n",
       "<script type=\"text/javascript\">\n",
       "  var VEGA_DEBUG = (typeof VEGA_DEBUG == \"undefined\") ? {} : VEGA_DEBUG;\n",
       "  (function(spec, embedOpt){\n",
       "    let outputDiv = document.currentScript.previousElementSibling;\n",
       "    if (outputDiv.id !== \"altair-viz-4282d09bf7a94c6eb15824e108345f36\") {\n",
       "      outputDiv = document.getElementById(\"altair-viz-4282d09bf7a94c6eb15824e108345f36\");\n",
       "    }\n",
       "    const paths = {\n",
       "      \"vega\": \"https://cdn.jsdelivr.net/npm//vega@5?noext\",\n",
       "      \"vega-lib\": \"https://cdn.jsdelivr.net/npm//vega-lib?noext\",\n",
       "      \"vega-lite\": \"https://cdn.jsdelivr.net/npm//vega-lite@4.17.0?noext\",\n",
       "      \"vega-embed\": \"https://cdn.jsdelivr.net/npm//vega-embed@6?noext\",\n",
       "    };\n",
       "\n",
       "    function maybeLoadScript(lib, version) {\n",
       "      var key = `${lib.replace(\"-\", \"\")}_version`;\n",
       "      return (VEGA_DEBUG[key] == version) ?\n",
       "        Promise.resolve(paths[lib]) :\n",
       "        new Promise(function(resolve, reject) {\n",
       "          var s = document.createElement('script');\n",
       "          document.getElementsByTagName(\"head\")[0].appendChild(s);\n",
       "          s.async = true;\n",
       "          s.onload = () => {\n",
       "            VEGA_DEBUG[key] = version;\n",
       "            return resolve(paths[lib]);\n",
       "          };\n",
       "          s.onerror = () => reject(`Error loading script: ${paths[lib]}`);\n",
       "          s.src = paths[lib];\n",
       "        });\n",
       "    }\n",
       "\n",
       "    function showError(err) {\n",
       "      outputDiv.innerHTML = `<div class=\"error\" style=\"color:red;\">${err}</div>`;\n",
       "      throw err;\n",
       "    }\n",
       "\n",
       "    function displayChart(vegaEmbed) {\n",
       "      vegaEmbed(outputDiv, spec, embedOpt)\n",
       "        .catch(err => showError(`Javascript Error: ${err.message}<br>This usually means there's a typo in your chart specification. See the javascript console for the full traceback.`));\n",
       "    }\n",
       "\n",
       "    if(typeof define === \"function\" && define.amd) {\n",
       "      requirejs.config({paths});\n",
       "      require([\"vega-embed\"], displayChart, err => showError(`Error loading script: ${err.message}`));\n",
       "    } else {\n",
       "      maybeLoadScript(\"vega\", \"5\")\n",
       "        .then(() => maybeLoadScript(\"vega-lite\", \"4.17.0\"))\n",
       "        .then(() => maybeLoadScript(\"vega-embed\", \"6\"))\n",
       "        .catch(showError)\n",
       "        .then(() => displayChart(vegaEmbed));\n",
       "    }\n",
       "  })({\"config\": {\"view\": {\"continuousWidth\": 400, \"continuousHeight\": 300}}, \"layer\": [{\"data\": {\"name\": \"data-0b1455ea1d60faf9109332068b447084\"}, \"mark\": \"bar\", \"encoding\": {\"color\": {\"field\": \"total_value\", \"legend\": {\"title\": \"Ingresos\"}, \"scale\": {\"scheme\": \"goldgreen\", \"type\": \"sqrt\"}, \"type\": \"quantitative\"}, \"x\": {\"field\": \"origin\", \"sort\": [\"Porcentaje_apoyo_sales\"], \"title\": \"Pais de origen \", \"type\": \"nominal\"}, \"y\": {\"field\": \"Porcentaje_apoyo_sales\", \"title\": \"Ingresos totales\", \"type\": \"quantitative\"}}, \"selection\": {\"selector026\": {\"type\": \"interval\", \"bind\": \"scales\", \"encodings\": [\"x\", \"y\"]}}}, {\"data\": {\"name\": \"data-0b1455ea1d60faf9109332068b447084\"}, \"mark\": {\"type\": \"text\", \"align\": \"left\", \"dx\": 15, \"size\": 13}, \"encoding\": {\"text\": {\"field\": \"total_value\", \"format\": \".3s\", \"type\": \"quantitative\"}, \"x\": {\"field\": \"origin\", \"sort\": [\"Porcentaje_apoyo_sales\"], \"type\": \"nominal\"}, \"y\": {\"axis\": {\"format\": \".2s\"}, \"field\": \"Porcentaje_apoyo_sales\", \"stack\": null, \"type\": \"quantitative\"}}}], \"title\": \"Ganancias por importaci\\u00f3nes\", \"width\": 600, \"$schema\": \"https://vega.github.io/schema/vega-lite/v4.17.0.json\", \"datasets\": {\"data-0b1455ea1d60faf9109332068b447084\": [{\"origin\": \"China\", \"total_value\": 12233000000, \"Porcentaje_apoyo_sales\": 22.03, \"Promedio\": 22.03}, {\"origin\": \"Japan\", \"total_value\": 8094000000, \"Porcentaje_apoyo_sales\": 14.576, \"Promedio\": 36.606}, {\"origin\": \"USA\", \"total_value\": 5291000000, \"Porcentaje_apoyo_sales\": 9.529, \"Promedio\": 46.135000000000005}, {\"origin\": \"Mexico\", \"total_value\": 4621000000, \"Porcentaje_apoyo_sales\": 8.322, \"Promedio\": 54.45700000000001}, {\"origin\": \"Germany\", \"total_value\": 4250000000, \"Porcentaje_apoyo_sales\": 7.654, \"Promedio\": 62.111000000000004}, {\"origin\": \"Singapore\", \"total_value\": 4017000000, \"Porcentaje_apoyo_sales\": 7.234, \"Promedio\": 69.345}, {\"origin\": \"South Korea\", \"total_value\": 3889000000, \"Porcentaje_apoyo_sales\": 7.004, \"Promedio\": 76.349}]}}, {\"mode\": \"vega-lite\"});\n",
       "</script>"
      ],
      "text/plain": [
       "alt.LayerChart(...)"
      ]
     },
     "execution_count": 97,
     "metadata": {},
     "output_type": "execute_result"
    }
   ],
   "source": [
    "line = alt.Chart(grupo_inport_sales.head(10)).mark_bar().encode(\n",
    "    x=alt.X('origin' , title='Pais de origen ',sort=alt.SortArray(['Porcentaje_apoyo_sales'])),\n",
    "    y=alt.Y('Porcentaje_apoyo_sales', title='Ingresos totales'),\n",
    "    color=alt.Color(\"total_value\", legend=alt.Legend(title=\"Ingresos\"),scale=alt.Scale(scheme='goldgreen',type= 'sqrt')),   \n",
    ")\n",
    "\n",
    "area= alt.Chart(grupo_inport_sales.head(10)).mark_area(opacity=0.3).encode(\n",
    "    x=alt.X('origin',sort=alt.SortArray(['Porcentaje_apoyo_sales'])),\n",
    "    y=alt.Y('Porcentaje_apoyo_sales',stack=None,axis=alt.Axis(format=\".2s\") )\n",
    "    # color=\"product\"\n",
    ").mark_text(align='left',dx=15,size=13).encode(text = alt.Text('total_value:Q', format = \".3s\"))\n",
    "\n",
    "(line + area ).properties(width=600, title=\"Ganancias por importaciónes\").interactive()\n"
   ]
  },
  {
   "cell_type": "code",
   "execution_count": 92,
   "metadata": {},
   "outputs": [
    {
     "name": "stdout",
     "output_type": "stream",
     "text": [
      "        origin  total_value  Porcentaje_apoyo_sales  Promedio\n",
      "0        China  12233000000                  22.030    22.030\n",
      "1        Japan   8094000000                  14.576    36.606\n",
      "2          USA   5291000000                   9.529    46.135\n",
      "3       Mexico   4621000000                   8.322    54.457\n",
      "4      Germany   4250000000                   7.654    62.111\n",
      "5    Singapore   4017000000                   7.234    69.345\n",
      "6  South Korea   3889000000                   7.004    76.349\n"
     ]
    },
    {
     "data": {
      "text/html": [
       "\n",
       "<div id=\"altair-viz-63373c7579654370a27143021612315c\"></div>\n",
       "<script type=\"text/javascript\">\n",
       "  var VEGA_DEBUG = (typeof VEGA_DEBUG == \"undefined\") ? {} : VEGA_DEBUG;\n",
       "  (function(spec, embedOpt){\n",
       "    let outputDiv = document.currentScript.previousElementSibling;\n",
       "    if (outputDiv.id !== \"altair-viz-63373c7579654370a27143021612315c\") {\n",
       "      outputDiv = document.getElementById(\"altair-viz-63373c7579654370a27143021612315c\");\n",
       "    }\n",
       "    const paths = {\n",
       "      \"vega\": \"https://cdn.jsdelivr.net/npm//vega@5?noext\",\n",
       "      \"vega-lib\": \"https://cdn.jsdelivr.net/npm//vega-lib?noext\",\n",
       "      \"vega-lite\": \"https://cdn.jsdelivr.net/npm//vega-lite@4.17.0?noext\",\n",
       "      \"vega-embed\": \"https://cdn.jsdelivr.net/npm//vega-embed@6?noext\",\n",
       "    };\n",
       "\n",
       "    function maybeLoadScript(lib, version) {\n",
       "      var key = `${lib.replace(\"-\", \"\")}_version`;\n",
       "      return (VEGA_DEBUG[key] == version) ?\n",
       "        Promise.resolve(paths[lib]) :\n",
       "        new Promise(function(resolve, reject) {\n",
       "          var s = document.createElement('script');\n",
       "          document.getElementsByTagName(\"head\")[0].appendChild(s);\n",
       "          s.async = true;\n",
       "          s.onload = () => {\n",
       "            VEGA_DEBUG[key] = version;\n",
       "            return resolve(paths[lib]);\n",
       "          };\n",
       "          s.onerror = () => reject(`Error loading script: ${paths[lib]}`);\n",
       "          s.src = paths[lib];\n",
       "        });\n",
       "    }\n",
       "\n",
       "    function showError(err) {\n",
       "      outputDiv.innerHTML = `<div class=\"error\" style=\"color:red;\">${err}</div>`;\n",
       "      throw err;\n",
       "    }\n",
       "\n",
       "    function displayChart(vegaEmbed) {\n",
       "      vegaEmbed(outputDiv, spec, embedOpt)\n",
       "        .catch(err => showError(`Javascript Error: ${err.message}<br>This usually means there's a typo in your chart specification. See the javascript console for the full traceback.`));\n",
       "    }\n",
       "\n",
       "    if(typeof define === \"function\" && define.amd) {\n",
       "      requirejs.config({paths});\n",
       "      require([\"vega-embed\"], displayChart, err => showError(`Error loading script: ${err.message}`));\n",
       "    } else {\n",
       "      maybeLoadScript(\"vega\", \"5\")\n",
       "        .then(() => maybeLoadScript(\"vega-lite\", \"4.17.0\"))\n",
       "        .then(() => maybeLoadScript(\"vega-embed\", \"6\"))\n",
       "        .catch(showError)\n",
       "        .then(() => displayChart(vegaEmbed));\n",
       "    }\n",
       "  })({\"config\": {\"view\": {\"continuousWidth\": 400, \"continuousHeight\": 300}}, \"layer\": [{\"mark\": {\"type\": \"arc\", \"innerRadius\": 20, \"stroke\": \"#fff\"}, \"encoding\": {\"color\": {\"field\": \"Porcentaje_apoyo_sales\", \"type\": \"nominal\"}, \"radius\": {\"field\": \"Porcentaje_apoyo_sales\", \"scale\": {\"rangeMin\": 20, \"type\": \"sqrt\", \"zero\": true}, \"type\": \"quantitative\"}, \"theta\": {\"field\": \"Porcentaje_apoyo_sales\", \"stack\": true, \"type\": \"quantitative\"}}}, {\"mark\": {\"type\": \"text\", \"radiusOffset\": 10}, \"encoding\": {\"color\": {\"field\": \"Porcentaje_apoyo_sales\", \"type\": \"nominal\"}, \"radius\": {\"field\": \"Porcentaje_apoyo_sales\", \"scale\": {\"rangeMin\": 20, \"type\": \"sqrt\", \"zero\": true}, \"type\": \"quantitative\"}, \"text\": {\"field\": \"origin\", \"type\": \"nominal\"}, \"theta\": {\"field\": \"Porcentaje_apoyo_sales\", \"stack\": true, \"type\": \"quantitative\"}}}], \"data\": {\"name\": \"data-0b1455ea1d60faf9109332068b447084\"}, \"title\": \"Top rutas con mayores ingresos en importaci\\u00f3n\", \"width\": 500, \"$schema\": \"https://vega.github.io/schema/vega-lite/v4.17.0.json\", \"datasets\": {\"data-0b1455ea1d60faf9109332068b447084\": [{\"origin\": \"China\", \"total_value\": 12233000000, \"Porcentaje_apoyo_sales\": 22.03, \"Promedio\": 22.03}, {\"origin\": \"Japan\", \"total_value\": 8094000000, \"Porcentaje_apoyo_sales\": 14.576, \"Promedio\": 36.606}, {\"origin\": \"USA\", \"total_value\": 5291000000, \"Porcentaje_apoyo_sales\": 9.529, \"Promedio\": 46.135000000000005}, {\"origin\": \"Mexico\", \"total_value\": 4621000000, \"Porcentaje_apoyo_sales\": 8.322, \"Promedio\": 54.45700000000001}, {\"origin\": \"Germany\", \"total_value\": 4250000000, \"Porcentaje_apoyo_sales\": 7.654, \"Promedio\": 62.111000000000004}, {\"origin\": \"Singapore\", \"total_value\": 4017000000, \"Porcentaje_apoyo_sales\": 7.234, \"Promedio\": 69.345}, {\"origin\": \"South Korea\", \"total_value\": 3889000000, \"Porcentaje_apoyo_sales\": 7.004, \"Promedio\": 76.349}]}}, {\"mode\": \"vega-lite\"});\n",
       "</script>"
      ],
      "text/plain": [
       "alt.LayerChart(...)"
      ]
     },
     "execution_count": 92,
     "metadata": {},
     "output_type": "execute_result"
    }
   ],
   "source": [
    "print(grupo_inport_sales)\n",
    "base = alt.Chart(grupo_inport_sales.head(10)).encode(\n",
    "    theta=alt.Theta(\"Porcentaje_apoyo_sales:Q\", stack=True),\n",
    "    radius=alt.Radius(\"Porcentaje_apoyo_sales\", scale=alt.Scale(type=\"sqrt\", zero=True, rangeMin=20)),\n",
    "    color=\"Porcentaje_apoyo_sales:N\",\n",
    ")\n",
    "\n",
    "c1 = base.mark_arc(innerRadius=20, stroke=\"#fff\")\n",
    "\n",
    "c2 = base.mark_text(radiusOffset=10).encode(text=\"origin:N\")\n",
    "\n",
    "( c1 + c2 ).properties(width=500, title=\"Top rutas con mayores ingresos en importación\")"
   ]
  },
  {
   "cell_type": "markdown",
   "metadata": {},
   "source": [
    "####  Grafica de los datos de las  importaciónes (Conteo rutas)"
   ]
  },
  {
   "cell_type": "code",
   "execution_count": 90,
   "metadata": {},
   "outputs": [
    {
     "name": "stdout",
     "output_type": "stream",
     "text": [
      "    origin  register_id  Porcentaje_apoyo\n",
      "0    China          615            16.859\n",
      "1    Japan          445            12.198\n",
      "2      USA          376            10.307\n",
      "3  Germany          369            10.115\n",
      "4   Mexico          366            10.033\n"
     ]
    },
    {
     "data": {
      "text/html": [
       "\n",
       "<div id=\"altair-viz-cea872abf6c9488589e5461c34dcae9e\"></div>\n",
       "<script type=\"text/javascript\">\n",
       "  var VEGA_DEBUG = (typeof VEGA_DEBUG == \"undefined\") ? {} : VEGA_DEBUG;\n",
       "  (function(spec, embedOpt){\n",
       "    let outputDiv = document.currentScript.previousElementSibling;\n",
       "    if (outputDiv.id !== \"altair-viz-cea872abf6c9488589e5461c34dcae9e\") {\n",
       "      outputDiv = document.getElementById(\"altair-viz-cea872abf6c9488589e5461c34dcae9e\");\n",
       "    }\n",
       "    const paths = {\n",
       "      \"vega\": \"https://cdn.jsdelivr.net/npm//vega@5?noext\",\n",
       "      \"vega-lib\": \"https://cdn.jsdelivr.net/npm//vega-lib?noext\",\n",
       "      \"vega-lite\": \"https://cdn.jsdelivr.net/npm//vega-lite@4.17.0?noext\",\n",
       "      \"vega-embed\": \"https://cdn.jsdelivr.net/npm//vega-embed@6?noext\",\n",
       "    };\n",
       "\n",
       "    function maybeLoadScript(lib, version) {\n",
       "      var key = `${lib.replace(\"-\", \"\")}_version`;\n",
       "      return (VEGA_DEBUG[key] == version) ?\n",
       "        Promise.resolve(paths[lib]) :\n",
       "        new Promise(function(resolve, reject) {\n",
       "          var s = document.createElement('script');\n",
       "          document.getElementsByTagName(\"head\")[0].appendChild(s);\n",
       "          s.async = true;\n",
       "          s.onload = () => {\n",
       "            VEGA_DEBUG[key] = version;\n",
       "            return resolve(paths[lib]);\n",
       "          };\n",
       "          s.onerror = () => reject(`Error loading script: ${paths[lib]}`);\n",
       "          s.src = paths[lib];\n",
       "        });\n",
       "    }\n",
       "\n",
       "    function showError(err) {\n",
       "      outputDiv.innerHTML = `<div class=\"error\" style=\"color:red;\">${err}</div>`;\n",
       "      throw err;\n",
       "    }\n",
       "\n",
       "    function displayChart(vegaEmbed) {\n",
       "      vegaEmbed(outputDiv, spec, embedOpt)\n",
       "        .catch(err => showError(`Javascript Error: ${err.message}<br>This usually means there's a typo in your chart specification. See the javascript console for the full traceback.`));\n",
       "    }\n",
       "\n",
       "    if(typeof define === \"function\" && define.amd) {\n",
       "      requirejs.config({paths});\n",
       "      require([\"vega-embed\"], displayChart, err => showError(`Error loading script: ${err.message}`));\n",
       "    } else {\n",
       "      maybeLoadScript(\"vega\", \"5\")\n",
       "        .then(() => maybeLoadScript(\"vega-lite\", \"4.17.0\"))\n",
       "        .then(() => maybeLoadScript(\"vega-embed\", \"6\"))\n",
       "        .catch(showError)\n",
       "        .then(() => displayChart(vegaEmbed));\n",
       "    }\n",
       "  })({\"config\": {\"view\": {\"continuousWidth\": 400, \"continuousHeight\": 300}}, \"layer\": [{\"mark\": {\"type\": \"arc\", \"innerRadius\": 20, \"stroke\": \"#ffF\"}, \"encoding\": {\"color\": {\"field\": \"Porcentaje_apoyo\", \"legend\": {\"title\": \"% de rutas\"}, \"type\": \"nominal\"}, \"radius\": {\"field\": \"Porcentaje_apoyo\", \"scale\": {\"rangeMin\": 30, \"type\": \"sqrt\", \"zero\": true}, \"type\": \"quantitative\"}, \"theta\": {\"field\": \"Porcentaje_apoyo\", \"stack\": true, \"type\": \"quantitative\"}}}, {\"mark\": {\"type\": \"text\", \"radiusOffset\": 10, \"size\": 14}, \"encoding\": {\"color\": {\"field\": \"Porcentaje_apoyo\", \"legend\": {\"title\": \"% de rutas\"}, \"type\": \"nominal\"}, \"radius\": {\"field\": \"Porcentaje_apoyo\", \"scale\": {\"rangeMin\": 30, \"type\": \"sqrt\", \"zero\": true}, \"type\": \"quantitative\"}, \"text\": {\"field\": \"origin\", \"type\": \"nominal\"}, \"theta\": {\"field\": \"Porcentaje_apoyo\", \"stack\": true, \"type\": \"quantitative\"}}}], \"data\": {\"name\": \"data-b2dc40c25d74626c37974df9bab91dc5\"}, \"title\": \"Porcentaje rutas de exportaciones por pa\\u00eds\", \"width\": 500, \"$schema\": \"https://vega.github.io/schema/vega-lite/v4.17.0.json\", \"datasets\": {\"data-b2dc40c25d74626c37974df9bab91dc5\": [{\"origin\": \"China\", \"register_id\": 615, \"Porcentaje_apoyo\": 16.859}, {\"origin\": \"Japan\", \"register_id\": 445, \"Porcentaje_apoyo\": 12.198}, {\"origin\": \"USA\", \"register_id\": 376, \"Porcentaje_apoyo\": 10.307}, {\"origin\": \"Germany\", \"register_id\": 369, \"Porcentaje_apoyo\": 10.115}, {\"origin\": \"Mexico\", \"register_id\": 366, \"Porcentaje_apoyo\": 10.033}, {\"origin\": \"Singapore\", \"register_id\": 273, \"Porcentaje_apoyo\": 7.484}, {\"origin\": \"Malaysia\", \"register_id\": 199, \"Porcentaje_apoyo\": 5.455}, {\"origin\": \"Spain\", \"register_id\": 183, \"Porcentaje_apoyo\": 5.016}, {\"origin\": \"France\", \"register_id\": 169, \"Porcentaje_apoyo\": 4.633}, {\"origin\": \"South Korea\", \"register_id\": 161, \"Porcentaje_apoyo\": 4.413}]}}, {\"mode\": \"vega-lite\"});\n",
       "</script>"
      ],
      "text/plain": [
       "alt.LayerChart(...)"
      ]
     },
     "execution_count": 90,
     "metadata": {},
     "output_type": "execute_result"
    }
   ],
   "source": [
    "print(grupo_import_country.head())\n",
    "line = alt.Chart(grupo_import_country.head(10)).mark_point().encode(\n",
    "    x=alt.X('origin' , title='Pais de origen ',sort=alt.SortArray(['Porcentaje_apoyo'])),\n",
    "    y=alt.Y('Porcentaje_apoyo', title='Porsentaje de ingresosso totales'),\n",
    "    # color=alt.Color(\"total_value\"goldgreen )\n",
    "    color=alt.Color(\"total_value\", legend=alt.Legend(title=\"Ingresos\"),scale=alt.Scale(scheme='goldgreen',type= 'sqrt')),   \n",
    ")\n",
    "\n",
    "area= alt.Chart(grupo_import_country.head(10)).mark_area(opacity=0.3).encode(\n",
    "    x=alt.X('origin',sort=alt.SortArray(['Porcentaje_apoyo'])),\n",
    "    y=alt.Y('Porcentaje_apoyo',stack=None, )\n",
    "    # color=\"product\"\n",
    ").mark_text(align='left',dx=15,size=13).encode(text='total_value:Q')\n",
    "\n",
    "(line + area ).properties(width=500, title=\"Historial de top 5 rutas den 2020\")\n",
    "\n",
    "base = alt.Chart(grupo_import_country.head(10)).encode(\n",
    "    theta=alt.Theta(\"Porcentaje_apoyo:Q\", stack=True),\n",
    "    radius=alt.Radius(\"Porcentaje_apoyo\", scale=alt.Scale(type=\"sqrt\", zero=True, rangeMin=30)),\n",
    "    color=alt.Color(\"Porcentaje_apoyo:N\", legend=alt.Legend(title='% de rutas')),   \n",
    ")\n",
    "\n",
    "c1 = base.mark_arc(innerRadius=20, stroke=\"#ffF\")\n",
    "\n",
    "c2 = base.mark_text(radiusOffset=10 ,size=14).encode(text=\"origin:N\")\n",
    "\n",
    "(c1 + c2).properties(width=500, title=\"Porcentaje rutas de exportaciones por país\")"
   ]
  },
  {
   "cell_type": "markdown",
   "metadata": {},
   "source": [
    "#### Historico por pais top 5 importación"
   ]
  },
  {
   "cell_type": "code",
   "execution_count": 74,
   "metadata": {},
   "outputs": [],
   "source": [
    "list_histo_3=[]\n",
    "for index in range(5):\n",
    "    first=left_join.iloc[index]\n",
    "    query=f'origin == \"{first.origin_x}\" '\n",
    "    first_route_hist = df_import.query(query).groupby(['year','origin']).count()['register_id']\n",
    "    first_route_hist = first_route_hist.to_frame().reset_index()\n",
    "    list_histo_3.append(first_route_hist)"
   ]
  },
  {
   "cell_type": "markdown",
   "metadata": {},
   "source": [
    "#### Formula de prediccion"
   ]
  },
  {
   "cell_type": "code",
   "execution_count": null,
   "metadata": {},
   "outputs": [],
   "source": [
    "# Regrecion lineal -->"
   ]
  },
  {
   "cell_type": "markdown",
   "metadata": {},
   "source": [
    "#### Grafica Historico top 5 países mas relevantes"
   ]
  },
  {
   "cell_type": "code",
   "execution_count": 60,
   "metadata": {},
   "outputs": [
    {
     "name": "stdout",
     "output_type": "stream",
     "text": [
      "['year' 'origin' 'register_id']\n"
     ]
    },
    {
     "data": {
      "text/html": [
       "\n",
       "<div id=\"altair-viz-5590735d279c4695bab0fef188c49b23\"></div>\n",
       "<script type=\"text/javascript\">\n",
       "  var VEGA_DEBUG = (typeof VEGA_DEBUG == \"undefined\") ? {} : VEGA_DEBUG;\n",
       "  (function(spec, embedOpt){\n",
       "    let outputDiv = document.currentScript.previousElementSibling;\n",
       "    if (outputDiv.id !== \"altair-viz-5590735d279c4695bab0fef188c49b23\") {\n",
       "      outputDiv = document.getElementById(\"altair-viz-5590735d279c4695bab0fef188c49b23\");\n",
       "    }\n",
       "    const paths = {\n",
       "      \"vega\": \"https://cdn.jsdelivr.net/npm//vega@5?noext\",\n",
       "      \"vega-lib\": \"https://cdn.jsdelivr.net/npm//vega-lib?noext\",\n",
       "      \"vega-lite\": \"https://cdn.jsdelivr.net/npm//vega-lite@4.17.0?noext\",\n",
       "      \"vega-embed\": \"https://cdn.jsdelivr.net/npm//vega-embed@6?noext\",\n",
       "    };\n",
       "\n",
       "    function maybeLoadScript(lib, version) {\n",
       "      var key = `${lib.replace(\"-\", \"\")}_version`;\n",
       "      return (VEGA_DEBUG[key] == version) ?\n",
       "        Promise.resolve(paths[lib]) :\n",
       "        new Promise(function(resolve, reject) {\n",
       "          var s = document.createElement('script');\n",
       "          document.getElementsByTagName(\"head\")[0].appendChild(s);\n",
       "          s.async = true;\n",
       "          s.onload = () => {\n",
       "            VEGA_DEBUG[key] = version;\n",
       "            return resolve(paths[lib]);\n",
       "          };\n",
       "          s.onerror = () => reject(`Error loading script: ${paths[lib]}`);\n",
       "          s.src = paths[lib];\n",
       "        });\n",
       "    }\n",
       "\n",
       "    function showError(err) {\n",
       "      outputDiv.innerHTML = `<div class=\"error\" style=\"color:red;\">${err}</div>`;\n",
       "      throw err;\n",
       "    }\n",
       "\n",
       "    function displayChart(vegaEmbed) {\n",
       "      vegaEmbed(outputDiv, spec, embedOpt)\n",
       "        .catch(err => showError(`Javascript Error: ${err.message}<br>This usually means there's a typo in your chart specification. See the javascript console for the full traceback.`));\n",
       "    }\n",
       "\n",
       "    if(typeof define === \"function\" && define.amd) {\n",
       "      requirejs.config({paths});\n",
       "      require([\"vega-embed\"], displayChart, err => showError(`Error loading script: ${err.message}`));\n",
       "    } else {\n",
       "      maybeLoadScript(\"vega\", \"5\")\n",
       "        .then(() => maybeLoadScript(\"vega-lite\", \"4.17.0\"))\n",
       "        .then(() => maybeLoadScript(\"vega-embed\", \"6\"))\n",
       "        .catch(showError)\n",
       "        .then(() => displayChart(vegaEmbed));\n",
       "    }\n",
       "  })({\"config\": {\"view\": {\"continuousWidth\": 400, \"continuousHeight\": 300}}, \"layer\": [{\"data\": {\"name\": \"data-197e577a3cad46108220fbe96807de95\"}, \"mark\": \"line\", \"encoding\": {\"color\": {\"field\": \"origin\", \"type\": \"nominal\"}, \"x\": {\"field\": \"year\", \"title\": \"A\\u00f1o\", \"type\": \"ordinal\"}, \"y\": {\"field\": \"register_id\", \"title\": \"Numero de rutas\", \"type\": \"quantitative\"}}}, {\"data\": {\"name\": \"data-34445432e6dd1be2d18e71d244709afd\"}, \"mark\": \"line\", \"encoding\": {\"color\": {\"field\": \"origin\", \"type\": \"nominal\"}, \"x\": {\"field\": \"year\", \"title\": \"A\\u00f1o\", \"type\": \"ordinal\"}, \"y\": {\"field\": \"register_id\", \"type\": \"quantitative\"}}}, {\"data\": {\"name\": \"data-7e8216c42e38650d4bc3d28d8eba30fb\"}, \"mark\": \"line\", \"encoding\": {\"color\": {\"field\": \"origin\", \"type\": \"nominal\"}, \"x\": {\"field\": \"year\", \"title\": \"A\\u00f1o\", \"type\": \"ordinal\"}, \"y\": {\"field\": \"register_id\", \"type\": \"quantitative\"}}}, {\"data\": {\"name\": \"data-050cc3a1f7c26231e15f46b389d2132c\"}, \"mark\": \"line\", \"encoding\": {\"color\": {\"field\": \"origin\", \"type\": \"nominal\"}, \"x\": {\"field\": \"year\", \"title\": \"A\\u00f1o\", \"type\": \"ordinal\"}, \"y\": {\"field\": \"register_id\", \"type\": \"quantitative\"}}}, {\"data\": {\"name\": \"data-7c4453b146066e39e7da91f3cdf14d9d\"}, \"mark\": \"line\", \"encoding\": {\"color\": {\"field\": \"origin\", \"type\": \"nominal\"}, \"x\": {\"field\": \"year\", \"title\": \"A\\u00f1o\", \"type\": \"ordinal\"}, \"y\": {\"field\": \"register_id\", \"type\": \"quantitative\"}}}, {\"data\": {\"name\": \"data-197e577a3cad46108220fbe96807de95\"}, \"mark\": {\"type\": \"text\", \"align\": \"center\", \"dx\": 15, \"size\": 13}, \"encoding\": {\"color\": {\"field\": \"origin\", \"type\": \"nominal\"}, \"text\": {\"field\": \"register_id\", \"type\": \"quantitative\"}, \"x\": {\"field\": \"year\", \"type\": \"ordinal\"}, \"y\": {\"field\": \"origin\", \"stack\": null, \"type\": \"quantitative\"}}}, {\"data\": {\"name\": \"data-34445432e6dd1be2d18e71d244709afd\"}, \"mark\": {\"type\": \"text\", \"align\": \"center\", \"dx\": 15, \"size\": 13}, \"encoding\": {\"color\": {\"field\": \"origin\", \"type\": \"nominal\"}, \"text\": {\"field\": \"register_id\", \"type\": \"quantitative\"}, \"x\": {\"field\": \"year\", \"type\": \"ordinal\"}, \"y\": {\"field\": \"register_id\", \"stack\": null, \"type\": \"quantitative\"}}}, {\"data\": {\"name\": \"data-7e8216c42e38650d4bc3d28d8eba30fb\"}, \"mark\": {\"type\": \"text\", \"align\": \"center\", \"dx\": 15, \"size\": 13}, \"encoding\": {\"color\": {\"field\": \"origin\", \"type\": \"nominal\"}, \"text\": {\"field\": \"register_id\", \"type\": \"quantitative\"}, \"x\": {\"field\": \"year\", \"type\": \"ordinal\"}, \"y\": {\"field\": \"register_id\", \"stack\": null, \"type\": \"quantitative\"}}}, {\"data\": {\"name\": \"data-050cc3a1f7c26231e15f46b389d2132c\"}, \"mark\": {\"type\": \"text\", \"align\": \"center\", \"dx\": 15, \"size\": 13}, \"encoding\": {\"color\": {\"field\": \"origin\", \"type\": \"nominal\"}, \"text\": {\"field\": \"register_id\", \"type\": \"quantitative\"}, \"x\": {\"field\": \"year\", \"type\": \"ordinal\"}, \"y\": {\"field\": \"register_id\", \"stack\": null, \"type\": \"quantitative\"}}}, {\"data\": {\"name\": \"data-7c4453b146066e39e7da91f3cdf14d9d\"}, \"mark\": {\"type\": \"text\", \"align\": \"center\", \"dx\": 15, \"size\": 13}, \"encoding\": {\"color\": {\"field\": \"origin\", \"type\": \"nominal\"}, \"text\": {\"field\": \"register_id\", \"type\": \"quantitative\"}, \"x\": {\"field\": \"year\", \"type\": \"ordinal\"}, \"y\": {\"field\": \"register_id\", \"stack\": null, \"type\": \"quantitative\"}}}], \"title\": \"Historial de top 5 rutas den 2020\", \"width\": 500, \"$schema\": \"https://vega.github.io/schema/vega-lite/v4.17.0.json\", \"datasets\": {\"data-197e577a3cad46108220fbe96807de95\": [{\"year\": 2015, \"origin\": \"China\", \"register_id\": 80}, {\"year\": 2016, \"origin\": \"China\", \"register_id\": 115}, {\"year\": 2017, \"origin\": \"China\", \"register_id\": 83}, {\"year\": 2018, \"origin\": \"China\", \"register_id\": 111}, {\"year\": 2019, \"origin\": \"China\", \"register_id\": 121}, {\"year\": 2020, \"origin\": \"China\", \"register_id\": 105}], \"data-34445432e6dd1be2d18e71d244709afd\": [{\"year\": 2015, \"origin\": \"Japan\", \"register_id\": 47}, {\"year\": 2016, \"origin\": \"Japan\", \"register_id\": 91}, {\"year\": 2017, \"origin\": \"Japan\", \"register_id\": 96}, {\"year\": 2018, \"origin\": \"Japan\", \"register_id\": 83}, {\"year\": 2019, \"origin\": \"Japan\", \"register_id\": 81}, {\"year\": 2020, \"origin\": \"Japan\", \"register_id\": 47}], \"data-7e8216c42e38650d4bc3d28d8eba30fb\": [{\"year\": 2015, \"origin\": \"USA\", \"register_id\": 75}, {\"year\": 2016, \"origin\": \"USA\", \"register_id\": 64}, {\"year\": 2017, \"origin\": \"USA\", \"register_id\": 61}, {\"year\": 2018, \"origin\": \"USA\", \"register_id\": 42}, {\"year\": 2019, \"origin\": \"USA\", \"register_id\": 30}, {\"year\": 2020, \"origin\": \"USA\", \"register_id\": 104}], \"data-050cc3a1f7c26231e15f46b389d2132c\": [{\"year\": 2015, \"origin\": \"Mexico\", \"register_id\": 81}, {\"year\": 2016, \"origin\": \"Mexico\", \"register_id\": 41}, {\"year\": 2017, \"origin\": \"Mexico\", \"register_id\": 4}, {\"year\": 2018, \"origin\": \"Mexico\", \"register_id\": 211}, {\"year\": 2019, \"origin\": \"Mexico\", \"register_id\": 11}, {\"year\": 2020, \"origin\": \"Mexico\", \"register_id\": 18}], \"data-7c4453b146066e39e7da91f3cdf14d9d\": [{\"year\": 2015, \"origin\": \"Germany\", \"register_id\": 12}, {\"year\": 2017, \"origin\": \"Germany\", \"register_id\": 90}, {\"year\": 2018, \"origin\": \"Germany\", \"register_id\": 48}, {\"year\": 2019, \"origin\": \"Germany\", \"register_id\": 168}, {\"year\": 2020, \"origin\": \"Germany\", \"register_id\": 51}]}}, {\"mode\": \"vega-lite\"});\n",
       "</script>"
      ],
      "text/plain": [
       "alt.LayerChart(...)"
      ]
     },
     "execution_count": 60,
     "metadata": {},
     "output_type": "execute_result"
    }
   ],
   "source": [
    "print(list_histo_3[0].columns.values)\n",
    "line = alt.Chart(list_histo_3[0]).mark_line().encode(\n",
    "    x=alt.X('year:O' , title='Año'),\n",
    "    y=alt.Y('register_id', title='Numero de rutas'),\n",
    "    color=alt.Color(\"origin\")\n",
    ")\n",
    "\n",
    "line1 = alt.Chart(list_histo_3[1]).mark_line().encode(\n",
    "    x=alt.X('year:O',title='Año'),\n",
    "    y=alt.Y('register_id'),\n",
    "    color=alt.Color(\"origin\")\n",
    ")\n",
    "\n",
    "line2 = alt.Chart(list_histo_3[2]).mark_line().encode(\n",
    "    x=alt.X('year:O',title='Año'),\n",
    "    y=alt.Y('register_id'),\n",
    "    color=alt.Color(\"origin\")\n",
    ")\n",
    "\n",
    "line3 = alt.Chart(list_histo_3[3]).mark_line().encode(\n",
    "    x=alt.X('year:O',title='Año'),\n",
    "    y=alt.Y('register_id'),\n",
    "    color=alt.Color(\"origin\")\n",
    ")\n",
    "\n",
    "line4 = alt.Chart(list_histo_3[4]).mark_line().encode(\n",
    "    x=alt.X('year:O',title='Año'),\n",
    "    y=alt.Y('register_id'),\n",
    "    color=alt.Color(\"origin\")\n",
    ")\n",
    "\n",
    "area= alt.Chart(list_histo_3[0]).mark_area(opacity=0.3).encode(\n",
    "    x=\"year:O\",\n",
    "    y=alt.Y(\"origin:Q\", stack=None),\n",
    "    color=\"origin\"\n",
    ").mark_text(align='center',dx=15,size=13).encode(text='register_id:Q')\n",
    "\n",
    "area1= alt.Chart(list_histo_3[1]).mark_area(opacity=0.3).encode(\n",
    "    x=\"year:O\",\n",
    "    y=alt.Y(\"register_id:Q\", stack=None),\n",
    "    color=\"origin\"\n",
    ").mark_text(align='center',dx=15,size=13).encode(text='register_id:Q')\n",
    "\n",
    "area2= alt.Chart(list_histo_3[2]).mark_area(opacity=0.3).encode(\n",
    "    x=\"year:O\",\n",
    "    y=alt.Y(\"register_id:Q\", stack=None),\n",
    "    color=\"origin\"\n",
    ").mark_text(align='center',dx=15,size=13).encode(text='register_id:Q')\n",
    "\n",
    "area3= alt.Chart(list_histo_3[3]).mark_area(opacity=0.3).encode(\n",
    "    x=\"year:O\",\n",
    "    y=alt.Y(\"register_id:Q\", stack=None),\n",
    "    color=\"origin\"\n",
    ").mark_text(align='center',dx=15,size=13).encode(text='register_id:Q')\n",
    "\n",
    "area4= alt.Chart(list_histo_3[4]).mark_area(opacity=0.3).encode(\n",
    "    x=\"year:O\",\n",
    "    y=alt.Y(\"register_id:Q\", stack=None),\n",
    "    color=\"origin\"\n",
    ").mark_text(align='center',dx=15,size=13).encode(text='register_id:Q')\n",
    "\n",
    "(line + line1 + line2 + line3  + line4 + area + area1 + area2 + area3 + area4 ).properties(width=500, title=\"Historial de top 5 rutas den 2020\")\n",
    "\n",
    "# print(list_histo_3[1])"
   ]
  },
  {
   "cell_type": "code",
   "execution_count": 23,
   "metadata": {},
   "outputs": [
    {
     "name": "stdout",
     "output_type": "stream",
     "text": [
      "['register_id' 'direction' 'origin' 'destination' 'year' 'date' 'product'\n",
      " 'transport_mode' 'company_name' 'total_value']\n"
     ]
    },
    {
     "data": {
      "text/html": [
       "\n",
       "<div id=\"altair-viz-664bacd31b8d4a46899c685cfed61ec4\"></div>\n",
       "<script type=\"text/javascript\">\n",
       "  var VEGA_DEBUG = (typeof VEGA_DEBUG == \"undefined\") ? {} : VEGA_DEBUG;\n",
       "  (function(spec, embedOpt){\n",
       "    let outputDiv = document.currentScript.previousElementSibling;\n",
       "    if (outputDiv.id !== \"altair-viz-664bacd31b8d4a46899c685cfed61ec4\") {\n",
       "      outputDiv = document.getElementById(\"altair-viz-664bacd31b8d4a46899c685cfed61ec4\");\n",
       "    }\n",
       "    const paths = {\n",
       "      \"vega\": \"https://cdn.jsdelivr.net/npm//vega@5?noext\",\n",
       "      \"vega-lib\": \"https://cdn.jsdelivr.net/npm//vega-lib?noext\",\n",
       "      \"vega-lite\": \"https://cdn.jsdelivr.net/npm//vega-lite@4.17.0?noext\",\n",
       "      \"vega-embed\": \"https://cdn.jsdelivr.net/npm//vega-embed@6?noext\",\n",
       "    };\n",
       "\n",
       "    function maybeLoadScript(lib, version) {\n",
       "      var key = `${lib.replace(\"-\", \"\")}_version`;\n",
       "      return (VEGA_DEBUG[key] == version) ?\n",
       "        Promise.resolve(paths[lib]) :\n",
       "        new Promise(function(resolve, reject) {\n",
       "          var s = document.createElement('script');\n",
       "          document.getElementsByTagName(\"head\")[0].appendChild(s);\n",
       "          s.async = true;\n",
       "          s.onload = () => {\n",
       "            VEGA_DEBUG[key] = version;\n",
       "            return resolve(paths[lib]);\n",
       "          };\n",
       "          s.onerror = () => reject(`Error loading script: ${paths[lib]}`);\n",
       "          s.src = paths[lib];\n",
       "        });\n",
       "    }\n",
       "\n",
       "    function showError(err) {\n",
       "      outputDiv.innerHTML = `<div class=\"error\" style=\"color:red;\">${err}</div>`;\n",
       "      throw err;\n",
       "    }\n",
       "\n",
       "    function displayChart(vegaEmbed) {\n",
       "      vegaEmbed(outputDiv, spec, embedOpt)\n",
       "        .catch(err => showError(`Javascript Error: ${err.message}<br>This usually means there's a typo in your chart specification. See the javascript console for the full traceback.`));\n",
       "    }\n",
       "\n",
       "    if(typeof define === \"function\" && define.amd) {\n",
       "      requirejs.config({paths});\n",
       "      require([\"vega-embed\"], displayChart, err => showError(`Error loading script: ${err.message}`));\n",
       "    } else {\n",
       "      maybeLoadScript(\"vega\", \"5\")\n",
       "        .then(() => maybeLoadScript(\"vega-lite\", \"4.17.0\"))\n",
       "        .then(() => maybeLoadScript(\"vega-embed\", \"6\"))\n",
       "        .catch(showError)\n",
       "        .then(() => displayChart(vegaEmbed));\n",
       "    }\n",
       "  })({\"config\": {\"view\": {\"continuousWidth\": 400, \"continuousHeight\": 300}}, \"data\": {\"name\": \"data-bcc7888657efd6cf89d5327c7ff3afed\"}, \"mark\": {\"type\": \"circle\", \"size\": 60}, \"encoding\": {\"color\": {\"field\": \"product\", \"type\": \"nominal\"}, \"tooltip\": [{\"field\": \"transport_mode\", \"type\": \"nominal\"}, {\"field\": \"product\", \"type\": \"nominal\"}, {\"field\": \"company_name\", \"type\": \"nominal\"}, {\"field\": \"origin\", \"type\": \"nominal\"}], \"x\": {\"field\": \"date\", \"type\": \"temporal\"}, \"y\": {\"field\": \"total_value\", \"type\": \"quantitative\"}}, \"$schema\": \"https://vega.github.io/schema/vega-lite/v4.17.0.json\", \"datasets\": {\"data-bcc7888657efd6cf89d5327c7ff3afed\": [{\"register_id\": 15501, \"direction\": \"Imports\", \"origin\": \"China\", \"destination\": \"USA\", \"year\": 2015, \"date\": \"2015-03-05T00:00:00\", \"product\": \"Machinery and electronics\", \"transport_mode\": \"Sea\", \"company_name\": \"Lenovo Group Ltd\", \"total_value\": 5000000}, {\"register_id\": 15502, \"direction\": \"Imports\", \"origin\": \"China\", \"destination\": \"USA\", \"year\": 2015, \"date\": \"2015-04-05T00:00:00\", \"product\": \"Machinery and electronics\", \"transport_mode\": \"Sea\", \"company_name\": \"Lenovo Group Ltd\", \"total_value\": 34000000}, {\"register_id\": 15503, \"direction\": \"Imports\", \"origin\": \"China\", \"destination\": \"USA\", \"year\": 2015, \"date\": \"2015-05-05T00:00:00\", \"product\": \"Machinery and electronics\", \"transport_mode\": \"Sea\", \"company_name\": \"Lenovo Group Ltd\", \"total_value\": 30000000}, {\"register_id\": 15504, \"direction\": \"Imports\", \"origin\": \"China\", \"destination\": \"USA\", \"year\": 2015, \"date\": \"2015-06-05T00:00:00\", \"product\": \"Machinery and electronics\", \"transport_mode\": \"Sea\", \"company_name\": \"Lenovo Group Ltd\", \"total_value\": 32000000}, {\"register_id\": 15505, \"direction\": \"Imports\", \"origin\": \"China\", \"destination\": \"USA\", \"year\": 2015, \"date\": \"2015-07-05T00:00:00\", \"product\": \"Machinery and electronics\", \"transport_mode\": \"Sea\", \"company_name\": \"Lenovo Group Ltd\", \"total_value\": 38000000}, {\"register_id\": 15506, \"direction\": \"Imports\", \"origin\": \"China\", \"destination\": \"USA\", \"year\": 2015, \"date\": \"2015-08-05T00:00:00\", \"product\": \"Machinery and electronics\", \"transport_mode\": \"Sea\", \"company_name\": \"Lenovo Group Ltd\", \"total_value\": 27000000}, {\"register_id\": 15654, \"direction\": \"Imports\", \"origin\": \"China\", \"destination\": \"Singapore\", \"year\": 2016, \"date\": \"2016-02-05T00:00:00\", \"product\": \"Gas turbines\", \"transport_mode\": \"Sea\", \"company_name\": \"Union Energy Co\", \"total_value\": 33000000}, {\"register_id\": 15655, \"direction\": \"Imports\", \"origin\": \"China\", \"destination\": \"Singapore\", \"year\": 2016, \"date\": \"2016-03-05T00:00:00\", \"product\": \"Gas turbines\", \"transport_mode\": \"Sea\", \"company_name\": \"Union Energy Co\", \"total_value\": 38000000}, {\"register_id\": 15656, \"direction\": \"Imports\", \"origin\": \"China\", \"destination\": \"Singapore\", \"year\": 2016, \"date\": \"2016-04-05T00:00:00\", \"product\": \"Gas turbines\", \"transport_mode\": \"Sea\", \"company_name\": \"Union Energy Co\", \"total_value\": 34000000}, {\"register_id\": 15657, \"direction\": \"Imports\", \"origin\": \"China\", \"destination\": \"Singapore\", \"year\": 2016, \"date\": \"2016-05-05T00:00:00\", \"product\": \"Gas turbines\", \"transport_mode\": \"Sea\", \"company_name\": \"Union Energy Co\", \"total_value\": 36000000}, {\"register_id\": 15658, \"direction\": \"Imports\", \"origin\": \"China\", \"destination\": \"Singapore\", \"year\": 2016, \"date\": \"2016-06-05T00:00:00\", \"product\": \"Gas turbines\", \"transport_mode\": \"Sea\", \"company_name\": \"Union Energy Co\", \"total_value\": 30000000}, {\"register_id\": 15659, \"direction\": \"Imports\", \"origin\": \"China\", \"destination\": \"Singapore\", \"year\": 2016, \"date\": \"2016-07-05T00:00:00\", \"product\": \"Gas turbines\", \"transport_mode\": \"Sea\", \"company_name\": \"Union Energy Co\", \"total_value\": 3000000}, {\"register_id\": 15660, \"direction\": \"Imports\", \"origin\": \"China\", \"destination\": \"Singapore\", \"year\": 2016, \"date\": \"2016-08-05T00:00:00\", \"product\": \"Gas turbines\", \"transport_mode\": \"Sea\", \"company_name\": \"Union Energy Co\", \"total_value\": 5000000}, {\"register_id\": 15661, \"direction\": \"Imports\", \"origin\": \"China\", \"destination\": \"Singapore\", \"year\": 2016, \"date\": \"2016-09-05T00:00:00\", \"product\": \"Gas turbines\", \"transport_mode\": \"Sea\", \"company_name\": \"Union Energy Co\", \"total_value\": 32000000}, {\"register_id\": 15662, \"direction\": \"Imports\", \"origin\": \"China\", \"destination\": \"Singapore\", \"year\": 2016, \"date\": \"2016-10-05T00:00:00\", \"product\": \"Gas turbines\", \"transport_mode\": \"Sea\", \"company_name\": \"Union Energy Co\", \"total_value\": 38000000}, {\"register_id\": 15663, \"direction\": \"Imports\", \"origin\": \"China\", \"destination\": \"Singapore\", \"year\": 2016, \"date\": \"2016-11-05T00:00:00\", \"product\": \"Gas turbines\", \"transport_mode\": \"Sea\", \"company_name\": \"Union Energy Co\", \"total_value\": 38000000}, {\"register_id\": 15664, \"direction\": \"Imports\", \"origin\": \"China\", \"destination\": \"Singapore\", \"year\": 2016, \"date\": \"2016-12-05T00:00:00\", \"product\": \"Gas turbines\", \"transport_mode\": \"Sea\", \"company_name\": \"Union Energy Co\", \"total_value\": 41000000}, {\"register_id\": 15665, \"direction\": \"Imports\", \"origin\": \"China\", \"destination\": \"Singapore\", \"year\": 2016, \"date\": \"2016-05-13T00:00:00\", \"product\": \"Gas turbines\", \"transport_mode\": \"Sea\", \"company_name\": \"Union Energy Co\", \"total_value\": 36000000}, {\"register_id\": 15666, \"direction\": \"Imports\", \"origin\": \"China\", \"destination\": \"Singapore\", \"year\": 2016, \"date\": \"2016-05-14T00:00:00\", \"product\": \"Gas turbines\", \"transport_mode\": \"Sea\", \"company_name\": \"Union Energy Co\", \"total_value\": 2000000}, {\"register_id\": 15667, \"direction\": \"Imports\", \"origin\": \"China\", \"destination\": \"Singapore\", \"year\": 2016, \"date\": \"2016-05-15T00:00:00\", \"product\": \"Gas turbines\", \"transport_mode\": \"Sea\", \"company_name\": \"Union Energy Co\", \"total_value\": 4000000}, {\"register_id\": 15668, \"direction\": \"Imports\", \"origin\": \"China\", \"destination\": \"Singapore\", \"year\": 2016, \"date\": \"2016-05-16T00:00:00\", \"product\": \"Gas turbines\", \"transport_mode\": \"Sea\", \"company_name\": \"Union Energy Co\", \"total_value\": 37000000}, {\"register_id\": 15669, \"direction\": \"Imports\", \"origin\": \"China\", \"destination\": \"Singapore\", \"year\": 2016, \"date\": \"2016-05-17T00:00:00\", \"product\": \"Gas turbines\", \"transport_mode\": \"Sea\", \"company_name\": \"Union Energy Co\", \"total_value\": 38000000}, {\"register_id\": 15670, \"direction\": \"Imports\", \"origin\": \"China\", \"destination\": \"Singapore\", \"year\": 2016, \"date\": \"2016-05-18T00:00:00\", \"product\": \"Gas turbines\", \"transport_mode\": \"Sea\", \"company_name\": \"Union Energy Co\", \"total_value\": 37000000}, {\"register_id\": 15671, \"direction\": \"Imports\", \"origin\": \"China\", \"destination\": \"Singapore\", \"year\": 2016, \"date\": \"2016-05-19T00:00:00\", \"product\": \"Gas turbines\", \"transport_mode\": \"Sea\", \"company_name\": \"Union Energy Co\", \"total_value\": 34000000}, {\"register_id\": 15672, \"direction\": \"Imports\", \"origin\": \"China\", \"destination\": \"Singapore\", \"year\": 2016, \"date\": \"2016-05-20T00:00:00\", \"product\": \"Gas turbines\", \"transport_mode\": \"Sea\", \"company_name\": \"Union Energy Co\", \"total_value\": 26000000}, {\"register_id\": 15673, \"direction\": \"Imports\", \"origin\": \"China\", \"destination\": \"Singapore\", \"year\": 2016, \"date\": \"2016-05-21T00:00:00\", \"product\": \"Gas turbines\", \"transport_mode\": \"Sea\", \"company_name\": \"Union Energy Co\", \"total_value\": 4000000}, {\"register_id\": 15674, \"direction\": \"Imports\", \"origin\": \"China\", \"destination\": \"Singapore\", \"year\": 2016, \"date\": \"2016-05-22T00:00:00\", \"product\": \"Gas turbines\", \"transport_mode\": \"Sea\", \"company_name\": \"Union Energy Co\", \"total_value\": 4000000}, {\"register_id\": 15675, \"direction\": \"Imports\", \"origin\": \"China\", \"destination\": \"Singapore\", \"year\": 2016, \"date\": \"2016-05-23T00:00:00\", \"product\": \"Gas turbines\", \"transport_mode\": \"Sea\", \"company_name\": \"Union Energy Co\", \"total_value\": 32000000}, {\"register_id\": 15676, \"direction\": \"Imports\", \"origin\": \"China\", \"destination\": \"Singapore\", \"year\": 2016, \"date\": \"2016-05-24T00:00:00\", \"product\": \"Gas turbines\", \"transport_mode\": \"Sea\", \"company_name\": \"Union Energy Co\", \"total_value\": 33000000}, {\"register_id\": 15677, \"direction\": \"Imports\", \"origin\": \"China\", \"destination\": \"Singapore\", \"year\": 2016, \"date\": \"2016-05-25T00:00:00\", \"product\": \"Gas turbines\", \"transport_mode\": \"Sea\", \"company_name\": \"Union Energy Co\", \"total_value\": 36000000}, {\"register_id\": 15678, \"direction\": \"Imports\", \"origin\": \"China\", \"destination\": \"Singapore\", \"year\": 2016, \"date\": \"2016-05-26T00:00:00\", \"product\": \"Gas turbines\", \"transport_mode\": \"Sea\", \"company_name\": \"Union Energy Co\", \"total_value\": 34000000}, {\"register_id\": 15679, \"direction\": \"Imports\", \"origin\": \"China\", \"destination\": \"Singapore\", \"year\": 2016, \"date\": \"2016-05-27T00:00:00\", \"product\": \"Gas turbines\", \"transport_mode\": \"Sea\", \"company_name\": \"Union Energy Co\", \"total_value\": 31000000}, {\"register_id\": 15680, \"direction\": \"Imports\", \"origin\": \"China\", \"destination\": \"Singapore\", \"year\": 2016, \"date\": \"2016-05-28T00:00:00\", \"product\": \"Gas turbines\", \"transport_mode\": \"Sea\", \"company_name\": \"Union Energy Co\", \"total_value\": 3000000}, {\"register_id\": 15681, \"direction\": \"Imports\", \"origin\": \"China\", \"destination\": \"Singapore\", \"year\": 2016, \"date\": \"2016-05-29T00:00:00\", \"product\": \"Gas turbines\", \"transport_mode\": \"Sea\", \"company_name\": \"Union Energy Co\", \"total_value\": 4000000}, {\"register_id\": 15682, \"direction\": \"Imports\", \"origin\": \"China\", \"destination\": \"Singapore\", \"year\": 2016, \"date\": \"2016-05-30T00:00:00\", \"product\": \"Gas turbines\", \"transport_mode\": \"Sea\", \"company_name\": \"Union Energy Co\", \"total_value\": 27000000}, {\"register_id\": 15683, \"direction\": \"Imports\", \"origin\": \"China\", \"destination\": \"Singapore\", \"year\": 2016, \"date\": \"2016-05-31T00:00:00\", \"product\": \"Gas turbines\", \"transport_mode\": \"Sea\", \"company_name\": \"Union Energy Co\", \"total_value\": 28000000}, {\"register_id\": 15684, \"direction\": \"Imports\", \"origin\": \"China\", \"destination\": \"Singapore\", \"year\": 2016, \"date\": \"2016-01-06T00:00:00\", \"product\": \"Gas turbines\", \"transport_mode\": \"Sea\", \"company_name\": \"Union Energy Co\", \"total_value\": 56000000}, {\"register_id\": 15685, \"direction\": \"Imports\", \"origin\": \"China\", \"destination\": \"Singapore\", \"year\": 2016, \"date\": \"2016-02-06T00:00:00\", \"product\": \"Gas turbines\", \"transport_mode\": \"Sea\", \"company_name\": \"Union Energy Co\", \"total_value\": 40000000}, {\"register_id\": 15686, \"direction\": \"Imports\", \"origin\": \"China\", \"destination\": \"Singapore\", \"year\": 2016, \"date\": \"2016-03-06T00:00:00\", \"product\": \"Gas turbines\", \"transport_mode\": \"Sea\", \"company_name\": \"Union Energy Co\", \"total_value\": 31000000}, {\"register_id\": 15687, \"direction\": \"Imports\", \"origin\": \"China\", \"destination\": \"Singapore\", \"year\": 2016, \"date\": \"2016-04-06T00:00:00\", \"product\": \"Gas turbines\", \"transport_mode\": \"Sea\", \"company_name\": \"Union Energy Co\", \"total_value\": 2000000}, {\"register_id\": 15688, \"direction\": \"Imports\", \"origin\": \"China\", \"destination\": \"Singapore\", \"year\": 2016, \"date\": \"2016-05-06T00:00:00\", \"product\": \"Gas turbines\", \"transport_mode\": \"Sea\", \"company_name\": \"Union Energy Co\", \"total_value\": 3000000}, {\"register_id\": 15689, \"direction\": \"Imports\", \"origin\": \"China\", \"destination\": \"Singapore\", \"year\": 2016, \"date\": \"2016-06-06T00:00:00\", \"product\": \"Gas turbines\", \"transport_mode\": \"Sea\", \"company_name\": \"Union Energy Co\", \"total_value\": 5000000}, {\"register_id\": 15690, \"direction\": \"Imports\", \"origin\": \"China\", \"destination\": \"Singapore\", \"year\": 2016, \"date\": \"2016-07-06T00:00:00\", \"product\": \"Gas turbines\", \"transport_mode\": \"Sea\", \"company_name\": \"Union Energy Co\", \"total_value\": 40000000}, {\"register_id\": 15691, \"direction\": \"Imports\", \"origin\": \"China\", \"destination\": \"Singapore\", \"year\": 2016, \"date\": \"2016-08-06T00:00:00\", \"product\": \"Gas turbines\", \"transport_mode\": \"Sea\", \"company_name\": \"Union Energy Co\", \"total_value\": 39000000}, {\"register_id\": 15692, \"direction\": \"Imports\", \"origin\": \"China\", \"destination\": \"Singapore\", \"year\": 2016, \"date\": \"2016-09-06T00:00:00\", \"product\": \"Gas turbines\", \"transport_mode\": \"Sea\", \"company_name\": \"Union Energy Co\", \"total_value\": 42000000}, {\"register_id\": 15693, \"direction\": \"Imports\", \"origin\": \"China\", \"destination\": \"Singapore\", \"year\": 2016, \"date\": \"2016-10-06T00:00:00\", \"product\": \"Gas turbines\", \"transport_mode\": \"Sea\", \"company_name\": \"Union Energy Co\", \"total_value\": 28000000}, {\"register_id\": 15694, \"direction\": \"Imports\", \"origin\": \"China\", \"destination\": \"Singapore\", \"year\": 2016, \"date\": \"2016-11-06T00:00:00\", \"product\": \"Gas turbines\", \"transport_mode\": \"Sea\", \"company_name\": \"Union Energy Co\", \"total_value\": 4000000}, {\"register_id\": 15978, \"direction\": \"Imports\", \"origin\": \"China\", \"destination\": \"United Arab Emirates\", \"year\": 2018, \"date\": \"2018-05-27T00:00:00\", \"product\": \"Computers\", \"transport_mode\": \"Sea\", \"company_name\": \"Technology & Innovation Co\", \"total_value\": 6000000}, {\"register_id\": 15979, \"direction\": \"Imports\", \"origin\": \"China\", \"destination\": \"United Arab Emirates\", \"year\": 2018, \"date\": \"2018-05-28T00:00:00\", \"product\": \"Computers\", \"transport_mode\": \"Sea\", \"company_name\": \"Technology & Innovation Co\", \"total_value\": 37000000}, {\"register_id\": 15980, \"direction\": \"Imports\", \"origin\": \"China\", \"destination\": \"United Arab Emirates\", \"year\": 2018, \"date\": \"2018-05-29T00:00:00\", \"product\": \"Computers\", \"transport_mode\": \"Sea\", \"company_name\": \"Technology & Innovation Co\", \"total_value\": 43000000}, {\"register_id\": 15981, \"direction\": \"Imports\", \"origin\": \"China\", \"destination\": \"United Arab Emirates\", \"year\": 2018, \"date\": \"2018-05-30T00:00:00\", \"product\": \"Computers\", \"transport_mode\": \"Sea\", \"company_name\": \"Technology & Innovation Co\", \"total_value\": 48000000}, {\"register_id\": 15982, \"direction\": \"Imports\", \"origin\": \"China\", \"destination\": \"United Arab Emirates\", \"year\": 2018, \"date\": \"2018-05-31T00:00:00\", \"product\": \"Computers\", \"transport_mode\": \"Sea\", \"company_name\": \"Technology & Innovation Co\", \"total_value\": 44000000}, {\"register_id\": 15983, \"direction\": \"Imports\", \"origin\": \"China\", \"destination\": \"United Arab Emirates\", \"year\": 2018, \"date\": \"2018-01-06T00:00:00\", \"product\": \"Computers\", \"transport_mode\": \"Sea\", \"company_name\": \"Technology & Innovation Co\", \"total_value\": 54000000}, {\"register_id\": 15984, \"direction\": \"Imports\", \"origin\": \"China\", \"destination\": \"United Arab Emirates\", \"year\": 2018, \"date\": \"2018-02-06T00:00:00\", \"product\": \"Computers\", \"transport_mode\": \"Sea\", \"company_name\": \"Technology & Innovation Co\", \"total_value\": 4000000}, {\"register_id\": 15985, \"direction\": \"Imports\", \"origin\": \"China\", \"destination\": \"United Arab Emirates\", \"year\": 2018, \"date\": \"2018-03-06T00:00:00\", \"product\": \"Computers\", \"transport_mode\": \"Sea\", \"company_name\": \"Technology & Innovation Co\", \"total_value\": 4000000}, {\"register_id\": 15986, \"direction\": \"Imports\", \"origin\": \"China\", \"destination\": \"United Arab Emirates\", \"year\": 2018, \"date\": \"2018-04-06T00:00:00\", \"product\": \"Computers\", \"transport_mode\": \"Sea\", \"company_name\": \"Technology & Innovation Co\", \"total_value\": 5000000}, {\"register_id\": 15987, \"direction\": \"Imports\", \"origin\": \"China\", \"destination\": \"United Arab Emirates\", \"year\": 2018, \"date\": \"2018-05-06T00:00:00\", \"product\": \"Computers\", \"transport_mode\": \"Sea\", \"company_name\": \"Technology & Innovation Co\", \"total_value\": 44000000}, {\"register_id\": 15988, \"direction\": \"Imports\", \"origin\": \"China\", \"destination\": \"United Arab Emirates\", \"year\": 2018, \"date\": \"2018-06-06T00:00:00\", \"product\": \"Computers\", \"transport_mode\": \"Sea\", \"company_name\": \"Technology & Innovation Co\", \"total_value\": 53000000}, {\"register_id\": 15989, \"direction\": \"Imports\", \"origin\": \"China\", \"destination\": \"United Arab Emirates\", \"year\": 2018, \"date\": \"2018-07-06T00:00:00\", \"product\": \"Computers\", \"transport_mode\": \"Sea\", \"company_name\": \"Technology & Innovation Co\", \"total_value\": 67000000}, {\"register_id\": 15990, \"direction\": \"Imports\", \"origin\": \"China\", \"destination\": \"United Arab Emirates\", \"year\": 2018, \"date\": \"2018-08-06T00:00:00\", \"product\": \"Computers\", \"transport_mode\": \"Sea\", \"company_name\": \"Technology & Innovation Co\", \"total_value\": 39000000}, {\"register_id\": 15991, \"direction\": \"Imports\", \"origin\": \"China\", \"destination\": \"United Arab Emirates\", \"year\": 2018, \"date\": \"2018-09-06T00:00:00\", \"product\": \"Computers\", \"transport_mode\": \"Sea\", \"company_name\": \"Technology & Innovation Co\", \"total_value\": 3000000}, {\"register_id\": 15992, \"direction\": \"Imports\", \"origin\": \"China\", \"destination\": \"United Arab Emirates\", \"year\": 2018, \"date\": \"2018-10-06T00:00:00\", \"product\": \"Computers\", \"transport_mode\": \"Sea\", \"company_name\": \"Technology & Innovation Co\", \"total_value\": 5000000}, {\"register_id\": 15993, \"direction\": \"Imports\", \"origin\": \"China\", \"destination\": \"United Arab Emirates\", \"year\": 2018, \"date\": \"2018-11-06T00:00:00\", \"product\": \"Computers\", \"transport_mode\": \"Sea\", \"company_name\": \"Technology & Innovation Co\", \"total_value\": 40000000}, {\"register_id\": 15994, \"direction\": \"Imports\", \"origin\": \"China\", \"destination\": \"United Arab Emirates\", \"year\": 2018, \"date\": \"2018-12-06T00:00:00\", \"product\": \"Computers\", \"transport_mode\": \"Sea\", \"company_name\": \"Technology & Innovation Co\", \"total_value\": 59000000}, {\"register_id\": 15995, \"direction\": \"Imports\", \"origin\": \"China\", \"destination\": \"United Arab Emirates\", \"year\": 2018, \"date\": \"2018-06-13T00:00:00\", \"product\": \"Computers\", \"transport_mode\": \"Sea\", \"company_name\": \"Technology & Innovation Co\", \"total_value\": 48000000}, {\"register_id\": 15996, \"direction\": \"Imports\", \"origin\": \"China\", \"destination\": \"United Arab Emirates\", \"year\": 2018, \"date\": \"2018-06-14T00:00:00\", \"product\": \"Computers\", \"transport_mode\": \"Sea\", \"company_name\": \"Technology & Innovation Co\", \"total_value\": 39000000}, {\"register_id\": 15997, \"direction\": \"Imports\", \"origin\": \"China\", \"destination\": \"United Arab Emirates\", \"year\": 2018, \"date\": \"2018-06-15T00:00:00\", \"product\": \"Computers\", \"transport_mode\": \"Sea\", \"company_name\": \"Technology & Innovation Co\", \"total_value\": 34000000}, {\"register_id\": 15998, \"direction\": \"Imports\", \"origin\": \"China\", \"destination\": \"United Arab Emirates\", \"year\": 2018, \"date\": \"2018-06-16T00:00:00\", \"product\": \"Computers\", \"transport_mode\": \"Sea\", \"company_name\": \"Technology & Innovation Co\", \"total_value\": 2000000}, {\"register_id\": 15999, \"direction\": \"Imports\", \"origin\": \"China\", \"destination\": \"United Arab Emirates\", \"year\": 2018, \"date\": \"2018-06-17T00:00:00\", \"product\": \"Computers\", \"transport_mode\": \"Sea\", \"company_name\": \"Technology & Innovation Co\", \"total_value\": 8000000}, {\"register_id\": 16000, \"direction\": \"Imports\", \"origin\": \"China\", \"destination\": \"United Arab Emirates\", \"year\": 2018, \"date\": \"2018-06-18T00:00:00\", \"product\": \"Computers\", \"transport_mode\": \"Sea\", \"company_name\": \"Technology & Innovation Co\", \"total_value\": 46000000}, {\"register_id\": 16001, \"direction\": \"Imports\", \"origin\": \"China\", \"destination\": \"United Arab Emirates\", \"year\": 2018, \"date\": \"2018-06-19T00:00:00\", \"product\": \"Computers\", \"transport_mode\": \"Sea\", \"company_name\": \"Technology & Innovation Co\", \"total_value\": 62000000}, {\"register_id\": 16002, \"direction\": \"Imports\", \"origin\": \"China\", \"destination\": \"United Arab Emirates\", \"year\": 2018, \"date\": \"2018-06-20T00:00:00\", \"product\": \"Computers\", \"transport_mode\": \"Sea\", \"company_name\": \"Technology & Innovation Co\", \"total_value\": 44000000}, {\"register_id\": 16003, \"direction\": \"Imports\", \"origin\": \"China\", \"destination\": \"United Arab Emirates\", \"year\": 2018, \"date\": \"2018-06-21T00:00:00\", \"product\": \"Computers\", \"transport_mode\": \"Sea\", \"company_name\": \"Technology & Innovation Co\", \"total_value\": 50000000}, {\"register_id\": 16004, \"direction\": \"Imports\", \"origin\": \"China\", \"destination\": \"United Arab Emirates\", \"year\": 2018, \"date\": \"2018-06-22T00:00:00\", \"product\": \"Computers\", \"transport_mode\": \"Sea\", \"company_name\": \"Technology & Innovation Co\", \"total_value\": 38000000}, {\"register_id\": 16005, \"direction\": \"Imports\", \"origin\": \"China\", \"destination\": \"United Arab Emirates\", \"year\": 2018, \"date\": \"2018-06-23T00:00:00\", \"product\": \"Computers\", \"transport_mode\": \"Sea\", \"company_name\": \"Technology & Innovation Co\", \"total_value\": 3000000}, {\"register_id\": 16006, \"direction\": \"Imports\", \"origin\": \"China\", \"destination\": \"United Arab Emirates\", \"year\": 2018, \"date\": \"2018-06-24T00:00:00\", \"product\": \"Computers\", \"transport_mode\": \"Sea\", \"company_name\": \"Technology & Innovation Co\", \"total_value\": 6000000}, {\"register_id\": 16007, \"direction\": \"Imports\", \"origin\": \"China\", \"destination\": \"United Arab Emirates\", \"year\": 2018, \"date\": \"2018-06-25T00:00:00\", \"product\": \"Computers\", \"transport_mode\": \"Sea\", \"company_name\": \"Technology & Innovation Co\", \"total_value\": 46000000}, {\"register_id\": 16008, \"direction\": \"Imports\", \"origin\": \"China\", \"destination\": \"United Arab Emirates\", \"year\": 2018, \"date\": \"2018-06-26T00:00:00\", \"product\": \"Computers\", \"transport_mode\": \"Sea\", \"company_name\": \"Technology & Innovation Co\", \"total_value\": 39000000}, {\"register_id\": 16009, \"direction\": \"Imports\", \"origin\": \"China\", \"destination\": \"United Arab Emirates\", \"year\": 2018, \"date\": \"2018-06-27T00:00:00\", \"product\": \"Computers\", \"transport_mode\": \"Sea\", \"company_name\": \"Technology & Innovation Co\", \"total_value\": 35000000}, {\"register_id\": 16010, \"direction\": \"Imports\", \"origin\": \"China\", \"destination\": \"United Arab Emirates\", \"year\": 2018, \"date\": \"2018-06-28T00:00:00\", \"product\": \"Computers\", \"transport_mode\": \"Sea\", \"company_name\": \"Technology & Innovation Co\", \"total_value\": 41000000}, {\"register_id\": 16011, \"direction\": \"Imports\", \"origin\": \"China\", \"destination\": \"United Arab Emirates\", \"year\": 2018, \"date\": \"2018-06-29T00:00:00\", \"product\": \"Computers\", \"transport_mode\": \"Sea\", \"company_name\": \"Technology & Innovation Co\", \"total_value\": 35000000}, {\"register_id\": 16012, \"direction\": \"Imports\", \"origin\": \"China\", \"destination\": \"United Arab Emirates\", \"year\": 2018, \"date\": \"2018-06-30T00:00:00\", \"product\": \"Computers\", \"transport_mode\": \"Sea\", \"company_name\": \"Technology & Innovation Co\", \"total_value\": 4000000}, {\"register_id\": 16013, \"direction\": \"Imports\", \"origin\": \"China\", \"destination\": \"United Arab Emirates\", \"year\": 2018, \"date\": \"2018-01-07T00:00:00\", \"product\": \"Computers\", \"transport_mode\": \"Sea\", \"company_name\": \"Technology & Innovation Co\", \"total_value\": 16000000}, {\"register_id\": 16014, \"direction\": \"Imports\", \"origin\": \"China\", \"destination\": \"United Arab Emirates\", \"year\": 2018, \"date\": \"2018-02-07T00:00:00\", \"product\": \"Computers\", \"transport_mode\": \"Sea\", \"company_name\": \"Technology & Innovation Co\", \"total_value\": 44000000}, {\"register_id\": 16015, \"direction\": \"Imports\", \"origin\": \"China\", \"destination\": \"United Arab Emirates\", \"year\": 2018, \"date\": \"2018-03-07T00:00:00\", \"product\": \"Computers\", \"transport_mode\": \"Sea\", \"company_name\": \"Technology & Innovation Co\", \"total_value\": 47000000}, {\"register_id\": 16016, \"direction\": \"Imports\", \"origin\": \"China\", \"destination\": \"United Arab Emirates\", \"year\": 2018, \"date\": \"2018-04-07T00:00:00\", \"product\": \"Computers\", \"transport_mode\": \"Sea\", \"company_name\": \"Technology & Innovation Co\", \"total_value\": 42000000}, {\"register_id\": 16017, \"direction\": \"Imports\", \"origin\": \"China\", \"destination\": \"United Arab Emirates\", \"year\": 2019, \"date\": \"2019-02-02T00:00:00\", \"product\": \"Computers\", \"transport_mode\": \"Sea\", \"company_name\": \"Technology & Innovation Co\", \"total_value\": 3000000}, {\"register_id\": 16018, \"direction\": \"Imports\", \"origin\": \"China\", \"destination\": \"United Arab Emirates\", \"year\": 2019, \"date\": \"2019-03-02T00:00:00\", \"product\": \"Computers\", \"transport_mode\": \"Sea\", \"company_name\": \"Technology & Innovation Co\", \"total_value\": 10000000}, {\"register_id\": 16019, \"direction\": \"Imports\", \"origin\": \"China\", \"destination\": \"United Arab Emirates\", \"year\": 2019, \"date\": \"2019-04-02T00:00:00\", \"product\": \"Computers\", \"transport_mode\": \"Sea\", \"company_name\": \"Technology & Innovation Co\", \"total_value\": 53000000}, {\"register_id\": 16020, \"direction\": \"Imports\", \"origin\": \"China\", \"destination\": \"United Arab Emirates\", \"year\": 2019, \"date\": \"2019-05-02T00:00:00\", \"product\": \"Computers\", \"transport_mode\": \"Sea\", \"company_name\": \"Technology & Innovation Co\", \"total_value\": 63000000}, {\"register_id\": 16021, \"direction\": \"Imports\", \"origin\": \"China\", \"destination\": \"United Arab Emirates\", \"year\": 2019, \"date\": \"2019-06-02T00:00:00\", \"product\": \"Computers\", \"transport_mode\": \"Sea\", \"company_name\": \"Technology & Innovation Co\", \"total_value\": 6000000}, {\"register_id\": 16022, \"direction\": \"Imports\", \"origin\": \"China\", \"destination\": \"United Arab Emirates\", \"year\": 2019, \"date\": \"2019-07-02T00:00:00\", \"product\": \"Computers\", \"transport_mode\": \"Sea\", \"company_name\": \"Technology & Innovation Co\", \"total_value\": 52000000}, {\"register_id\": 16023, \"direction\": \"Imports\", \"origin\": \"China\", \"destination\": \"United Arab Emirates\", \"year\": 2019, \"date\": \"2019-08-02T00:00:00\", \"product\": \"Computers\", \"transport_mode\": \"Sea\", \"company_name\": \"Technology & Innovation Co\", \"total_value\": 50000000}, {\"register_id\": 16024, \"direction\": \"Imports\", \"origin\": \"China\", \"destination\": \"United Arab Emirates\", \"year\": 2019, \"date\": \"2019-09-02T00:00:00\", \"product\": \"Computers\", \"transport_mode\": \"Sea\", \"company_name\": \"Technology & Innovation Co\", \"total_value\": 2000000}, {\"register_id\": 16025, \"direction\": \"Imports\", \"origin\": \"China\", \"destination\": \"United Arab Emirates\", \"year\": 2019, \"date\": \"2019-10-02T00:00:00\", \"product\": \"Computers\", \"transport_mode\": \"Sea\", \"company_name\": \"Technology & Innovation Co\", \"total_value\": 4000000}, {\"register_id\": 16087, \"direction\": \"Imports\", \"origin\": \"China\", \"destination\": \"United Arab Emirates\", \"year\": 2019, \"date\": \"2019-04-13T00:00:00\", \"product\": \"Computers\", \"transport_mode\": \"Sea\", \"company_name\": \"Technology & Innovation Co\", \"total_value\": 7000000}, {\"register_id\": 16088, \"direction\": \"Imports\", \"origin\": \"China\", \"destination\": \"United Arab Emirates\", \"year\": 2019, \"date\": \"2019-04-14T00:00:00\", \"product\": \"Computers\", \"transport_mode\": \"Sea\", \"company_name\": \"Technology & Innovation Co\", \"total_value\": 5000000}, {\"register_id\": 16089, \"direction\": \"Imports\", \"origin\": \"China\", \"destination\": \"United Arab Emirates\", \"year\": 2019, \"date\": \"2019-04-15T00:00:00\", \"product\": \"Computers\", \"transport_mode\": \"Sea\", \"company_name\": \"Technology & Innovation Co\", \"total_value\": 43000000}, {\"register_id\": 16090, \"direction\": \"Imports\", \"origin\": \"China\", \"destination\": \"United Arab Emirates\", \"year\": 2019, \"date\": \"2019-04-16T00:00:00\", \"product\": \"Computers\", \"transport_mode\": \"Sea\", \"company_name\": \"Technology & Innovation Co\", \"total_value\": 54000000}, {\"register_id\": 16091, \"direction\": \"Imports\", \"origin\": \"China\", \"destination\": \"United Arab Emirates\", \"year\": 2019, \"date\": \"2019-04-17T00:00:00\", \"product\": \"Computers\", \"transport_mode\": \"Sea\", \"company_name\": \"Technology & Innovation Co\", \"total_value\": 54000000}, {\"register_id\": 16092, \"direction\": \"Imports\", \"origin\": \"China\", \"destination\": \"United Arab Emirates\", \"year\": 2019, \"date\": \"2019-04-18T00:00:00\", \"product\": \"Computers\", \"transport_mode\": \"Sea\", \"company_name\": \"Technology & Innovation Co\", \"total_value\": 42000000}, {\"register_id\": 16093, \"direction\": \"Imports\", \"origin\": \"China\", \"destination\": \"United Arab Emirates\", \"year\": 2019, \"date\": \"2019-04-19T00:00:00\", \"product\": \"Computers\", \"transport_mode\": \"Sea\", \"company_name\": \"Technology & Innovation Co\", \"total_value\": 3000000}, {\"register_id\": 16094, \"direction\": \"Imports\", \"origin\": \"China\", \"destination\": \"United Arab Emirates\", \"year\": 2019, \"date\": \"2019-04-20T00:00:00\", \"product\": \"Computers\", \"transport_mode\": \"Sea\", \"company_name\": \"Technology & Innovation Co\", \"total_value\": 2000000}, {\"register_id\": 16095, \"direction\": \"Imports\", \"origin\": \"China\", \"destination\": \"United Arab Emirates\", \"year\": 2019, \"date\": \"2019-04-21T00:00:00\", \"product\": \"Computers\", \"transport_mode\": \"Sea\", \"company_name\": \"Technology & Innovation Co\", \"total_value\": 6000000}, {\"register_id\": 16096, \"direction\": \"Imports\", \"origin\": \"China\", \"destination\": \"United Arab Emirates\", \"year\": 2019, \"date\": \"2019-04-22T00:00:00\", \"product\": \"Computers\", \"transport_mode\": \"Sea\", \"company_name\": \"Technology & Innovation Co\", \"total_value\": 13000000}, {\"register_id\": 16097, \"direction\": \"Imports\", \"origin\": \"China\", \"destination\": \"United Arab Emirates\", \"year\": 2019, \"date\": \"2019-04-23T00:00:00\", \"product\": \"Computers\", \"transport_mode\": \"Sea\", \"company_name\": \"Technology & Innovation Co\", \"total_value\": 48000000}, {\"register_id\": 16098, \"direction\": \"Imports\", \"origin\": \"China\", \"destination\": \"United Arab Emirates\", \"year\": 2019, \"date\": \"2019-04-24T00:00:00\", \"product\": \"Computers\", \"transport_mode\": \"Sea\", \"company_name\": \"Technology & Innovation Co\", \"total_value\": 55000000}, {\"register_id\": 16099, \"direction\": \"Imports\", \"origin\": \"China\", \"destination\": \"United Arab Emirates\", \"year\": 2019, \"date\": \"2019-04-25T00:00:00\", \"product\": \"Computers\", \"transport_mode\": \"Sea\", \"company_name\": \"Technology & Innovation Co\", \"total_value\": 11000000}, {\"register_id\": 16100, \"direction\": \"Imports\", \"origin\": \"China\", \"destination\": \"United Arab Emirates\", \"year\": 2019, \"date\": \"2019-04-26T00:00:00\", \"product\": \"Computers\", \"transport_mode\": \"Sea\", \"company_name\": \"Technology & Innovation Co\", \"total_value\": 44000000}, {\"register_id\": 16127, \"direction\": \"Imports\", \"origin\": \"China\", \"destination\": \"United Arab Emirates\", \"year\": 2019, \"date\": \"2019-05-23T00:00:00\", \"product\": \"Computers\", \"transport_mode\": \"Sea\", \"company_name\": \"Technology & Innovation Co\", \"total_value\": 48000000}, {\"register_id\": 16128, \"direction\": \"Imports\", \"origin\": \"China\", \"destination\": \"United Arab Emirates\", \"year\": 2019, \"date\": \"2019-05-24T00:00:00\", \"product\": \"Computers\", \"transport_mode\": \"Sea\", \"company_name\": \"Technology & Innovation Co\", \"total_value\": 40000000}, {\"register_id\": 16129, \"direction\": \"Imports\", \"origin\": \"China\", \"destination\": \"United Arab Emirates\", \"year\": 2019, \"date\": \"2019-05-25T00:00:00\", \"product\": \"Computers\", \"transport_mode\": \"Sea\", \"company_name\": \"Technology & Innovation Co\", \"total_value\": 1000000}, {\"register_id\": 16130, \"direction\": \"Imports\", \"origin\": \"China\", \"destination\": \"United Arab Emirates\", \"year\": 2019, \"date\": \"2019-05-26T00:00:00\", \"product\": \"Computers\", \"transport_mode\": \"Sea\", \"company_name\": \"Technology & Innovation Co\", \"total_value\": 7000000}, {\"register_id\": 16131, \"direction\": \"Imports\", \"origin\": \"China\", \"destination\": \"United Arab Emirates\", \"year\": 2019, \"date\": \"2019-05-27T00:00:00\", \"product\": \"Computers\", \"transport_mode\": \"Sea\", \"company_name\": \"Technology & Innovation Co\", \"total_value\": 46000000}, {\"register_id\": 16132, \"direction\": \"Imports\", \"origin\": \"China\", \"destination\": \"United Arab Emirates\", \"year\": 2019, \"date\": \"2019-05-28T00:00:00\", \"product\": \"Computers\", \"transport_mode\": \"Sea\", \"company_name\": \"Technology & Innovation Co\", \"total_value\": 42000000}, {\"register_id\": 16133, \"direction\": \"Imports\", \"origin\": \"China\", \"destination\": \"United Arab Emirates\", \"year\": 2019, \"date\": \"2019-05-29T00:00:00\", \"product\": \"Computers\", \"transport_mode\": \"Sea\", \"company_name\": \"Technology & Innovation Co\", \"total_value\": 40000000}, {\"register_id\": 16134, \"direction\": \"Imports\", \"origin\": \"China\", \"destination\": \"United Arab Emirates\", \"year\": 2019, \"date\": \"2019-05-30T00:00:00\", \"product\": \"Computers\", \"transport_mode\": \"Sea\", \"company_name\": \"Technology & Innovation Co\", \"total_value\": 34000000}, {\"register_id\": 16135, \"direction\": \"Imports\", \"origin\": \"China\", \"destination\": \"United Arab Emirates\", \"year\": 2019, \"date\": \"2019-05-31T00:00:00\", \"product\": \"Computers\", \"transport_mode\": \"Sea\", \"company_name\": \"Technology & Innovation Co\", \"total_value\": 31000000}, {\"register_id\": 16136, \"direction\": \"Imports\", \"origin\": \"China\", \"destination\": \"United Arab Emirates\", \"year\": 2019, \"date\": \"2019-01-06T00:00:00\", \"product\": \"Computers\", \"transport_mode\": \"Sea\", \"company_name\": \"Technology & Innovation Co\", \"total_value\": 20000000}, {\"register_id\": 16137, \"direction\": \"Imports\", \"origin\": \"China\", \"destination\": \"United Arab Emirates\", \"year\": 2019, \"date\": \"2019-02-06T00:00:00\", \"product\": \"Computers\", \"transport_mode\": \"Sea\", \"company_name\": \"Technology & Innovation Co\", \"total_value\": 5000000}, {\"register_id\": 16138, \"direction\": \"Imports\", \"origin\": \"China\", \"destination\": \"United Arab Emirates\", \"year\": 2019, \"date\": \"2019-03-06T00:00:00\", \"product\": \"Computers\", \"transport_mode\": \"Sea\", \"company_name\": \"Technology & Innovation Co\", \"total_value\": 12000000}, {\"register_id\": 16139, \"direction\": \"Imports\", \"origin\": \"China\", \"destination\": \"United Arab Emirates\", \"year\": 2019, \"date\": \"2019-04-06T00:00:00\", \"product\": \"Computers\", \"transport_mode\": \"Sea\", \"company_name\": \"Technology & Innovation Co\", \"total_value\": 51000000}, {\"register_id\": 16140, \"direction\": \"Imports\", \"origin\": \"China\", \"destination\": \"United Arab Emirates\", \"year\": 2019, \"date\": \"2019-05-06T00:00:00\", \"product\": \"Computers\", \"transport_mode\": \"Sea\", \"company_name\": \"Technology & Innovation Co\", \"total_value\": 55000000}, {\"register_id\": 16141, \"direction\": \"Imports\", \"origin\": \"China\", \"destination\": \"United Arab Emirates\", \"year\": 2019, \"date\": \"2019-06-06T00:00:00\", \"product\": \"Computers\", \"transport_mode\": \"Sea\", \"company_name\": \"Technology & Innovation Co\", \"total_value\": 50000000}, {\"register_id\": 16142, \"direction\": \"Imports\", \"origin\": \"China\", \"destination\": \"United Arab Emirates\", \"year\": 2019, \"date\": \"2019-07-06T00:00:00\", \"product\": \"Computers\", \"transport_mode\": \"Sea\", \"company_name\": \"Technology & Innovation Co\", \"total_value\": 50000000}, {\"register_id\": 16143, \"direction\": \"Imports\", \"origin\": \"China\", \"destination\": \"United Arab Emirates\", \"year\": 2019, \"date\": \"2019-08-06T00:00:00\", \"product\": \"Computers\", \"transport_mode\": \"Sea\", \"company_name\": \"Technology & Innovation Co\", \"total_value\": 3000000}, {\"register_id\": 16144, \"direction\": \"Imports\", \"origin\": \"China\", \"destination\": \"United Arab Emirates\", \"year\": 2019, \"date\": \"2019-09-06T00:00:00\", \"product\": \"Computers\", \"transport_mode\": \"Sea\", \"company_name\": \"Technology & Innovation Co\", \"total_value\": 5000000}, {\"register_id\": 16169, \"direction\": \"Imports\", \"origin\": \"China\", \"destination\": \"United Arab Emirates\", \"year\": 2020, \"date\": \"2020-01-02T00:00:00\", \"product\": \"Computers\", \"transport_mode\": \"Sea\", \"company_name\": \"Technology & Innovation Co\", \"total_value\": 21000000}, {\"register_id\": 16170, \"direction\": \"Imports\", \"origin\": \"China\", \"destination\": \"United Arab Emirates\", \"year\": 2020, \"date\": \"2020-02-02T00:00:00\", \"product\": \"Computers\", \"transport_mode\": \"Sea\", \"company_name\": \"Technology & Innovation Co\", \"total_value\": 5000000}, {\"register_id\": 16171, \"direction\": \"Imports\", \"origin\": \"China\", \"destination\": \"United Arab Emirates\", \"year\": 2020, \"date\": \"2020-03-02T00:00:00\", \"product\": \"Computers\", \"transport_mode\": \"Sea\", \"company_name\": \"Technology & Innovation Co\", \"total_value\": 40000000}, {\"register_id\": 16172, \"direction\": \"Imports\", \"origin\": \"China\", \"destination\": \"United Arab Emirates\", \"year\": 2020, \"date\": \"2020-04-02T00:00:00\", \"product\": \"Computers\", \"transport_mode\": \"Sea\", \"company_name\": \"Technology & Innovation Co\", \"total_value\": 49000000}, {\"register_id\": 16173, \"direction\": \"Imports\", \"origin\": \"China\", \"destination\": \"United Arab Emirates\", \"year\": 2020, \"date\": \"2020-05-02T00:00:00\", \"product\": \"Computers\", \"transport_mode\": \"Sea\", \"company_name\": \"Technology & Innovation Co\", \"total_value\": 85000000}, {\"register_id\": 16174, \"direction\": \"Imports\", \"origin\": \"China\", \"destination\": \"United Arab Emirates\", \"year\": 2020, \"date\": \"2020-06-02T00:00:00\", \"product\": \"Computers\", \"transport_mode\": \"Sea\", \"company_name\": \"Technology & Innovation Co\", \"total_value\": 6000000}, {\"register_id\": 16175, \"direction\": \"Imports\", \"origin\": \"China\", \"destination\": \"United Arab Emirates\", \"year\": 2020, \"date\": \"2020-07-02T00:00:00\", \"product\": \"Computers\", \"transport_mode\": \"Sea\", \"company_name\": \"Technology & Innovation Co\", \"total_value\": 46000000}, {\"register_id\": 16176, \"direction\": \"Imports\", \"origin\": \"China\", \"destination\": \"United Arab Emirates\", \"year\": 2020, \"date\": \"2020-08-02T00:00:00\", \"product\": \"Computers\", \"transport_mode\": \"Sea\", \"company_name\": \"Technology & Innovation Co\", \"total_value\": 2000000}, {\"register_id\": 16177, \"direction\": \"Imports\", \"origin\": \"China\", \"destination\": \"United Arab Emirates\", \"year\": 2020, \"date\": \"2020-09-02T00:00:00\", \"product\": \"Computers\", \"transport_mode\": \"Sea\", \"company_name\": \"Technology & Innovation Co\", \"total_value\": 5000000}, {\"register_id\": 16178, \"direction\": \"Imports\", \"origin\": \"China\", \"destination\": \"United Arab Emirates\", \"year\": 2020, \"date\": \"2020-10-02T00:00:00\", \"product\": \"Computers\", \"transport_mode\": \"Sea\", \"company_name\": \"Technology & Innovation Co\", \"total_value\": 51000000}, {\"register_id\": 16179, \"direction\": \"Imports\", \"origin\": \"China\", \"destination\": \"United Arab Emirates\", \"year\": 2020, \"date\": \"2020-11-02T00:00:00\", \"product\": \"Computers\", \"transport_mode\": \"Sea\", \"company_name\": \"Technology & Innovation Co\", \"total_value\": 47000000}, {\"register_id\": 16180, \"direction\": \"Imports\", \"origin\": \"China\", \"destination\": \"United Arab Emirates\", \"year\": 2020, \"date\": \"2020-12-02T00:00:00\", \"product\": \"Computers\", \"transport_mode\": \"Sea\", \"company_name\": \"Technology & Innovation Co\", \"total_value\": 48000000}, {\"register_id\": 16181, \"direction\": \"Imports\", \"origin\": \"China\", \"destination\": \"United Arab Emirates\", \"year\": 2020, \"date\": \"2020-02-13T00:00:00\", \"product\": \"Computers\", \"transport_mode\": \"Sea\", \"company_name\": \"Technology & Innovation Co\", \"total_value\": 56000000}, {\"register_id\": 16182, \"direction\": \"Imports\", \"origin\": \"China\", \"destination\": \"United Arab Emirates\", \"year\": 2020, \"date\": \"2020-02-14T00:00:00\", \"product\": \"Computers\", \"transport_mode\": \"Sea\", \"company_name\": \"Technology & Innovation Co\", \"total_value\": 35000000}, {\"register_id\": 16183, \"direction\": \"Imports\", \"origin\": \"China\", \"destination\": \"United Arab Emirates\", \"year\": 2020, \"date\": \"2020-02-15T00:00:00\", \"product\": \"Computers\", \"transport_mode\": \"Sea\", \"company_name\": \"Technology & Innovation Co\", \"total_value\": 2000000}, {\"register_id\": 16184, \"direction\": \"Imports\", \"origin\": \"China\", \"destination\": \"United Arab Emirates\", \"year\": 2020, \"date\": \"2020-02-16T00:00:00\", \"product\": \"Computers\", \"transport_mode\": \"Sea\", \"company_name\": \"Technology & Innovation Co\", \"total_value\": 5000000}, {\"register_id\": 16185, \"direction\": \"Imports\", \"origin\": \"China\", \"destination\": \"United Arab Emirates\", \"year\": 2020, \"date\": \"2020-02-17T00:00:00\", \"product\": \"Computers\", \"transport_mode\": \"Sea\", \"company_name\": \"Technology & Innovation Co\", \"total_value\": 26000000}, {\"register_id\": 16186, \"direction\": \"Imports\", \"origin\": \"China\", \"destination\": \"United Arab Emirates\", \"year\": 2020, \"date\": \"2020-02-18T00:00:00\", \"product\": \"Computers\", \"transport_mode\": \"Sea\", \"company_name\": \"Technology & Innovation Co\", \"total_value\": 29000000}, {\"register_id\": 16187, \"direction\": \"Imports\", \"origin\": \"China\", \"destination\": \"United Arab Emirates\", \"year\": 2020, \"date\": \"2020-02-19T00:00:00\", \"product\": \"Computers\", \"transport_mode\": \"Sea\", \"company_name\": \"Technology & Innovation Co\", \"total_value\": 21000000}, {\"register_id\": 16188, \"direction\": \"Imports\", \"origin\": \"China\", \"destination\": \"United Arab Emirates\", \"year\": 2020, \"date\": \"2020-02-20T00:00:00\", \"product\": \"Computers\", \"transport_mode\": \"Sea\", \"company_name\": \"Technology & Innovation Co\", \"total_value\": 21000000}, {\"register_id\": 16189, \"direction\": \"Imports\", \"origin\": \"China\", \"destination\": \"United Arab Emirates\", \"year\": 2020, \"date\": \"2020-02-21T00:00:00\", \"product\": \"Computers\", \"transport_mode\": \"Sea\", \"company_name\": \"Technology & Innovation Co\", \"total_value\": 21000000}, {\"register_id\": 16190, \"direction\": \"Imports\", \"origin\": \"China\", \"destination\": \"United Arab Emirates\", \"year\": 2020, \"date\": \"2020-02-22T00:00:00\", \"product\": \"Computers\", \"transport_mode\": \"Sea\", \"company_name\": \"Technology & Innovation Co\", \"total_value\": 3000000}, {\"register_id\": 16191, \"direction\": \"Imports\", \"origin\": \"China\", \"destination\": \"United Arab Emirates\", \"year\": 2020, \"date\": \"2020-02-23T00:00:00\", \"product\": \"Computers\", \"transport_mode\": \"Sea\", \"company_name\": \"Technology & Innovation Co\", \"total_value\": 3000000}, {\"register_id\": 16192, \"direction\": \"Imports\", \"origin\": \"China\", \"destination\": \"United Arab Emirates\", \"year\": 2020, \"date\": \"2020-02-24T00:00:00\", \"product\": \"Computers\", \"transport_mode\": \"Sea\", \"company_name\": \"Technology & Innovation Co\", \"total_value\": 34000000}, {\"register_id\": 16207, \"direction\": \"Imports\", \"origin\": \"China\", \"destination\": \"United Arab Emirates\", \"year\": 2020, \"date\": \"2020-10-03T00:00:00\", \"product\": \"Computers\", \"transport_mode\": \"Sea\", \"company_name\": \"Technology & Innovation Co\", \"total_value\": 29000000}, {\"register_id\": 16208, \"direction\": \"Imports\", \"origin\": \"China\", \"destination\": \"United Arab Emirates\", \"year\": 2020, \"date\": \"2020-11-03T00:00:00\", \"product\": \"Computers\", \"transport_mode\": \"Sea\", \"company_name\": \"Technology & Innovation Co\", \"total_value\": 25000000}, {\"register_id\": 16209, \"direction\": \"Imports\", \"origin\": \"China\", \"destination\": \"United Arab Emirates\", \"year\": 2020, \"date\": \"2020-12-03T00:00:00\", \"product\": \"Computers\", \"transport_mode\": \"Sea\", \"company_name\": \"Technology & Innovation Co\", \"total_value\": 25000000}, {\"register_id\": 16210, \"direction\": \"Imports\", \"origin\": \"China\", \"destination\": \"United Arab Emirates\", \"year\": 2020, \"date\": \"2020-03-13T00:00:00\", \"product\": \"Computers\", \"transport_mode\": \"Sea\", \"company_name\": \"Technology & Innovation Co\", \"total_value\": 23000000}, {\"register_id\": 16211, \"direction\": \"Imports\", \"origin\": \"China\", \"destination\": \"United Arab Emirates\", \"year\": 2020, \"date\": \"2020-03-14T00:00:00\", \"product\": \"Computers\", \"transport_mode\": \"Sea\", \"company_name\": \"Technology & Innovation Co\", \"total_value\": 2000000}, {\"register_id\": 16212, \"direction\": \"Imports\", \"origin\": \"China\", \"destination\": \"United Arab Emirates\", \"year\": 2020, \"date\": \"2020-03-15T00:00:00\", \"product\": \"Computers\", \"transport_mode\": \"Sea\", \"company_name\": \"Technology & Innovation Co\", \"total_value\": 3000000}, {\"register_id\": 16213, \"direction\": \"Imports\", \"origin\": \"China\", \"destination\": \"United Arab Emirates\", \"year\": 2020, \"date\": \"2020-03-16T00:00:00\", \"product\": \"Computers\", \"transport_mode\": \"Sea\", \"company_name\": \"Technology & Innovation Co\", \"total_value\": 36000000}, {\"register_id\": 16214, \"direction\": \"Imports\", \"origin\": \"China\", \"destination\": \"United Arab Emirates\", \"year\": 2020, \"date\": \"2020-03-17T00:00:00\", \"product\": \"Computers\", \"transport_mode\": \"Sea\", \"company_name\": \"Technology & Innovation Co\", \"total_value\": 31000000}, {\"register_id\": 16215, \"direction\": \"Imports\", \"origin\": \"China\", \"destination\": \"United Arab Emirates\", \"year\": 2020, \"date\": \"2020-03-18T00:00:00\", \"product\": \"Computers\", \"transport_mode\": \"Sea\", \"company_name\": \"Technology & Innovation Co\", \"total_value\": 43000000}, {\"register_id\": 16216, \"direction\": \"Imports\", \"origin\": \"China\", \"destination\": \"United Arab Emirates\", \"year\": 2020, \"date\": \"2020-03-19T00:00:00\", \"product\": \"Computers\", \"transport_mode\": \"Sea\", \"company_name\": \"Technology & Innovation Co\", \"total_value\": 25000000}, {\"register_id\": 16290, \"direction\": \"Imports\", \"origin\": \"China\", \"destination\": \"Thailand\", \"year\": 2020, \"date\": \"2020-01-06T00:00:00\", \"product\": \"Machinery and electronics\", \"transport_mode\": \"Road\", \"company_name\": \"Chaiyaphum Electronics Ltd\", \"total_value\": 31000000}, {\"register_id\": 16291, \"direction\": \"Imports\", \"origin\": \"China\", \"destination\": \"Thailand\", \"year\": 2020, \"date\": \"2020-02-06T00:00:00\", \"product\": \"Machinery and electronics\", \"transport_mode\": \"Road\", \"company_name\": \"Chaiyaphum Electronics Ltd\", \"total_value\": 56000000}, {\"register_id\": 16292, \"direction\": \"Imports\", \"origin\": \"China\", \"destination\": \"Thailand\", \"year\": 2020, \"date\": \"2020-03-06T00:00:00\", \"product\": \"Machinery and electronics\", \"transport_mode\": \"Road\", \"company_name\": \"Chaiyaphum Electronics Ltd\", \"total_value\": 43000000}, {\"register_id\": 16293, \"direction\": \"Imports\", \"origin\": \"China\", \"destination\": \"Thailand\", \"year\": 2020, \"date\": \"2020-04-06T00:00:00\", \"product\": \"Machinery and electronics\", \"transport_mode\": \"Road\", \"company_name\": \"Chaiyaphum Electronics Ltd\", \"total_value\": 55000000}, {\"register_id\": 16294, \"direction\": \"Imports\", \"origin\": \"China\", \"destination\": \"Thailand\", \"year\": 2020, \"date\": \"2020-05-06T00:00:00\", \"product\": \"Machinery and electronics\", \"transport_mode\": \"Road\", \"company_name\": \"Chaiyaphum Electronics Ltd\", \"total_value\": 39000000}, {\"register_id\": 16295, \"direction\": \"Imports\", \"origin\": \"China\", \"destination\": \"Thailand\", \"year\": 2020, \"date\": \"2020-06-06T00:00:00\", \"product\": \"Machinery and electronics\", \"transport_mode\": \"Road\", \"company_name\": \"Chaiyaphum Electronics Ltd\", \"total_value\": 2000000}, {\"register_id\": 16296, \"direction\": \"Imports\", \"origin\": \"China\", \"destination\": \"Thailand\", \"year\": 2020, \"date\": \"2020-07-06T00:00:00\", \"product\": \"Machinery and electronics\", \"transport_mode\": \"Road\", \"company_name\": \"Chaiyaphum Electronics Ltd\", \"total_value\": 7000000}, {\"register_id\": 16297, \"direction\": \"Imports\", \"origin\": \"China\", \"destination\": \"Thailand\", \"year\": 2020, \"date\": \"2020-08-06T00:00:00\", \"product\": \"Machinery and electronics\", \"transport_mode\": \"Road\", \"company_name\": \"Chaiyaphum Electronics Ltd\", \"total_value\": 49000000}, {\"register_id\": 16298, \"direction\": \"Imports\", \"origin\": \"China\", \"destination\": \"Thailand\", \"year\": 2020, \"date\": \"2020-09-06T00:00:00\", \"product\": \"Machinery and electronics\", \"transport_mode\": \"Road\", \"company_name\": \"Chaiyaphum Electronics Ltd\", \"total_value\": 78000000}, {\"register_id\": 16299, \"direction\": \"Imports\", \"origin\": \"China\", \"destination\": \"Thailand\", \"year\": 2020, \"date\": \"2020-10-06T00:00:00\", \"product\": \"Machinery and electronics\", \"transport_mode\": \"Road\", \"company_name\": \"Chaiyaphum Electronics Ltd\", \"total_value\": 42000000}, {\"register_id\": 16300, \"direction\": \"Imports\", \"origin\": \"China\", \"destination\": \"Thailand\", \"year\": 2020, \"date\": \"2020-11-06T00:00:00\", \"product\": \"Machinery and electronics\", \"transport_mode\": \"Road\", \"company_name\": \"Chaiyaphum Electronics Ltd\", \"total_value\": 45000000}, {\"register_id\": 16301, \"direction\": \"Imports\", \"origin\": \"China\", \"destination\": \"Thailand\", \"year\": 2020, \"date\": \"2020-12-06T00:00:00\", \"product\": \"Machinery and electronics\", \"transport_mode\": \"Road\", \"company_name\": \"Chaiyaphum Electronics Ltd\", \"total_value\": 36000000}, {\"register_id\": 16302, \"direction\": \"Imports\", \"origin\": \"China\", \"destination\": \"Thailand\", \"year\": 2020, \"date\": \"2020-06-13T00:00:00\", \"product\": \"Machinery and electronics\", \"transport_mode\": \"Road\", \"company_name\": \"Chaiyaphum Electronics Ltd\", \"total_value\": 3000000}, {\"register_id\": 16303, \"direction\": \"Imports\", \"origin\": \"China\", \"destination\": \"Thailand\", \"year\": 2020, \"date\": \"2020-06-14T00:00:00\", \"product\": \"Machinery and electronics\", \"transport_mode\": \"Road\", \"company_name\": \"Chaiyaphum Electronics Ltd\", \"total_value\": 5000000}, {\"register_id\": 16304, \"direction\": \"Imports\", \"origin\": \"China\", \"destination\": \"Thailand\", \"year\": 2020, \"date\": \"2020-06-15T00:00:00\", \"product\": \"Machinery and electronics\", \"transport_mode\": \"Road\", \"company_name\": \"Chaiyaphum Electronics Ltd\", \"total_value\": 50000000}, {\"register_id\": 16305, \"direction\": \"Imports\", \"origin\": \"China\", \"destination\": \"Thailand\", \"year\": 2020, \"date\": \"2020-06-16T00:00:00\", \"product\": \"Machinery and electronics\", \"transport_mode\": \"Road\", \"company_name\": \"Chaiyaphum Electronics Ltd\", \"total_value\": 51000000}, {\"register_id\": 16306, \"direction\": \"Imports\", \"origin\": \"China\", \"destination\": \"Thailand\", \"year\": 2020, \"date\": \"2020-06-17T00:00:00\", \"product\": \"Machinery and electronics\", \"transport_mode\": \"Road\", \"company_name\": \"Chaiyaphum Electronics Ltd\", \"total_value\": 37000000}, {\"register_id\": 16307, \"direction\": \"Imports\", \"origin\": \"China\", \"destination\": \"Thailand\", \"year\": 2020, \"date\": \"2020-06-18T00:00:00\", \"product\": \"Machinery and electronics\", \"transport_mode\": \"Road\", \"company_name\": \"Chaiyaphum Electronics Ltd\", \"total_value\": 53000000}, {\"register_id\": 16308, \"direction\": \"Imports\", \"origin\": \"China\", \"destination\": \"Thailand\", \"year\": 2020, \"date\": \"2020-06-19T00:00:00\", \"product\": \"Machinery and electronics\", \"transport_mode\": \"Road\", \"company_name\": \"Chaiyaphum Electronics Ltd\", \"total_value\": 48000000}, {\"register_id\": 16309, \"direction\": \"Imports\", \"origin\": \"China\", \"destination\": \"Thailand\", \"year\": 2020, \"date\": \"2020-06-20T00:00:00\", \"product\": \"Machinery and electronics\", \"transport_mode\": \"Road\", \"company_name\": \"Chaiyaphum Electronics Ltd\", \"total_value\": 2000000}, {\"register_id\": 16310, \"direction\": \"Imports\", \"origin\": \"China\", \"destination\": \"Thailand\", \"year\": 2020, \"date\": \"2020-06-21T00:00:00\", \"product\": \"Machinery and electronics\", \"transport_mode\": \"Road\", \"company_name\": \"Chaiyaphum Electronics Ltd\", \"total_value\": 4000000}, {\"register_id\": 16311, \"direction\": \"Imports\", \"origin\": \"China\", \"destination\": \"Thailand\", \"year\": 2020, \"date\": \"2020-06-22T00:00:00\", \"product\": \"Machinery and electronics\", \"transport_mode\": \"Road\", \"company_name\": \"Chaiyaphum Electronics Ltd\", \"total_value\": 44000000}, {\"register_id\": 16312, \"direction\": \"Imports\", \"origin\": \"China\", \"destination\": \"Thailand\", \"year\": 2020, \"date\": \"2020-06-23T00:00:00\", \"product\": \"Machinery and electronics\", \"transport_mode\": \"Road\", \"company_name\": \"Chaiyaphum Electronics Ltd\", \"total_value\": 53000000}, {\"register_id\": 16313, \"direction\": \"Imports\", \"origin\": \"China\", \"destination\": \"Thailand\", \"year\": 2020, \"date\": \"2020-06-24T00:00:00\", \"product\": \"Machinery and electronics\", \"transport_mode\": \"Road\", \"company_name\": \"Chaiyaphum Electronics Ltd\", \"total_value\": 46000000}, {\"register_id\": 16314, \"direction\": \"Imports\", \"origin\": \"China\", \"destination\": \"Thailand\", \"year\": 2020, \"date\": \"2020-06-25T00:00:00\", \"product\": \"Machinery and electronics\", \"transport_mode\": \"Road\", \"company_name\": \"Chaiyaphum Electronics Ltd\", \"total_value\": 44000000}, {\"register_id\": 16315, \"direction\": \"Imports\", \"origin\": \"China\", \"destination\": \"Thailand\", \"year\": 2020, \"date\": \"2020-06-26T00:00:00\", \"product\": \"Machinery and electronics\", \"transport_mode\": \"Road\", \"company_name\": \"Chaiyaphum Electronics Ltd\", \"total_value\": 30000000}, {\"register_id\": 16316, \"direction\": \"Imports\", \"origin\": \"China\", \"destination\": \"Thailand\", \"year\": 2020, \"date\": \"2020-06-27T00:00:00\", \"product\": \"Machinery and electronics\", \"transport_mode\": \"Road\", \"company_name\": \"Chaiyaphum Electronics Ltd\", \"total_value\": 1000000}, {\"register_id\": 16317, \"direction\": \"Imports\", \"origin\": \"China\", \"destination\": \"Thailand\", \"year\": 2020, \"date\": \"2020-06-28T00:00:00\", \"product\": \"Machinery and electronics\", \"transport_mode\": \"Road\", \"company_name\": \"Chaiyaphum Electronics Ltd\", \"total_value\": 2000000}, {\"register_id\": 16318, \"direction\": \"Imports\", \"origin\": \"China\", \"destination\": \"Thailand\", \"year\": 2020, \"date\": \"2020-06-29T00:00:00\", \"product\": \"Machinery and electronics\", \"transport_mode\": \"Road\", \"company_name\": \"Chaiyaphum Electronics Ltd\", \"total_value\": 57000000}, {\"register_id\": 16319, \"direction\": \"Imports\", \"origin\": \"China\", \"destination\": \"Thailand\", \"year\": 2020, \"date\": \"2020-06-30T00:00:00\", \"product\": \"Machinery and electronics\", \"transport_mode\": \"Road\", \"company_name\": \"Chaiyaphum Electronics Ltd\", \"total_value\": 41000000}, {\"register_id\": 16320, \"direction\": \"Imports\", \"origin\": \"China\", \"destination\": \"Thailand\", \"year\": 2020, \"date\": \"2020-01-07T00:00:00\", \"product\": \"Machinery and electronics\", \"transport_mode\": \"Road\", \"company_name\": \"Chaiyaphum Electronics Ltd\", \"total_value\": 75000000}, {\"register_id\": 16321, \"direction\": \"Imports\", \"origin\": \"China\", \"destination\": \"Thailand\", \"year\": 2015, \"date\": \"2015-01-31T00:00:00\", \"product\": \"Machinery and electronics\", \"transport_mode\": \"Road\", \"company_name\": \"Chaiyaphum Electronics Ltd\", \"total_value\": 3000000}, {\"register_id\": 16322, \"direction\": \"Imports\", \"origin\": \"China\", \"destination\": \"Thailand\", \"year\": 2015, \"date\": \"2015-01-02T00:00:00\", \"product\": \"Machinery and electronics\", \"transport_mode\": \"Road\", \"company_name\": \"Chaiyaphum Electronics Ltd\", \"total_value\": 7000000}, {\"register_id\": 16323, \"direction\": \"Imports\", \"origin\": \"China\", \"destination\": \"Thailand\", \"year\": 2015, \"date\": \"2015-02-02T00:00:00\", \"product\": \"Machinery and electronics\", \"transport_mode\": \"Road\", \"company_name\": \"Chaiyaphum Electronics Ltd\", \"total_value\": 17000000}, {\"register_id\": 16324, \"direction\": \"Imports\", \"origin\": \"China\", \"destination\": \"Thailand\", \"year\": 2015, \"date\": \"2015-03-02T00:00:00\", \"product\": \"Machinery and electronics\", \"transport_mode\": \"Road\", \"company_name\": \"Chaiyaphum Electronics Ltd\", \"total_value\": 23000000}, {\"register_id\": 16325, \"direction\": \"Imports\", \"origin\": \"China\", \"destination\": \"Thailand\", \"year\": 2015, \"date\": \"2015-04-02T00:00:00\", \"product\": \"Machinery and electronics\", \"transport_mode\": \"Road\", \"company_name\": \"Chaiyaphum Electronics Ltd\", \"total_value\": 36000000}, {\"register_id\": 16326, \"direction\": \"Imports\", \"origin\": \"China\", \"destination\": \"Thailand\", \"year\": 2015, \"date\": \"2015-05-02T00:00:00\", \"product\": \"Machinery and electronics\", \"transport_mode\": \"Road\", \"company_name\": \"Chaiyaphum Electronics Ltd\", \"total_value\": 48000000}, {\"register_id\": 16327, \"direction\": \"Imports\", \"origin\": \"China\", \"destination\": \"Thailand\", \"year\": 2015, \"date\": \"2015-06-02T00:00:00\", \"product\": \"Machinery and electronics\", \"transport_mode\": \"Road\", \"company_name\": \"Chaiyaphum Electronics Ltd\", \"total_value\": 3000000}, {\"register_id\": 16328, \"direction\": \"Imports\", \"origin\": \"China\", \"destination\": \"Thailand\", \"year\": 2015, \"date\": \"2015-07-02T00:00:00\", \"product\": \"Machinery and electronics\", \"transport_mode\": \"Road\", \"company_name\": \"Chaiyaphum Electronics Ltd\", \"total_value\": 3000000}, {\"register_id\": 16329, \"direction\": \"Imports\", \"origin\": \"China\", \"destination\": \"Thailand\", \"year\": 2015, \"date\": \"2015-08-02T00:00:00\", \"product\": \"Machinery and electronics\", \"transport_mode\": \"Road\", \"company_name\": \"Chaiyaphum Electronics Ltd\", \"total_value\": 4000000}, {\"register_id\": 16330, \"direction\": \"Imports\", \"origin\": \"China\", \"destination\": \"Thailand\", \"year\": 2015, \"date\": \"2015-09-02T00:00:00\", \"product\": \"Machinery and electronics\", \"transport_mode\": \"Road\", \"company_name\": \"Chaiyaphum Electronics Ltd\", \"total_value\": 20000000}, {\"register_id\": 16331, \"direction\": \"Imports\", \"origin\": \"China\", \"destination\": \"Thailand\", \"year\": 2015, \"date\": \"2015-10-02T00:00:00\", \"product\": \"Machinery and electronics\", \"transport_mode\": \"Road\", \"company_name\": \"Chaiyaphum Electronics Ltd\", \"total_value\": 23000000}, {\"register_id\": 16332, \"direction\": \"Imports\", \"origin\": \"China\", \"destination\": \"Thailand\", \"year\": 2015, \"date\": \"2015-11-02T00:00:00\", \"product\": \"Machinery and electronics\", \"transport_mode\": \"Road\", \"company_name\": \"Chaiyaphum Electronics Ltd\", \"total_value\": 41000000}, {\"register_id\": 16333, \"direction\": \"Imports\", \"origin\": \"China\", \"destination\": \"Thailand\", \"year\": 2015, \"date\": \"2015-12-02T00:00:00\", \"product\": \"Machinery and electronics\", \"transport_mode\": \"Road\", \"company_name\": \"Chaiyaphum Electronics Ltd\", \"total_value\": 26000000}, {\"register_id\": 16334, \"direction\": \"Imports\", \"origin\": \"China\", \"destination\": \"Thailand\", \"year\": 2015, \"date\": \"2015-02-13T00:00:00\", \"product\": \"Machinery and electronics\", \"transport_mode\": \"Road\", \"company_name\": \"Chaiyaphum Electronics Ltd\", \"total_value\": 28000000}, {\"register_id\": 16335, \"direction\": \"Imports\", \"origin\": \"China\", \"destination\": \"Thailand\", \"year\": 2015, \"date\": \"2015-02-14T00:00:00\", \"product\": \"Machinery and electronics\", \"transport_mode\": \"Road\", \"company_name\": \"Chaiyaphum Electronics Ltd\", \"total_value\": 2000000}, {\"register_id\": 16336, \"direction\": \"Imports\", \"origin\": \"China\", \"destination\": \"Thailand\", \"year\": 2015, \"date\": \"2015-02-15T00:00:00\", \"product\": \"Machinery and electronics\", \"transport_mode\": \"Road\", \"company_name\": \"Chaiyaphum Electronics Ltd\", \"total_value\": 3000000}, {\"register_id\": 16337, \"direction\": \"Imports\", \"origin\": \"China\", \"destination\": \"Thailand\", \"year\": 2015, \"date\": \"2015-02-16T00:00:00\", \"product\": \"Machinery and electronics\", \"transport_mode\": \"Road\", \"company_name\": \"Chaiyaphum Electronics Ltd\", \"total_value\": 20000000}, {\"register_id\": 16338, \"direction\": \"Imports\", \"origin\": \"China\", \"destination\": \"Thailand\", \"year\": 2015, \"date\": \"2015-02-17T00:00:00\", \"product\": \"Machinery and electronics\", \"transport_mode\": \"Road\", \"company_name\": \"Chaiyaphum Electronics Ltd\", \"total_value\": 17000000}, {\"register_id\": 16339, \"direction\": \"Imports\", \"origin\": \"China\", \"destination\": \"Thailand\", \"year\": 2015, \"date\": \"2015-02-18T00:00:00\", \"product\": \"Machinery and electronics\", \"transport_mode\": \"Road\", \"company_name\": \"Chaiyaphum Electronics Ltd\", \"total_value\": 24000000}, {\"register_id\": 16340, \"direction\": \"Imports\", \"origin\": \"China\", \"destination\": \"Thailand\", \"year\": 2015, \"date\": \"2015-02-19T00:00:00\", \"product\": \"Machinery and electronics\", \"transport_mode\": \"Road\", \"company_name\": \"Chaiyaphum Electronics Ltd\", \"total_value\": 27000000}, {\"register_id\": 16484, \"direction\": \"Imports\", \"origin\": \"China\", \"destination\": \"Thailand\", \"year\": 2016, \"date\": \"2016-10-02T00:00:00\", \"product\": \"Machinery and electronics\", \"transport_mode\": \"Road\", \"company_name\": \"Chaiyaphum Electronics Ltd\", \"total_value\": 36000000}, {\"register_id\": 16485, \"direction\": \"Imports\", \"origin\": \"China\", \"destination\": \"Thailand\", \"year\": 2016, \"date\": \"2016-11-02T00:00:00\", \"product\": \"Machinery and electronics\", \"transport_mode\": \"Road\", \"company_name\": \"Chaiyaphum Electronics Ltd\", \"total_value\": 36000000}, {\"register_id\": 16486, \"direction\": \"Imports\", \"origin\": \"China\", \"destination\": \"Thailand\", \"year\": 2016, \"date\": \"2016-12-02T00:00:00\", \"product\": \"Machinery and electronics\", \"transport_mode\": \"Road\", \"company_name\": \"Chaiyaphum Electronics Ltd\", \"total_value\": 25000000}, {\"register_id\": 16487, \"direction\": \"Imports\", \"origin\": \"China\", \"destination\": \"Thailand\", \"year\": 2016, \"date\": \"2016-02-13T00:00:00\", \"product\": \"Machinery and electronics\", \"transport_mode\": \"Road\", \"company_name\": \"Chaiyaphum Electronics Ltd\", \"total_value\": 10000000}, {\"register_id\": 16488, \"direction\": \"Imports\", \"origin\": \"China\", \"destination\": \"Thailand\", \"year\": 2016, \"date\": \"2016-02-14T00:00:00\", \"product\": \"Machinery and electronics\", \"transport_mode\": \"Rail\", \"company_name\": \"Chaiyaphum Electronics Ltd\", \"total_value\": 4000000}, {\"register_id\": 16489, \"direction\": \"Imports\", \"origin\": \"China\", \"destination\": \"Thailand\", \"year\": 2016, \"date\": \"2016-02-15T00:00:00\", \"product\": \"Machinery and electronics\", \"transport_mode\": \"Rail\", \"company_name\": \"Chaiyaphum Electronics Ltd\", \"total_value\": 23000000}, {\"register_id\": 16490, \"direction\": \"Imports\", \"origin\": \"China\", \"destination\": \"Thailand\", \"year\": 2016, \"date\": \"2016-02-16T00:00:00\", \"product\": \"Machinery and electronics\", \"transport_mode\": \"Rail\", \"company_name\": \"Chaiyaphum Electronics Ltd\", \"total_value\": 34000000}, {\"register_id\": 16491, \"direction\": \"Imports\", \"origin\": \"China\", \"destination\": \"Thailand\", \"year\": 2016, \"date\": \"2016-02-17T00:00:00\", \"product\": \"Machinery and electronics\", \"transport_mode\": \"Rail\", \"company_name\": \"Chaiyaphum Electronics Ltd\", \"total_value\": 33000000}, {\"register_id\": 16492, \"direction\": \"Imports\", \"origin\": \"China\", \"destination\": \"Thailand\", \"year\": 2016, \"date\": \"2016-02-18T00:00:00\", \"product\": \"Machinery and electronics\", \"transport_mode\": \"Rail\", \"company_name\": \"Chaiyaphum Electronics Ltd\", \"total_value\": 34000000}, {\"register_id\": 16493, \"direction\": \"Imports\", \"origin\": \"China\", \"destination\": \"Thailand\", \"year\": 2016, \"date\": \"2016-02-19T00:00:00\", \"product\": \"Machinery and electronics\", \"transport_mode\": \"Rail\", \"company_name\": \"Chaiyaphum Electronics Ltd\", \"total_value\": 22000000}, {\"register_id\": 16494, \"direction\": \"Imports\", \"origin\": \"China\", \"destination\": \"Thailand\", \"year\": 2016, \"date\": \"2016-02-20T00:00:00\", \"product\": \"Machinery and electronics\", \"transport_mode\": \"Rail\", \"company_name\": \"Chaiyaphum Electronics Ltd\", \"total_value\": 5000000}, {\"register_id\": 16495, \"direction\": \"Imports\", \"origin\": \"China\", \"destination\": \"Thailand\", \"year\": 2016, \"date\": \"2016-02-21T00:00:00\", \"product\": \"Machinery and electronics\", \"transport_mode\": \"Rail\", \"company_name\": \"Chaiyaphum Electronics Ltd\", \"total_value\": 4000000}, {\"register_id\": 16496, \"direction\": \"Imports\", \"origin\": \"China\", \"destination\": \"Thailand\", \"year\": 2016, \"date\": \"2016-02-22T00:00:00\", \"product\": \"Machinery and electronics\", \"transport_mode\": \"Rail\", \"company_name\": \"Chaiyaphum Electronics Ltd\", \"total_value\": 17000000}, {\"register_id\": 16497, \"direction\": \"Imports\", \"origin\": \"China\", \"destination\": \"Thailand\", \"year\": 2016, \"date\": \"2016-02-23T00:00:00\", \"product\": \"Machinery and electronics\", \"transport_mode\": \"Rail\", \"company_name\": \"Chaiyaphum Electronics Ltd\", \"total_value\": 19000000}, {\"register_id\": 16498, \"direction\": \"Imports\", \"origin\": \"China\", \"destination\": \"Thailand\", \"year\": 2016, \"date\": \"2016-02-24T00:00:00\", \"product\": \"Machinery and electronics\", \"transport_mode\": \"Rail\", \"company_name\": \"Chaiyaphum Electronics Ltd\", \"total_value\": 28000000}, {\"register_id\": 16499, \"direction\": \"Imports\", \"origin\": \"China\", \"destination\": \"Thailand\", \"year\": 2016, \"date\": \"2016-02-25T00:00:00\", \"product\": \"Machinery and electronics\", \"transport_mode\": \"Rail\", \"company_name\": \"Chaiyaphum Electronics Ltd\", \"total_value\": 26000000}, {\"register_id\": 16500, \"direction\": \"Imports\", \"origin\": \"China\", \"destination\": \"Thailand\", \"year\": 2016, \"date\": \"2016-02-26T00:00:00\", \"product\": \"Machinery and electronics\", \"transport_mode\": \"Rail\", \"company_name\": \"Chaiyaphum Electronics Ltd\", \"total_value\": 32000000}, {\"register_id\": 16501, \"direction\": \"Imports\", \"origin\": \"China\", \"destination\": \"Thailand\", \"year\": 2016, \"date\": \"2016-02-27T00:00:00\", \"product\": \"Machinery and electronics\", \"transport_mode\": \"Rail\", \"company_name\": \"Chaiyaphum Electronics Ltd\", \"total_value\": 4000000}, {\"register_id\": 16502, \"direction\": \"Imports\", \"origin\": \"China\", \"destination\": \"Thailand\", \"year\": 2016, \"date\": \"2016-02-28T00:00:00\", \"product\": \"Machinery and electronics\", \"transport_mode\": \"Rail\", \"company_name\": \"Chaiyaphum Electronics Ltd\", \"total_value\": 4000000}, {\"register_id\": 16503, \"direction\": \"Imports\", \"origin\": \"China\", \"destination\": \"Thailand\", \"year\": 2016, \"date\": \"2016-02-29T00:00:00\", \"product\": \"Machinery and electronics\", \"transport_mode\": \"Rail\", \"company_name\": \"Chaiyaphum Electronics Ltd\", \"total_value\": 18000000}, {\"register_id\": 16504, \"direction\": \"Imports\", \"origin\": \"China\", \"destination\": \"Thailand\", \"year\": 2016, \"date\": \"2016-01-03T00:00:00\", \"product\": \"Machinery and electronics\", \"transport_mode\": \"Rail\", \"company_name\": \"Chaiyaphum Electronics Ltd\", \"total_value\": 31000000}, {\"register_id\": 16505, \"direction\": \"Imports\", \"origin\": \"China\", \"destination\": \"Thailand\", \"year\": 2016, \"date\": \"2016-02-03T00:00:00\", \"product\": \"Machinery and electronics\", \"transport_mode\": \"Rail\", \"company_name\": \"Chaiyaphum Electronics Ltd\", \"total_value\": 23000000}, {\"register_id\": 16506, \"direction\": \"Imports\", \"origin\": \"China\", \"destination\": \"Thailand\", \"year\": 2016, \"date\": \"2016-03-03T00:00:00\", \"product\": \"Machinery and electronics\", \"transport_mode\": \"Rail\", \"company_name\": \"Chaiyaphum Electronics Ltd\", \"total_value\": 22000000}, {\"register_id\": 16507, \"direction\": \"Imports\", \"origin\": \"China\", \"destination\": \"Thailand\", \"year\": 2016, \"date\": \"2016-04-03T00:00:00\", \"product\": \"Machinery and electronics\", \"transport_mode\": \"Rail\", \"company_name\": \"Chaiyaphum Electronics Ltd\", \"total_value\": 21000000}, {\"register_id\": 16508, \"direction\": \"Imports\", \"origin\": \"China\", \"destination\": \"Thailand\", \"year\": 2016, \"date\": \"2016-05-03T00:00:00\", \"product\": \"Machinery and electronics\", \"transport_mode\": \"Rail\", \"company_name\": \"Chaiyaphum Electronics Ltd\", \"total_value\": 3000000}, {\"register_id\": 16509, \"direction\": \"Imports\", \"origin\": \"China\", \"destination\": \"Thailand\", \"year\": 2016, \"date\": \"2016-06-03T00:00:00\", \"product\": \"Machinery and electronics\", \"transport_mode\": \"Rail\", \"company_name\": \"Chaiyaphum Electronics Ltd\", \"total_value\": 2000000}, {\"register_id\": 16510, \"direction\": \"Imports\", \"origin\": \"China\", \"destination\": \"Thailand\", \"year\": 2016, \"date\": \"2016-07-03T00:00:00\", \"product\": \"Machinery and electronics\", \"transport_mode\": \"Rail\", \"company_name\": \"Chaiyaphum Electronics Ltd\", \"total_value\": 36000000}, {\"register_id\": 16511, \"direction\": \"Imports\", \"origin\": \"China\", \"destination\": \"Thailand\", \"year\": 2016, \"date\": \"2016-08-03T00:00:00\", \"product\": \"Machinery and electronics\", \"transport_mode\": \"Rail\", \"company_name\": \"Chaiyaphum Electronics Ltd\", \"total_value\": 20000000}, {\"register_id\": 16512, \"direction\": \"Imports\", \"origin\": \"China\", \"destination\": \"Thailand\", \"year\": 2016, \"date\": \"2016-09-03T00:00:00\", \"product\": \"Machinery and electronics\", \"transport_mode\": \"Rail\", \"company_name\": \"Chaiyaphum Electronics Ltd\", \"total_value\": 21000000}, {\"register_id\": 16513, \"direction\": \"Imports\", \"origin\": \"China\", \"destination\": \"Thailand\", \"year\": 2016, \"date\": \"2016-10-03T00:00:00\", \"product\": \"Machinery and electronics\", \"transport_mode\": \"Rail\", \"company_name\": \"Chaiyaphum Electronics Ltd\", \"total_value\": 28000000}, {\"register_id\": 16514, \"direction\": \"Imports\", \"origin\": \"China\", \"destination\": \"Thailand\", \"year\": 2016, \"date\": \"2016-11-03T00:00:00\", \"product\": \"Machinery and electronics\", \"transport_mode\": \"Rail\", \"company_name\": \"Chaiyaphum Electronics Ltd\", \"total_value\": 31000000}, {\"register_id\": 16586, \"direction\": \"Imports\", \"origin\": \"China\", \"destination\": \"Thailand\", \"year\": 2016, \"date\": \"2016-05-22T00:00:00\", \"product\": \"Machinery and electronics\", \"transport_mode\": \"Rail\", \"company_name\": \"Chaiyaphum Electronics Ltd\", \"total_value\": 2000000}, {\"register_id\": 16587, \"direction\": \"Imports\", \"origin\": \"China\", \"destination\": \"Thailand\", \"year\": 2016, \"date\": \"2016-05-23T00:00:00\", \"product\": \"Machinery and electronics\", \"transport_mode\": \"Rail\", \"company_name\": \"Chaiyaphum Electronics Ltd\", \"total_value\": 28000000}, {\"register_id\": 16588, \"direction\": \"Imports\", \"origin\": \"China\", \"destination\": \"Thailand\", \"year\": 2016, \"date\": \"2016-05-24T00:00:00\", \"product\": \"Machinery and electronics\", \"transport_mode\": \"Rail\", \"company_name\": \"Chaiyaphum Electronics Ltd\", \"total_value\": 20000000}, {\"register_id\": 16589, \"direction\": \"Imports\", \"origin\": \"China\", \"destination\": \"Thailand\", \"year\": 2016, \"date\": \"2016-05-25T00:00:00\", \"product\": \"Machinery and electronics\", \"transport_mode\": \"Rail\", \"company_name\": \"Chaiyaphum Electronics Ltd\", \"total_value\": 19000000}, {\"register_id\": 16590, \"direction\": \"Imports\", \"origin\": \"China\", \"destination\": \"Thailand\", \"year\": 2016, \"date\": \"2016-05-26T00:00:00\", \"product\": \"Machinery and electronics\", \"transport_mode\": \"Rail\", \"company_name\": \"Chaiyaphum Electronics Ltd\", \"total_value\": 23000000}, {\"register_id\": 16591, \"direction\": \"Imports\", \"origin\": \"China\", \"destination\": \"Thailand\", \"year\": 2016, \"date\": \"2016-05-27T00:00:00\", \"product\": \"Machinery and electronics\", \"transport_mode\": \"Rail\", \"company_name\": \"Chaiyaphum Electronics Ltd\", \"total_value\": 19000000}, {\"register_id\": 16592, \"direction\": \"Imports\", \"origin\": \"China\", \"destination\": \"Thailand\", \"year\": 2016, \"date\": \"2016-05-28T00:00:00\", \"product\": \"Machinery and electronics\", \"transport_mode\": \"Rail\", \"company_name\": \"Chaiyaphum Electronics Ltd\", \"total_value\": 2000000}, {\"register_id\": 16624, \"direction\": \"Imports\", \"origin\": \"China\", \"destination\": \"Thailand\", \"year\": 2016, \"date\": \"2016-06-29T00:00:00\", \"product\": \"Machinery and electronics\", \"transport_mode\": \"Rail\", \"company_name\": \"Chaiyaphum Electronics Ltd\", \"total_value\": 26000000}, {\"register_id\": 16625, \"direction\": \"Imports\", \"origin\": \"China\", \"destination\": \"Thailand\", \"year\": 2017, \"date\": \"2017-04-02T00:00:00\", \"product\": \"Machinery and electronics\", \"transport_mode\": \"Rail\", \"company_name\": \"Chaiyaphum Electronics Ltd\", \"total_value\": 2000000}, {\"register_id\": 16626, \"direction\": \"Imports\", \"origin\": \"China\", \"destination\": \"Thailand\", \"year\": 2017, \"date\": \"2017-05-02T00:00:00\", \"product\": \"Machinery and electronics\", \"transport_mode\": \"Rail\", \"company_name\": \"Chaiyaphum Electronics Ltd\", \"total_value\": 1000000}, {\"register_id\": 16627, \"direction\": \"Imports\", \"origin\": \"China\", \"destination\": \"Thailand\", \"year\": 2017, \"date\": \"2017-06-02T00:00:00\", \"product\": \"Machinery and electronics\", \"transport_mode\": \"Rail\", \"company_name\": \"Chaiyaphum Electronics Ltd\", \"total_value\": 2000000}, {\"register_id\": 16628, \"direction\": \"Imports\", \"origin\": \"China\", \"destination\": \"Thailand\", \"year\": 2017, \"date\": \"2017-07-02T00:00:00\", \"product\": \"Machinery and electronics\", \"transport_mode\": \"Rail\", \"company_name\": \"Chaiyaphum Electronics Ltd\", \"total_value\": 23000000}, {\"register_id\": 16629, \"direction\": \"Imports\", \"origin\": \"China\", \"destination\": \"Thailand\", \"year\": 2017, \"date\": \"2017-08-02T00:00:00\", \"product\": \"Machinery and electronics\", \"transport_mode\": \"Rail\", \"company_name\": \"Chaiyaphum Electronics Ltd\", \"total_value\": 45000000}, {\"register_id\": 16630, \"direction\": \"Imports\", \"origin\": \"China\", \"destination\": \"Thailand\", \"year\": 2017, \"date\": \"2017-09-02T00:00:00\", \"product\": \"Machinery and electronics\", \"transport_mode\": \"Rail\", \"company_name\": \"Chaiyaphum Electronics Ltd\", \"total_value\": 23000000}, {\"register_id\": 16631, \"direction\": \"Imports\", \"origin\": \"China\", \"destination\": \"Thailand\", \"year\": 2017, \"date\": \"2017-10-02T00:00:00\", \"product\": \"Machinery and electronics\", \"transport_mode\": \"Rail\", \"company_name\": \"Chaiyaphum Electronics Ltd\", \"total_value\": 29000000}, {\"register_id\": 16632, \"direction\": \"Imports\", \"origin\": \"China\", \"destination\": \"Thailand\", \"year\": 2017, \"date\": \"2017-11-02T00:00:00\", \"product\": \"Machinery and electronics\", \"transport_mode\": \"Rail\", \"company_name\": \"Chaiyaphum Electronics Ltd\", \"total_value\": 2000000}, {\"register_id\": 16633, \"direction\": \"Imports\", \"origin\": \"China\", \"destination\": \"Thailand\", \"year\": 2017, \"date\": \"2017-12-02T00:00:00\", \"product\": \"Machinery and electronics\", \"transport_mode\": \"Rail\", \"company_name\": \"Chaiyaphum Electronics Ltd\", \"total_value\": 1000000}, {\"register_id\": 16634, \"direction\": \"Imports\", \"origin\": \"China\", \"destination\": \"Thailand\", \"year\": 2017, \"date\": \"2017-02-13T00:00:00\", \"product\": \"Machinery and electronics\", \"transport_mode\": \"Rail\", \"company_name\": \"Chaiyaphum Electronics Ltd\", \"total_value\": 19000000}, {\"register_id\": 16635, \"direction\": \"Imports\", \"origin\": \"China\", \"destination\": \"Thailand\", \"year\": 2017, \"date\": \"2017-02-14T00:00:00\", \"product\": \"Machinery and electronics\", \"transport_mode\": \"Rail\", \"company_name\": \"Chaiyaphum Electronics Ltd\", \"total_value\": 27000000}, {\"register_id\": 16636, \"direction\": \"Imports\", \"origin\": \"China\", \"destination\": \"Thailand\", \"year\": 2017, \"date\": \"2017-02-15T00:00:00\", \"product\": \"Machinery and electronics\", \"transport_mode\": \"Rail\", \"company_name\": \"Chaiyaphum Electronics Ltd\", \"total_value\": 18000000}, {\"register_id\": 16637, \"direction\": \"Imports\", \"origin\": \"China\", \"destination\": \"Thailand\", \"year\": 2017, \"date\": \"2017-02-16T00:00:00\", \"product\": \"Machinery and electronics\", \"transport_mode\": \"Rail\", \"company_name\": \"Chaiyaphum Electronics Ltd\", \"total_value\": 35000000}, {\"register_id\": 16638, \"direction\": \"Imports\", \"origin\": \"China\", \"destination\": \"Thailand\", \"year\": 2017, \"date\": \"2017-02-17T00:00:00\", \"product\": \"Machinery and electronics\", \"transport_mode\": \"Rail\", \"company_name\": \"Chaiyaphum Electronics Ltd\", \"total_value\": 21000000}, {\"register_id\": 16639, \"direction\": \"Imports\", \"origin\": \"China\", \"destination\": \"Thailand\", \"year\": 2017, \"date\": \"2017-02-18T00:00:00\", \"product\": \"Machinery and electronics\", \"transport_mode\": \"Rail\", \"company_name\": \"Chaiyaphum Electronics Ltd\", \"total_value\": 2000000}, {\"register_id\": 16640, \"direction\": \"Imports\", \"origin\": \"China\", \"destination\": \"Thailand\", \"year\": 2017, \"date\": \"2017-02-19T00:00:00\", \"product\": \"Machinery and electronics\", \"transport_mode\": \"Rail\", \"company_name\": \"Chaiyaphum Electronics Ltd\", \"total_value\": 1000000}, {\"register_id\": 16641, \"direction\": \"Imports\", \"origin\": \"China\", \"destination\": \"Thailand\", \"year\": 2017, \"date\": \"2017-02-20T00:00:00\", \"product\": \"Machinery and electronics\", \"transport_mode\": \"Rail\", \"company_name\": \"Chaiyaphum Electronics Ltd\", \"total_value\": 32000000}, {\"register_id\": 16642, \"direction\": \"Imports\", \"origin\": \"China\", \"destination\": \"Thailand\", \"year\": 2017, \"date\": \"2017-02-21T00:00:00\", \"product\": \"Machinery and electronics\", \"transport_mode\": \"Rail\", \"company_name\": \"Chaiyaphum Electronics Ltd\", \"total_value\": 30000000}, {\"register_id\": 16643, \"direction\": \"Imports\", \"origin\": \"China\", \"destination\": \"Thailand\", \"year\": 2017, \"date\": \"2017-02-22T00:00:00\", \"product\": \"Machinery and electronics\", \"transport_mode\": \"Rail\", \"company_name\": \"Chaiyaphum Electronics Ltd\", \"total_value\": 22000000}, {\"register_id\": 16644, \"direction\": \"Imports\", \"origin\": \"China\", \"destination\": \"Thailand\", \"year\": 2017, \"date\": \"2017-02-23T00:00:00\", \"product\": \"Machinery and electronics\", \"transport_mode\": \"Rail\", \"company_name\": \"Chaiyaphum Electronics Ltd\", \"total_value\": 26000000}, {\"register_id\": 16645, \"direction\": \"Imports\", \"origin\": \"China\", \"destination\": \"Thailand\", \"year\": 2017, \"date\": \"2017-02-24T00:00:00\", \"product\": \"Machinery and electronics\", \"transport_mode\": \"Road\", \"company_name\": \"Chaiyaphum Electronics Ltd\", \"total_value\": 26000000}, {\"register_id\": 16646, \"direction\": \"Imports\", \"origin\": \"China\", \"destination\": \"Thailand\", \"year\": 2017, \"date\": \"2017-02-25T00:00:00\", \"product\": \"Machinery and electronics\", \"transport_mode\": \"Road\", \"company_name\": \"Chaiyaphum Electronics Ltd\", \"total_value\": 9000000}, {\"register_id\": 16647, \"direction\": \"Imports\", \"origin\": \"China\", \"destination\": \"Thailand\", \"year\": 2017, \"date\": \"2017-02-26T00:00:00\", \"product\": \"Machinery and electronics\", \"transport_mode\": \"Road\", \"company_name\": \"Chaiyaphum Electronics Ltd\", \"total_value\": 1000000}, {\"register_id\": 16648, \"direction\": \"Imports\", \"origin\": \"China\", \"destination\": \"Thailand\", \"year\": 2017, \"date\": \"2017-02-27T00:00:00\", \"product\": \"Machinery and electronics\", \"transport_mode\": \"Road\", \"company_name\": \"Chaiyaphum Electronics Ltd\", \"total_value\": 21000000}, {\"register_id\": 16649, \"direction\": \"Imports\", \"origin\": \"China\", \"destination\": \"Thailand\", \"year\": 2017, \"date\": \"2017-02-28T00:00:00\", \"product\": \"Machinery and electronics\", \"transport_mode\": \"Road\", \"company_name\": \"Chaiyaphum Electronics Ltd\", \"total_value\": 30000000}, {\"register_id\": 16650, \"direction\": \"Imports\", \"origin\": \"China\", \"destination\": \"Thailand\", \"year\": 2017, \"date\": \"2017-01-03T00:00:00\", \"product\": \"Machinery and electronics\", \"transport_mode\": \"Road\", \"company_name\": \"Chaiyaphum Electronics Ltd\", \"total_value\": 22000000}, {\"register_id\": 16651, \"direction\": \"Imports\", \"origin\": \"China\", \"destination\": \"Thailand\", \"year\": 2017, \"date\": \"2017-02-03T00:00:00\", \"product\": \"Machinery and electronics\", \"transport_mode\": \"Road\", \"company_name\": \"Chaiyaphum Electronics Ltd\", \"total_value\": 22000000}, {\"register_id\": 16652, \"direction\": \"Imports\", \"origin\": \"China\", \"destination\": \"Thailand\", \"year\": 2017, \"date\": \"2017-03-03T00:00:00\", \"product\": \"Machinery and electronics\", \"transport_mode\": \"Road\", \"company_name\": \"Chaiyaphum Electronics Ltd\", \"total_value\": 22000000}, {\"register_id\": 16653, \"direction\": \"Imports\", \"origin\": \"China\", \"destination\": \"Thailand\", \"year\": 2017, \"date\": \"2017-04-03T00:00:00\", \"product\": \"Machinery and electronics\", \"transport_mode\": \"Road\", \"company_name\": \"Chaiyaphum Electronics Ltd\", \"total_value\": 2000000}, {\"register_id\": 16654, \"direction\": \"Imports\", \"origin\": \"China\", \"destination\": \"Thailand\", \"year\": 2017, \"date\": \"2017-05-03T00:00:00\", \"product\": \"Machinery and electronics\", \"transport_mode\": \"Road\", \"company_name\": \"Chaiyaphum Electronics Ltd\", \"total_value\": 5000000}, {\"register_id\": 16655, \"direction\": \"Imports\", \"origin\": \"China\", \"destination\": \"Thailand\", \"year\": 2017, \"date\": \"2017-06-03T00:00:00\", \"product\": \"Machinery and electronics\", \"transport_mode\": \"Road\", \"company_name\": \"Chaiyaphum Electronics Ltd\", \"total_value\": 22000000}, {\"register_id\": 16725, \"direction\": \"Imports\", \"origin\": \"China\", \"destination\": \"Thailand\", \"year\": 2017, \"date\": \"2017-05-15T00:00:00\", \"product\": \"Machinery and electronics\", \"transport_mode\": \"Road\", \"company_name\": \"Chaiyaphum Electronics Ltd\", \"total_value\": 20000000}, {\"register_id\": 16726, \"direction\": \"Imports\", \"origin\": \"China\", \"destination\": \"Thailand\", \"year\": 2017, \"date\": \"2017-05-16T00:00:00\", \"product\": \"Machinery and electronics\", \"transport_mode\": \"Road\", \"company_name\": \"Chaiyaphum Electronics Ltd\", \"total_value\": 17000000}, {\"register_id\": 16727, \"direction\": \"Imports\", \"origin\": \"China\", \"destination\": \"Thailand\", \"year\": 2017, \"date\": \"2017-05-17T00:00:00\", \"product\": \"Machinery and electronics\", \"transport_mode\": \"Road\", \"company_name\": \"Chaiyaphum Electronics Ltd\", \"total_value\": 19000000}, {\"register_id\": 16728, \"direction\": \"Imports\", \"origin\": \"China\", \"destination\": \"Thailand\", \"year\": 2017, \"date\": \"2017-05-18T00:00:00\", \"product\": \"Machinery and electronics\", \"transport_mode\": \"Road\", \"company_name\": \"Chaiyaphum Electronics Ltd\", \"total_value\": 23000000}, {\"register_id\": 16729, \"direction\": \"Imports\", \"origin\": \"China\", \"destination\": \"Thailand\", \"year\": 2017, \"date\": \"2017-05-19T00:00:00\", \"product\": \"Machinery and electronics\", \"transport_mode\": \"Road\", \"company_name\": \"Chaiyaphum Electronics Ltd\", \"total_value\": 22000000}, {\"register_id\": 16730, \"direction\": \"Imports\", \"origin\": \"China\", \"destination\": \"Thailand\", \"year\": 2017, \"date\": \"2017-05-20T00:00:00\", \"product\": \"Machinery and electronics\", \"transport_mode\": \"Road\", \"company_name\": \"Chaiyaphum Electronics Ltd\", \"total_value\": 1000000}, {\"register_id\": 16731, \"direction\": \"Imports\", \"origin\": \"China\", \"destination\": \"Thailand\", \"year\": 2017, \"date\": \"2017-05-21T00:00:00\", \"product\": \"Machinery and electronics\", \"transport_mode\": \"Road\", \"company_name\": \"Chaiyaphum Electronics Ltd\", \"total_value\": 3000000}, {\"register_id\": 16732, \"direction\": \"Imports\", \"origin\": \"China\", \"destination\": \"Thailand\", \"year\": 2017, \"date\": \"2017-05-22T00:00:00\", \"product\": \"Machinery and electronics\", \"transport_mode\": \"Road\", \"company_name\": \"Chaiyaphum Electronics Ltd\", \"total_value\": 32000000}, {\"register_id\": 16733, \"direction\": \"Imports\", \"origin\": \"China\", \"destination\": \"Thailand\", \"year\": 2017, \"date\": \"2017-05-23T00:00:00\", \"product\": \"Machinery and electronics\", \"transport_mode\": \"Road\", \"company_name\": \"Chaiyaphum Electronics Ltd\", \"total_value\": 18000000}, {\"register_id\": 16734, \"direction\": \"Imports\", \"origin\": \"China\", \"destination\": \"Thailand\", \"year\": 2017, \"date\": \"2017-05-24T00:00:00\", \"product\": \"Machinery and electronics\", \"transport_mode\": \"Road\", \"company_name\": \"Chaiyaphum Electronics Ltd\", \"total_value\": 27000000}, {\"register_id\": 16735, \"direction\": \"Imports\", \"origin\": \"China\", \"destination\": \"Thailand\", \"year\": 2017, \"date\": \"2017-05-25T00:00:00\", \"product\": \"Machinery and electronics\", \"transport_mode\": \"Road\", \"company_name\": \"Chaiyaphum Electronics Ltd\", \"total_value\": 28000000}, {\"register_id\": 16736, \"direction\": \"Imports\", \"origin\": \"China\", \"destination\": \"Thailand\", \"year\": 2017, \"date\": \"2017-05-26T00:00:00\", \"product\": \"Machinery and electronics\", \"transport_mode\": \"Road\", \"company_name\": \"Chaiyaphum Electronics Ltd\", \"total_value\": 34000000}, {\"register_id\": 16737, \"direction\": \"Imports\", \"origin\": \"China\", \"destination\": \"Thailand\", \"year\": 2017, \"date\": \"2017-05-27T00:00:00\", \"product\": \"Machinery and electronics\", \"transport_mode\": \"Road\", \"company_name\": \"Chaiyaphum Electronics Ltd\", \"total_value\": 2000000}, {\"register_id\": 16738, \"direction\": \"Imports\", \"origin\": \"China\", \"destination\": \"Thailand\", \"year\": 2017, \"date\": \"2017-05-28T00:00:00\", \"product\": \"Machinery and electronics\", \"transport_mode\": \"Road\", \"company_name\": \"Chaiyaphum Electronics Ltd\", \"total_value\": 2000000}, {\"register_id\": 16739, \"direction\": \"Imports\", \"origin\": \"China\", \"destination\": \"Thailand\", \"year\": 2017, \"date\": \"2017-05-29T00:00:00\", \"product\": \"Machinery and electronics\", \"transport_mode\": \"Road\", \"company_name\": \"Chaiyaphum Electronics Ltd\", \"total_value\": 22000000}, {\"register_id\": 16740, \"direction\": \"Imports\", \"origin\": \"China\", \"destination\": \"Thailand\", \"year\": 2017, \"date\": \"2017-05-30T00:00:00\", \"product\": \"Machinery and electronics\", \"transport_mode\": \"Road\", \"company_name\": \"Chaiyaphum Electronics Ltd\", \"total_value\": 36000000}, {\"register_id\": 16741, \"direction\": \"Imports\", \"origin\": \"China\", \"destination\": \"Thailand\", \"year\": 2017, \"date\": \"2017-05-31T00:00:00\", \"product\": \"Machinery and electronics\", \"transport_mode\": \"Road\", \"company_name\": \"Chaiyaphum Electronics Ltd\", \"total_value\": 22000000}, {\"register_id\": 16742, \"direction\": \"Imports\", \"origin\": \"China\", \"destination\": \"Thailand\", \"year\": 2017, \"date\": \"2017-01-06T00:00:00\", \"product\": \"Machinery and electronics\", \"transport_mode\": \"Road\", \"company_name\": \"Chaiyaphum Electronics Ltd\", \"total_value\": 31000000}, {\"register_id\": 16743, \"direction\": \"Imports\", \"origin\": \"China\", \"destination\": \"Thailand\", \"year\": 2017, \"date\": \"2017-02-06T00:00:00\", \"product\": \"Machinery and electronics\", \"transport_mode\": \"Road\", \"company_name\": \"Chaiyaphum Electronics Ltd\", \"total_value\": 26000000}, {\"register_id\": 16744, \"direction\": \"Imports\", \"origin\": \"China\", \"destination\": \"Thailand\", \"year\": 2017, \"date\": \"2017-03-06T00:00:00\", \"product\": \"Machinery and electronics\", \"transport_mode\": \"Road\", \"company_name\": \"Chaiyaphum Electronics Ltd\", \"total_value\": 2000000}, {\"register_id\": 16795, \"direction\": \"Imports\", \"origin\": \"China\", \"destination\": \"Japan\", \"year\": 2018, \"date\": \"2018-02-21T00:00:00\", \"product\": \"Machinery and electronics\", \"transport_mode\": \"Air\", \"company_name\": \"Konica Minolta Co\", \"total_value\": 23000000}, {\"register_id\": 16796, \"direction\": \"Imports\", \"origin\": \"China\", \"destination\": \"Japan\", \"year\": 2018, \"date\": \"2018-02-22T00:00:00\", \"product\": \"Machinery and electronics\", \"transport_mode\": \"Air\", \"company_name\": \"Konica Minolta Co\", \"total_value\": 22000000}, {\"register_id\": 16797, \"direction\": \"Imports\", \"origin\": \"China\", \"destination\": \"Japan\", \"year\": 2018, \"date\": \"2018-02-23T00:00:00\", \"product\": \"Machinery and electronics\", \"transport_mode\": \"Air\", \"company_name\": \"Konica Minolta Co\", \"total_value\": 39000000}, {\"register_id\": 16798, \"direction\": \"Imports\", \"origin\": \"China\", \"destination\": \"Japan\", \"year\": 2018, \"date\": \"2018-02-24T00:00:00\", \"product\": \"Machinery and electronics\", \"transport_mode\": \"Air\", \"company_name\": \"Konica Minolta Co\", \"total_value\": 1000000}, {\"register_id\": 16799, \"direction\": \"Imports\", \"origin\": \"China\", \"destination\": \"Japan\", \"year\": 2018, \"date\": \"2018-02-25T00:00:00\", \"product\": \"Machinery and electronics\", \"transport_mode\": \"Air\", \"company_name\": \"Konica Minolta Co\", \"total_value\": 2000000}, {\"register_id\": 16800, \"direction\": \"Imports\", \"origin\": \"China\", \"destination\": \"Japan\", \"year\": 2018, \"date\": \"2018-02-26T00:00:00\", \"product\": \"Machinery and electronics\", \"transport_mode\": \"Air\", \"company_name\": \"Konica Minolta Co\", \"total_value\": 21000000}, {\"register_id\": 16801, \"direction\": \"Imports\", \"origin\": \"China\", \"destination\": \"Japan\", \"year\": 2018, \"date\": \"2018-02-27T00:00:00\", \"product\": \"Machinery and electronics\", \"transport_mode\": \"Air\", \"company_name\": \"Konica Minolta Co\", \"total_value\": 22000000}, {\"register_id\": 16802, \"direction\": \"Imports\", \"origin\": \"China\", \"destination\": \"Japan\", \"year\": 2018, \"date\": \"2018-02-28T00:00:00\", \"product\": \"Machinery and electronics\", \"transport_mode\": \"Air\", \"company_name\": \"Konica Minolta Co\", \"total_value\": 22000000}, {\"register_id\": 16803, \"direction\": \"Imports\", \"origin\": \"China\", \"destination\": \"Japan\", \"year\": 2018, \"date\": \"2018-01-03T00:00:00\", \"product\": \"Machinery and electronics\", \"transport_mode\": \"Air\", \"company_name\": \"Konica Minolta Co\", \"total_value\": 27000000}, {\"register_id\": 16804, \"direction\": \"Imports\", \"origin\": \"China\", \"destination\": \"Japan\", \"year\": 2018, \"date\": \"2018-02-03T00:00:00\", \"product\": \"Machinery and electronics\", \"transport_mode\": \"Air\", \"company_name\": \"Konica Minolta Co\", \"total_value\": 23000000}, {\"register_id\": 16805, \"direction\": \"Imports\", \"origin\": \"China\", \"destination\": \"Japan\", \"year\": 2018, \"date\": \"2018-03-03T00:00:00\", \"product\": \"Machinery and electronics\", \"transport_mode\": \"Air\", \"company_name\": \"Konica Minolta Co\", \"total_value\": 2000000}, {\"register_id\": 16806, \"direction\": \"Imports\", \"origin\": \"China\", \"destination\": \"Japan\", \"year\": 2018, \"date\": \"2018-04-03T00:00:00\", \"product\": \"Machinery and electronics\", \"transport_mode\": \"Air\", \"company_name\": \"Konica Minolta Co\", \"total_value\": 2000000}, {\"register_id\": 16807, \"direction\": \"Imports\", \"origin\": \"China\", \"destination\": \"Japan\", \"year\": 2018, \"date\": \"2018-05-03T00:00:00\", \"product\": \"Machinery and electronics\", \"transport_mode\": \"Air\", \"company_name\": \"Konica Minolta Co\", \"total_value\": 24000000}, {\"register_id\": 16808, \"direction\": \"Imports\", \"origin\": \"China\", \"destination\": \"Japan\", \"year\": 2018, \"date\": \"2018-06-03T00:00:00\", \"product\": \"Machinery and electronics\", \"transport_mode\": \"Air\", \"company_name\": \"Konica Minolta Co\", \"total_value\": 26000000}, {\"register_id\": 16809, \"direction\": \"Imports\", \"origin\": \"China\", \"destination\": \"Japan\", \"year\": 2018, \"date\": \"2018-07-03T00:00:00\", \"product\": \"Machinery and electronics\", \"transport_mode\": \"Air\", \"company_name\": \"Konica Minolta Co\", \"total_value\": 21000000}, {\"register_id\": 16810, \"direction\": \"Imports\", \"origin\": \"China\", \"destination\": \"Japan\", \"year\": 2018, \"date\": \"2018-08-03T00:00:00\", \"product\": \"Machinery and electronics\", \"transport_mode\": \"Air\", \"company_name\": \"Konica Minolta Co\", \"total_value\": 23000000}, {\"register_id\": 16811, \"direction\": \"Imports\", \"origin\": \"China\", \"destination\": \"Japan\", \"year\": 2018, \"date\": \"2018-09-03T00:00:00\", \"product\": \"Machinery and electronics\", \"transport_mode\": \"Air\", \"company_name\": \"Konica Minolta Co\", \"total_value\": 46000000}, {\"register_id\": 16812, \"direction\": \"Imports\", \"origin\": \"China\", \"destination\": \"Japan\", \"year\": 2018, \"date\": \"2018-10-03T00:00:00\", \"product\": \"Machinery and electronics\", \"transport_mode\": \"Air\", \"company_name\": \"Konica Minolta Co\", \"total_value\": 2000000}, {\"register_id\": 16813, \"direction\": \"Imports\", \"origin\": \"China\", \"destination\": \"Japan\", \"year\": 2018, \"date\": \"2018-11-03T00:00:00\", \"product\": \"Machinery and electronics\", \"transport_mode\": \"Air\", \"company_name\": \"Konica Minolta Co\", \"total_value\": 3000000}, {\"register_id\": 16814, \"direction\": \"Imports\", \"origin\": \"China\", \"destination\": \"Japan\", \"year\": 2018, \"date\": \"2018-12-03T00:00:00\", \"product\": \"Machinery and electronics\", \"transport_mode\": \"Air\", \"company_name\": \"Konica Minolta Co\", \"total_value\": 23000000}, {\"register_id\": 16815, \"direction\": \"Imports\", \"origin\": \"China\", \"destination\": \"Japan\", \"year\": 2018, \"date\": \"2018-03-13T00:00:00\", \"product\": \"Machinery and electronics\", \"transport_mode\": \"Air\", \"company_name\": \"Konica Minolta Co\", \"total_value\": 22000000}, {\"register_id\": 16816, \"direction\": \"Imports\", \"origin\": \"China\", \"destination\": \"Japan\", \"year\": 2018, \"date\": \"2018-03-14T00:00:00\", \"product\": \"Machinery and electronics\", \"transport_mode\": \"Air\", \"company_name\": \"Konica Minolta Co\", \"total_value\": 19000000}, {\"register_id\": 16817, \"direction\": \"Imports\", \"origin\": \"China\", \"destination\": \"Japan\", \"year\": 2018, \"date\": \"2018-03-15T00:00:00\", \"product\": \"Machinery and electronics\", \"transport_mode\": \"Air\", \"company_name\": \"Konica Minolta Co\", \"total_value\": 22000000}, {\"register_id\": 16818, \"direction\": \"Imports\", \"origin\": \"China\", \"destination\": \"Japan\", \"year\": 2018, \"date\": \"2018-03-16T00:00:00\", \"product\": \"Machinery and electronics\", \"transport_mode\": \"Air\", \"company_name\": \"Konica Minolta Co\", \"total_value\": 43000000}, {\"register_id\": 16819, \"direction\": \"Imports\", \"origin\": \"China\", \"destination\": \"Japan\", \"year\": 2018, \"date\": \"2018-03-17T00:00:00\", \"product\": \"Machinery and electronics\", \"transport_mode\": \"Air\", \"company_name\": \"Konica Minolta Co\", \"total_value\": 2000000}, {\"register_id\": 16820, \"direction\": \"Imports\", \"origin\": \"China\", \"destination\": \"Japan\", \"year\": 2018, \"date\": \"2018-03-18T00:00:00\", \"product\": \"Machinery and electronics\", \"transport_mode\": \"Air\", \"company_name\": \"Konica Minolta Co\", \"total_value\": 2000000}, {\"register_id\": 16821, \"direction\": \"Imports\", \"origin\": \"China\", \"destination\": \"Japan\", \"year\": 2018, \"date\": \"2018-03-19T00:00:00\", \"product\": \"Machinery and electronics\", \"transport_mode\": \"Air\", \"company_name\": \"Konica Minolta Co\", \"total_value\": 31000000}, {\"register_id\": 16822, \"direction\": \"Imports\", \"origin\": \"China\", \"destination\": \"Japan\", \"year\": 2018, \"date\": \"2018-03-20T00:00:00\", \"product\": \"Machinery and electronics\", \"transport_mode\": \"Air\", \"company_name\": \"Konica Minolta Co\", \"total_value\": 22000000}, {\"register_id\": 16823, \"direction\": \"Imports\", \"origin\": \"China\", \"destination\": \"Japan\", \"year\": 2018, \"date\": \"2018-03-21T00:00:00\", \"product\": \"Machinery and electronics\", \"transport_mode\": \"Air\", \"company_name\": \"Konica Minolta Co\", \"total_value\": 38000000}, {\"register_id\": 16824, \"direction\": \"Imports\", \"origin\": \"China\", \"destination\": \"Japan\", \"year\": 2018, \"date\": \"2018-03-22T00:00:00\", \"product\": \"Machinery and electronics\", \"transport_mode\": \"Air\", \"company_name\": \"Konica Minolta Co\", \"total_value\": 25000000}, {\"register_id\": 16825, \"direction\": \"Imports\", \"origin\": \"China\", \"destination\": \"Japan\", \"year\": 2018, \"date\": \"2018-03-23T00:00:00\", \"product\": \"Machinery and electronics\", \"transport_mode\": \"Air\", \"company_name\": \"Konica Minolta Co\", \"total_value\": 22000000}, {\"register_id\": 16826, \"direction\": \"Imports\", \"origin\": \"China\", \"destination\": \"Japan\", \"year\": 2018, \"date\": \"2018-03-24T00:00:00\", \"product\": \"Machinery and electronics\", \"transport_mode\": \"Air\", \"company_name\": \"Konica Minolta Co\", \"total_value\": 2000000}, {\"register_id\": 16827, \"direction\": \"Imports\", \"origin\": \"China\", \"destination\": \"Japan\", \"year\": 2018, \"date\": \"2018-03-25T00:00:00\", \"product\": \"Machinery and electronics\", \"transport_mode\": \"Air\", \"company_name\": \"Konica Minolta Co\", \"total_value\": 3000000}, {\"register_id\": 16828, \"direction\": \"Imports\", \"origin\": \"China\", \"destination\": \"Japan\", \"year\": 2018, \"date\": \"2018-03-26T00:00:00\", \"product\": \"Machinery and electronics\", \"transport_mode\": \"Air\", \"company_name\": \"Konica Minolta Co\", \"total_value\": 20000000}, {\"register_id\": 16912, \"direction\": \"Imports\", \"origin\": \"China\", \"destination\": \"Japan\", \"year\": 2018, \"date\": \"2018-06-18T00:00:00\", \"product\": \"Machinery and electronics\", \"transport_mode\": \"Air\", \"company_name\": \"Konica Minolta Co\", \"total_value\": 19000000}, {\"register_id\": 16913, \"direction\": \"Imports\", \"origin\": \"China\", \"destination\": \"Japan\", \"year\": 2018, \"date\": \"2018-06-19T00:00:00\", \"product\": \"Machinery and electronics\", \"transport_mode\": \"Air\", \"company_name\": \"Konica Minolta Co\", \"total_value\": 27000000}, {\"register_id\": 16914, \"direction\": \"Imports\", \"origin\": \"China\", \"destination\": \"Japan\", \"year\": 2018, \"date\": \"2018-06-20T00:00:00\", \"product\": \"Machinery and electronics\", \"transport_mode\": \"Air\", \"company_name\": \"Konica Minolta Co\", \"total_value\": 23000000}, {\"register_id\": 16915, \"direction\": \"Imports\", \"origin\": \"China\", \"destination\": \"Japan\", \"year\": 2018, \"date\": \"2018-06-21T00:00:00\", \"product\": \"Machinery and electronics\", \"transport_mode\": \"Air\", \"company_name\": \"Konica Minolta Co\", \"total_value\": 40000000}, {\"register_id\": 16916, \"direction\": \"Imports\", \"origin\": \"China\", \"destination\": \"Japan\", \"year\": 2018, \"date\": \"2018-06-22T00:00:00\", \"product\": \"Machinery and electronics\", \"transport_mode\": \"Air\", \"company_name\": \"Konica Minolta Co\", \"total_value\": 21000000}, {\"register_id\": 16917, \"direction\": \"Imports\", \"origin\": \"China\", \"destination\": \"Japan\", \"year\": 2018, \"date\": \"2018-06-23T00:00:00\", \"product\": \"Machinery and electronics\", \"transport_mode\": \"Air\", \"company_name\": \"Konica Minolta Co\", \"total_value\": 2000000}, {\"register_id\": 16918, \"direction\": \"Imports\", \"origin\": \"China\", \"destination\": \"Japan\", \"year\": 2018, \"date\": \"2018-06-24T00:00:00\", \"product\": \"Machinery and electronics\", \"transport_mode\": \"Air\", \"company_name\": \"Konica Minolta Co\", \"total_value\": 2000000}, {\"register_id\": 16919, \"direction\": \"Imports\", \"origin\": \"China\", \"destination\": \"Japan\", \"year\": 2018, \"date\": \"2018-06-25T00:00:00\", \"product\": \"Machinery and electronics\", \"transport_mode\": \"Air\", \"company_name\": \"Konica Minolta Co\", \"total_value\": 19000000}, {\"register_id\": 16920, \"direction\": \"Imports\", \"origin\": \"China\", \"destination\": \"Japan\", \"year\": 2018, \"date\": \"2018-06-26T00:00:00\", \"product\": \"Machinery and electronics\", \"transport_mode\": \"Air\", \"company_name\": \"Konica Minolta Co\", \"total_value\": 23000000}, {\"register_id\": 16921, \"direction\": \"Imports\", \"origin\": \"China\", \"destination\": \"Japan\", \"year\": 2018, \"date\": \"2018-06-27T00:00:00\", \"product\": \"Machinery and electronics\", \"transport_mode\": \"Air\", \"company_name\": \"Konica Minolta Co\", \"total_value\": 27000000}, {\"register_id\": 16922, \"direction\": \"Imports\", \"origin\": \"China\", \"destination\": \"Japan\", \"year\": 2018, \"date\": \"2018-06-28T00:00:00\", \"product\": \"Machinery and electronics\", \"transport_mode\": \"Air\", \"company_name\": \"Konica Minolta Co\", \"total_value\": 26000000}, {\"register_id\": 16923, \"direction\": \"Imports\", \"origin\": \"China\", \"destination\": \"Japan\", \"year\": 2018, \"date\": \"2018-06-29T00:00:00\", \"product\": \"Machinery and electronics\", \"transport_mode\": \"Air\", \"company_name\": \"Konica Minolta Co\", \"total_value\": 25000000}, {\"register_id\": 16924, \"direction\": \"Imports\", \"origin\": \"China\", \"destination\": \"Japan\", \"year\": 2018, \"date\": \"2018-06-30T00:00:00\", \"product\": \"Machinery and electronics\", \"transport_mode\": \"Air\", \"company_name\": \"Konica Minolta Co\", \"total_value\": 2000000}, {\"register_id\": 16925, \"direction\": \"Imports\", \"origin\": \"China\", \"destination\": \"Japan\", \"year\": 2018, \"date\": \"2018-01-07T00:00:00\", \"product\": \"Machinery and electronics\", \"transport_mode\": \"Air\", \"company_name\": \"Konica Minolta Co\", \"total_value\": 5000000}, {\"register_id\": 16926, \"direction\": \"Imports\", \"origin\": \"China\", \"destination\": \"Japan\", \"year\": 2018, \"date\": \"2018-02-07T00:00:00\", \"product\": \"Machinery and electronics\", \"transport_mode\": \"Air\", \"company_name\": \"Konica Minolta Co\", \"total_value\": 40000000}, {\"register_id\": 16927, \"direction\": \"Imports\", \"origin\": \"China\", \"destination\": \"Japan\", \"year\": 2018, \"date\": \"2018-03-07T00:00:00\", \"product\": \"Machinery and electronics\", \"transport_mode\": \"Air\", \"company_name\": \"Konica Minolta Co\", \"total_value\": 24000000}, {\"register_id\": 16928, \"direction\": \"Imports\", \"origin\": \"China\", \"destination\": \"Japan\", \"year\": 2018, \"date\": \"2018-04-07T00:00:00\", \"product\": \"Machinery and electronics\", \"transport_mode\": \"Air\", \"company_name\": \"Konica Minolta Co\", \"total_value\": 28000000}, {\"register_id\": 16929, \"direction\": \"Imports\", \"origin\": \"China\", \"destination\": \"Japan\", \"year\": 2019, \"date\": \"2019-02-02T00:00:00\", \"product\": \"Machinery and electronics\", \"transport_mode\": \"Air\", \"company_name\": \"Konica Minolta Co\", \"total_value\": 2000000}, {\"register_id\": 16930, \"direction\": \"Imports\", \"origin\": \"China\", \"destination\": \"Japan\", \"year\": 2019, \"date\": \"2019-03-02T00:00:00\", \"product\": \"Machinery and electronics\", \"transport_mode\": \"Air\", \"company_name\": \"Konica Minolta Co\", \"total_value\": 4000000}, {\"register_id\": 16931, \"direction\": \"Imports\", \"origin\": \"China\", \"destination\": \"Japan\", \"year\": 2019, \"date\": \"2019-04-02T00:00:00\", \"product\": \"Machinery and electronics\", \"transport_mode\": \"Air\", \"company_name\": \"Konica Minolta Co\", \"total_value\": 21000000}, {\"register_id\": 16932, \"direction\": \"Imports\", \"origin\": \"China\", \"destination\": \"Japan\", \"year\": 2019, \"date\": \"2019-05-02T00:00:00\", \"product\": \"Machinery and electronics\", \"transport_mode\": \"Air\", \"company_name\": \"Konica Minolta Co\", \"total_value\": 28000000}, {\"register_id\": 16933, \"direction\": \"Imports\", \"origin\": \"China\", \"destination\": \"Japan\", \"year\": 2019, \"date\": \"2019-06-02T00:00:00\", \"product\": \"Machinery and electronics\", \"transport_mode\": \"Air\", \"company_name\": \"Konica Minolta Co\", \"total_value\": 24000000}, {\"register_id\": 16934, \"direction\": \"Imports\", \"origin\": \"China\", \"destination\": \"Japan\", \"year\": 2019, \"date\": \"2019-07-02T00:00:00\", \"product\": \"Machinery and electronics\", \"transport_mode\": \"Air\", \"company_name\": \"Konica Minolta Co\", \"total_value\": 28000000}, {\"register_id\": 16935, \"direction\": \"Imports\", \"origin\": \"China\", \"destination\": \"Japan\", \"year\": 2019, \"date\": \"2019-08-02T00:00:00\", \"product\": \"Machinery and electronics\", \"transport_mode\": \"Air\", \"company_name\": \"Konica Minolta Co\", \"total_value\": 18000000}, {\"register_id\": 16936, \"direction\": \"Imports\", \"origin\": \"China\", \"destination\": \"Japan\", \"year\": 2019, \"date\": \"2019-09-02T00:00:00\", \"product\": \"Machinery and electronics\", \"transport_mode\": \"Air\", \"company_name\": \"Konica Minolta Co\", \"total_value\": 2000000}, {\"register_id\": 16937, \"direction\": \"Imports\", \"origin\": \"China\", \"destination\": \"Japan\", \"year\": 2019, \"date\": \"2019-10-02T00:00:00\", \"product\": \"Machinery and electronics\", \"transport_mode\": \"Air\", \"company_name\": \"Konica Minolta Co\", \"total_value\": 4000000}, {\"register_id\": 16938, \"direction\": \"Imports\", \"origin\": \"China\", \"destination\": \"Japan\", \"year\": 2019, \"date\": \"2019-11-02T00:00:00\", \"product\": \"Machinery and electronics\", \"transport_mode\": \"Air\", \"company_name\": \"Konica Minolta Co\", \"total_value\": 19000000}, {\"register_id\": 16939, \"direction\": \"Imports\", \"origin\": \"China\", \"destination\": \"Japan\", \"year\": 2019, \"date\": \"2019-12-02T00:00:00\", \"product\": \"Machinery and electronics\", \"transport_mode\": \"Air\", \"company_name\": \"Konica Minolta Co\", \"total_value\": 35000000}, {\"register_id\": 16940, \"direction\": \"Imports\", \"origin\": \"China\", \"destination\": \"Japan\", \"year\": 2019, \"date\": \"2019-02-13T00:00:00\", \"product\": \"Machinery and electronics\", \"transport_mode\": \"Air\", \"company_name\": \"Konica Minolta Co\", \"total_value\": 25000000}, {\"register_id\": 16941, \"direction\": \"Imports\", \"origin\": \"China\", \"destination\": \"Japan\", \"year\": 2019, \"date\": \"2019-02-14T00:00:00\", \"product\": \"Machinery and electronics\", \"transport_mode\": \"Air\", \"company_name\": \"Konica Minolta Co\", \"total_value\": 28000000}, {\"register_id\": 16942, \"direction\": \"Imports\", \"origin\": \"China\", \"destination\": \"Japan\", \"year\": 2019, \"date\": \"2019-02-15T00:00:00\", \"product\": \"Machinery and electronics\", \"transport_mode\": \"Air\", \"company_name\": \"Konica Minolta Co\", \"total_value\": 22000000}, {\"register_id\": 16943, \"direction\": \"Imports\", \"origin\": \"China\", \"destination\": \"Japan\", \"year\": 2019, \"date\": \"2019-02-16T00:00:00\", \"product\": \"Machinery and electronics\", \"transport_mode\": \"Air\", \"company_name\": \"Konica Minolta Co\", \"total_value\": 2000000}, {\"register_id\": 16944, \"direction\": \"Imports\", \"origin\": \"China\", \"destination\": \"Japan\", \"year\": 2019, \"date\": \"2019-02-17T00:00:00\", \"product\": \"Machinery and electronics\", \"transport_mode\": \"Air\", \"company_name\": \"Konica Minolta Co\", \"total_value\": 5000000}, {\"register_id\": 16945, \"direction\": \"Imports\", \"origin\": \"China\", \"destination\": \"Japan\", \"year\": 2019, \"date\": \"2019-02-18T00:00:00\", \"product\": \"Machinery and electronics\", \"transport_mode\": \"Air\", \"company_name\": \"Konica Minolta Co\", \"total_value\": 26000000}, {\"register_id\": 16946, \"direction\": \"Imports\", \"origin\": \"China\", \"destination\": \"Japan\", \"year\": 2019, \"date\": \"2019-02-19T00:00:00\", \"product\": \"Machinery and electronics\", \"transport_mode\": \"Air\", \"company_name\": \"Konica Minolta Co\", \"total_value\": 26000000}, {\"register_id\": 16947, \"direction\": \"Imports\", \"origin\": \"China\", \"destination\": \"Japan\", \"year\": 2019, \"date\": \"2019-02-20T00:00:00\", \"product\": \"Machinery and electronics\", \"transport_mode\": \"Air\", \"company_name\": \"Konica Minolta Co\", \"total_value\": 22000000}, {\"register_id\": 16948, \"direction\": \"Imports\", \"origin\": \"China\", \"destination\": \"Japan\", \"year\": 2019, \"date\": \"2019-02-21T00:00:00\", \"product\": \"Machinery and electronics\", \"transport_mode\": \"Air\", \"company_name\": \"Konica Minolta Co\", \"total_value\": 38000000}, {\"register_id\": 16949, \"direction\": \"Imports\", \"origin\": \"China\", \"destination\": \"Japan\", \"year\": 2019, \"date\": \"2019-02-22T00:00:00\", \"product\": \"Machinery and electronics\", \"transport_mode\": \"Air\", \"company_name\": \"Konica Minolta Co\", \"total_value\": 23000000}, {\"register_id\": 16950, \"direction\": \"Imports\", \"origin\": \"China\", \"destination\": \"Japan\", \"year\": 2019, \"date\": \"2019-02-23T00:00:00\", \"product\": \"Machinery and electronics\", \"transport_mode\": \"Air\", \"company_name\": \"Konica Minolta Co\", \"total_value\": 2000000}, {\"register_id\": 16951, \"direction\": \"Imports\", \"origin\": \"China\", \"destination\": \"Japan\", \"year\": 2019, \"date\": \"2019-02-24T00:00:00\", \"product\": \"Machinery and electronics\", \"transport_mode\": \"Air\", \"company_name\": \"Konica Minolta Co\", \"total_value\": 3000000}, {\"register_id\": 16952, \"direction\": \"Imports\", \"origin\": \"China\", \"destination\": \"Japan\", \"year\": 2019, \"date\": \"2019-02-25T00:00:00\", \"product\": \"Machinery and electronics\", \"transport_mode\": \"Air\", \"company_name\": \"Konica Minolta Co\", \"total_value\": 22000000}, {\"register_id\": 16953, \"direction\": \"Imports\", \"origin\": \"China\", \"destination\": \"Japan\", \"year\": 2019, \"date\": \"2019-02-26T00:00:00\", \"product\": \"Machinery and electronics\", \"transport_mode\": \"Air\", \"company_name\": \"Konica Minolta Co\", \"total_value\": 30000000}, {\"register_id\": 16954, \"direction\": \"Imports\", \"origin\": \"China\", \"destination\": \"Japan\", \"year\": 2019, \"date\": \"2019-02-27T00:00:00\", \"product\": \"Machinery and electronics\", \"transport_mode\": \"Air\", \"company_name\": \"Konica Minolta Co\", \"total_value\": 18000000}, {\"register_id\": 16955, \"direction\": \"Imports\", \"origin\": \"China\", \"destination\": \"Japan\", \"year\": 2019, \"date\": \"2019-02-28T00:00:00\", \"product\": \"Machinery and electronics\", \"transport_mode\": \"Air\", \"company_name\": \"Konica Minolta Co\", \"total_value\": 27000000}, {\"register_id\": 16956, \"direction\": \"Imports\", \"origin\": \"China\", \"destination\": \"Japan\", \"year\": 2019, \"date\": \"2019-01-03T00:00:00\", \"product\": \"Machinery and electronics\", \"transport_mode\": \"Air\", \"company_name\": \"Konica Minolta Co\", \"total_value\": 41000000}, {\"register_id\": 16957, \"direction\": \"Imports\", \"origin\": \"China\", \"destination\": \"Japan\", \"year\": 2019, \"date\": \"2019-02-03T00:00:00\", \"product\": \"Machinery and electronics\", \"transport_mode\": \"Air\", \"company_name\": \"Konica Minolta Co\", \"total_value\": 3000000}, {\"register_id\": 16958, \"direction\": \"Imports\", \"origin\": \"China\", \"destination\": \"Japan\", \"year\": 2019, \"date\": \"2019-03-03T00:00:00\", \"product\": \"Machinery and electronics\", \"transport_mode\": \"Air\", \"company_name\": \"Konica Minolta Co\", \"total_value\": 2000000}, {\"register_id\": 16959, \"direction\": \"Imports\", \"origin\": \"China\", \"destination\": \"Japan\", \"year\": 2019, \"date\": \"2019-04-03T00:00:00\", \"product\": \"Machinery and electronics\", \"transport_mode\": \"Air\", \"company_name\": \"Konica Minolta Co\", \"total_value\": 42000000}, {\"register_id\": 16960, \"direction\": \"Imports\", \"origin\": \"China\", \"destination\": \"Japan\", \"year\": 2019, \"date\": \"2019-05-03T00:00:00\", \"product\": \"Machinery and electronics\", \"transport_mode\": \"Air\", \"company_name\": \"Konica Minolta Co\", \"total_value\": 34000000}, {\"register_id\": 16961, \"direction\": \"Imports\", \"origin\": \"China\", \"destination\": \"Japan\", \"year\": 2019, \"date\": \"2019-06-03T00:00:00\", \"product\": \"Machinery and electronics\", \"transport_mode\": \"Air\", \"company_name\": \"Konica Minolta Co\", \"total_value\": 41000000}, {\"register_id\": 16962, \"direction\": \"Imports\", \"origin\": \"China\", \"destination\": \"Japan\", \"year\": 2019, \"date\": \"2019-07-03T00:00:00\", \"product\": \"Machinery and electronics\", \"transport_mode\": \"Air\", \"company_name\": \"Konica Minolta Co\", \"total_value\": 22000000}, {\"register_id\": 16963, \"direction\": \"Imports\", \"origin\": \"China\", \"destination\": \"Japan\", \"year\": 2019, \"date\": \"2019-08-03T00:00:00\", \"product\": \"Machinery and electronics\", \"transport_mode\": \"Air\", \"company_name\": \"Konica Minolta Co\", \"total_value\": 21000000}, {\"register_id\": 16964, \"direction\": \"Imports\", \"origin\": \"China\", \"destination\": \"Japan\", \"year\": 2019, \"date\": \"2019-09-03T00:00:00\", \"product\": \"Machinery and electronics\", \"transport_mode\": \"Air\", \"company_name\": \"Konica Minolta Co\", \"total_value\": 2000000}, {\"register_id\": 16965, \"direction\": \"Imports\", \"origin\": \"China\", \"destination\": \"Japan\", \"year\": 2019, \"date\": \"2019-10-03T00:00:00\", \"product\": \"Machinery and electronics\", \"transport_mode\": \"Air\", \"company_name\": \"Konica Minolta Co\", \"total_value\": 2000000}, {\"register_id\": 16966, \"direction\": \"Imports\", \"origin\": \"China\", \"destination\": \"Japan\", \"year\": 2019, \"date\": \"2019-11-03T00:00:00\", \"product\": \"Machinery and electronics\", \"transport_mode\": \"Air\", \"company_name\": \"Konica Minolta Co\", \"total_value\": 26000000}, {\"register_id\": 16967, \"direction\": \"Imports\", \"origin\": \"China\", \"destination\": \"Japan\", \"year\": 2019, \"date\": \"2019-12-03T00:00:00\", \"product\": \"Machinery and electronics\", \"transport_mode\": \"Air\", \"company_name\": \"Konica Minolta Co\", \"total_value\": 19000000}, {\"register_id\": 16968, \"direction\": \"Imports\", \"origin\": \"China\", \"destination\": \"Japan\", \"year\": 2019, \"date\": \"2019-03-13T00:00:00\", \"product\": \"Machinery and electronics\", \"transport_mode\": \"Air\", \"company_name\": \"Konica Minolta Co\", \"total_value\": 25000000}, {\"register_id\": 16969, \"direction\": \"Imports\", \"origin\": \"China\", \"destination\": \"Japan\", \"year\": 2019, \"date\": \"2019-03-14T00:00:00\", \"product\": \"Machinery and electronics\", \"transport_mode\": \"Air\", \"company_name\": \"Konica Minolta Co\", \"total_value\": 30000000}, {\"register_id\": 16970, \"direction\": \"Imports\", \"origin\": \"China\", \"destination\": \"Japan\", \"year\": 2019, \"date\": \"2019-03-15T00:00:00\", \"product\": \"Machinery and electronics\", \"transport_mode\": \"Air\", \"company_name\": \"Konica Minolta Co\", \"total_value\": 25000000}, {\"register_id\": 16971, \"direction\": \"Imports\", \"origin\": \"China\", \"destination\": \"Japan\", \"year\": 2019, \"date\": \"2019-03-16T00:00:00\", \"product\": \"Machinery and electronics\", \"transport_mode\": \"Air\", \"company_name\": \"Konica Minolta Co\", \"total_value\": 2000000}, {\"register_id\": 16972, \"direction\": \"Imports\", \"origin\": \"China\", \"destination\": \"Japan\", \"year\": 2019, \"date\": \"2019-03-17T00:00:00\", \"product\": \"Machinery and electronics\", \"transport_mode\": \"Air\", \"company_name\": \"Konica Minolta Co\", \"total_value\": 2000000}, {\"register_id\": 16973, \"direction\": \"Imports\", \"origin\": \"China\", \"destination\": \"Japan\", \"year\": 2019, \"date\": \"2019-03-18T00:00:00\", \"product\": \"Machinery and electronics\", \"transport_mode\": \"Air\", \"company_name\": \"Konica Minolta Co\", \"total_value\": 24000000}, {\"register_id\": 16974, \"direction\": \"Imports\", \"origin\": \"China\", \"destination\": \"Japan\", \"year\": 2019, \"date\": \"2019-03-19T00:00:00\", \"product\": \"Machinery and electronics\", \"transport_mode\": \"Air\", \"company_name\": \"Konica Minolta Co\", \"total_value\": 35000000}, {\"register_id\": 16975, \"direction\": \"Imports\", \"origin\": \"China\", \"destination\": \"Japan\", \"year\": 2019, \"date\": \"2019-03-20T00:00:00\", \"product\": \"Machinery and electronics\", \"transport_mode\": \"Air\", \"company_name\": \"Konica Minolta Co\", \"total_value\": 30000000}, {\"register_id\": 16976, \"direction\": \"Imports\", \"origin\": \"China\", \"destination\": \"Japan\", \"year\": 2019, \"date\": \"2019-03-21T00:00:00\", \"product\": \"Machinery and electronics\", \"transport_mode\": \"Air\", \"company_name\": \"Konica Minolta Co\", \"total_value\": 26000000}, {\"register_id\": 16977, \"direction\": \"Imports\", \"origin\": \"China\", \"destination\": \"Japan\", \"year\": 2019, \"date\": \"2019-03-22T00:00:00\", \"product\": \"Machinery and electronics\", \"transport_mode\": \"Air\", \"company_name\": \"Konica Minolta Co\", \"total_value\": 17000000}, {\"register_id\": 16978, \"direction\": \"Imports\", \"origin\": \"China\", \"destination\": \"Japan\", \"year\": 2019, \"date\": \"2019-03-23T00:00:00\", \"product\": \"Machinery and electronics\", \"transport_mode\": \"Air\", \"company_name\": \"Konica Minolta Co\", \"total_value\": 2000000}, {\"register_id\": 16979, \"direction\": \"Imports\", \"origin\": \"China\", \"destination\": \"Japan\", \"year\": 2019, \"date\": \"2019-03-24T00:00:00\", \"product\": \"Machinery and electronics\", \"transport_mode\": \"Air\", \"company_name\": \"Konica Minolta Co\", \"total_value\": 2000000}, {\"register_id\": 16980, \"direction\": \"Imports\", \"origin\": \"China\", \"destination\": \"Japan\", \"year\": 2019, \"date\": \"2019-03-25T00:00:00\", \"product\": \"Machinery and electronics\", \"transport_mode\": \"Air\", \"company_name\": \"Konica Minolta Co\", \"total_value\": 20000000}, {\"register_id\": 16981, \"direction\": \"Imports\", \"origin\": \"China\", \"destination\": \"Japan\", \"year\": 2019, \"date\": \"2019-03-26T00:00:00\", \"product\": \"Machinery and electronics\", \"transport_mode\": \"Air\", \"company_name\": \"Konica Minolta Co\", \"total_value\": 25000000}, {\"register_id\": 16982, \"direction\": \"Imports\", \"origin\": \"China\", \"destination\": \"Japan\", \"year\": 2019, \"date\": \"2019-03-27T00:00:00\", \"product\": \"Machinery and electronics\", \"transport_mode\": \"Air\", \"company_name\": \"Konica Minolta Co\", \"total_value\": 20000000}, {\"register_id\": 16983, \"direction\": \"Imports\", \"origin\": \"China\", \"destination\": \"Japan\", \"year\": 2019, \"date\": \"2019-03-28T00:00:00\", \"product\": \"Machinery and electronics\", \"transport_mode\": \"Air\", \"company_name\": \"Konica Minolta Co\", \"total_value\": 27000000}, {\"register_id\": 16984, \"direction\": \"Imports\", \"origin\": \"China\", \"destination\": \"Japan\", \"year\": 2019, \"date\": \"2019-03-29T00:00:00\", \"product\": \"Machinery and electronics\", \"transport_mode\": \"Air\", \"company_name\": \"Konica Minolta Co\", \"total_value\": 18000000}, {\"register_id\": 16985, \"direction\": \"Imports\", \"origin\": \"China\", \"destination\": \"Japan\", \"year\": 2019, \"date\": \"2019-03-30T00:00:00\", \"product\": \"Machinery and electronics\", \"transport_mode\": \"Air\", \"company_name\": \"Konica Minolta Co\", \"total_value\": 2000000}, {\"register_id\": 16986, \"direction\": \"Imports\", \"origin\": \"China\", \"destination\": \"Japan\", \"year\": 2019, \"date\": \"2019-03-31T00:00:00\", \"product\": \"Machinery and electronics\", \"transport_mode\": \"Air\", \"company_name\": \"Konica Minolta Co\", \"total_value\": 2000000}, {\"register_id\": 16987, \"direction\": \"Imports\", \"origin\": \"China\", \"destination\": \"Japan\", \"year\": 2019, \"date\": \"2019-01-04T00:00:00\", \"product\": \"Machinery and electronics\", \"transport_mode\": \"Air\", \"company_name\": \"Konica Minolta Co\", \"total_value\": 24000000}, {\"register_id\": 16988, \"direction\": \"Imports\", \"origin\": \"China\", \"destination\": \"Japan\", \"year\": 2019, \"date\": \"2019-02-04T00:00:00\", \"product\": \"Machinery and electronics\", \"transport_mode\": \"Air\", \"company_name\": \"Konica Minolta Co\", \"total_value\": 18000000}, {\"register_id\": 16989, \"direction\": \"Imports\", \"origin\": \"China\", \"destination\": \"Japan\", \"year\": 2019, \"date\": \"2019-03-04T00:00:00\", \"product\": \"Machinery and electronics\", \"transport_mode\": \"Air\", \"company_name\": \"Konica Minolta Co\", \"total_value\": 42000000}, {\"register_id\": 16990, \"direction\": \"Imports\", \"origin\": \"China\", \"destination\": \"Japan\", \"year\": 2019, \"date\": \"2019-04-04T00:00:00\", \"product\": \"Machinery and electronics\", \"transport_mode\": \"Air\", \"company_name\": \"Konica Minolta Co\", \"total_value\": 25000000}, {\"register_id\": 16991, \"direction\": \"Imports\", \"origin\": \"China\", \"destination\": \"Japan\", \"year\": 2019, \"date\": \"2019-05-04T00:00:00\", \"product\": \"Machinery and electronics\", \"transport_mode\": \"Air\", \"company_name\": \"Konica Minolta Co\", \"total_value\": 22000000}, {\"register_id\": 16992, \"direction\": \"Imports\", \"origin\": \"China\", \"destination\": \"Japan\", \"year\": 2019, \"date\": \"2019-06-04T00:00:00\", \"product\": \"Machinery and electronics\", \"transport_mode\": \"Air\", \"company_name\": \"Konica Minolta Co\", \"total_value\": 2000000}, {\"register_id\": 16993, \"direction\": \"Imports\", \"origin\": \"China\", \"destination\": \"Japan\", \"year\": 2019, \"date\": \"2019-07-04T00:00:00\", \"product\": \"Machinery and electronics\", \"transport_mode\": \"Air\", \"company_name\": \"Konica Minolta Co\", \"total_value\": 2000000}, {\"register_id\": 16994, \"direction\": \"Imports\", \"origin\": \"China\", \"destination\": \"Japan\", \"year\": 2019, \"date\": \"2019-08-04T00:00:00\", \"product\": \"Machinery and electronics\", \"transport_mode\": \"Air\", \"company_name\": \"Konica Minolta Co\", \"total_value\": 23000000}, {\"register_id\": 16995, \"direction\": \"Imports\", \"origin\": \"China\", \"destination\": \"Japan\", \"year\": 2019, \"date\": \"2019-09-04T00:00:00\", \"product\": \"Machinery and electronics\", \"transport_mode\": \"Air\", \"company_name\": \"Konica Minolta Co\", \"total_value\": 46000000}, {\"register_id\": 16996, \"direction\": \"Imports\", \"origin\": \"China\", \"destination\": \"Japan\", \"year\": 2019, \"date\": \"2019-10-04T00:00:00\", \"product\": \"Machinery and electronics\", \"transport_mode\": \"Air\", \"company_name\": \"Konica Minolta Co\", \"total_value\": 29000000}, {\"register_id\": 16997, \"direction\": \"Imports\", \"origin\": \"China\", \"destination\": \"Japan\", \"year\": 2019, \"date\": \"2019-11-04T00:00:00\", \"product\": \"Machinery and electronics\", \"transport_mode\": \"Air\", \"company_name\": \"Konica Minolta Co\", \"total_value\": 30000000}, {\"register_id\": 16998, \"direction\": \"Imports\", \"origin\": \"China\", \"destination\": \"Japan\", \"year\": 2019, \"date\": \"2019-12-04T00:00:00\", \"product\": \"Machinery and electronics\", \"transport_mode\": \"Air\", \"company_name\": \"Konica Minolta Co\", \"total_value\": 27000000}, {\"register_id\": 16999, \"direction\": \"Imports\", \"origin\": \"China\", \"destination\": \"Japan\", \"year\": 2019, \"date\": \"2019-04-13T00:00:00\", \"product\": \"Machinery and electronics\", \"transport_mode\": \"Air\", \"company_name\": \"Konica Minolta Co\", \"total_value\": 2000000}, {\"register_id\": 17000, \"direction\": \"Imports\", \"origin\": \"China\", \"destination\": \"Japan\", \"year\": 2019, \"date\": \"2019-04-14T00:00:00\", \"product\": \"Machinery and electronics\", \"transport_mode\": \"Air\", \"company_name\": \"Konica Minolta Co\", \"total_value\": 2000000}, {\"register_id\": 17001, \"direction\": \"Imports\", \"origin\": \"China\", \"destination\": \"Japan\", \"year\": 2019, \"date\": \"2019-04-15T00:00:00\", \"product\": \"Machinery and electronics\", \"transport_mode\": \"Air\", \"company_name\": \"Konica Minolta Co\", \"total_value\": 28000000}, {\"register_id\": 17002, \"direction\": \"Imports\", \"origin\": \"China\", \"destination\": \"Japan\", \"year\": 2019, \"date\": \"2019-04-16T00:00:00\", \"product\": \"Machinery and electronics\", \"transport_mode\": \"Air\", \"company_name\": \"Konica Minolta Co\", \"total_value\": 24000000}, {\"register_id\": 17003, \"direction\": \"Imports\", \"origin\": \"China\", \"destination\": \"Japan\", \"year\": 2019, \"date\": \"2019-04-17T00:00:00\", \"product\": \"Machinery and electronics\", \"transport_mode\": \"Air\", \"company_name\": \"Konica Minolta Co\", \"total_value\": 22000000}, {\"register_id\": 17004, \"direction\": \"Imports\", \"origin\": \"China\", \"destination\": \"Japan\", \"year\": 2019, \"date\": \"2019-04-18T00:00:00\", \"product\": \"Machinery and electronics\", \"transport_mode\": \"Air\", \"company_name\": \"Konica Minolta Co\", \"total_value\": 23000000}, {\"register_id\": 17005, \"direction\": \"Imports\", \"origin\": \"China\", \"destination\": \"Japan\", \"year\": 2019, \"date\": \"2019-04-19T00:00:00\", \"product\": \"Machinery and electronics\", \"transport_mode\": \"Air\", \"company_name\": \"Konica Minolta Co\", \"total_value\": 4000000}, {\"register_id\": 17006, \"direction\": \"Imports\", \"origin\": \"China\", \"destination\": \"Japan\", \"year\": 2019, \"date\": \"2019-04-20T00:00:00\", \"product\": \"Machinery and electronics\", \"transport_mode\": \"Air\", \"company_name\": \"Konica Minolta Co\", \"total_value\": 2000000}, {\"register_id\": 17007, \"direction\": \"Imports\", \"origin\": \"China\", \"destination\": \"Japan\", \"year\": 2019, \"date\": \"2019-04-21T00:00:00\", \"product\": \"Machinery and electronics\", \"transport_mode\": \"Air\", \"company_name\": \"Konica Minolta Co\", \"total_value\": 1000000}, {\"register_id\": 17008, \"direction\": \"Imports\", \"origin\": \"China\", \"destination\": \"Japan\", \"year\": 2019, \"date\": \"2019-04-22T00:00:00\", \"product\": \"Machinery and electronics\", \"transport_mode\": \"Air\", \"company_name\": \"Konica Minolta Co\", \"total_value\": 2000000}, {\"register_id\": 17166, \"direction\": \"Imports\", \"origin\": \"China\", \"destination\": \"USA\", \"year\": 2020, \"date\": \"2020-04-26T00:00:00\", \"product\": \"Machinery and electronics\", \"transport_mode\": \"Sea\", \"company_name\": \"Lenovo Group Ltd\", \"total_value\": 1000000}, {\"register_id\": 17167, \"direction\": \"Imports\", \"origin\": \"China\", \"destination\": \"USA\", \"year\": 2020, \"date\": \"2020-04-27T00:00:00\", \"product\": \"Machinery and electronics\", \"transport_mode\": \"Sea\", \"company_name\": \"Lenovo Group Ltd\", \"total_value\": 2000000}, {\"register_id\": 17168, \"direction\": \"Imports\", \"origin\": \"China\", \"destination\": \"USA\", \"year\": 2020, \"date\": \"2020-04-28T00:00:00\", \"product\": \"Machinery and electronics\", \"transport_mode\": \"Sea\", \"company_name\": \"Lenovo Group Ltd\", \"total_value\": 38000000}, {\"register_id\": 17169, \"direction\": \"Imports\", \"origin\": \"China\", \"destination\": \"USA\", \"year\": 2020, \"date\": \"2020-04-29T00:00:00\", \"product\": \"Machinery and electronics\", \"transport_mode\": \"Sea\", \"company_name\": \"Lenovo Group Ltd\", \"total_value\": 18000000}, {\"register_id\": 17170, \"direction\": \"Imports\", \"origin\": \"China\", \"destination\": \"USA\", \"year\": 2020, \"date\": \"2020-04-30T00:00:00\", \"product\": \"Machinery and electronics\", \"transport_mode\": \"Sea\", \"company_name\": \"Lenovo Group Ltd\", \"total_value\": 14000000}, {\"register_id\": 17171, \"direction\": \"Imports\", \"origin\": \"China\", \"destination\": \"USA\", \"year\": 2020, \"date\": \"2020-01-05T00:00:00\", \"product\": \"Machinery and electronics\", \"transport_mode\": \"Sea\", \"company_name\": \"Lenovo Group Ltd\", \"total_value\": 23000000}, {\"register_id\": 17172, \"direction\": \"Imports\", \"origin\": \"China\", \"destination\": \"USA\", \"year\": 2020, \"date\": \"2020-02-05T00:00:00\", \"product\": \"Machinery and electronics\", \"transport_mode\": \"Sea\", \"company_name\": \"Lenovo Group Ltd\", \"total_value\": 3000000}, {\"register_id\": 17173, \"direction\": \"Imports\", \"origin\": \"China\", \"destination\": \"USA\", \"year\": 2020, \"date\": \"2020-03-05T00:00:00\", \"product\": \"Machinery and electronics\", \"transport_mode\": \"Sea\", \"company_name\": \"Lenovo Group Ltd\", \"total_value\": 1000000}, {\"register_id\": 17174, \"direction\": \"Imports\", \"origin\": \"China\", \"destination\": \"USA\", \"year\": 2020, \"date\": \"2020-04-05T00:00:00\", \"product\": \"Machinery and electronics\", \"transport_mode\": \"Sea\", \"company_name\": \"Lenovo Group Ltd\", \"total_value\": 31000000}, {\"register_id\": 18157, \"direction\": \"Imports\", \"origin\": \"China\", \"destination\": \"Thailand\", \"year\": 2015, \"date\": \"2015-12-02T00:00:00\", \"product\": \"Machinery and electronics\", \"transport_mode\": \"Road\", \"company_name\": \"Chaiyaphum Electronics Ltd\", \"total_value\": 14000000}, {\"register_id\": 18158, \"direction\": \"Imports\", \"origin\": \"China\", \"destination\": \"Thailand\", \"year\": 2015, \"date\": \"2015-02-13T00:00:00\", \"product\": \"Machinery and electronics\", \"transport_mode\": \"Road\", \"company_name\": \"Chaiyaphum Electronics Ltd\", \"total_value\": 17000000}, {\"register_id\": 18159, \"direction\": \"Imports\", \"origin\": \"China\", \"destination\": \"Thailand\", \"year\": 2015, \"date\": \"2015-02-14T00:00:00\", \"product\": \"Machinery and electronics\", \"transport_mode\": \"Road\", \"company_name\": \"Chaiyaphum Electronics Ltd\", \"total_value\": 1000000}, {\"register_id\": 18160, \"direction\": \"Imports\", \"origin\": \"China\", \"destination\": \"Thailand\", \"year\": 2015, \"date\": \"2015-02-15T00:00:00\", \"product\": \"Machinery and electronics\", \"transport_mode\": \"Road\", \"company_name\": \"Chaiyaphum Electronics Ltd\", \"total_value\": 4000000}, {\"register_id\": 18161, \"direction\": \"Imports\", \"origin\": \"China\", \"destination\": \"Thailand\", \"year\": 2015, \"date\": \"2015-02-16T00:00:00\", \"product\": \"Machinery and electronics\", \"transport_mode\": \"Road\", \"company_name\": \"Chaiyaphum Electronics Ltd\", \"total_value\": 15000000}, {\"register_id\": 18162, \"direction\": \"Imports\", \"origin\": \"China\", \"destination\": \"Thailand\", \"year\": 2015, \"date\": \"2015-02-17T00:00:00\", \"product\": \"Machinery and electronics\", \"transport_mode\": \"Road\", \"company_name\": \"Chaiyaphum Electronics Ltd\", \"total_value\": 13000000}, {\"register_id\": 18163, \"direction\": \"Imports\", \"origin\": \"China\", \"destination\": \"Thailand\", \"year\": 2015, \"date\": \"2015-02-18T00:00:00\", \"product\": \"Machinery and electronics\", \"transport_mode\": \"Road\", \"company_name\": \"Chaiyaphum Electronics Ltd\", \"total_value\": 10000000}, {\"register_id\": 18164, \"direction\": \"Imports\", \"origin\": \"China\", \"destination\": \"Thailand\", \"year\": 2015, \"date\": \"2015-02-19T00:00:00\", \"product\": \"Machinery and electronics\", \"transport_mode\": \"Road\", \"company_name\": \"Chaiyaphum Electronics Ltd\", \"total_value\": 11000000}, {\"register_id\": 18165, \"direction\": \"Imports\", \"origin\": \"China\", \"destination\": \"Thailand\", \"year\": 2015, \"date\": \"2015-02-20T00:00:00\", \"product\": \"Machinery and electronics\", \"transport_mode\": \"Road\", \"company_name\": \"Chaiyaphum Electronics Ltd\", \"total_value\": 9000000}, {\"register_id\": 18166, \"direction\": \"Imports\", \"origin\": \"China\", \"destination\": \"Thailand\", \"year\": 2015, \"date\": \"2015-02-21T00:00:00\", \"product\": \"Machinery and electronics\", \"transport_mode\": \"Road\", \"company_name\": \"Chaiyaphum Electronics Ltd\", \"total_value\": 1000000}, {\"register_id\": 18167, \"direction\": \"Imports\", \"origin\": \"China\", \"destination\": \"Thailand\", \"year\": 2015, \"date\": \"2015-02-22T00:00:00\", \"product\": \"Machinery and electronics\", \"transport_mode\": \"Road\", \"company_name\": \"Chaiyaphum Electronics Ltd\", \"total_value\": 2000000}, {\"register_id\": 18168, \"direction\": \"Imports\", \"origin\": \"China\", \"destination\": \"Thailand\", \"year\": 2015, \"date\": \"2015-02-23T00:00:00\", \"product\": \"Machinery and electronics\", \"transport_mode\": \"Road\", \"company_name\": \"Chaiyaphum Electronics Ltd\", \"total_value\": 7000000}, {\"register_id\": 18169, \"direction\": \"Imports\", \"origin\": \"China\", \"destination\": \"Thailand\", \"year\": 2015, \"date\": \"2015-02-24T00:00:00\", \"product\": \"Machinery and electronics\", \"transport_mode\": \"Road\", \"company_name\": \"Chaiyaphum Electronics Ltd\", \"total_value\": 13000000}, {\"register_id\": 18170, \"direction\": \"Imports\", \"origin\": \"China\", \"destination\": \"Thailand\", \"year\": 2015, \"date\": \"2015-02-25T00:00:00\", \"product\": \"Machinery and electronics\", \"transport_mode\": \"Road\", \"company_name\": \"Chaiyaphum Electronics Ltd\", \"total_value\": 10000000}, {\"register_id\": 18171, \"direction\": \"Imports\", \"origin\": \"China\", \"destination\": \"Thailand\", \"year\": 2015, \"date\": \"2015-02-26T00:00:00\", \"product\": \"Machinery and electronics\", \"transport_mode\": \"Road\", \"company_name\": \"Chaiyaphum Electronics Ltd\", \"total_value\": 9000000}, {\"register_id\": 18250, \"direction\": \"Imports\", \"origin\": \"China\", \"destination\": \"Thailand\", \"year\": 2015, \"date\": \"2015-05-16T00:00:00\", \"product\": \"Machinery and electronics\", \"transport_mode\": \"Road\", \"company_name\": \"Chaiyaphum Electronics Ltd\", \"total_value\": 2000000}, {\"register_id\": 18251, \"direction\": \"Imports\", \"origin\": \"China\", \"destination\": \"Thailand\", \"year\": 2015, \"date\": \"2015-05-17T00:00:00\", \"product\": \"Machinery and electronics\", \"transport_mode\": \"Road\", \"company_name\": \"Chaiyaphum Electronics Ltd\", \"total_value\": 3000000}, {\"register_id\": 18252, \"direction\": \"Imports\", \"origin\": \"China\", \"destination\": \"Thailand\", \"year\": 2015, \"date\": \"2015-05-18T00:00:00\", \"product\": \"Machinery and electronics\", \"transport_mode\": \"Road\", \"company_name\": \"Chaiyaphum Electronics Ltd\", \"total_value\": 11000000}, {\"register_id\": 18253, \"direction\": \"Imports\", \"origin\": \"China\", \"destination\": \"Thailand\", \"year\": 2015, \"date\": \"2015-05-19T00:00:00\", \"product\": \"Machinery and electronics\", \"transport_mode\": \"Road\", \"company_name\": \"Chaiyaphum Electronics Ltd\", \"total_value\": 11000000}, {\"register_id\": 18254, \"direction\": \"Imports\", \"origin\": \"China\", \"destination\": \"Thailand\", \"year\": 2015, \"date\": \"2015-05-20T00:00:00\", \"product\": \"Machinery and electronics\", \"transport_mode\": \"Road\", \"company_name\": \"Chaiyaphum Electronics Ltd\", \"total_value\": 11000000}, {\"register_id\": 18255, \"direction\": \"Imports\", \"origin\": \"China\", \"destination\": \"Thailand\", \"year\": 2015, \"date\": \"2015-05-21T00:00:00\", \"product\": \"Machinery and electronics\", \"transport_mode\": \"Road\", \"company_name\": \"Chaiyaphum Electronics Ltd\", \"total_value\": 18000000}, {\"register_id\": 18256, \"direction\": \"Imports\", \"origin\": \"China\", \"destination\": \"Thailand\", \"year\": 2015, \"date\": \"2015-05-22T00:00:00\", \"product\": \"Machinery and electronics\", \"transport_mode\": \"Road\", \"company_name\": \"Chaiyaphum Electronics Ltd\", \"total_value\": 8000000}, {\"register_id\": 18257, \"direction\": \"Imports\", \"origin\": \"China\", \"destination\": \"Thailand\", \"year\": 2015, \"date\": \"2015-05-23T00:00:00\", \"product\": \"Machinery and electronics\", \"transport_mode\": \"Road\", \"company_name\": \"Chaiyaphum Electronics Ltd\", \"total_value\": 2000000}, {\"register_id\": 18258, \"direction\": \"Imports\", \"origin\": \"China\", \"destination\": \"Thailand\", \"year\": 2015, \"date\": \"2015-05-24T00:00:00\", \"product\": \"Machinery and electronics\", \"transport_mode\": \"Road\", \"company_name\": \"Chaiyaphum Electronics Ltd\", \"total_value\": 4000000}, {\"register_id\": 18259, \"direction\": \"Imports\", \"origin\": \"China\", \"destination\": \"Thailand\", \"year\": 2015, \"date\": \"2015-05-25T00:00:00\", \"product\": \"Machinery and electronics\", \"transport_mode\": \"Road\", \"company_name\": \"Chaiyaphum Electronics Ltd\", \"total_value\": 15000000}, {\"register_id\": 18260, \"direction\": \"Imports\", \"origin\": \"China\", \"destination\": \"Thailand\", \"year\": 2015, \"date\": \"2015-05-26T00:00:00\", \"product\": \"Machinery and electronics\", \"transport_mode\": \"Road\", \"company_name\": \"Chaiyaphum Electronics Ltd\", \"total_value\": 17000000}, {\"register_id\": 18261, \"direction\": \"Imports\", \"origin\": \"China\", \"destination\": \"Thailand\", \"year\": 2015, \"date\": \"2015-05-27T00:00:00\", \"product\": \"Machinery and electronics\", \"transport_mode\": \"Road\", \"company_name\": \"Chaiyaphum Electronics Ltd\", \"total_value\": 14000000}, {\"register_id\": 18262, \"direction\": \"Imports\", \"origin\": \"China\", \"destination\": \"Thailand\", \"year\": 2015, \"date\": \"2015-05-28T00:00:00\", \"product\": \"Machinery and electronics\", \"transport_mode\": \"Road\", \"company_name\": \"Chaiyaphum Electronics Ltd\", \"total_value\": 14000000}, {\"register_id\": 18263, \"direction\": \"Imports\", \"origin\": \"China\", \"destination\": \"Thailand\", \"year\": 2015, \"date\": \"2015-05-29T00:00:00\", \"product\": \"Machinery and electronics\", \"transport_mode\": \"Road\", \"company_name\": \"Chaiyaphum Electronics Ltd\", \"total_value\": 9000000}, {\"register_id\": 18264, \"direction\": \"Imports\", \"origin\": \"China\", \"destination\": \"Thailand\", \"year\": 2015, \"date\": \"2015-05-30T00:00:00\", \"product\": \"Machinery and electronics\", \"transport_mode\": \"Road\", \"company_name\": \"Chaiyaphum Electronics Ltd\", \"total_value\": 2000000}, {\"register_id\": 18265, \"direction\": \"Imports\", \"origin\": \"China\", \"destination\": \"Thailand\", \"year\": 2015, \"date\": \"2015-05-31T00:00:00\", \"product\": \"Machinery and electronics\", \"transport_mode\": \"Road\", \"company_name\": \"Chaiyaphum Electronics Ltd\", \"total_value\": 2000000}, {\"register_id\": 18266, \"direction\": \"Imports\", \"origin\": \"China\", \"destination\": \"Thailand\", \"year\": 2015, \"date\": \"2015-01-06T00:00:00\", \"product\": \"Machinery and electronics\", \"transport_mode\": \"Road\", \"company_name\": \"Chaiyaphum Electronics Ltd\", \"total_value\": 5000000}, {\"register_id\": 18267, \"direction\": \"Imports\", \"origin\": \"China\", \"destination\": \"Thailand\", \"year\": 2015, \"date\": \"2015-02-06T00:00:00\", \"product\": \"Machinery and electronics\", \"transport_mode\": \"Road\", \"company_name\": \"Chaiyaphum Electronics Ltd\", \"total_value\": 14000000}, {\"register_id\": 18268, \"direction\": \"Imports\", \"origin\": \"China\", \"destination\": \"Thailand\", \"year\": 2015, \"date\": \"2015-03-06T00:00:00\", \"product\": \"Machinery and electronics\", \"transport_mode\": \"Road\", \"company_name\": \"Chaiyaphum Electronics Ltd\", \"total_value\": 12000000}, {\"register_id\": 18269, \"direction\": \"Imports\", \"origin\": \"China\", \"destination\": \"Thailand\", \"year\": 2015, \"date\": \"2015-04-06T00:00:00\", \"product\": \"Machinery and electronics\", \"transport_mode\": \"Road\", \"company_name\": \"Chaiyaphum Electronics Ltd\", \"total_value\": 12000000}, {\"register_id\": 18270, \"direction\": \"Imports\", \"origin\": \"China\", \"destination\": \"Thailand\", \"year\": 2015, \"date\": \"2015-05-06T00:00:00\", \"product\": \"Machinery and electronics\", \"transport_mode\": \"Road\", \"company_name\": \"Chaiyaphum Electronics Ltd\", \"total_value\": 10000000}, {\"register_id\": 18271, \"direction\": \"Imports\", \"origin\": \"China\", \"destination\": \"Thailand\", \"year\": 2015, \"date\": \"2015-06-06T00:00:00\", \"product\": \"Machinery and electronics\", \"transport_mode\": \"Road\", \"company_name\": \"Chaiyaphum Electronics Ltd\", \"total_value\": 3000000}, {\"register_id\": 18272, \"direction\": \"Imports\", \"origin\": \"China\", \"destination\": \"Thailand\", \"year\": 2015, \"date\": \"2015-07-06T00:00:00\", \"product\": \"Machinery and electronics\", \"transport_mode\": \"Road\", \"company_name\": \"Chaiyaphum Electronics Ltd\", \"total_value\": 3000000}, {\"register_id\": 18273, \"direction\": \"Imports\", \"origin\": \"China\", \"destination\": \"Thailand\", \"year\": 2015, \"date\": \"2015-08-06T00:00:00\", \"product\": \"Machinery and electronics\", \"transport_mode\": \"Road\", \"company_name\": \"Chaiyaphum Electronics Ltd\", \"total_value\": 11000000}, {\"register_id\": 18274, \"direction\": \"Imports\", \"origin\": \"China\", \"destination\": \"Thailand\", \"year\": 2015, \"date\": \"2015-09-06T00:00:00\", \"product\": \"Machinery and electronics\", \"transport_mode\": \"Road\", \"company_name\": \"Chaiyaphum Electronics Ltd\", \"total_value\": 10000000}, {\"register_id\": 18275, \"direction\": \"Imports\", \"origin\": \"China\", \"destination\": \"Thailand\", \"year\": 2015, \"date\": \"2015-10-06T00:00:00\", \"product\": \"Machinery and electronics\", \"transport_mode\": \"Road\", \"company_name\": \"Chaiyaphum Electronics Ltd\", \"total_value\": 12000000}, {\"register_id\": 18276, \"direction\": \"Imports\", \"origin\": \"China\", \"destination\": \"Thailand\", \"year\": 2015, \"date\": \"2015-11-06T00:00:00\", \"product\": \"Machinery and electronics\", \"transport_mode\": \"Road\", \"company_name\": \"Chaiyaphum Electronics Ltd\", \"total_value\": 13000000}, {\"register_id\": 18285, \"direction\": \"Imports\", \"origin\": \"China\", \"destination\": \"Japan\", \"year\": 2015, \"date\": \"2015-06-20T00:00:00\", \"product\": \"Machinery and electronics\", \"transport_mode\": \"Air\", \"company_name\": \"Konica Minolta Co\", \"total_value\": 1000000}, {\"register_id\": 18286, \"direction\": \"Imports\", \"origin\": \"China\", \"destination\": \"Japan\", \"year\": 2015, \"date\": \"2015-06-21T00:00:00\", \"product\": \"Machinery and electronics\", \"transport_mode\": \"Air\", \"company_name\": \"Konica Minolta Co\", \"total_value\": 5000000}, {\"register_id\": 18287, \"direction\": \"Imports\", \"origin\": \"China\", \"destination\": \"Japan\", \"year\": 2015, \"date\": \"2015-06-22T00:00:00\", \"product\": \"Machinery and electronics\", \"transport_mode\": \"Air\", \"company_name\": \"Konica Minolta Co\", \"total_value\": 10000000}, {\"register_id\": 18288, \"direction\": \"Imports\", \"origin\": \"China\", \"destination\": \"Japan\", \"year\": 2015, \"date\": \"2015-06-23T00:00:00\", \"product\": \"Machinery and electronics\", \"transport_mode\": \"Air\", \"company_name\": \"Konica Minolta Co\", \"total_value\": 15000000}, {\"register_id\": 18289, \"direction\": \"Imports\", \"origin\": \"China\", \"destination\": \"Japan\", \"year\": 2015, \"date\": \"2015-06-24T00:00:00\", \"product\": \"Machinery and electronics\", \"transport_mode\": \"Air\", \"company_name\": \"Konica Minolta Co\", \"total_value\": 11000000}, {\"register_id\": 18290, \"direction\": \"Imports\", \"origin\": \"China\", \"destination\": \"Japan\", \"year\": 2015, \"date\": \"2015-06-25T00:00:00\", \"product\": \"Machinery and electronics\", \"transport_mode\": \"Air\", \"company_name\": \"Konica Minolta Co\", \"total_value\": 13000000}, {\"register_id\": 18291, \"direction\": \"Imports\", \"origin\": \"China\", \"destination\": \"Japan\", \"year\": 2015, \"date\": \"2015-06-26T00:00:00\", \"product\": \"Machinery and electronics\", \"transport_mode\": \"Air\", \"company_name\": \"Konica Minolta Co\", \"total_value\": 11000000}, {\"register_id\": 18292, \"direction\": \"Imports\", \"origin\": \"China\", \"destination\": \"Japan\", \"year\": 2015, \"date\": \"2015-06-27T00:00:00\", \"product\": \"Machinery and electronics\", \"transport_mode\": \"Air\", \"company_name\": \"Konica Minolta Co\", \"total_value\": 2000000}, {\"register_id\": 18293, \"direction\": \"Imports\", \"origin\": \"China\", \"destination\": \"Japan\", \"year\": 2015, \"date\": \"2015-06-28T00:00:00\", \"product\": \"Machinery and electronics\", \"transport_mode\": \"Air\", \"company_name\": \"Konica Minolta Co\", \"total_value\": 3000000}, {\"register_id\": 18294, \"direction\": \"Imports\", \"origin\": \"China\", \"destination\": \"Japan\", \"year\": 2015, \"date\": \"2015-06-29T00:00:00\", \"product\": \"Machinery and electronics\", \"transport_mode\": \"Air\", \"company_name\": \"Konica Minolta Co\", \"total_value\": 17000000}, {\"register_id\": 18295, \"direction\": \"Imports\", \"origin\": \"China\", \"destination\": \"Japan\", \"year\": 2015, \"date\": \"2015-06-30T00:00:00\", \"product\": \"Machinery and electronics\", \"transport_mode\": \"Air\", \"company_name\": \"Konica Minolta Co\", \"total_value\": 16000000}, {\"register_id\": 18296, \"direction\": \"Imports\", \"origin\": \"China\", \"destination\": \"Japan\", \"year\": 2015, \"date\": \"2015-01-07T00:00:00\", \"product\": \"Machinery and electronics\", \"transport_mode\": \"Air\", \"company_name\": \"Konica Minolta Co\", \"total_value\": 22000000}, {\"register_id\": 18297, \"direction\": \"Imports\", \"origin\": \"China\", \"destination\": \"Japan\", \"year\": 2016, \"date\": \"2016-01-30T00:00:00\", \"product\": \"Machinery and electronics\", \"transport_mode\": \"Air\", \"company_name\": \"Konica Minolta Co\", \"total_value\": 1000000}, {\"register_id\": 18298, \"direction\": \"Imports\", \"origin\": \"China\", \"destination\": \"Japan\", \"year\": 2016, \"date\": \"2016-01-31T00:00:00\", \"product\": \"Machinery and electronics\", \"transport_mode\": \"Air\", \"company_name\": \"Konica Minolta Co\", \"total_value\": 4000000}, {\"register_id\": 18299, \"direction\": \"Imports\", \"origin\": \"China\", \"destination\": \"Japan\", \"year\": 2016, \"date\": \"2016-01-02T00:00:00\", \"product\": \"Machinery and electronics\", \"transport_mode\": \"Air\", \"company_name\": \"Konica Minolta Co\", \"total_value\": 4000000}, {\"register_id\": 18300, \"direction\": \"Imports\", \"origin\": \"China\", \"destination\": \"Japan\", \"year\": 2016, \"date\": \"2016-02-02T00:00:00\", \"product\": \"Machinery and electronics\", \"transport_mode\": \"Air\", \"company_name\": \"Konica Minolta Co\", \"total_value\": 14000000}, {\"register_id\": 18301, \"direction\": \"Imports\", \"origin\": \"China\", \"destination\": \"Japan\", \"year\": 2016, \"date\": \"2016-03-02T00:00:00\", \"product\": \"Machinery and electronics\", \"transport_mode\": \"Air\", \"company_name\": \"Konica Minolta Co\", \"total_value\": 13000000}, {\"register_id\": 18302, \"direction\": \"Imports\", \"origin\": \"China\", \"destination\": \"Japan\", \"year\": 2016, \"date\": \"2016-04-02T00:00:00\", \"product\": \"Machinery and electronics\", \"transport_mode\": \"Air\", \"company_name\": \"Konica Minolta Co\", \"total_value\": 20000000}, {\"register_id\": 18303, \"direction\": \"Imports\", \"origin\": \"China\", \"destination\": \"Japan\", \"year\": 2016, \"date\": \"2016-05-02T00:00:00\", \"product\": \"Machinery and electronics\", \"transport_mode\": \"Air\", \"company_name\": \"Konica Minolta Co\", \"total_value\": 11000000}, {\"register_id\": 18304, \"direction\": \"Imports\", \"origin\": \"China\", \"destination\": \"Japan\", \"year\": 2016, \"date\": \"2016-06-02T00:00:00\", \"product\": \"Machinery and electronics\", \"transport_mode\": \"Air\", \"company_name\": \"Konica Minolta Co\", \"total_value\": 2000000}, {\"register_id\": 18422, \"direction\": \"Imports\", \"origin\": \"China\", \"destination\": \"Japan\", \"year\": 2016, \"date\": \"2016-03-06T00:00:00\", \"product\": \"Machinery and electronics\", \"transport_mode\": \"Air\", \"company_name\": \"Konica Minolta Co\", \"total_value\": 13000000}, {\"register_id\": 18423, \"direction\": \"Imports\", \"origin\": \"China\", \"destination\": \"Japan\", \"year\": 2016, \"date\": \"2016-04-06T00:00:00\", \"product\": \"Machinery and electronics\", \"transport_mode\": \"Air\", \"company_name\": \"Konica Minolta Co\", \"total_value\": 1000000}, {\"register_id\": 18424, \"direction\": \"Imports\", \"origin\": \"China\", \"destination\": \"Japan\", \"year\": 2016, \"date\": \"2016-05-06T00:00:00\", \"product\": \"Machinery and electronics\", \"transport_mode\": \"Air\", \"company_name\": \"Konica Minolta Co\", \"total_value\": 2000000}, {\"register_id\": 18425, \"direction\": \"Imports\", \"origin\": \"China\", \"destination\": \"Japan\", \"year\": 2016, \"date\": \"2016-06-06T00:00:00\", \"product\": \"Machinery and electronics\", \"transport_mode\": \"Air\", \"company_name\": \"Konica Minolta Co\", \"total_value\": 3000000}, {\"register_id\": 18426, \"direction\": \"Imports\", \"origin\": \"China\", \"destination\": \"Japan\", \"year\": 2016, \"date\": \"2016-07-06T00:00:00\", \"product\": \"Machinery and electronics\", \"transport_mode\": \"Air\", \"company_name\": \"Konica Minolta Co\", \"total_value\": 17000000}, {\"register_id\": 18427, \"direction\": \"Imports\", \"origin\": \"China\", \"destination\": \"Japan\", \"year\": 2016, \"date\": \"2016-08-06T00:00:00\", \"product\": \"Machinery and electronics\", \"transport_mode\": \"Air\", \"company_name\": \"Konica Minolta Co\", \"total_value\": 14000000}, {\"register_id\": 18428, \"direction\": \"Imports\", \"origin\": \"China\", \"destination\": \"Japan\", \"year\": 2016, \"date\": \"2016-09-06T00:00:00\", \"product\": \"Machinery and electronics\", \"transport_mode\": \"Air\", \"company_name\": \"Konica Minolta Co\", \"total_value\": 15000000}, {\"register_id\": 18429, \"direction\": \"Imports\", \"origin\": \"China\", \"destination\": \"Japan\", \"year\": 2016, \"date\": \"2016-10-06T00:00:00\", \"product\": \"Machinery and electronics\", \"transport_mode\": \"Air\", \"company_name\": \"Konica Minolta Co\", \"total_value\": 9000000}, {\"register_id\": 18430, \"direction\": \"Imports\", \"origin\": \"China\", \"destination\": \"Japan\", \"year\": 2016, \"date\": \"2016-11-06T00:00:00\", \"product\": \"Machinery and electronics\", \"transport_mode\": \"Air\", \"company_name\": \"Konica Minolta Co\", \"total_value\": 2000000}, {\"register_id\": 18431, \"direction\": \"Imports\", \"origin\": \"China\", \"destination\": \"Japan\", \"year\": 2016, \"date\": \"2016-12-06T00:00:00\", \"product\": \"Machinery and electronics\", \"transport_mode\": \"Air\", \"company_name\": \"Konica Minolta Co\", \"total_value\": 2000000}, {\"register_id\": 18432, \"direction\": \"Imports\", \"origin\": \"China\", \"destination\": \"Japan\", \"year\": 2016, \"date\": \"2016-06-13T00:00:00\", \"product\": \"Machinery and electronics\", \"transport_mode\": \"Air\", \"company_name\": \"Konica Minolta Co\", \"total_value\": 11000000}, {\"register_id\": 18433, \"direction\": \"Imports\", \"origin\": \"China\", \"destination\": \"Japan\", \"year\": 2016, \"date\": \"2016-06-14T00:00:00\", \"product\": \"Machinery and electronics\", \"transport_mode\": \"Air\", \"company_name\": \"Konica Minolta Co\", \"total_value\": 11000000}, {\"register_id\": 18434, \"direction\": \"Imports\", \"origin\": \"China\", \"destination\": \"Japan\", \"year\": 2016, \"date\": \"2016-06-15T00:00:00\", \"product\": \"Machinery and electronics\", \"transport_mode\": \"Air\", \"company_name\": \"Konica Minolta Co\", \"total_value\": 19000000}, {\"register_id\": 18435, \"direction\": \"Imports\", \"origin\": \"China\", \"destination\": \"Japan\", \"year\": 2016, \"date\": \"2016-06-16T00:00:00\", \"product\": \"Machinery and electronics\", \"transport_mode\": \"Air\", \"company_name\": \"Konica Minolta Co\", \"total_value\": 16000000}, {\"register_id\": 18436, \"direction\": \"Imports\", \"origin\": \"China\", \"destination\": \"Japan\", \"year\": 2016, \"date\": \"2016-06-17T00:00:00\", \"product\": \"Machinery and electronics\", \"transport_mode\": \"Air\", \"company_name\": \"Konica Minolta Co\", \"total_value\": 13000000}, {\"register_id\": 18437, \"direction\": \"Imports\", \"origin\": \"China\", \"destination\": \"Japan\", \"year\": 2016, \"date\": \"2016-06-18T00:00:00\", \"product\": \"Machinery and electronics\", \"transport_mode\": \"Air\", \"company_name\": \"Konica Minolta Co\", \"total_value\": 1000000}, {\"register_id\": 18438, \"direction\": \"Imports\", \"origin\": \"China\", \"destination\": \"Japan\", \"year\": 2016, \"date\": \"2016-06-19T00:00:00\", \"product\": \"Machinery and electronics\", \"transport_mode\": \"Air\", \"company_name\": \"Konica Minolta Co\", \"total_value\": 4000000}, {\"register_id\": 18439, \"direction\": \"Imports\", \"origin\": \"China\", \"destination\": \"Japan\", \"year\": 2016, \"date\": \"2016-06-20T00:00:00\", \"product\": \"Machinery and electronics\", \"transport_mode\": \"Air\", \"company_name\": \"Konica Minolta Co\", \"total_value\": 12000000}, {\"register_id\": 18440, \"direction\": \"Imports\", \"origin\": \"China\", \"destination\": \"Japan\", \"year\": 2016, \"date\": \"2016-06-21T00:00:00\", \"product\": \"Machinery and electronics\", \"transport_mode\": \"Air\", \"company_name\": \"Konica Minolta Co\", \"total_value\": 11000000}, {\"register_id\": 18441, \"direction\": \"Imports\", \"origin\": \"China\", \"destination\": \"Japan\", \"year\": 2016, \"date\": \"2016-06-22T00:00:00\", \"product\": \"Machinery and electronics\", \"transport_mode\": \"Air\", \"company_name\": \"Konica Minolta Co\", \"total_value\": 14000000}, {\"register_id\": 18442, \"direction\": \"Imports\", \"origin\": \"China\", \"destination\": \"Japan\", \"year\": 2016, \"date\": \"2016-06-23T00:00:00\", \"product\": \"Machinery and electronics\", \"transport_mode\": \"Air\", \"company_name\": \"Konica Minolta Co\", \"total_value\": 20000000}, {\"register_id\": 18443, \"direction\": \"Imports\", \"origin\": \"China\", \"destination\": \"Japan\", \"year\": 2016, \"date\": \"2016-06-24T00:00:00\", \"product\": \"Machinery and electronics\", \"transport_mode\": \"Air\", \"company_name\": \"Konica Minolta Co\", \"total_value\": 9000000}, {\"register_id\": 18444, \"direction\": \"Imports\", \"origin\": \"China\", \"destination\": \"Japan\", \"year\": 2016, \"date\": \"2016-06-25T00:00:00\", \"product\": \"Machinery and electronics\", \"transport_mode\": \"Air\", \"company_name\": \"Konica Minolta Co\", \"total_value\": 2000000}, {\"register_id\": 18445, \"direction\": \"Imports\", \"origin\": \"China\", \"destination\": \"Japan\", \"year\": 2016, \"date\": \"2016-06-26T00:00:00\", \"product\": \"Machinery and electronics\", \"transport_mode\": \"Air\", \"company_name\": \"Konica Minolta Co\", \"total_value\": 5000000}, {\"register_id\": 18446, \"direction\": \"Imports\", \"origin\": \"China\", \"destination\": \"Japan\", \"year\": 2016, \"date\": \"2016-06-27T00:00:00\", \"product\": \"Machinery and electronics\", \"transport_mode\": \"Air\", \"company_name\": \"Konica Minolta Co\", \"total_value\": 13000000}, {\"register_id\": 18447, \"direction\": \"Imports\", \"origin\": \"China\", \"destination\": \"Japan\", \"year\": 2016, \"date\": \"2016-06-28T00:00:00\", \"product\": \"Machinery and electronics\", \"transport_mode\": \"Air\", \"company_name\": \"Konica Minolta Co\", \"total_value\": 13000000}, {\"register_id\": 18448, \"direction\": \"Imports\", \"origin\": \"China\", \"destination\": \"Japan\", \"year\": 2016, \"date\": \"2016-06-29T00:00:00\", \"product\": \"Machinery and electronics\", \"transport_mode\": \"Air\", \"company_name\": \"Konica Minolta Co\", \"total_value\": 9000000}, {\"register_id\": 18449, \"direction\": \"Imports\", \"origin\": \"China\", \"destination\": \"Japan\", \"year\": 2017, \"date\": \"2017-04-02T00:00:00\", \"product\": \"Machinery and electronics\", \"transport_mode\": \"Air\", \"company_name\": \"Konica Minolta Co\", \"total_value\": 1000000}, {\"register_id\": 18450, \"direction\": \"Imports\", \"origin\": \"China\", \"destination\": \"Japan\", \"year\": 2017, \"date\": \"2017-05-02T00:00:00\", \"product\": \"Machinery and electronics\", \"transport_mode\": \"Air\", \"company_name\": \"Konica Minolta Co\", \"total_value\": 1000000}, {\"register_id\": 18451, \"direction\": \"Imports\", \"origin\": \"China\", \"destination\": \"Japan\", \"year\": 2017, \"date\": \"2017-06-02T00:00:00\", \"product\": \"Machinery and electronics\", \"transport_mode\": \"Air\", \"company_name\": \"Konica Minolta Co\", \"total_value\": 2000000}, {\"register_id\": 18452, \"direction\": \"Imports\", \"origin\": \"China\", \"destination\": \"Japan\", \"year\": 2017, \"date\": \"2017-07-02T00:00:00\", \"product\": \"Machinery and electronics\", \"transport_mode\": \"Air\", \"company_name\": \"Konica Minolta Co\", \"total_value\": 18000000}, {\"register_id\": 18453, \"direction\": \"Imports\", \"origin\": \"China\", \"destination\": \"Japan\", \"year\": 2017, \"date\": \"2017-08-02T00:00:00\", \"product\": \"Machinery and electronics\", \"transport_mode\": \"Air\", \"company_name\": \"Konica Minolta Co\", \"total_value\": 16000000}, {\"register_id\": 18454, \"direction\": \"Imports\", \"origin\": \"China\", \"destination\": \"Japan\", \"year\": 2017, \"date\": \"2017-09-02T00:00:00\", \"product\": \"Machinery and electronics\", \"transport_mode\": \"Air\", \"company_name\": \"Konica Minolta Co\", \"total_value\": 20000000}, {\"register_id\": 18455, \"direction\": \"Imports\", \"origin\": \"China\", \"destination\": \"Japan\", \"year\": 2017, \"date\": \"2017-10-02T00:00:00\", \"product\": \"Machinery and electronics\", \"transport_mode\": \"Air\", \"company_name\": \"Konica Minolta Co\", \"total_value\": 13000000}, {\"register_id\": 18456, \"direction\": \"Imports\", \"origin\": \"China\", \"destination\": \"Japan\", \"year\": 2017, \"date\": \"2017-11-02T00:00:00\", \"product\": \"Machinery and electronics\", \"transport_mode\": \"Air\", \"company_name\": \"Konica Minolta Co\", \"total_value\": 1000000}, {\"register_id\": 18457, \"direction\": \"Imports\", \"origin\": \"China\", \"destination\": \"Japan\", \"year\": 2017, \"date\": \"2017-12-02T00:00:00\", \"product\": \"Machinery and electronics\", \"transport_mode\": \"Air\", \"company_name\": \"Konica Minolta Co\", \"total_value\": 3000000}, {\"register_id\": 18458, \"direction\": \"Imports\", \"origin\": \"China\", \"destination\": \"Japan\", \"year\": 2017, \"date\": \"2017-02-13T00:00:00\", \"product\": \"Machinery and electronics\", \"transport_mode\": \"Air\", \"company_name\": \"Konica Minolta Co\", \"total_value\": 14000000}, {\"register_id\": 18459, \"direction\": \"Imports\", \"origin\": \"China\", \"destination\": \"Japan\", \"year\": 2017, \"date\": \"2017-02-14T00:00:00\", \"product\": \"Machinery and electronics\", \"transport_mode\": \"Air\", \"company_name\": \"Konica Minolta Co\", \"total_value\": 13000000}, {\"register_id\": 18460, \"direction\": \"Imports\", \"origin\": \"China\", \"destination\": \"Japan\", \"year\": 2017, \"date\": \"2017-02-15T00:00:00\", \"product\": \"Machinery and electronics\", \"transport_mode\": \"Air\", \"company_name\": \"Konica Minolta Co\", \"total_value\": 10000000}, {\"register_id\": 18461, \"direction\": \"Imports\", \"origin\": \"China\", \"destination\": \"Japan\", \"year\": 2017, \"date\": \"2017-02-16T00:00:00\", \"product\": \"Machinery and electronics\", \"transport_mode\": \"Air\", \"company_name\": \"Konica Minolta Co\", \"total_value\": 15000000}, {\"register_id\": 18462, \"direction\": \"Imports\", \"origin\": \"China\", \"destination\": \"Japan\", \"year\": 2017, \"date\": \"2017-02-17T00:00:00\", \"product\": \"Machinery and electronics\", \"transport_mode\": \"Air\", \"company_name\": \"Konica Minolta Co\", \"total_value\": 12000000}, {\"register_id\": 18463, \"direction\": \"Imports\", \"origin\": \"China\", \"destination\": \"Japan\", \"year\": 2017, \"date\": \"2017-02-18T00:00:00\", \"product\": \"Machinery and electronics\", \"transport_mode\": \"Air\", \"company_name\": \"Konica Minolta Co\", \"total_value\": 1000000}, {\"register_id\": 18464, \"direction\": \"Imports\", \"origin\": \"China\", \"destination\": \"Japan\", \"year\": 2017, \"date\": \"2017-02-19T00:00:00\", \"product\": \"Machinery and electronics\", \"transport_mode\": \"Air\", \"company_name\": \"Konica Minolta Co\", \"total_value\": 3000000}, {\"register_id\": 18465, \"direction\": \"Imports\", \"origin\": \"China\", \"destination\": \"Japan\", \"year\": 2017, \"date\": \"2017-02-20T00:00:00\", \"product\": \"Machinery and electronics\", \"transport_mode\": \"Air\", \"company_name\": \"Konica Minolta Co\", \"total_value\": 14000000}, {\"register_id\": 18466, \"direction\": \"Imports\", \"origin\": \"China\", \"destination\": \"Japan\", \"year\": 2017, \"date\": \"2017-02-21T00:00:00\", \"product\": \"Machinery and electronics\", \"transport_mode\": \"Air\", \"company_name\": \"Konica Minolta Co\", \"total_value\": 10000000}, {\"register_id\": 18467, \"direction\": \"Imports\", \"origin\": \"China\", \"destination\": \"Japan\", \"year\": 2017, \"date\": \"2017-02-22T00:00:00\", \"product\": \"Machinery and electronics\", \"transport_mode\": \"Air\", \"company_name\": \"Konica Minolta Co\", \"total_value\": 13000000}, {\"register_id\": 18468, \"direction\": \"Imports\", \"origin\": \"China\", \"destination\": \"Japan\", \"year\": 2017, \"date\": \"2017-02-23T00:00:00\", \"product\": \"Machinery and electronics\", \"transport_mode\": \"Air\", \"company_name\": \"Konica Minolta Co\", \"total_value\": 10000000}, {\"register_id\": 18469, \"direction\": \"Imports\", \"origin\": \"China\", \"destination\": \"Japan\", \"year\": 2017, \"date\": \"2017-02-24T00:00:00\", \"product\": \"Machinery and electronics\", \"transport_mode\": \"Air\", \"company_name\": \"Konica Minolta Co\", \"total_value\": 11000000}, {\"register_id\": 18470, \"direction\": \"Imports\", \"origin\": \"China\", \"destination\": \"Japan\", \"year\": 2017, \"date\": \"2017-02-25T00:00:00\", \"product\": \"Machinery and electronics\", \"transport_mode\": \"Air\", \"company_name\": \"Konica Minolta Co\", \"total_value\": 2000000}, {\"register_id\": 18471, \"direction\": \"Imports\", \"origin\": \"China\", \"destination\": \"Japan\", \"year\": 2017, \"date\": \"2017-02-26T00:00:00\", \"product\": \"Machinery and electronics\", \"transport_mode\": \"Air\", \"company_name\": \"Konica Minolta Co\", \"total_value\": 4000000}, {\"register_id\": 18472, \"direction\": \"Imports\", \"origin\": \"China\", \"destination\": \"Japan\", \"year\": 2017, \"date\": \"2017-02-27T00:00:00\", \"product\": \"Machinery and electronics\", \"transport_mode\": \"Air\", \"company_name\": \"Konica Minolta Co\", \"total_value\": 9000000}, {\"register_id\": 18473, \"direction\": \"Imports\", \"origin\": \"China\", \"destination\": \"Japan\", \"year\": 2017, \"date\": \"2017-02-28T00:00:00\", \"product\": \"Machinery and electronics\", \"transport_mode\": \"Air\", \"company_name\": \"Konica Minolta Co\", \"total_value\": 9000000}, {\"register_id\": 18474, \"direction\": \"Imports\", \"origin\": \"China\", \"destination\": \"Japan\", \"year\": 2017, \"date\": \"2017-01-03T00:00:00\", \"product\": \"Machinery and electronics\", \"transport_mode\": \"Air\", \"company_name\": \"Konica Minolta Co\", \"total_value\": 13000000}, {\"register_id\": 18475, \"direction\": \"Imports\", \"origin\": \"China\", \"destination\": \"Japan\", \"year\": 2017, \"date\": \"2017-02-03T00:00:00\", \"product\": \"Machinery and electronics\", \"transport_mode\": \"Air\", \"company_name\": \"Konica Minolta Co\", \"total_value\": 13000000}, {\"register_id\": 18476, \"direction\": \"Imports\", \"origin\": \"China\", \"destination\": \"Japan\", \"year\": 2017, \"date\": \"2017-03-03T00:00:00\", \"product\": \"Machinery and electronics\", \"transport_mode\": \"Air\", \"company_name\": \"Konica Minolta Co\", \"total_value\": 9000000}, {\"register_id\": 18477, \"direction\": \"Imports\", \"origin\": \"China\", \"destination\": \"Japan\", \"year\": 2017, \"date\": \"2017-04-03T00:00:00\", \"product\": \"Machinery and electronics\", \"transport_mode\": \"Air\", \"company_name\": \"Konica Minolta Co\", \"total_value\": 1000000}, {\"register_id\": 18478, \"direction\": \"Imports\", \"origin\": \"China\", \"destination\": \"Japan\", \"year\": 2017, \"date\": \"2017-05-03T00:00:00\", \"product\": \"Machinery and electronics\", \"transport_mode\": \"Air\", \"company_name\": \"Konica Minolta Co\", \"total_value\": 5000000}, {\"register_id\": 18479, \"direction\": \"Imports\", \"origin\": \"China\", \"destination\": \"Japan\", \"year\": 2017, \"date\": \"2017-06-03T00:00:00\", \"product\": \"Machinery and electronics\", \"transport_mode\": \"Air\", \"company_name\": \"Konica Minolta Co\", \"total_value\": 9000000}, {\"register_id\": 18480, \"direction\": \"Imports\", \"origin\": \"China\", \"destination\": \"Japan\", \"year\": 2017, \"date\": \"2017-07-03T00:00:00\", \"product\": \"Machinery and electronics\", \"transport_mode\": \"Air\", \"company_name\": \"Konica Minolta Co\", \"total_value\": 13000000}, {\"register_id\": 18717, \"direction\": \"Imports\", \"origin\": \"China\", \"destination\": \"Mexico\", \"year\": 2018, \"date\": \"2018-05-30T00:00:00\", \"product\": \"Cars\", \"transport_mode\": \"Sea\", \"company_name\": \"Grupo FastAuto SA\", \"total_value\": 23000000}, {\"register_id\": 18718, \"direction\": \"Imports\", \"origin\": \"China\", \"destination\": \"Mexico\", \"year\": 2018, \"date\": \"2018-05-31T00:00:00\", \"product\": \"Cars\", \"transport_mode\": \"Sea\", \"company_name\": \"Grupo FastAuto SA\", \"total_value\": 15000000}, {\"register_id\": 18719, \"direction\": \"Imports\", \"origin\": \"China\", \"destination\": \"Mexico\", \"year\": 2018, \"date\": \"2018-01-06T00:00:00\", \"product\": \"Cars\", \"transport_mode\": \"Sea\", \"company_name\": \"Grupo FastAuto SA\", \"total_value\": 16000000}, {\"register_id\": 18720, \"direction\": \"Imports\", \"origin\": \"China\", \"destination\": \"Mexico\", \"year\": 2018, \"date\": \"2018-02-06T00:00:00\", \"product\": \"Cars\", \"transport_mode\": \"Sea\", \"company_name\": \"Grupo FastAuto SA\", \"total_value\": 2000000}, {\"register_id\": 18721, \"direction\": \"Imports\", \"origin\": \"China\", \"destination\": \"Mexico\", \"year\": 2018, \"date\": \"2018-03-06T00:00:00\", \"product\": \"Cars\", \"transport_mode\": \"Sea\", \"company_name\": \"Grupo FastAuto SA\", \"total_value\": 2000000}, {\"register_id\": 18722, \"direction\": \"Imports\", \"origin\": \"China\", \"destination\": \"Mexico\", \"year\": 2018, \"date\": \"2018-04-06T00:00:00\", \"product\": \"Cars\", \"transport_mode\": \"Sea\", \"company_name\": \"Grupo FastAuto SA\", \"total_value\": 2000000}, {\"register_id\": 18723, \"direction\": \"Imports\", \"origin\": \"China\", \"destination\": \"Mexico\", \"year\": 2018, \"date\": \"2018-05-06T00:00:00\", \"product\": \"Cars\", \"transport_mode\": \"Sea\", \"company_name\": \"Grupo FastAuto SA\", \"total_value\": 19000000}, {\"register_id\": 18724, \"direction\": \"Imports\", \"origin\": \"China\", \"destination\": \"Mexico\", \"year\": 2018, \"date\": \"2018-06-06T00:00:00\", \"product\": \"Cars\", \"transport_mode\": \"Sea\", \"company_name\": \"Grupo FastAuto SA\", \"total_value\": 21000000}, {\"register_id\": 18725, \"direction\": \"Imports\", \"origin\": \"China\", \"destination\": \"Mexico\", \"year\": 2018, \"date\": \"2018-07-06T00:00:00\", \"product\": \"Cars\", \"transport_mode\": \"Sea\", \"company_name\": \"Grupo FastAuto SA\", \"total_value\": 16000000}, {\"register_id\": 18726, \"direction\": \"Imports\", \"origin\": \"China\", \"destination\": \"Mexico\", \"year\": 2018, \"date\": \"2018-08-06T00:00:00\", \"product\": \"Cars\", \"transport_mode\": \"Sea\", \"company_name\": \"Grupo FastAuto SA\", \"total_value\": 11000000}, {\"register_id\": 18727, \"direction\": \"Imports\", \"origin\": \"China\", \"destination\": \"Mexico\", \"year\": 2018, \"date\": \"2018-09-06T00:00:00\", \"product\": \"Cars\", \"transport_mode\": \"Sea\", \"company_name\": \"Grupo FastAuto SA\", \"total_value\": 1000000}, {\"register_id\": 18728, \"direction\": \"Imports\", \"origin\": \"China\", \"destination\": \"Mexico\", \"year\": 2018, \"date\": \"2018-10-06T00:00:00\", \"product\": \"Cars\", \"transport_mode\": \"Sea\", \"company_name\": \"Grupo FastAuto SA\", \"total_value\": 3000000}, {\"register_id\": 18729, \"direction\": \"Imports\", \"origin\": \"China\", \"destination\": \"Mexico\", \"year\": 2018, \"date\": \"2018-11-06T00:00:00\", \"product\": \"Cars\", \"transport_mode\": \"Sea\", \"company_name\": \"Grupo FastAuto SA\", \"total_value\": 16000000}, {\"register_id\": 18730, \"direction\": \"Imports\", \"origin\": \"China\", \"destination\": \"Mexico\", \"year\": 2018, \"date\": \"2018-12-06T00:00:00\", \"product\": \"Cars\", \"transport_mode\": \"Sea\", \"company_name\": \"Grupo FastAuto SA\", \"total_value\": 13000000}, {\"register_id\": 18731, \"direction\": \"Imports\", \"origin\": \"China\", \"destination\": \"Mexico\", \"year\": 2018, \"date\": \"2018-06-13T00:00:00\", \"product\": \"Cars\", \"transport_mode\": \"Sea\", \"company_name\": \"Grupo FastAuto SA\", \"total_value\": 17000000}, {\"register_id\": 18732, \"direction\": \"Imports\", \"origin\": \"China\", \"destination\": \"Mexico\", \"year\": 2018, \"date\": \"2018-06-14T00:00:00\", \"product\": \"Cars\", \"transport_mode\": \"Sea\", \"company_name\": \"Grupo FastAuto SA\", \"total_value\": 17000000}, {\"register_id\": 18733, \"direction\": \"Imports\", \"origin\": \"China\", \"destination\": \"Mexico\", \"year\": 2018, \"date\": \"2018-06-15T00:00:00\", \"product\": \"Cars\", \"transport_mode\": \"Sea\", \"company_name\": \"Grupo FastAuto SA\", \"total_value\": 11000000}, {\"register_id\": 18734, \"direction\": \"Imports\", \"origin\": \"China\", \"destination\": \"Mexico\", \"year\": 2018, \"date\": \"2018-06-16T00:00:00\", \"product\": \"Cars\", \"transport_mode\": \"Sea\", \"company_name\": \"Grupo FastAuto SA\", \"total_value\": 1000000}, {\"register_id\": 18735, \"direction\": \"Imports\", \"origin\": \"China\", \"destination\": \"Mexico\", \"year\": 2018, \"date\": \"2018-06-17T00:00:00\", \"product\": \"Cars\", \"transport_mode\": \"Sea\", \"company_name\": \"Grupo FastAuto SA\", \"total_value\": 6000000}, {\"register_id\": 18736, \"direction\": \"Imports\", \"origin\": \"China\", \"destination\": \"Mexico\", \"year\": 2018, \"date\": \"2018-06-18T00:00:00\", \"product\": \"Cars\", \"transport_mode\": \"Sea\", \"company_name\": \"Grupo FastAuto SA\", \"total_value\": 19000000}, {\"register_id\": 18737, \"direction\": \"Imports\", \"origin\": \"China\", \"destination\": \"Mexico\", \"year\": 2018, \"date\": \"2018-06-19T00:00:00\", \"product\": \"Cars\", \"transport_mode\": \"Sea\", \"company_name\": \"Grupo FastAuto SA\", \"total_value\": 13000000}, {\"register_id\": 19009, \"direction\": \"Imports\", \"origin\": \"China\", \"destination\": \"Thailand\", \"year\": 2020, \"date\": \"2020-05-15T00:00:00\", \"product\": \"Machinery and electronics\", \"transport_mode\": \"Road\", \"company_name\": \"Chaiyaphum Electronics Ltd\", \"total_value\": 15000000}, {\"register_id\": 19010, \"direction\": \"Imports\", \"origin\": \"China\", \"destination\": \"Thailand\", \"year\": 2020, \"date\": \"2020-05-16T00:00:00\", \"product\": \"Machinery and electronics\", \"transport_mode\": \"Road\", \"company_name\": \"Chaiyaphum Electronics Ltd\", \"total_value\": 1000000}, {\"register_id\": 19011, \"direction\": \"Imports\", \"origin\": \"China\", \"destination\": \"Thailand\", \"year\": 2020, \"date\": \"2020-05-17T00:00:00\", \"product\": \"Machinery and electronics\", \"transport_mode\": \"Road\", \"company_name\": \"Chaiyaphum Electronics Ltd\", \"total_value\": 3000000}, {\"register_id\": 19012, \"direction\": \"Imports\", \"origin\": \"China\", \"destination\": \"Thailand\", \"year\": 2020, \"date\": \"2020-05-18T00:00:00\", \"product\": \"Machinery and electronics\", \"transport_mode\": \"Road\", \"company_name\": \"Chaiyaphum Electronics Ltd\", \"total_value\": 32000000}, {\"register_id\": 19013, \"direction\": \"Imports\", \"origin\": \"China\", \"destination\": \"Thailand\", \"year\": 2020, \"date\": \"2020-05-19T00:00:00\", \"product\": \"Machinery and electronics\", \"transport_mode\": \"Road\", \"company_name\": \"Chaiyaphum Electronics Ltd\", \"total_value\": 20000000}, {\"register_id\": 19014, \"direction\": \"Imports\", \"origin\": \"China\", \"destination\": \"Thailand\", \"year\": 2020, \"date\": \"2020-05-20T00:00:00\", \"product\": \"Machinery and electronics\", \"transport_mode\": \"Road\", \"company_name\": \"Chaiyaphum Electronics Ltd\", \"total_value\": 13000000}, {\"register_id\": 19015, \"direction\": \"Imports\", \"origin\": \"China\", \"destination\": \"Thailand\", \"year\": 2020, \"date\": \"2020-05-21T00:00:00\", \"product\": \"Machinery and electronics\", \"transport_mode\": \"Road\", \"company_name\": \"Chaiyaphum Electronics Ltd\", \"total_value\": 21000000}, {\"register_id\": 19016, \"direction\": \"Imports\", \"origin\": \"China\", \"destination\": \"Thailand\", \"year\": 2020, \"date\": \"2020-05-22T00:00:00\", \"product\": \"Machinery and electronics\", \"transport_mode\": \"Road\", \"company_name\": \"Chaiyaphum Electronics Ltd\", \"total_value\": 13000000}, {\"register_id\": 19017, \"direction\": \"Imports\", \"origin\": \"China\", \"destination\": \"Thailand\", \"year\": 2020, \"date\": \"2020-05-23T00:00:00\", \"product\": \"Machinery and electronics\", \"transport_mode\": \"Road\", \"company_name\": \"Chaiyaphum Electronics Ltd\", \"total_value\": 2000000}, {\"register_id\": 19018, \"direction\": \"Imports\", \"origin\": \"China\", \"destination\": \"Thailand\", \"year\": 2020, \"date\": \"2020-05-24T00:00:00\", \"product\": \"Machinery and electronics\", \"transport_mode\": \"Road\", \"company_name\": \"Chaiyaphum Electronics Ltd\", \"total_value\": 2000000}, {\"register_id\": 19019, \"direction\": \"Imports\", \"origin\": \"China\", \"destination\": \"Thailand\", \"year\": 2020, \"date\": \"2020-05-25T00:00:00\", \"product\": \"Machinery and electronics\", \"transport_mode\": \"Road\", \"company_name\": \"Chaiyaphum Electronics Ltd\", \"total_value\": 27000000}, {\"register_id\": 19020, \"direction\": \"Imports\", \"origin\": \"China\", \"destination\": \"Thailand\", \"year\": 2020, \"date\": \"2020-05-26T00:00:00\", \"product\": \"Machinery and electronics\", \"transport_mode\": \"Road\", \"company_name\": \"Chaiyaphum Electronics Ltd\", \"total_value\": 18000000}, {\"register_id\": 19021, \"direction\": \"Imports\", \"origin\": \"China\", \"destination\": \"Thailand\", \"year\": 2020, \"date\": \"2020-05-27T00:00:00\", \"product\": \"Machinery and electronics\", \"transport_mode\": \"Road\", \"company_name\": \"Chaiyaphum Electronics Ltd\", \"total_value\": 18000000}, {\"register_id\": 19022, \"direction\": \"Imports\", \"origin\": \"China\", \"destination\": \"Thailand\", \"year\": 2020, \"date\": \"2020-05-28T00:00:00\", \"product\": \"Machinery and electronics\", \"transport_mode\": \"Road\", \"company_name\": \"Chaiyaphum Electronics Ltd\", \"total_value\": 18000000}, {\"register_id\": 19023, \"direction\": \"Imports\", \"origin\": \"China\", \"destination\": \"Thailand\", \"year\": 2020, \"date\": \"2020-05-29T00:00:00\", \"product\": \"Machinery and electronics\", \"transport_mode\": \"Road\", \"company_name\": \"Chaiyaphum Electronics Ltd\", \"total_value\": 13000000}, {\"register_id\": 19024, \"direction\": \"Imports\", \"origin\": \"China\", \"destination\": \"Thailand\", \"year\": 2020, \"date\": \"2020-05-30T00:00:00\", \"product\": \"Machinery and electronics\", \"transport_mode\": \"Road\", \"company_name\": \"Chaiyaphum Electronics Ltd\", \"total_value\": 1000000}, {\"register_id\": 19025, \"direction\": \"Imports\", \"origin\": \"China\", \"destination\": \"Thailand\", \"year\": 2020, \"date\": \"2020-05-31T00:00:00\", \"product\": \"Machinery and electronics\", \"transport_mode\": \"Road\", \"company_name\": \"Chaiyaphum Electronics Ltd\", \"total_value\": 5000000}, {\"register_id\": 19027, \"direction\": \"Imports\", \"origin\": \"China\", \"destination\": \"Singapore\", \"year\": 2020, \"date\": \"2020-02-06T00:00:00\", \"product\": \"Gas turbines\", \"transport_mode\": \"Sea\", \"company_name\": \"Union Energy Co\", \"total_value\": 22000000}, {\"register_id\": 19028, \"direction\": \"Imports\", \"origin\": \"China\", \"destination\": \"Singapore\", \"year\": 2020, \"date\": \"2020-03-06T00:00:00\", \"product\": \"Gas turbines\", \"transport_mode\": \"Sea\", \"company_name\": \"Union Energy Co\", \"total_value\": 14000000}, {\"register_id\": 19029, \"direction\": \"Imports\", \"origin\": \"China\", \"destination\": \"Singapore\", \"year\": 2020, \"date\": \"2020-04-06T00:00:00\", \"product\": \"Gas turbines\", \"transport_mode\": \"Sea\", \"company_name\": \"Union Energy Co\", \"total_value\": 21000000}, {\"register_id\": 19030, \"direction\": \"Imports\", \"origin\": \"China\", \"destination\": \"Singapore\", \"year\": 2020, \"date\": \"2020-05-06T00:00:00\", \"product\": \"Gas turbines\", \"transport_mode\": \"Sea\", \"company_name\": \"Union Energy Co\", \"total_value\": 12000000}, {\"register_id\": 19031, \"direction\": \"Imports\", \"origin\": \"China\", \"destination\": \"Singapore\", \"year\": 2020, \"date\": \"2020-06-06T00:00:00\", \"product\": \"Gas turbines\", \"transport_mode\": \"Sea\", \"company_name\": \"Union Energy Co\", \"total_value\": 1000000}, {\"register_id\": 19032, \"direction\": \"Imports\", \"origin\": \"China\", \"destination\": \"Singapore\", \"year\": 2020, \"date\": \"2020-07-06T00:00:00\", \"product\": \"Gas turbines\", \"transport_mode\": \"Sea\", \"company_name\": \"Union Energy Co\", \"total_value\": 5000000}, {\"register_id\": 19033, \"direction\": \"Imports\", \"origin\": \"China\", \"destination\": \"Singapore\", \"year\": 2020, \"date\": \"2020-08-06T00:00:00\", \"product\": \"Gas turbines\", \"transport_mode\": \"Sea\", \"company_name\": \"Union Energy Co\", \"total_value\": 15000000}, {\"register_id\": 19034, \"direction\": \"Imports\", \"origin\": \"China\", \"destination\": \"Singapore\", \"year\": 2020, \"date\": \"2020-09-06T00:00:00\", \"product\": \"Gas turbines\", \"transport_mode\": \"Sea\", \"company_name\": \"Union Energy Co\", \"total_value\": 31000000}, {\"register_id\": 19035, \"direction\": \"Imports\", \"origin\": \"China\", \"destination\": \"Singapore\", \"year\": 2020, \"date\": \"2020-10-06T00:00:00\", \"product\": \"Gas turbines\", \"transport_mode\": \"Sea\", \"company_name\": \"Union Energy Co\", \"total_value\": 17000000}, {\"register_id\": 19036, \"direction\": \"Imports\", \"origin\": \"China\", \"destination\": \"Singapore\", \"year\": 2020, \"date\": \"2020-11-06T00:00:00\", \"product\": \"Gas turbines\", \"transport_mode\": \"Sea\", \"company_name\": \"Union Energy Co\", \"total_value\": 18000000}, {\"register_id\": 19037, \"direction\": \"Imports\", \"origin\": \"China\", \"destination\": \"Singapore\", \"year\": 2020, \"date\": \"2020-12-06T00:00:00\", \"product\": \"Gas turbines\", \"transport_mode\": \"Sea\", \"company_name\": \"Union Energy Co\", \"total_value\": 13000000}, {\"register_id\": 19038, \"direction\": \"Imports\", \"origin\": \"China\", \"destination\": \"Singapore\", \"year\": 2020, \"date\": \"2020-06-13T00:00:00\", \"product\": \"Gas turbines\", \"transport_mode\": \"Sea\", \"company_name\": \"Union Energy Co\", \"total_value\": 2000000}, {\"register_id\": 19039, \"direction\": \"Imports\", \"origin\": \"China\", \"destination\": \"Singapore\", \"year\": 2020, \"date\": \"2020-06-14T00:00:00\", \"product\": \"Gas turbines\", \"transport_mode\": \"Sea\", \"company_name\": \"Union Energy Co\", \"total_value\": 4000000}, {\"register_id\": 19040, \"direction\": \"Imports\", \"origin\": \"China\", \"destination\": \"Singapore\", \"year\": 2020, \"date\": \"2020-06-15T00:00:00\", \"product\": \"Gas turbines\", \"transport_mode\": \"Sea\", \"company_name\": \"Union Energy Co\", \"total_value\": 24000000}]}}, {\"mode\": \"vega-lite\"});\n",
       "</script>"
      ],
      "text/plain": [
       "alt.Chart(...)"
      ]
     },
     "execution_count": 23,
     "metadata": {},
     "output_type": "execute_result"
    }
   ],
   "source": [
    "df_import = testDataframe[(testDataframe.direction == \"Imports\")]\n",
    "prediction = df_import.query('origin == \"China\"')\n",
    "print(prediction.columns.values)\n",
    "# prediction = df_import.groupby(['origin']).count()['register_id'].sort_values(ascending=False).to_frame().reset_index()\n",
    "alt.Chart(prediction).mark_circle(size=60).encode(\n",
    "    x='date:T',\n",
    "    y='total_value',\n",
    "    color='product',\n",
    "    tooltip=['transport_mode', 'product', 'company_name', 'origin']\n",
    ")#.interactive()\n"
   ]
  }
 ],
 "metadata": {
  "interpreter": {
   "hash": "7ac0e58055b6e15cc1ef5ed721dde87db39c76f8bf8253df302510a64a56e7b5"
  },
  "kernelspec": {
   "display_name": "Python 3.9.2 64-bit",
   "language": "python",
   "name": "python3"
  },
  "language_info": {
   "codemirror_mode": {
    "name": "ipython",
    "version": 3
   },
   "file_extension": ".py",
   "mimetype": "text/x-python",
   "name": "python",
   "nbconvert_exporter": "python",
   "pygments_lexer": "ipython3",
   "version": "3.9.2"
  },
  "orig_nbformat": 4
 },
 "nbformat": 4,
 "nbformat_minor": 2
}
